{
  "cells": [
    {
      "cell_type": "markdown",
      "metadata": {
        "id": "view-in-github",
        "colab_type": "text"
      },
      "source": [
        "<a href=\"https://colab.research.google.com/github/joshheyer/CONAFOR/blob/main/2-Composites_v4.ipynb\" target=\"_parent\"><img src=\"https://colab.research.google.com/assets/colab-badge.svg\" alt=\"Open In Colab\"/></a>"
      ]
    },
    {
      "cell_type": "code",
      "execution_count": null,
      "id": "36360716",
      "metadata": {
        "id": "36360716"
      },
      "outputs": [],
      "source": [
        "# Copyright 2023 Google LLC\n",
        "#\n",
        "# Licensed under the Apache License, Version 2.0 (the \"License\");\n",
        "# you may not use this file except in compliance with the License.\n",
        "# You may obtain a copy of the License at\n",
        "#\n",
        "#     https://www.apache.org/licenses/LICENSE-2.0\n",
        "#\n",
        "# Unless required by applicable law or agreed to in writing, software\n",
        "# distributed under the License is distributed on an \"AS IS\" BASIS,\n",
        "# WITHOUT WARRANTIES OR CONDITIONS OF ANY KIND, either express or implied.\n",
        "# See the License for the specific language governing permissions and\n",
        "# limitations under the License.\n",
        "#\n",
        "# Developed for Google LLC by RedCastle Resources Inc\n",
        "# https://www.redcastleresources.com/"
      ]
    },
    {
      "cell_type": "markdown",
      "id": "3c3387cb",
      "metadata": {
        "id": "3c3387cb"
      },
      "source": [
        "# <img width=50px  src = 'https://apps.fs.usda.gov/lcms-viewer/images/lcms-icon.png'>  Lab 2: Create Landsat and Sentinel-2 Annual Composites\n",
        "\n",
        "<table align=\"left\">\n",
        "  <td>\n",
        "    <a href=\"https://colab.research.google.com/github/redcastle-resources/lcms-training/blob/main/2-Composites.ipynb\">\n",
        "      <img src=\"https://cloud.google.com/ml-engine/images/colab-logo-32px.png\" alt=\"Colab logo\"> Run in Colab\n",
        "    </a>\n",
        "  </td>\n",
        "  <td>\n",
        "    <a href=\"https://github.com/redcastle-resources/lcms-training/blob/main/2-Composites.ipynb\">\n",
        "      <img src=\"https://cloud.google.com/ml-engine/images/github-logo-32px.png\" alt=\"GitHub logo\">\n",
        "      View on GitHub\n",
        "    </a>\n",
        "  </td>\n",
        "  <td>\n",
        "    <a href=\"https://console.cloud.google.com/vertex-ai/workbench/deploy-notebook?download_url=https://github.com/redcastle-resources/lcms-training/blob/main/2-Composites.ipynb\">\n",
        "      <img src=\"https://lh3.googleusercontent.com/UiNooY4LUgW_oTvpsNhPpQzsstV5W8F7rYgxgGBD85cWJoLmrOzhVs_ksK_vgx40SHs7jCqkTkCk=e14-rj-sc0xffffff-h130-w32\" alt=\"Vertex AI logo\">\n",
        "      Open in Vertex AI Workbench\n",
        "    </a>\n",
        "  </td>\n",
        "</table>\n",
        "<br/><br/><br/>"
      ]
    },
    {
      "cell_type": "markdown",
      "id": "a0fcfc34",
      "metadata": {
        "id": "a0fcfc34",
        "tags": []
      },
      "source": [
        "## 2.0: Overview and Introduction\n",
        "\n",
        "\n",
        "This notebook introduces the compositing methods used by the USDA Forest Service Landscape Change Monitoring System (LCMS). It then produces composites for a small LCMS study area. The composites will be used to generate time series data that LCMS modeling algorithms will use to predict land use, land cover, and vegetation cover change in the subsequent modules.\n",
        "\n",
        "**Learn more about [LCMS](https://apps.fs.usda.gov/lcms-viewer/home.html).**\n",
        "\n",
        "\n",
        "All composites are created and visualized using the `geeViz` Python package. `geeViz` provides command-line tools for processing, analyzing, and visualizing Google Earth Engine (GEE) objects. For map output visualization, the primary advantage of `geeViz` is that it does not rely on IPython. This is essential, since all operational LCMS processing is typically performed outside Notebooks, but we need to be able to debug outputs and look at them on the map.\n",
        "\n",
        "**Learn more about [geeViz](https://github.com/gee-community/geeViz/tree/master).**\n",
        "\n",
        "\n",
        "### 2.0.1: Objective\n",
        "\n",
        "#### This tutorial uses the following Google Cloud services:\n",
        "\n",
        "- `Google Earth Engine`\n",
        "\n",
        "#### The steps performed include:\n",
        "\n",
        "- Install necessary packages\n",
        "- Test various parameters to create composites\n",
        "    - Run with default parameters\n",
        "    - Include Landsat 7 in image composites\n",
        "    - Set cloud masking settings\n",
        "    - Set cloud shadow masking settings\n",
        "- Create and export composite time series to asset\n",
        "\n",
        "#### Learning objectives:\n",
        "- Users will create cloud and cloud shadow-free composites using Fmask and cloudScore for Landsat, s2Cloudless for Sentinel-2, and temporal dark outlier mask (TDOM).  \n",
        "\n"
      ]
    },
    {
      "cell_type": "markdown",
      "id": "6b8ce60c",
      "metadata": {
        "id": "6b8ce60c"
      },
      "source": [
        "### 2.0.2: Before you begin\n",
        "\n",
        "#### If you are working in Workbench: Set your current URL under `workbench_url`\n",
        "This gives the Map Viewer a url in which to host the viewer we will be generating.\n",
        "This gives the Map Viewer a url in which to host the viewer we will be generating.\n",
        "* This will be in your URL/search bar at the top of the browser window you are currently in\n",
        "* It will look something like `https://1234567890122-dot-us-west3.notebooks.googleusercontent.com/` (See the image below).\n",
        "\n",
        "![workspace url](https://github.com/redcastle-resources/lcms-training/blob/main/img/workspace-url.png?raw=1)\n",
        "\n",
        "#### Set a folder to use for all exports under `export_path_root`\n",
        "* This folder should be an assets folder in an existing GEE project.\n",
        "* By default, this folder is the same as the pre-baked folder (where outputs have already been created).\n",
        "* If you would like to create your own outputs, specify a different path for `export_path_root`, but leave the `pre_baked_path_root` as is. This way, the pre-baked outputs can be shown at the end, instead of waiting for all exports to finish.\n",
        "* It will be something like `projects/projectID/assets/someFolder`. Use the projectID associated with your account.\n",
        "* This folder does not have to already exist. If it does not exist, it will be created"
      ]
    },
    {
      "cell_type": "code",
      "execution_count": 1,
      "id": "9f565bd6",
      "metadata": {
        "colab": {
          "base_uri": "https://localhost:8080/"
        },
        "id": "9f565bd6",
        "outputId": "93cf62a0-8e1f-464e-d5a8-8890e6d300f5"
      },
      "outputs": [
        {
          "output_type": "stream",
          "name": "stdout",
          "text": [
            "Done\n"
          ]
        }
      ],
      "source": [
        "workbench_url = 'https://1307eb830a12e633-dot-us-central1.notebooks.googleusercontent.com/'\n",
        "pre_baked_path_root  = 'projects/ee-jheyer2325/assets'\n",
        "export_path_root = pre_baked_path_root\n",
        "print('Done')"
      ]
    },
    {
      "cell_type": "markdown",
      "id": "ce2fc211",
      "metadata": {
        "id": "ce2fc211"
      },
      "source": [
        "#### Installation\n",
        "Install necessary Python packages. Uncomment the first line to upgrade geeViz if necessary.\n",
        "\n",
        "Note which python packages and components of geeViz you are importing here."
      ]
    },
    {
      "cell_type": "code",
      "execution_count": 2,
      "id": "b9604b5f",
      "metadata": {
        "colab": {
          "base_uri": "https://localhost:8080/"
        },
        "id": "b9604b5f",
        "outputId": "4da08a65-c4f4-49c7-8ca7-fb77248e0e62",
        "tags": []
      },
      "outputs": [
        {
          "output_type": "stream",
          "name": "stdout",
          "text": [
            "Collecting geeViz\n",
            "  Downloading geeViz-2023.10.1-py3-none-any.whl (583 kB)\n",
            "\u001b[2K     \u001b[90m━━━━━━━━━━━━━━━━━━━━━━━━━━━━━━━━━━━━━━━━\u001b[0m \u001b[32m583.2/583.2 kB\u001b[0m \u001b[31m6.9 MB/s\u001b[0m eta \u001b[36m0:00:00\u001b[0m\n",
            "\u001b[?25hRequirement already satisfied: earthengine-api in /usr/local/lib/python3.10/dist-packages (from geeViz) (0.1.377)\n",
            "Requirement already satisfied: oauth2client in /usr/local/lib/python3.10/dist-packages (from geeViz) (4.1.3)\n",
            "Requirement already satisfied: pandas in /usr/local/lib/python3.10/dist-packages (from geeViz) (1.5.3)\n",
            "Requirement already satisfied: matplotlib in /usr/local/lib/python3.10/dist-packages (from geeViz) (3.7.1)\n",
            "Requirement already satisfied: IPython in /usr/local/lib/python3.10/dist-packages (from geeViz) (7.34.0)\n",
            "Requirement already satisfied: requests in /usr/local/lib/python3.10/dist-packages (from geeViz) (2.31.0)\n",
            "Requirement already satisfied: folium in /usr/local/lib/python3.10/dist-packages (from geeViz) (0.14.0)\n",
            "Collecting simpledbf (from geeViz)\n",
            "  Downloading simpledbf-0.2.6.tar.gz (17 kB)\n",
            "  Preparing metadata (setup.py) ... \u001b[?25l\u001b[?25hdone\n",
            "Requirement already satisfied: google-cloud-storage in /usr/local/lib/python3.10/dist-packages (from earthengine-api->geeViz) (2.8.0)\n",
            "Requirement already satisfied: google-api-python-client>=1.12.1 in /usr/local/lib/python3.10/dist-packages (from earthengine-api->geeViz) (2.84.0)\n",
            "Requirement already satisfied: google-auth>=1.4.1 in /usr/local/lib/python3.10/dist-packages (from earthengine-api->geeViz) (2.17.3)\n",
            "Requirement already satisfied: google-auth-httplib2>=0.0.3 in /usr/local/lib/python3.10/dist-packages (from earthengine-api->geeViz) (0.1.1)\n",
            "Requirement already satisfied: httplib2<1dev,>=0.9.2 in /usr/local/lib/python3.10/dist-packages (from earthengine-api->geeViz) (0.22.0)\n",
            "Requirement already satisfied: branca>=0.6.0 in /usr/local/lib/python3.10/dist-packages (from folium->geeViz) (0.6.0)\n",
            "Requirement already satisfied: jinja2>=2.9 in /usr/local/lib/python3.10/dist-packages (from folium->geeViz) (3.1.2)\n",
            "Requirement already satisfied: numpy in /usr/local/lib/python3.10/dist-packages (from folium->geeViz) (1.23.5)\n",
            "Requirement already satisfied: setuptools>=18.5 in /usr/local/lib/python3.10/dist-packages (from IPython->geeViz) (67.7.2)\n",
            "Collecting jedi>=0.16 (from IPython->geeViz)\n",
            "  Downloading jedi-0.19.1-py2.py3-none-any.whl (1.6 MB)\n",
            "\u001b[2K     \u001b[90m━━━━━━━━━━━━━━━━━━━━━━━━━━━━━━━━━━━━━━━━\u001b[0m \u001b[32m1.6/1.6 MB\u001b[0m \u001b[31m45.5 MB/s\u001b[0m eta \u001b[36m0:00:00\u001b[0m\n",
            "\u001b[?25hRequirement already satisfied: decorator in /usr/local/lib/python3.10/dist-packages (from IPython->geeViz) (4.4.2)\n",
            "Requirement already satisfied: pickleshare in /usr/local/lib/python3.10/dist-packages (from IPython->geeViz) (0.7.5)\n",
            "Requirement already satisfied: traitlets>=4.2 in /usr/local/lib/python3.10/dist-packages (from IPython->geeViz) (5.7.1)\n",
            "Requirement already satisfied: prompt-toolkit!=3.0.0,!=3.0.1,<3.1.0,>=2.0.0 in /usr/local/lib/python3.10/dist-packages (from IPython->geeViz) (3.0.39)\n",
            "Requirement already satisfied: pygments in /usr/local/lib/python3.10/dist-packages (from IPython->geeViz) (2.16.1)\n",
            "Requirement already satisfied: backcall in /usr/local/lib/python3.10/dist-packages (from IPython->geeViz) (0.2.0)\n",
            "Requirement already satisfied: matplotlib-inline in /usr/local/lib/python3.10/dist-packages (from IPython->geeViz) (0.1.6)\n",
            "Requirement already satisfied: pexpect>4.3 in /usr/local/lib/python3.10/dist-packages (from IPython->geeViz) (4.8.0)\n",
            "Requirement already satisfied: contourpy>=1.0.1 in /usr/local/lib/python3.10/dist-packages (from matplotlib->geeViz) (1.2.0)\n",
            "Requirement already satisfied: cycler>=0.10 in /usr/local/lib/python3.10/dist-packages (from matplotlib->geeViz) (0.12.1)\n",
            "Requirement already satisfied: fonttools>=4.22.0 in /usr/local/lib/python3.10/dist-packages (from matplotlib->geeViz) (4.44.0)\n",
            "Requirement already satisfied: kiwisolver>=1.0.1 in /usr/local/lib/python3.10/dist-packages (from matplotlib->geeViz) (1.4.5)\n",
            "Requirement already satisfied: packaging>=20.0 in /usr/local/lib/python3.10/dist-packages (from matplotlib->geeViz) (23.2)\n",
            "Requirement already satisfied: pillow>=6.2.0 in /usr/local/lib/python3.10/dist-packages (from matplotlib->geeViz) (9.4.0)\n",
            "Requirement already satisfied: pyparsing>=2.3.1 in /usr/local/lib/python3.10/dist-packages (from matplotlib->geeViz) (3.1.1)\n",
            "Requirement already satisfied: python-dateutil>=2.7 in /usr/local/lib/python3.10/dist-packages (from matplotlib->geeViz) (2.8.2)\n",
            "Requirement already satisfied: pyasn1>=0.1.7 in /usr/local/lib/python3.10/dist-packages (from oauth2client->geeViz) (0.5.0)\n",
            "Requirement already satisfied: pyasn1-modules>=0.0.5 in /usr/local/lib/python3.10/dist-packages (from oauth2client->geeViz) (0.3.0)\n",
            "Requirement already satisfied: rsa>=3.1.4 in /usr/local/lib/python3.10/dist-packages (from oauth2client->geeViz) (4.9)\n",
            "Requirement already satisfied: six>=1.6.1 in /usr/local/lib/python3.10/dist-packages (from oauth2client->geeViz) (1.16.0)\n",
            "Requirement already satisfied: pytz>=2020.1 in /usr/local/lib/python3.10/dist-packages (from pandas->geeViz) (2023.3.post1)\n",
            "Requirement already satisfied: charset-normalizer<4,>=2 in /usr/local/lib/python3.10/dist-packages (from requests->geeViz) (3.3.2)\n",
            "Requirement already satisfied: idna<4,>=2.5 in /usr/local/lib/python3.10/dist-packages (from requests->geeViz) (3.4)\n",
            "Requirement already satisfied: urllib3<3,>=1.21.1 in /usr/local/lib/python3.10/dist-packages (from requests->geeViz) (2.0.7)\n",
            "Requirement already satisfied: certifi>=2017.4.17 in /usr/local/lib/python3.10/dist-packages (from requests->geeViz) (2023.7.22)\n",
            "Requirement already satisfied: google-api-core!=2.0.*,!=2.1.*,!=2.2.*,!=2.3.0,<3.0.0dev,>=1.31.5 in /usr/local/lib/python3.10/dist-packages (from google-api-python-client>=1.12.1->earthengine-api->geeViz) (2.11.1)\n",
            "Requirement already satisfied: uritemplate<5,>=3.0.1 in /usr/local/lib/python3.10/dist-packages (from google-api-python-client>=1.12.1->earthengine-api->geeViz) (4.1.1)\n",
            "Requirement already satisfied: cachetools<6.0,>=2.0.0 in /usr/local/lib/python3.10/dist-packages (from google-auth>=1.4.1->earthengine-api->geeViz) (5.3.2)\n",
            "Requirement already satisfied: parso<0.9.0,>=0.8.3 in /usr/local/lib/python3.10/dist-packages (from jedi>=0.16->IPython->geeViz) (0.8.3)\n",
            "Requirement already satisfied: MarkupSafe>=2.0 in /usr/local/lib/python3.10/dist-packages (from jinja2>=2.9->folium->geeViz) (2.1.3)\n",
            "Requirement already satisfied: ptyprocess>=0.5 in /usr/local/lib/python3.10/dist-packages (from pexpect>4.3->IPython->geeViz) (0.7.0)\n",
            "Requirement already satisfied: wcwidth in /usr/local/lib/python3.10/dist-packages (from prompt-toolkit!=3.0.0,!=3.0.1,<3.1.0,>=2.0.0->IPython->geeViz) (0.2.9)\n",
            "Requirement already satisfied: google-cloud-core<3.0dev,>=2.3.0 in /usr/local/lib/python3.10/dist-packages (from google-cloud-storage->earthengine-api->geeViz) (2.3.3)\n",
            "Requirement already satisfied: google-resumable-media>=2.3.2 in /usr/local/lib/python3.10/dist-packages (from google-cloud-storage->earthengine-api->geeViz) (2.6.0)\n",
            "Requirement already satisfied: googleapis-common-protos<2.0.dev0,>=1.56.2 in /usr/local/lib/python3.10/dist-packages (from google-api-core!=2.0.*,!=2.1.*,!=2.2.*,!=2.3.0,<3.0.0dev,>=1.31.5->google-api-python-client>=1.12.1->earthengine-api->geeViz) (1.61.0)\n",
            "Requirement already satisfied: protobuf!=3.20.0,!=3.20.1,!=4.21.0,!=4.21.1,!=4.21.2,!=4.21.3,!=4.21.4,!=4.21.5,<5.0.0.dev0,>=3.19.5 in /usr/local/lib/python3.10/dist-packages (from google-api-core!=2.0.*,!=2.1.*,!=2.2.*,!=2.3.0,<3.0.0dev,>=1.31.5->google-api-python-client>=1.12.1->earthengine-api->geeViz) (3.20.3)\n",
            "Requirement already satisfied: google-crc32c<2.0dev,>=1.0 in /usr/local/lib/python3.10/dist-packages (from google-resumable-media>=2.3.2->google-cloud-storage->earthengine-api->geeViz) (1.5.0)\n",
            "Building wheels for collected packages: simpledbf\n",
            "  Building wheel for simpledbf (setup.py) ... \u001b[?25l\u001b[?25hdone\n",
            "  Created wheel for simpledbf: filename=simpledbf-0.2.6-py3-none-any.whl size=13786 sha256=9f677a77bae1b43ffc0b085c51a560199b58c5354edc13595bd16f321649c7ca\n",
            "  Stored in directory: /root/.cache/pip/wheels/e5/41/13/ebdef29165b9309ec4e235dbff19eca8b6759125b0924ad430\n",
            "Successfully built simpledbf\n",
            "Installing collected packages: simpledbf, jedi, geeViz\n",
            "Successfully installed geeViz-2023.10.1 jedi-0.19.1 simpledbf-0.2.6\n",
            "Initializing GEE\n",
            "No credentials found\n",
            "Will attempt ee.Authenticate\n",
            "To authorize access needed by Earth Engine, open the following URL in a web browser and follow the instructions. If the web browser does not start automatically, please manually browse the URL below.\n",
            "\n",
            "    https://code.earthengine.google.com/client-auth?scopes=https%3A//www.googleapis.com/auth/earthengine%20https%3A//www.googleapis.com/auth/devstorage.full_control&request_id=bPMfXmRXlJCwyolxG3vA6hTMrIN613t1xGikNgYDjAE&tc=e6ySRrVqcrqcC4jAL8j_WgjuALVt0GuNNjQp-Mei5e8&cc=SVNN1-Oxbiv5EcIhJMfIaAWoEnhlDuvfnJMGdembHog\n",
            "\n",
            "The authorization workflow will generate a code, which you should paste in the box below.\n",
            "Enter verification code: 4/1AfJohXnW6f-IKnqGSk4BUfoweg527ZaRsqJGIiN9DuXaHYFecg4MuJxskaI\n",
            "\n",
            "Successfully saved authorization token.\n",
            "Successfully initialized\n",
            "geeViz package folder: /usr/local/lib/python3.10/dist-packages/geeViz\n",
            "Done\n"
          ]
        }
      ],
      "source": [
        "#Module imports\n",
        "#!python -m pip install geeViz --upgrade\n",
        "try:\n",
        "    import geeViz.getImagesLib as getImagesLib\n",
        "except:\n",
        "    !python -m pip install geeViz\n",
        "    import geeViz.getImagesLib as getImagesLib\n",
        "\n",
        "import geeViz.assetManagerLib as aml\n",
        "import geeViz.taskManagerLib as tml\n",
        "import geeViz.gee2Pandas as g2p\n",
        "\n",
        "import pandas as pd\n",
        "import inspect,os\n",
        "\n",
        "ee = getImagesLib.ee\n",
        "Map = getImagesLib.Map\n",
        "\n",
        "print('Done')"
      ]
    },
    {
      "cell_type": "markdown",
      "id": "7471b64a",
      "metadata": {
        "tags": [],
        "id": "7471b64a"
      },
      "source": [
        "#### Set up your work environment\n",
        "\n",
        "Create a folder in your export path where you will export the composites. In addition, create a blank image collection where your composites will live.\n",
        "\n",
        "Currently, when running within Colab or Workbench, geeView uses a different project to authenticate through, so you may need to make your asset public to view from within Colab.\n",
        "\n",
        "**Warning!!**\n",
        "\n",
        "* **Read-only access is provided for all authenticated GEE users for pre-baked outputs**\n",
        "* **If you are using the pre-baked output location (`export_path_root = pre_baked_path_root`), you will see errors for any operation that tries to write, delete, or change access permissions to any asset in the pre-baked output location.**\n",
        "* **This is expected and will not stop you from successfully running this notebook - ignore these error messages should they appear.**\n"
      ]
    },
    {
      "cell_type": "code",
      "execution_count": 3,
      "id": "efd2929b",
      "metadata": {
        "tags": [],
        "id": "efd2929b",
        "outputId": "f557c23c-9064-4538-a7f5-4ef000f96b13",
        "colab": {
          "base_uri": "https://localhost:8080/"
        }
      },
      "outputs": [
        {
          "output_type": "stream",
          "name": "stdout",
          "text": [
            "projects/ee-jheyer2325/assets/lcms-training_module-2_composites\n",
            "Asset projects/ee-jheyer2325/assets/lcms-training_module-2_composites already exists\n",
            "Updating permissions for:  projects/ee-jheyer2325/assets/lcms-training_module-2_composites\n",
            "Done\n"
          ]
        }
      ],
      "source": [
        "# Create folder\n",
        "export_composite_collection = f'{export_path_root}/lcms-training_module-2_composites'\n",
        "print(export_composite_collection)\n",
        "\n",
        "# Create a collection\n",
        "aml.create_asset(export_composite_collection,asset_type = ee.data.ASSET_TYPE_IMAGE_COLL)\n",
        "\n",
        "# Make it public\n",
        "# This will fail if you are using the pre_baked_path_root output location\n",
        "aml.updateACL(export_composite_collection,writers = [],all_users_can_read = True,readers = [])\n",
        "\n",
        "print('Done')"
      ]
    },
    {
      "cell_type": "markdown",
      "id": "dff48dab-59f6-4687-b49e-d6245ab64e8c",
      "metadata": {
        "id": "dff48dab-59f6-4687-b49e-d6245ab64e8c"
      },
      "source": [
        "## 2.1: Explore geeViz functions\n",
        "\n",
        "Over the course of the examples in this module, you'll become more familiar with the parameters used to create image composites. The main function you will use is from the geeViz library and is called `getLandsatAndSentinel2HybridWrapper`.\n",
        "\n",
        "For more documentation of the parameters in the function, refer to the [getCombinedLandsatSentinel2Wrapper](https://github.com/gee-community/geeViz/blob/master/examples/getCombinedLandsatSentinel2Wrapper.py) example in the geeViz documentation.\n",
        "\n",
        "You can view the [source code](https://github.com/gee-community/geeViz/blob/bd75d38c2043fc3af795c9c35ae769c71c00f56a/getImagesLib.py#L3280) for this function on the geeViz GitHub.\n",
        "\n",
        "While the `getLandsatAndSentinel2HybridWrapper` will meet the needs of most compositing workflows, sometimes it is necessary to have more control over how composites are created. For these instances, you should use the underlying functions that help with pre-processing both Landsat or Sentinel-2 data:\n",
        "* [getProcessedLandsatScenes](https://github.com/gee-community/geeViz/blob/fdd8f0080301f8d915214b6e2d50af03a0915777/getImagesLib.py#L2678)\n",
        "* [getProcessedSentinel2Scenes](https://github.com/gee-community/geeViz/blob/fdd8f0080301f8d915214b6e2d50af03a0915777/getImagesLib.py#L2799)\n",
        "\n",
        "You can inspect the code for these functions by following the links above to the function or by using the `print(inspect.getsource(LIBRARY_NAME.FUNCTION_NAME))` command. Run the code block below to inspect the function from the geeViz library that you will be using."
      ]
    },
    {
      "cell_type": "code",
      "execution_count": 14,
      "id": "9f80644b",
      "metadata": {
        "id": "9f80644b",
        "outputId": "02a04799-918e-4230-f58d-20d54513586a",
        "colab": {
          "base_uri": "https://localhost:8080/"
        }
      },
      "outputs": [
        {
          "output_type": "stream",
          "name": "stdout",
          "text": [
            "def getLandsatAndSentinel2HybridWrapper(\\\n",
            "  studyArea,\n",
            "  startYear,\n",
            "  endYear,\n",
            "  startJulian,\n",
            "  endJulian,\n",
            "  timebuffer =  0,\n",
            "  weights =  [1],\n",
            "  compositingMethod = 'medoid',\n",
            "  toaOrSR = 'TOA',\n",
            "  includeSLCOffL7 = False,\n",
            "  defringeL5 = False,\n",
            "  applyQABand = False,\n",
            "  applyCloudProbability = True,\n",
            "  applyShadowShift = False,\n",
            "  applyCloudScoreLandsat = False,\n",
            "  applyCloudScoreSentinel2 = False,\n",
            "  applyTDOMLandsat = True,\n",
            "  applyTDOMSentinel2 = True,\n",
            "  applyFmaskCloudMask = True,\n",
            "  applyFmaskCloudShadowMask = True,\n",
            "  applyFmaskSnowMask = False,\n",
            "  cloudHeights = ee.List.sequence(500,10000,500),\n",
            "  cloudScoreThresh = 20,\n",
            "  performCloudScoreOffset = True,\n",
            "  cloudScorePctl = 10,\n",
            "  zScoreThresh = -1,\n",
            "  shadowSumThresh = 0.35,\n",
            "  contractPixels = 1.5,\n",
            "  dilatePixels = 3.5,\n",
            "  shadowSumBands = ['nir','swir1'],\n",
            "  landsatResampleMethod = 'near',\n",
            "  sentinel2ResampleMethod = 'aggregate',\n",
            "  convertToDailyMosaics = True,\n",
            "  runChastainHarmonization = True,\n",
            "  correctIllumination = False,\n",
            "  correctScale = 250,\n",
            "  exportComposites = False,\n",
            "  outputName = 'Landsat-Sentinel2-Hybrid',\n",
            "  exportPathRoot = None,\n",
            "  crs = 'EPSG:5070',\n",
            "  transform = [30,0,-2361915.0,0,-30,3177735.0],\n",
            "  scale = None,\n",
            "  preComputedLandsatCloudScoreOffset = None,\n",
            "  preComputedLandsatTDOMIRMean = None,\n",
            "  preComputedLandsatTDOMIRStdDev = None,\n",
            "  preComputedSentinel2CloudScoreOffset = None,\n",
            "  preComputedSentinel2TDOMIRMean = None,\n",
            "  preComputedSentinel2TDOMIRStdDev = None,\n",
            "  cloudProbThresh = 40,\n",
            "  landsatCollectionVersion = 'C2',\n",
            "  overwrite = False,\n",
            "  verbose = False,\n",
            "  applyCloudScorePlusSentinel2 = False,\n",
            "  cloudScorePlusThresh = 0.6):\n",
            "\n",
            "  origin = 'Landsat-Sentinel2-Hybrid'\n",
            "  toaOrSR = toaOrSR.upper()\n",
            "\n",
            "  args = formatArgs(locals())\n",
            "  if 'args' in args.keys():\n",
            "    del args['args']\n",
            "\n",
            "  merged = getProcessedLandsatAndSentinel2Scenes(\\\n",
            "    studyArea = studyArea,\n",
            "    startYear = startYear,\n",
            "    endYear = endYear,\n",
            "    startJulian = startJulian,\n",
            "    endJulian = endJulian,\n",
            "    toaOrSR = toaOrSR,\n",
            "    includeSLCOffL7 = includeSLCOffL7,\n",
            "    defringeL5 = defringeL5,\n",
            "    applyQABand = applyQABand,\n",
            "    applyCloudProbability = applyCloudProbability,\n",
            "    applyShadowShift = applyShadowShift,\n",
            "    applyCloudScoreLandsat = applyCloudScoreLandsat,\n",
            "    applyCloudScoreSentinel2 = applyCloudScoreSentinel2,\n",
            "    applyTDOMLandsat = applyTDOMLandsat,\n",
            "    applyTDOMSentinel2 = applyTDOMSentinel2,\n",
            "    applyFmaskCloudMask = applyFmaskCloudMask,\n",
            "    applyFmaskCloudShadowMask = applyFmaskCloudShadowMask,\n",
            "    applyFmaskSnowMask = applyFmaskSnowMask,\n",
            "    cloudHeights = cloudHeights,\n",
            "    cloudScoreThresh = cloudScoreThresh,\n",
            "    performCloudScoreOffset = performCloudScoreOffset,\n",
            "    cloudScorePctl = cloudScorePctl,\n",
            "    zScoreThresh = zScoreThresh,\n",
            "    shadowSumThresh = shadowSumThresh,\n",
            "    contractPixels = contractPixels,\n",
            "    dilatePixels = dilatePixels,\n",
            "    shadowSumBands = shadowSumBands,\n",
            "    landsatResampleMethod = landsatResampleMethod,\n",
            "    sentinel2ResampleMethod = sentinel2ResampleMethod,\n",
            "    convertToDailyMosaics = convertToDailyMosaics,\n",
            "    runChastainHarmonization = runChastainHarmonization,\n",
            "    correctIllumination = correctIllumination,\n",
            "    correctScale = correctScale,\n",
            "    preComputedLandsatCloudScoreOffset = preComputedLandsatCloudScoreOffset,\n",
            "    preComputedLandsatTDOMIRMean = preComputedLandsatTDOMIRMean,\n",
            "    preComputedLandsatTDOMIRStdDev = preComputedLandsatTDOMIRStdDev,\n",
            "    preComputedSentinel2CloudScoreOffset = preComputedSentinel2CloudScoreOffset,\n",
            "    preComputedSentinel2TDOMIRMean = preComputedSentinel2TDOMIRMean,\n",
            "    preComputedSentinel2TDOMIRStdDev = preComputedSentinel2TDOMIRStdDev,\n",
            "    cloudProbThresh = cloudProbThresh,\n",
            "    landsatCollectionVersion = landsatCollectionVersion,\n",
            "    verbose = verbose,\n",
            "    applyCloudScorePlus = applyCloudScorePlusSentinel2,\n",
            "    cloudScorePlusThresh = cloudScorePlusThresh)\n",
            "\n",
            "  #Create hybrid composites\n",
            "  composites = compositeTimeSeries(\\\n",
            "    ls = merged,\n",
            "    startYear = startYear,\n",
            "    endYear = endYear,\n",
            "    startJulian = startJulian,\n",
            "    endJulian = endJulian,\n",
            "    timebuffer = timebuffer,\n",
            "    weights = weights,\n",
            "    compositingMethod = compositingMethod)\n",
            "\n",
            "  # Export composite collection\n",
            "  if exportComposites:\n",
            "\n",
            "    exportBandDict = {\\\n",
            "      'medoid':['blue', 'green', 'red','nir','swir1', 'swir2','compositeObsCount','sensor','year','julianDay'],\n",
            "      'median':['blue', 'green', 'red','nir','swir1', 'swir2','compositeObsCount']\\\n",
            "    };\n",
            "    nonDivideBandDict = {\\\n",
            "      'medoid':['compositeObsCount','sensor','year','julianDay'],\n",
            "      'median':['compositeObsCount']\\\n",
            "    };\n",
            "    exportBands = exportBandDict[compositingMethod]\n",
            "    nonDivideBands = nonDivideBandDict[compositingMethod]\n",
            "\n",
            "    exportCompositeCollection(\\\n",
            "      collection = composites,\n",
            "      exportPathRoot = exportPathRoot,\n",
            "      outputName = outputName,\n",
            "      origin = origin,\n",
            "      studyArea = studyArea,\n",
            "      crs = crs,\n",
            "      transform = transform,\n",
            "      scale = scale,\n",
            "      startYear = startYear,\n",
            "      endYear = endYear,\n",
            "      startJulian = startJulian,\n",
            "      endJulian = endJulian,\n",
            "      compositingMethod = compositingMethod,\n",
            "      timebuffer = timebuffer,\n",
            "      toaOrSR = toaOrSR,\n",
            "      nonDivideBands = nonDivideBands,\n",
            "      exportBands = exportBands,\n",
            "      additionalPropertyDict = args,\n",
            "      overwrite = overwrite)\n",
            "\n",
            "  args['processedScenes'] = merged\n",
            "  args['processedComposites'] = composites\n",
            "\n",
            "  return args\n",
            "\n"
          ]
        }
      ],
      "source": [
        "print(inspect.getsource(getImagesLib.getLandsatAndSentinel2HybridWrapper))"
      ]
    },
    {
      "cell_type": "markdown",
      "id": "40ef1236-6209-4a19-bfa7-175a19f89310",
      "metadata": {
        "id": "40ef1236-6209-4a19-bfa7-175a19f89310"
      },
      "source": [
        "## 2.2: Create Landsat + Sentinel-2 Composites\n",
        "\n",
        "### 2.2.1: Create Composites using basic parameters\n",
        "\n",
        "#### Set up map\n",
        "The first thing you'll do is set up the map viewer where you'll inspect the outputs you generate. You won't view the map until later."
      ]
    },
    {
      "cell_type": "code",
      "execution_count": 5,
      "id": "f8a75bb1",
      "metadata": {
        "colab": {
          "base_uri": "https://localhost:8080/"
        },
        "id": "f8a75bb1",
        "outputId": "bd35c837-fefe-45fd-ac06-e399b78a72d7"
      },
      "outputs": [
        {
          "output_type": "stream",
          "name": "stdout",
          "text": [
            "Done\n"
          ]
        }
      ],
      "source": [
        "# Set proxy url\n",
        "Map.proxy_url = workbench_url\n",
        "\n",
        "#First clear the map in case it has been populated with layers/commands earlier\n",
        "Map.clearMap()\n",
        "\n",
        "# reset port if necessary\n",
        "Map.port = 1232\n",
        "\n",
        "print('Done')"
      ]
    },
    {
      "cell_type": "markdown",
      "id": "c244cb25",
      "metadata": {
        "tags": [],
        "id": "c244cb25"
      },
      "source": [
        "#### Define parameters\n",
        "\n",
        "**The first parameters you define will set the **area** and **time range** over which you want to compute annual composites.**\n",
        "\n",
        "* ```studyArea``` - a featureCollection, feature or geometry to specify the bounds of our area of interest\n",
        "\n",
        "* ```startJulian``` - the first julian date to include in annual composites, used to specify a particular season if desired\n",
        "* ```endJulian``` - the last julian date to include in annual composites, used to specify a particular season if desired\n",
        "\n",
        "    This supports wrapping for tropics and southern hemisphere. If you are using wrapping and the majority of the days occur in the second year, the system:time_start will default to June 1 of that year. Otherwise, all system:time_starts will default to June 1 of the given year.\n",
        "\n",
        "* ```startYear``` - the first year for which to compute annual composites\n",
        "* ```endYear``` - the last year for which to compute annual composites\n",
        "\n",
        "You should provide at least 3 year for time series methods to work well. If you are providing pre-computed stats for cloud masking using cloudScore and TDOM, this does not matter.\n",
        "\n",
        "Below, you'll use a 3-year window to explore how composites are made. After you determine which parameters are appropriate, you will create composites for the entire time window for which Landsat data are available."
      ]
    },
    {
      "cell_type": "code",
      "execution_count": 15,
      "id": "78e5f7cd",
      "metadata": {
        "colab": {
          "base_uri": "https://localhost:8080/"
        },
        "id": "78e5f7cd",
        "outputId": "f89c7086-d8e8-42bd-bedc-83ff4084d2e5"
      },
      "outputs": [
        {
          "output_type": "stream",
          "name": "stdout",
          "text": [
            "Done\n"
          ]
        }
      ],
      "source": [
        "# Define user parameters:\n",
        "\n",
        "# Specify study area\n",
        "paises = ee.FeatureCollection(\"FAO/GAUL_SIMPLIFIED_500m/2015/level1\")\n",
        "mexico = paises.filter(ee.Filter.stringContains('ADM0_NAME','Mexico'))\n",
        "studyArea = paises.filter(ee.Filter.stringContains('ADM1_NAME','Tabasco'))\n",
        "\n",
        "# studyArea = ee.FeatureCollection('projects/lcms-292214/assets/R8/PR_USVI/Ancillary/prusvi_boundary')\n",
        "\n",
        "# Cuando es el date range mejor para Mexico? Para compuestos annuales?\n",
        "# Update the startJulian and endJulian\n",
        "startJulian = 1\n",
        "endJulian = 365\n",
        "\n",
        "# Specify start and end years for all analyses\n",
        "startYear = 2009\n",
        "endYear = 2011\n",
        "\n",
        "# By default do not run the Temporal Dark Outlier Mask (TDOM) cloud shadow masking method\n",
        "# We will come back to this\n",
        "applyTDOMLandsat = False\n",
        "applyTDOMSentinel2 = False\n",
        "print('Done')"
      ]
    },
    {
      "cell_type": "markdown",
      "id": "838bd450",
      "metadata": {
        "id": "838bd450"
      },
      "source": [
        "#### Build composites\n",
        "Using the parameters you specified above, you will create a series of image composites.\n",
        "\n",
        "You can review all of the parameters, and their defaults, in the [getCombinedLandsatSentinel2Wrapper](https://github.com/gee-community/geeViz/blob/master/examples/getCombinedLandsatSentinel2Wrapper.py).\n"
      ]
    },
    {
      "cell_type": "code",
      "execution_count": 16,
      "id": "961e3a25",
      "metadata": {
        "colab": {
          "base_uri": "https://localhost:8080/"
        },
        "id": "961e3a25",
        "outputId": "e4797d0c-0c52-4f7f-d2a8-658b389f8736"
      },
      "outputs": [
        {
          "output_type": "stream",
          "name": "stdout",
          "text": [
            "Get Processed Landsat and Sentinel2 Scenes: \n",
            "Start date: Jan 01 2009 , End date: Dec 31 2011\n",
            "Get Processed Landsat: \n",
            "Start date: Jan 01 2009 , End date: Dec 31 2011\n",
            "Only including SLC On Landsat 7\n",
            "Applying Fmask Cloud Mask\n",
            "Applying Fmask Shadow Mask\n",
            "Get Processed Sentinel2: \n",
            "Start date: Jan 01 2009 , End date: Dec 31 2011\n",
            "Using S2 Collection: COPERNICUS/S2_HARMONIZED\n",
            "Joining pre-computed cloud probabilities from: COPERNICUS/S2_CLOUD_PROBABILITY\n",
            "Setting to aggregate instead of resample \n",
            "Converting S2 data to daily mosaics\n",
            "Applying Cloud Probability\n",
            "Running Chastain et al 2019 harmonization\n"
          ]
        }
      ],
      "source": [
        "#Call on master wrapper function to get Landat scenes and composites\n",
        "lsAndTs = getImagesLib.getLandsatAndSentinel2HybridWrapper(studyArea.geometry().bounds(50,'EPSG:5070'),\n",
        "                                                           startYear,\n",
        "                                                           endYear,\n",
        "                                                           startJulian,\n",
        "                                                           endJulian,\n",
        "                                                           applyTDOMLandsat = applyTDOMLandsat,\n",
        "                                                           applyTDOMSentinel2 = applyTDOMSentinel2\n",
        "                                                          )\n",
        "\n",
        "#Separate into scenes and composites for subsequent analysis\n",
        "processedScenes = lsAndTs['processedScenes']\n",
        "processedComposites = lsAndTs['processedComposites']"
      ]
    },
    {
      "cell_type": "markdown",
      "id": "af6035ca",
      "metadata": {
        "id": "af6035ca"
      },
      "source": [
        "Note above that the default settings apply the [Fmask Cloud Mask](https://github.com/gee-community/geeViz/blob/fdd8f0080301f8d915214b6e2d50af03a0915777/getImagesLib.py#L1111) and [Fmask Shadow Mask](https://github.com/gee-community/geeViz/blob/fdd8f0080301f8d915214b6e2d50af03a0915777/getImagesLib.py#L1133) for Landsat, and apply [Cloud Probability](https://github.com/gee-community/geeViz/blob/fdd8f0080301f8d915214b6e2d50af03a0915777/getImagesLib.py#L668) for Sentinel-2 imagery.\n",
        "\n",
        "Follow the hyperlinks above to see how these functions are implemented in geeViz.\n",
        "\n",
        "#### Add to Map\n",
        "The `geeView` module of the `geeViz` package provides functions for creating an interactive map viewer outside of the Google Earth Engine Code Editor and Playground. Generally, `Map` functions in `geeView` follow the same syntax as javascript Earth Engine commands in the playground.\n",
        "\n",
        "For more information and examples of geeView capabilities, visit the [geeView example](https://github.com/gee-community/geeViz/blob/master/examples/geeViewExample.py) in the geeViz github.\n",
        "\n",
        "The interactive map viewer will appear below."
      ]
    },
    {
      "cell_type": "code",
      "execution_count": 17,
      "id": "f9cb39f9",
      "metadata": {
        "colab": {
          "base_uri": "https://localhost:8080/",
          "height": 668
        },
        "id": "f9cb39f9",
        "outputId": "dcce6caa-84f0-4f6b-a81e-ec2a9f21c36d"
      },
      "outputs": [
        {
          "output_type": "stream",
          "name": "stdout",
          "text": [
            "Adding layer: Default Params 1-365\n",
            "Adding layer: Study Area\n",
            "Starting webmap\n",
            "Using default refresh token for geeView: /root/.config/earthengine/credentials\n",
            "Local web server at: http://localhost:1232/geeView/ already serving.\n",
            "cwd /content\n",
            "Colab Proxy URL: https://twrlgjdgrwm-496ff2e9c6d22116-1232-colab.googleusercontent.com/geeView/?accessToken=None\n"
          ]
        },
        {
          "output_type": "display_data",
          "data": {
            "text/plain": [
              "<IPython.lib.display.IFrame at 0x7de4713f6170>"
            ],
            "text/html": [
              "\n",
              "        <iframe\n",
              "            width=\"100%\"\n",
              "            height=\"525px\"\n",
              "            src=\"https://twrlgjdgrwm-496ff2e9c6d22116-1232-colab.googleusercontent.com/geeView/?accessToken=None\"\n",
              "            frameborder=\"0\"\n",
              "            allowfullscreen\n",
              "            \n",
              "        ></iframe>\n",
              "        "
            ]
          },
          "metadata": {}
        }
      ],
      "source": [
        "Map.clearMap()\n",
        "\n",
        "Map.addTimeLapse(processedComposites,getImagesLib.vizParamsFalse,'Default Params {}-{}'.format(startJulian,endJulian),'True')\n",
        "Map.addLayer(studyArea,{},'Study Area')\n",
        "Map.centerObject(studyArea,10)\n",
        "Map.turnOnInspector()\n",
        "Map.view()"
      ]
    },
    {
      "cell_type": "markdown",
      "id": "120ad980",
      "metadata": {
        "id": "120ad980"
      },
      "source": [
        "#### Inspect the outputs\n",
        "\n",
        "Look at the map that appeared above. You may need to click the button next to the layer titled \"Default Params\" in order to view the layer. Click the play button\n",
        "![play button](https://github.com/redcastle-resources/lcms-training/blob/main/img/play-button.png?raw=1) to show a time lapse of all of the annual composites created.  \n",
        "\n",
        "**It is clear the default parameters do not work very well in this area.**\n",
        "Few, if any of the years displayed have complete images for the annual composite. Data are missing for large swaths of the image.\n",
        "\n",
        "Though the results panel above indicates operations that were applied to create the composites, it doesn't tell you the full list of parameters used to create the composite. You can access the parameters that were used through the properties of the returned collection.\n",
        "\n",
        "Run the code block below to print the parameters used and display them in a table. Uncomment the second line if you want to see what the raw properties attribute looks like."
      ]
    },
    {
      "cell_type": "code",
      "execution_count": 18,
      "id": "e0340487",
      "metadata": {
        "colab": {
          "base_uri": "https://localhost:8080/",
          "height": 1000
        },
        "id": "e0340487",
        "outputId": "2c6ba6b0-384c-4c2b-a5a8-5bc69a167413"
      },
      "outputs": [
        {
          "output_type": "display_data",
          "data": {
            "text/plain": [
              "                                                         Value\n",
              "applyCloudProbability                                     True\n",
              "applyCloudScoreLandsat                                   False\n",
              "applyCloudScorePlus                                      False\n",
              "applyCloudScoreSentinel2                                 False\n",
              "applyFmaskCloudMask                                       True\n",
              "applyFmaskCloudShadowMask                                 True\n",
              "applyFmaskSnowMask                                       False\n",
              "applyQABand                                              False\n",
              "applyShadowShift                                         False\n",
              "applyTDOMLandsat                                         False\n",
              "applyTDOMSentinel2                                       False\n",
              "cloudProbThresh                                             40\n",
              "cloudScorePctl                                              10\n",
              "cloudScoreThresh                                            20\n",
              "convertToDailyMosaics                                     True\n",
              "correctIllumination                                      False\n",
              "correctScale                                               250\n",
              "defringeL5                                               False\n",
              "endJulian                                                  365\n",
              "endYear                                                   2011\n",
              "includeSLCOffL7                                          False\n",
              "landsatCollectionVersion                                    C2\n",
              "landsatResampleMethod                                     near\n",
              "origin                                Landsat-Sentinel2-Hybrid\n",
              "performCloudScoreOffset                                   True\n",
              "preComputedLandsatCloudScoreOffset                        None\n",
              "preComputedLandsatTDOMIRMean                              None\n",
              "preComputedLandsatTDOMIRStdDev                            None\n",
              "preComputedSentinel2CloudScoreOffset                      None\n",
              "preComputedSentinel2TDOMIRMean                            None\n",
              "preComputedSentinel2TDOMIRStdDev                          None\n",
              "runChastainHarmonization                                  True\n",
              "sentinel2ResampleMethod                              aggregate\n",
              "shadowSumBands                                ['nir', 'swir1']\n",
              "startJulian                                                  1\n",
              "startYear                                                 2009\n",
              "toaOrSR                                                    TOA\n",
              "verbose                                                  False\n",
              "wrapOffset                                                   0\n",
              "zScoreThresh                                                -1"
            ],
            "text/html": [
              "\n",
              "  <div id=\"df-677849fc-58c6-42cd-8544-d5a775c656b8\" class=\"colab-df-container\">\n",
              "    <div>\n",
              "<style scoped>\n",
              "    .dataframe tbody tr th:only-of-type {\n",
              "        vertical-align: middle;\n",
              "    }\n",
              "\n",
              "    .dataframe tbody tr th {\n",
              "        vertical-align: top;\n",
              "    }\n",
              "\n",
              "    .dataframe thead th {\n",
              "        text-align: right;\n",
              "    }\n",
              "</style>\n",
              "<table border=\"1\" class=\"dataframe\">\n",
              "  <thead>\n",
              "    <tr style=\"text-align: right;\">\n",
              "      <th></th>\n",
              "      <th>Value</th>\n",
              "    </tr>\n",
              "  </thead>\n",
              "  <tbody>\n",
              "    <tr>\n",
              "      <th>applyCloudProbability</th>\n",
              "      <td>True</td>\n",
              "    </tr>\n",
              "    <tr>\n",
              "      <th>applyCloudScoreLandsat</th>\n",
              "      <td>False</td>\n",
              "    </tr>\n",
              "    <tr>\n",
              "      <th>applyCloudScorePlus</th>\n",
              "      <td>False</td>\n",
              "    </tr>\n",
              "    <tr>\n",
              "      <th>applyCloudScoreSentinel2</th>\n",
              "      <td>False</td>\n",
              "    </tr>\n",
              "    <tr>\n",
              "      <th>applyFmaskCloudMask</th>\n",
              "      <td>True</td>\n",
              "    </tr>\n",
              "    <tr>\n",
              "      <th>applyFmaskCloudShadowMask</th>\n",
              "      <td>True</td>\n",
              "    </tr>\n",
              "    <tr>\n",
              "      <th>applyFmaskSnowMask</th>\n",
              "      <td>False</td>\n",
              "    </tr>\n",
              "    <tr>\n",
              "      <th>applyQABand</th>\n",
              "      <td>False</td>\n",
              "    </tr>\n",
              "    <tr>\n",
              "      <th>applyShadowShift</th>\n",
              "      <td>False</td>\n",
              "    </tr>\n",
              "    <tr>\n",
              "      <th>applyTDOMLandsat</th>\n",
              "      <td>False</td>\n",
              "    </tr>\n",
              "    <tr>\n",
              "      <th>applyTDOMSentinel2</th>\n",
              "      <td>False</td>\n",
              "    </tr>\n",
              "    <tr>\n",
              "      <th>cloudProbThresh</th>\n",
              "      <td>40</td>\n",
              "    </tr>\n",
              "    <tr>\n",
              "      <th>cloudScorePctl</th>\n",
              "      <td>10</td>\n",
              "    </tr>\n",
              "    <tr>\n",
              "      <th>cloudScoreThresh</th>\n",
              "      <td>20</td>\n",
              "    </tr>\n",
              "    <tr>\n",
              "      <th>convertToDailyMosaics</th>\n",
              "      <td>True</td>\n",
              "    </tr>\n",
              "    <tr>\n",
              "      <th>correctIllumination</th>\n",
              "      <td>False</td>\n",
              "    </tr>\n",
              "    <tr>\n",
              "      <th>correctScale</th>\n",
              "      <td>250</td>\n",
              "    </tr>\n",
              "    <tr>\n",
              "      <th>defringeL5</th>\n",
              "      <td>False</td>\n",
              "    </tr>\n",
              "    <tr>\n",
              "      <th>endJulian</th>\n",
              "      <td>365</td>\n",
              "    </tr>\n",
              "    <tr>\n",
              "      <th>endYear</th>\n",
              "      <td>2011</td>\n",
              "    </tr>\n",
              "    <tr>\n",
              "      <th>includeSLCOffL7</th>\n",
              "      <td>False</td>\n",
              "    </tr>\n",
              "    <tr>\n",
              "      <th>landsatCollectionVersion</th>\n",
              "      <td>C2</td>\n",
              "    </tr>\n",
              "    <tr>\n",
              "      <th>landsatResampleMethod</th>\n",
              "      <td>near</td>\n",
              "    </tr>\n",
              "    <tr>\n",
              "      <th>origin</th>\n",
              "      <td>Landsat-Sentinel2-Hybrid</td>\n",
              "    </tr>\n",
              "    <tr>\n",
              "      <th>performCloudScoreOffset</th>\n",
              "      <td>True</td>\n",
              "    </tr>\n",
              "    <tr>\n",
              "      <th>preComputedLandsatCloudScoreOffset</th>\n",
              "      <td>None</td>\n",
              "    </tr>\n",
              "    <tr>\n",
              "      <th>preComputedLandsatTDOMIRMean</th>\n",
              "      <td>None</td>\n",
              "    </tr>\n",
              "    <tr>\n",
              "      <th>preComputedLandsatTDOMIRStdDev</th>\n",
              "      <td>None</td>\n",
              "    </tr>\n",
              "    <tr>\n",
              "      <th>preComputedSentinel2CloudScoreOffset</th>\n",
              "      <td>None</td>\n",
              "    </tr>\n",
              "    <tr>\n",
              "      <th>preComputedSentinel2TDOMIRMean</th>\n",
              "      <td>None</td>\n",
              "    </tr>\n",
              "    <tr>\n",
              "      <th>preComputedSentinel2TDOMIRStdDev</th>\n",
              "      <td>None</td>\n",
              "    </tr>\n",
              "    <tr>\n",
              "      <th>runChastainHarmonization</th>\n",
              "      <td>True</td>\n",
              "    </tr>\n",
              "    <tr>\n",
              "      <th>sentinel2ResampleMethod</th>\n",
              "      <td>aggregate</td>\n",
              "    </tr>\n",
              "    <tr>\n",
              "      <th>shadowSumBands</th>\n",
              "      <td>['nir', 'swir1']</td>\n",
              "    </tr>\n",
              "    <tr>\n",
              "      <th>startJulian</th>\n",
              "      <td>1</td>\n",
              "    </tr>\n",
              "    <tr>\n",
              "      <th>startYear</th>\n",
              "      <td>2009</td>\n",
              "    </tr>\n",
              "    <tr>\n",
              "      <th>toaOrSR</th>\n",
              "      <td>TOA</td>\n",
              "    </tr>\n",
              "    <tr>\n",
              "      <th>verbose</th>\n",
              "      <td>False</td>\n",
              "    </tr>\n",
              "    <tr>\n",
              "      <th>wrapOffset</th>\n",
              "      <td>0</td>\n",
              "    </tr>\n",
              "    <tr>\n",
              "      <th>zScoreThresh</th>\n",
              "      <td>-1</td>\n",
              "    </tr>\n",
              "  </tbody>\n",
              "</table>\n",
              "</div>\n",
              "    <div class=\"colab-df-buttons\">\n",
              "\n",
              "  <div class=\"colab-df-container\">\n",
              "    <button class=\"colab-df-convert\" onclick=\"convertToInteractive('df-677849fc-58c6-42cd-8544-d5a775c656b8')\"\n",
              "            title=\"Convert this dataframe to an interactive table.\"\n",
              "            style=\"display:none;\">\n",
              "\n",
              "  <svg xmlns=\"http://www.w3.org/2000/svg\" height=\"24px\" viewBox=\"0 -960 960 960\">\n",
              "    <path d=\"M120-120v-720h720v720H120Zm60-500h600v-160H180v160Zm220 220h160v-160H400v160Zm0 220h160v-160H400v160ZM180-400h160v-160H180v160Zm440 0h160v-160H620v160ZM180-180h160v-160H180v160Zm440 0h160v-160H620v160Z\"/>\n",
              "  </svg>\n",
              "    </button>\n",
              "\n",
              "  <style>\n",
              "    .colab-df-container {\n",
              "      display:flex;\n",
              "      gap: 12px;\n",
              "    }\n",
              "\n",
              "    .colab-df-convert {\n",
              "      background-color: #E8F0FE;\n",
              "      border: none;\n",
              "      border-radius: 50%;\n",
              "      cursor: pointer;\n",
              "      display: none;\n",
              "      fill: #1967D2;\n",
              "      height: 32px;\n",
              "      padding: 0 0 0 0;\n",
              "      width: 32px;\n",
              "    }\n",
              "\n",
              "    .colab-df-convert:hover {\n",
              "      background-color: #E2EBFA;\n",
              "      box-shadow: 0px 1px 2px rgba(60, 64, 67, 0.3), 0px 1px 3px 1px rgba(60, 64, 67, 0.15);\n",
              "      fill: #174EA6;\n",
              "    }\n",
              "\n",
              "    .colab-df-buttons div {\n",
              "      margin-bottom: 4px;\n",
              "    }\n",
              "\n",
              "    [theme=dark] .colab-df-convert {\n",
              "      background-color: #3B4455;\n",
              "      fill: #D2E3FC;\n",
              "    }\n",
              "\n",
              "    [theme=dark] .colab-df-convert:hover {\n",
              "      background-color: #434B5C;\n",
              "      box-shadow: 0px 1px 3px 1px rgba(0, 0, 0, 0.15);\n",
              "      filter: drop-shadow(0px 1px 2px rgba(0, 0, 0, 0.3));\n",
              "      fill: #FFFFFF;\n",
              "    }\n",
              "  </style>\n",
              "\n",
              "    <script>\n",
              "      const buttonEl =\n",
              "        document.querySelector('#df-677849fc-58c6-42cd-8544-d5a775c656b8 button.colab-df-convert');\n",
              "      buttonEl.style.display =\n",
              "        google.colab.kernel.accessAllowed ? 'block' : 'none';\n",
              "\n",
              "      async function convertToInteractive(key) {\n",
              "        const element = document.querySelector('#df-677849fc-58c6-42cd-8544-d5a775c656b8');\n",
              "        const dataTable =\n",
              "          await google.colab.kernel.invokeFunction('convertToInteractive',\n",
              "                                                    [key], {});\n",
              "        if (!dataTable) return;\n",
              "\n",
              "        const docLinkHtml = 'Like what you see? Visit the ' +\n",
              "          '<a target=\"_blank\" href=https://colab.research.google.com/notebooks/data_table.ipynb>data table notebook</a>'\n",
              "          + ' to learn more about interactive tables.';\n",
              "        element.innerHTML = '';\n",
              "        dataTable['output_type'] = 'display_data';\n",
              "        await google.colab.output.renderOutput(dataTable, element);\n",
              "        const docLink = document.createElement('div');\n",
              "        docLink.innerHTML = docLinkHtml;\n",
              "        element.appendChild(docLink);\n",
              "      }\n",
              "    </script>\n",
              "  </div>\n",
              "\n",
              "\n",
              "<div id=\"df-c88ffb0a-2ac6-4d58-8ad3-3ba53235f16d\">\n",
              "  <button class=\"colab-df-quickchart\" onclick=\"quickchart('df-c88ffb0a-2ac6-4d58-8ad3-3ba53235f16d')\"\n",
              "            title=\"Suggest charts\"\n",
              "            style=\"display:none;\">\n",
              "\n",
              "<svg xmlns=\"http://www.w3.org/2000/svg\" height=\"24px\"viewBox=\"0 0 24 24\"\n",
              "     width=\"24px\">\n",
              "    <g>\n",
              "        <path d=\"M19 3H5c-1.1 0-2 .9-2 2v14c0 1.1.9 2 2 2h14c1.1 0 2-.9 2-2V5c0-1.1-.9-2-2-2zM9 17H7v-7h2v7zm4 0h-2V7h2v10zm4 0h-2v-4h2v4z\"/>\n",
              "    </g>\n",
              "</svg>\n",
              "  </button>\n",
              "\n",
              "<style>\n",
              "  .colab-df-quickchart {\n",
              "      --bg-color: #E8F0FE;\n",
              "      --fill-color: #1967D2;\n",
              "      --hover-bg-color: #E2EBFA;\n",
              "      --hover-fill-color: #174EA6;\n",
              "      --disabled-fill-color: #AAA;\n",
              "      --disabled-bg-color: #DDD;\n",
              "  }\n",
              "\n",
              "  [theme=dark] .colab-df-quickchart {\n",
              "      --bg-color: #3B4455;\n",
              "      --fill-color: #D2E3FC;\n",
              "      --hover-bg-color: #434B5C;\n",
              "      --hover-fill-color: #FFFFFF;\n",
              "      --disabled-bg-color: #3B4455;\n",
              "      --disabled-fill-color: #666;\n",
              "  }\n",
              "\n",
              "  .colab-df-quickchart {\n",
              "    background-color: var(--bg-color);\n",
              "    border: none;\n",
              "    border-radius: 50%;\n",
              "    cursor: pointer;\n",
              "    display: none;\n",
              "    fill: var(--fill-color);\n",
              "    height: 32px;\n",
              "    padding: 0;\n",
              "    width: 32px;\n",
              "  }\n",
              "\n",
              "  .colab-df-quickchart:hover {\n",
              "    background-color: var(--hover-bg-color);\n",
              "    box-shadow: 0 1px 2px rgba(60, 64, 67, 0.3), 0 1px 3px 1px rgba(60, 64, 67, 0.15);\n",
              "    fill: var(--button-hover-fill-color);\n",
              "  }\n",
              "\n",
              "  .colab-df-quickchart-complete:disabled,\n",
              "  .colab-df-quickchart-complete:disabled:hover {\n",
              "    background-color: var(--disabled-bg-color);\n",
              "    fill: var(--disabled-fill-color);\n",
              "    box-shadow: none;\n",
              "  }\n",
              "\n",
              "  .colab-df-spinner {\n",
              "    border: 2px solid var(--fill-color);\n",
              "    border-color: transparent;\n",
              "    border-bottom-color: var(--fill-color);\n",
              "    animation:\n",
              "      spin 1s steps(1) infinite;\n",
              "  }\n",
              "\n",
              "  @keyframes spin {\n",
              "    0% {\n",
              "      border-color: transparent;\n",
              "      border-bottom-color: var(--fill-color);\n",
              "      border-left-color: var(--fill-color);\n",
              "    }\n",
              "    20% {\n",
              "      border-color: transparent;\n",
              "      border-left-color: var(--fill-color);\n",
              "      border-top-color: var(--fill-color);\n",
              "    }\n",
              "    30% {\n",
              "      border-color: transparent;\n",
              "      border-left-color: var(--fill-color);\n",
              "      border-top-color: var(--fill-color);\n",
              "      border-right-color: var(--fill-color);\n",
              "    }\n",
              "    40% {\n",
              "      border-color: transparent;\n",
              "      border-right-color: var(--fill-color);\n",
              "      border-top-color: var(--fill-color);\n",
              "    }\n",
              "    60% {\n",
              "      border-color: transparent;\n",
              "      border-right-color: var(--fill-color);\n",
              "    }\n",
              "    80% {\n",
              "      border-color: transparent;\n",
              "      border-right-color: var(--fill-color);\n",
              "      border-bottom-color: var(--fill-color);\n",
              "    }\n",
              "    90% {\n",
              "      border-color: transparent;\n",
              "      border-bottom-color: var(--fill-color);\n",
              "    }\n",
              "  }\n",
              "</style>\n",
              "\n",
              "  <script>\n",
              "    async function quickchart(key) {\n",
              "      const quickchartButtonEl =\n",
              "        document.querySelector('#' + key + ' button');\n",
              "      quickchartButtonEl.disabled = true;  // To prevent multiple clicks.\n",
              "      quickchartButtonEl.classList.add('colab-df-spinner');\n",
              "      try {\n",
              "        const charts = await google.colab.kernel.invokeFunction(\n",
              "            'suggestCharts', [key], {});\n",
              "      } catch (error) {\n",
              "        console.error('Error during call to suggestCharts:', error);\n",
              "      }\n",
              "      quickchartButtonEl.classList.remove('colab-df-spinner');\n",
              "      quickchartButtonEl.classList.add('colab-df-quickchart-complete');\n",
              "    }\n",
              "    (() => {\n",
              "      let quickchartButtonEl =\n",
              "        document.querySelector('#df-c88ffb0a-2ac6-4d58-8ad3-3ba53235f16d button');\n",
              "      quickchartButtonEl.style.display =\n",
              "        google.colab.kernel.accessAllowed ? 'block' : 'none';\n",
              "    })();\n",
              "  </script>\n",
              "</div>\n",
              "    </div>\n",
              "  </div>\n"
            ]
          },
          "metadata": {}
        },
        {
          "output_type": "stream",
          "name": "stdout",
          "text": [
            "Done\n"
          ]
        }
      ],
      "source": [
        "#Print parameters used\n",
        "#Parameters are stored in properties of returnd collection\n",
        "props = processedScenes.toDictionary().getInfo()\n",
        "display(pd.DataFrame(list(props.values()),index = list(props.keys()),columns = ['Value']))\n",
        "\n",
        "print('Done')"
      ]
    },
    {
      "cell_type": "markdown",
      "id": "1cb4aa34",
      "metadata": {
        "id": "1cb4aa34"
      },
      "source": [
        "### 2.2.2: Include Landsat 7\n",
        "Since there are not that many images available in this area for these years, let's try adding Landsat 7. Our default is to exclude Landsat 7 from image composites because of the [Landsat 7 scan line correction failure](https://www.usgs.gov/landsat-missions/landsat-7?qt-science_support_page_related_con=0#qt-science_support_page_related_con).\n",
        "\n",
        "#### Add a new parameter\n",
        "\n",
        "To include Landsat 7, you will add a new parameter to the wrapper function.\n",
        "\n",
        "``` includeSLCoffL7 ``` - default: **False**\n",
        "\n",
        "Run the code block below to add the new parameter."
      ]
    },
    {
      "cell_type": "code",
      "execution_count": 19,
      "id": "7331ba9f",
      "metadata": {
        "colab": {
          "base_uri": "https://localhost:8080/"
        },
        "id": "7331ba9f",
        "outputId": "7606ec9b-b77d-4537-b5cd-759ab9b09400"
      },
      "outputs": [
        {
          "output_type": "stream",
          "name": "stdout",
          "text": [
            "Done\n"
          ]
        }
      ],
      "source": [
        "#add LS 7 parameter\n",
        "includeSLCOffL7 = True\n",
        "print('Done')"
      ]
    },
    {
      "cell_type": "markdown",
      "id": "0d61b507",
      "metadata": {
        "id": "0d61b507"
      },
      "source": [
        "#### Call on wrapper function again, including new parameter\n",
        "\n",
        "Now, run the same wrapper function again. Note that all of the parameters are the same, with the addition of your new `includeSLCOffL7` parameter."
      ]
    },
    {
      "cell_type": "code",
      "execution_count": 20,
      "id": "ecdc1fdf",
      "metadata": {
        "colab": {
          "base_uri": "https://localhost:8080/"
        },
        "id": "ecdc1fdf",
        "outputId": "74756f8f-c6c9-4cc5-9961-d5b174049c63"
      },
      "outputs": [
        {
          "output_type": "stream",
          "name": "stdout",
          "text": [
            "Get Processed Landsat and Sentinel2 Scenes: \n",
            "Start date: Jan 01 2009 , End date: Dec 31 2011\n",
            "Get Processed Landsat: \n",
            "Start date: Jan 01 2009 , End date: Dec 31 2011\n",
            "Including All Landsat 7\n",
            "Applying Fmask Cloud Mask\n",
            "Applying Fmask Shadow Mask\n",
            "Get Processed Sentinel2: \n",
            "Start date: Jan 01 2009 , End date: Dec 31 2011\n",
            "Using S2 Collection: COPERNICUS/S2_HARMONIZED\n",
            "Joining pre-computed cloud probabilities from: COPERNICUS/S2_CLOUD_PROBABILITY\n",
            "Setting to aggregate instead of resample \n",
            "Converting S2 data to daily mosaics\n",
            "Applying Cloud Probability\n",
            "Running Chastain et al 2019 harmonization\n"
          ]
        }
      ],
      "source": [
        "#Call on master wrapper function to get Landsat scenes and composites\n",
        "lsAndTs = getImagesLib.getLandsatAndSentinel2HybridWrapper(studyArea.geometry().bounds(50,'EPSG:5070'),\n",
        "                                                           startYear,\n",
        "                                                           endYear,\n",
        "                                                           startJulian,\n",
        "                                                           endJulian,\n",
        "                                                           includeSLCOffL7=includeSLCOffL7,\n",
        "                                                           applyTDOMLandsat = applyTDOMLandsat,\n",
        "                                                           applyTDOMSentinel2 = applyTDOMSentinel2)\n",
        "\n",
        "\n",
        "#Separate into scenes and composites for subsequent analysis\n",
        "processedScenes = lsAndTs['processedScenes']\n",
        "processedComposites = lsAndTs['processedComposites']"
      ]
    },
    {
      "cell_type": "markdown",
      "id": "b982ad18",
      "metadata": {
        "id": "b982ad18"
      },
      "source": [
        "#### Add to map\n",
        "\n",
        "Run the codeblock below to add the composites you created to the map again to inspect your results."
      ]
    },
    {
      "cell_type": "code",
      "execution_count": 21,
      "id": "a4ad9b01",
      "metadata": {
        "colab": {
          "base_uri": "https://localhost:8080/",
          "height": 650
        },
        "id": "a4ad9b01",
        "outputId": "b5c1d394-baa8-4881-b421-ad4b4b25ad7e"
      },
      "outputs": [
        {
          "output_type": "stream",
          "name": "stdout",
          "text": [
            "Adding layer: L7 added 1-365\n",
            "Starting webmap\n",
            "Using default refresh token for geeView: /root/.config/earthengine/credentials\n",
            "Local web server at: http://localhost:1232/geeView/ already serving.\n",
            "cwd /content\n",
            "Colab Proxy URL: https://twrlgjdgrwm-496ff2e9c6d22116-1232-colab.googleusercontent.com/geeView/?accessToken=None\n"
          ]
        },
        {
          "output_type": "display_data",
          "data": {
            "text/plain": [
              "<IPython.lib.display.IFrame at 0x7de4402f5120>"
            ],
            "text/html": [
              "\n",
              "        <iframe\n",
              "            width=\"100%\"\n",
              "            height=\"525px\"\n",
              "            src=\"https://twrlgjdgrwm-496ff2e9c6d22116-1232-colab.googleusercontent.com/geeView/?accessToken=None\"\n",
              "            frameborder=\"0\"\n",
              "            allowfullscreen\n",
              "            \n",
              "        ></iframe>\n",
              "        "
            ]
          },
          "metadata": {}
        }
      ],
      "source": [
        "#Turn off layers from previous iteration\n",
        "Map.turnOffAllLayers()\n",
        "\n",
        "Map.addTimeLapse(processedComposites,getImagesLib.vizParamsFalse,'L7 added {}-{}'.format(startJulian,endJulian),True)\n",
        "\n",
        "\n",
        "# Stop map from centering on the study area\n",
        "Map.mapCommandList = []\n",
        "\n",
        "# Turn on the insepctor\n",
        "Map.turnOnInspector()\n",
        "\n",
        "Map.view()"
      ]
    },
    {
      "cell_type": "markdown",
      "id": "7e59174d",
      "metadata": {
        "id": "7e59174d",
        "outputId": "1b0f740a-eb14-4911-e2b4-dd596beccc72"
      },
      "source": [
        "#### Inspect the outputs\n",
        "Turn on the layers in the map viewer if necessary.\n",
        "\n",
        "Toggle back and forth between the Default Params and the new composites with Landsat 7 added. Zoom in to view the composites in more detail.\n",
        "\n",
        "You'll notice this helps fill in the holes, but introduces many cloud-related artifacts."
      ]
    },
    {
      "cell_type": "markdown",
      "id": "4218237e",
      "metadata": {
        "id": "4218237e"
      },
      "source": [
        "## 2.3: Improve Cloud masking\n",
        "Next you'll improve the cloud masking. [Fmask](https://www.sciencedirect.com/science/article/abs/pii/S0034425714005069) is used by default for Landsat, but this algorithm misses some clouds.\n",
        "\n",
        "We'll try the adding in the [cloudScore](https://developers.google.com/earth-engine/guides/landsat#simple-cloud-score) method to mask clouds in Landsat.\n",
        "\n",
        "We do this by setting the ```applyCloudScoreLandsat``` parameter\n",
        "\n",
        "### 2.3.1: Add cloud masking parameter\n",
        "\n",
        "Run the code block below to add the `applyCloudScoreLandsat` parameter.\n",
        "\n",
        "CloudScore struggles with commission error over bright surfaces (masking out extremely bright cool areas as cloud). The `performCloudScoreOffset` method can reduce this error by finding if a pixel typically has a high cloudScore and adjust the cloudScore threshold for those pixels. This method works well in areas with many observations and potential for bright cool sufaces (cold deserts, snowy areas, etc), but fails in areas with limited data and/or areas that are actually always cloudy. Therefore we will want to set this to `False` over Puerto Rico and the US Virgin Islands"
      ]
    },
    {
      "cell_type": "code",
      "execution_count": 22,
      "id": "d6c49abd",
      "metadata": {
        "colab": {
          "base_uri": "https://localhost:8080/"
        },
        "id": "d6c49abd",
        "outputId": "4724a434-1882-4373-dbd6-c5dc2f688569"
      },
      "outputs": [
        {
          "output_type": "stream",
          "name": "stdout",
          "text": [
            "Done\n"
          ]
        }
      ],
      "source": [
        "# Set cloudScore\n",
        "applyCloudScoreLandsat = True\n",
        "\n",
        "# Set performCloudScoreOffset\n",
        "performCloudScoreOffset = False\n",
        "\n",
        "print('Done')"
      ]
    },
    {
      "cell_type": "markdown",
      "id": "8dadbfc8",
      "metadata": {
        "id": "8dadbfc8"
      },
      "source": [
        "### Run main wrapper function\n",
        "\n",
        "Keeping all other parameters the same, run the `getLandsatAndSentinel2HybridWrapper` function again. This time, add in the new parameters."
      ]
    },
    {
      "cell_type": "code",
      "execution_count": 23,
      "id": "38fb8f70",
      "metadata": {
        "colab": {
          "base_uri": "https://localhost:8080/"
        },
        "id": "38fb8f70",
        "outputId": "e6875b96-3a56-4504-d87d-cbdec047ff32"
      },
      "outputs": [
        {
          "output_type": "stream",
          "name": "stdout",
          "text": [
            "Get Processed Landsat and Sentinel2 Scenes: \n",
            "Start date: Jan 01 2009 , End date: Dec 31 2011\n",
            "Get Processed Landsat: \n",
            "Start date: Jan 01 2009 , End date: Dec 31 2011\n",
            "Including All Landsat 7\n",
            "Applying Cloud Score\n",
            "Not computing cloudScore offset\n",
            "Applying Fmask Cloud Mask\n",
            "Applying Fmask Shadow Mask\n",
            "Get Processed Sentinel2: \n",
            "Start date: Jan 01 2009 , End date: Dec 31 2011\n",
            "Using S2 Collection: COPERNICUS/S2_HARMONIZED\n",
            "Joining pre-computed cloud probabilities from: COPERNICUS/S2_CLOUD_PROBABILITY\n",
            "Setting to aggregate instead of resample \n",
            "Converting S2 data to daily mosaics\n",
            "Applying Cloud Probability\n",
            "Running Chastain et al 2019 harmonization\n"
          ]
        }
      ],
      "source": [
        "#Call on master wrapper function to get Landsat scenes and composites\n",
        "lsAndTs = getImagesLib.getLandsatAndSentinel2HybridWrapper(studyArea.geometry().bounds(50,'EPSG:5070'),\n",
        "                                                           startYear,\n",
        "                                                           endYear,\n",
        "                                                           startJulian,\n",
        "                                                           endJulian,\n",
        "                                                           includeSLCOffL7=includeSLCOffL7,\n",
        "                                                           applyTDOMLandsat = applyTDOMLandsat,\n",
        "                                                           applyTDOMSentinel2 = applyTDOMSentinel2,\n",
        "                                                           applyCloudScoreLandsat=applyCloudScoreLandsat,\n",
        "                                                            performCloudScoreOffset = performCloudScoreOffset)\n",
        "\n",
        "\n",
        "#Separate into scenes and composites for subsequent analysis\n",
        "processedScenes = lsAndTs['processedScenes']\n",
        "processedComposites = lsAndTs['processedComposites']"
      ]
    },
    {
      "cell_type": "markdown",
      "id": "5e398f16",
      "metadata": {
        "id": "5e398f16"
      },
      "source": [
        "### Add to Map\n",
        "\n",
        "Run the code block below to add the new layers to the map."
      ]
    },
    {
      "cell_type": "code",
      "execution_count": null,
      "id": "f80c69ac",
      "metadata": {
        "colab": {
          "base_uri": "https://localhost:8080/",
          "height": 650
        },
        "id": "f80c69ac",
        "outputId": "5c8e8235-40b9-4076-aa3a-7e66f9cf28a9"
      },
      "outputs": [
        {
          "output_type": "stream",
          "name": "stdout",
          "text": [
            "Adding layer: L7 and CloudScore added 1-365\n",
            "Starting webmap\n",
            "Using default refresh token for geeView: /root/.config/earthengine/credentials\n",
            "Local web server at: http://localhost:1232/geeView/ already serving.\n",
            "cwd /content\n",
            "Colab Proxy URL: https://bm9sk1jqt3-496ff2e9c6d22116-1232-colab.googleusercontent.com/geeView/?accessToken=None\n"
          ]
        },
        {
          "output_type": "display_data",
          "data": {
            "text/plain": [
              "<IPython.lib.display.IFrame at 0x79363b961660>"
            ],
            "text/html": [
              "\n",
              "        <iframe\n",
              "            width=\"100%\"\n",
              "            height=\"525px\"\n",
              "            src=\"https://bm9sk1jqt3-496ff2e9c6d22116-1232-colab.googleusercontent.com/geeView/?accessToken=None\"\n",
              "            frameborder=\"0\"\n",
              "            allowfullscreen\n",
              "            \n",
              "        ></iframe>\n",
              "        "
            ]
          },
          "metadata": {}
        }
      ],
      "source": [
        "#Turn off layers from previous iteration\n",
        "Map.turnOffAllLayers()\n",
        "\n",
        "\n",
        "Map.addTimeLapse(processedComposites,getImagesLib.vizParamsFalse,'L7 and CloudScore added {}-{}'.format(startJulian,endJulian),True)\n",
        "\n",
        "\n",
        "Map.view()"
      ]
    },
    {
      "cell_type": "markdown",
      "id": "a770af6e",
      "metadata": {
        "id": "a770af6e"
      },
      "source": [
        "### Inspect\n",
        "Toggle on the layers in the viewer above. Inspect the **L7 and cloudScore** output. Notice that these layers look much better and have fewer cloud masking artifacts than the previous layers.\n",
        "\n",
        "However, you can still see some dark ares. These are likely due to cloud shadows that were not masked out-- the Fmask cloud shadow mask typically does not mask out all cloud shadows.\n",
        "\n",
        "To mask cloud shadow, we use a method called the [Temporal Dark Outlier Mask (TDOM)](https://www.mdpi.com/2072-4292/10/8/1184) that works well to mask cloud shadows.\n",
        "\n"
      ]
    },
    {
      "cell_type": "markdown",
      "id": "35609104",
      "metadata": {
        "id": "35609104"
      },
      "source": [
        "### 2.3.2: Use Temporal Dark Outlier Mask (TDOM) to mask cloud shadows\n",
        "The Temporal Dark Outlier Mask (TDOM) method of masking cloud shadows calculates the mean and standard deviation of the NIR and SWIR bands over a pixel in a time series. The algorithm finds dark pixels ((SWIR1 + NIR) < 0.35) that are outliers (< -1 standard devitation) to determine which pixels are likely to be cloud shadows (dark pixels that aren't normally dark).\n",
        "\n",
        "Find [details of the TDOM method](https://github.com/gee-community/geeViz/blob/bd75d38c2043fc3af795c9c35ae769c71c00f56a/getImagesLib.py#L1141) in the geeViz library.\n",
        "\n",
        "#### Set TDOM parameter\n",
        "\n",
        " - ``` applyTDOM ``` - default = **False**\n",
        "\n",
        "Run the code block below to set the TDOM parameter."
      ]
    },
    {
      "cell_type": "code",
      "execution_count": 24,
      "id": "6143f886",
      "metadata": {
        "colab": {
          "base_uri": "https://localhost:8080/"
        },
        "id": "6143f886",
        "outputId": "6af3e34e-f7e3-4058-d347-73b363027684"
      },
      "outputs": [
        {
          "output_type": "stream",
          "name": "stdout",
          "text": [
            "Done\n"
          ]
        }
      ],
      "source": [
        "#Set TDOM to true\n",
        "applyTDOMLandsat = True\n",
        "applyTDOMSentinel2 = True\n",
        "print('Done')"
      ]
    },
    {
      "cell_type": "markdown",
      "id": "e4cde46c",
      "metadata": {
        "id": "e4cde46c"
      },
      "source": [
        "#### Run master wrapper function\n",
        "\n",
        "Call on master wrapper function to get Landat scenes and composites\n",
        "In order to identify dark outliers, we will extend the dates by 3 years in either direction to get a larger sample"
      ]
    },
    {
      "cell_type": "code",
      "execution_count": 25,
      "id": "f715d3a5",
      "metadata": {
        "colab": {
          "base_uri": "https://localhost:8080/"
        },
        "id": "f715d3a5",
        "outputId": "44d2609c-d552-4f42-bee9-9cd9151d7756"
      },
      "outputs": [
        {
          "output_type": "stream",
          "name": "stdout",
          "text": [
            "Get Processed Landsat and Sentinel2 Scenes: \n",
            "Start date: Jan 01 2006 , End date: Dec 31 2014\n",
            "Get Processed Landsat: \n",
            "Start date: Jan 01 2006 , End date: Dec 31 2014\n",
            "Including All Landsat 7\n",
            "Applying Cloud Score\n",
            "Computing cloudScore offset\n",
            "Applying Fmask Cloud Mask\n",
            "Applying TDOM Shadow Mask\n",
            "Computing irMean for TDOM\n",
            "Computing irStdDev for TDOM\n",
            "Applying Fmask Shadow Mask\n",
            "Get Processed Sentinel2: \n",
            "Start date: Jan 01 2006 , End date: Dec 31 2014\n",
            "Using S2 Collection: COPERNICUS/S2_HARMONIZED\n",
            "Joining pre-computed cloud probabilities from: COPERNICUS/S2_CLOUD_PROBABILITY\n",
            "Setting to aggregate instead of resample \n",
            "Converting S2 data to daily mosaics\n",
            "Applying Cloud Probability\n",
            "Applying TDOM\n",
            "Computing irMean for TDOM\n",
            "Computing irStdDev for TDOM\n",
            "Running Chastain et al 2019 harmonization\n"
          ]
        }
      ],
      "source": [
        "#Call on master wrapper function to get Landat scenes and composites\n",
        "#In order to identify dark outliers, we will extend the dates by 3 years in either direction to get a larger sample\n",
        "lsAndTs = getImagesLib.getLandsatAndSentinel2HybridWrapper(studyArea.geometry().bounds(50,'EPSG:5070'),\n",
        "                                                           startYear - 3,\n",
        "                                                           endYear + 3,\n",
        "                                                           startJulian,\n",
        "                                                           endJulian,\n",
        "                                                           includeSLCOffL7=includeSLCOffL7,\n",
        "                                                           applyCloudScoreLandsat=applyCloudScoreLandsat,\n",
        "                                                           applyTDOMLandsat = applyTDOMLandsat,\n",
        "                                                           applyTDOMSentinel2 = applyTDOMSentinel2)\n",
        "\n",
        "\n",
        "#Separate into scenes and composites for subsequent analysis\n",
        "processedScenes = lsAndTs['processedScenes']\n",
        "processedComposites = lsAndTs['processedComposites']"
      ]
    },
    {
      "cell_type": "markdown",
      "id": "c77e68c6",
      "metadata": {
        "id": "c77e68c6"
      },
      "source": [
        "### Add to map\n",
        "\n",
        "Run the code block below to add the new layers to the map. This layer may take longer to run and load."
      ]
    },
    {
      "cell_type": "code",
      "execution_count": null,
      "id": "9f457875",
      "metadata": {
        "colab": {
          "base_uri": "https://localhost:8080/",
          "height": 650
        },
        "id": "9f457875",
        "outputId": "295c7560-b13f-4253-f3a9-b004ed755285",
        "tags": []
      },
      "outputs": [
        {
          "output_type": "stream",
          "name": "stdout",
          "text": [
            "Adding layer: CloudScore and TDOM added 1-365\n",
            "Starting webmap\n",
            "Using default refresh token for geeView: /root/.config/earthengine/credentials\n",
            "Local web server at: http://localhost:1232/geeView/ already serving.\n",
            "cwd /content\n",
            "Colab Proxy URL: https://bm9sk1jqt3-496ff2e9c6d22116-1232-colab.googleusercontent.com/geeView/?accessToken=None\n"
          ]
        },
        {
          "output_type": "display_data",
          "data": {
            "text/plain": [
              "<IPython.lib.display.IFrame at 0x79363b915f60>"
            ],
            "text/html": [
              "\n",
              "        <iframe\n",
              "            width=\"100%\"\n",
              "            height=\"525px\"\n",
              "            src=\"https://bm9sk1jqt3-496ff2e9c6d22116-1232-colab.googleusercontent.com/geeView/?accessToken=None\"\n",
              "            frameborder=\"0\"\n",
              "            allowfullscreen\n",
              "            \n",
              "        ></iframe>\n",
              "        "
            ]
          },
          "metadata": {}
        }
      ],
      "source": [
        "#Turn off layers from previous iteration\n",
        "Map.turnOffAllLayers()\n",
        "\n",
        "Map.addTimeLapse(processedComposites,getImagesLib.vizParamsFalse,'CloudScore and TDOM added {}-{}'.format(startJulian,endJulian),True)\n",
        "\n",
        "Map.view()"
      ]
    },
    {
      "cell_type": "markdown",
      "id": "8dd1fd15-190a-415b-8c9d-3850b2ca1f90",
      "metadata": {
        "id": "8dd1fd15-190a-415b-8c9d-3850b2ca1f90",
        "outputId": "862b6a1a-52af-4d2e-e248-f1392bf6008a",
        "tags": []
      },
      "source": [
        "#### Inspect\n",
        "Toggle on the new layer. You'll notice this cleans up the cloud masking a lot.\n",
        "\n",
        "#### TDOM is computationally intensive\n",
        "However, while TDOM is a great cloud shadow masking method, it is a bit computationally intensive since it computes the mean and standard deviation over a large stack of data.\n",
        "\n",
        "In order to avoid re-computing the stats, we store pre-computed stats. For the LCMS project, we have precomputed stats for CONUS, AK, HI, PuertoRico, and the USVI. We will be using these pre-computed stats\n",
        "\n",
        "\n",
        "It is optional that you use pre-computed stats. If none are provided, TDOM stats will be computed on-the-fly.\n",
        "\n",
        "You can create and store precomputed TDOM stats by only applying cloud masking over a period of time and computing the mean and standard deviation of NIR and SWIR1 bands.\n",
        "\n",
        "\n",
        "#### Inspect raw, precomputed TDOM stats\n",
        "\n",
        "Run the chuck of code below to load the precomputed TDOM stats and examine them on the map."
      ]
    },
    {
      "cell_type": "code",
      "execution_count": null,
      "id": "76ef8dd8",
      "metadata": {
        "id": "76ef8dd8",
        "outputId": "c8e7298c-35ed-4bdc-d1db-0924de999e9c"
      },
      "outputs": [
        {
          "name": "stdout",
          "output_type": "stream",
          "text": [
            "Adding layer: Landsat TDOM Stats\n",
            "Adding layer: Sentinel 2 TDOM Stats\n",
            "Starting webmap\n",
            "Using default refresh token for geeView: C:\\Users\\ianho/.config/earthengine/credentials\n",
            "Local web server at: http://localhost:1232/geeView/ already serving.\n",
            "cwd c:\\RCR\\quickLabsTrainingMaterials\\lcms-training\n"
          ]
        },
        {
          "data": {
            "text/html": [
              "\n",
              "        <iframe\n",
              "            width=\"100%\"\n",
              "            height=\"525px\"\n",
              "            src=\"http://localhost:1232/geeView/?accessToken=ya29.a0AfB_byChZ3tbiboDGxKfkqxTj_WdkAja4iL7HUqjLOcOIgMtzpZ5GoW3WetaIQ4Tb4-ipiLXZL-WTy40F78O42hvuRf2qc4M1SkUd-KrMZXAdJYS7TR85upyDV76_C4GlqJRckSaluMJP0Df9zvQVFn76N6QjhH9K2X0QRRCizLsaCgYKARMSARASFQGOcNnC2SYvwg-9a-orjq6iF593kw0179\"\n",
              "            frameborder=\"0\"\n",
              "            allowfullscreen\n",
              "            \n",
              "        ></iframe>\n",
              "        "
            ],
            "text/plain": [
              "<IPython.lib.display.IFrame at 0x1d098ed6b90>"
            ]
          },
          "metadata": {},
          "output_type": "display_data"
        }
      ],
      "source": [
        "# clear map\n",
        "Map.clearMap()\n",
        "\n",
        "# load precomputed tdom stats\n",
        "landsat_tdom_stats = ee.Image('projects/lcms-tcc-shared/assets/CS-TDOM-Stats/PR-USVI/TDOM_stats/Landsat_TDOM_Stats_1984_2021')\\\n",
        "                    .select(['Landsat_nir_.*','Landsat_swir1_.*'])\\\n",
        "                    .divide(10000)\n",
        "s2_tdom_stats = ee.Image('projects/lcms-tcc-shared/assets/CS-TDOM-Stats/PR-USVI/TDOM_stats/Sentinel2_TDOM_Stats_2015_2021')\\\n",
        "                    .select(['Sentinel2_nir_.*','Sentinel2_swir1_.*'])\\\n",
        "                    .divide(10000)\n",
        "Map.addLayer(landsat_tdom_stats,{'min':0.15,'max':0.35,'bands':'Landsat_nir_mean','palette':'222,080'},'Landsat TDOM Stats')\n",
        "Map.addLayer(s2_tdom_stats,{'min':0.15,'max':0.35,'bands':'Sentinel2_nir_mean','palette':'222,080'},'Sentinel 2 TDOM Stats')\n",
        "\n",
        "Map.turnOnInspector()\n",
        "Map.view()\n"
      ]
    },
    {
      "cell_type": "markdown",
      "id": "cfc60250",
      "metadata": {
        "id": "cfc60250"
      },
      "source": [
        "## 2.4: Prepare final composites and export\n",
        "Now that you've gone through some of the parameters that can be changed for the composites, we will use both Landsat and Sentinel2 to get the best possible composites.\n",
        "\n",
        "Here, you will manually set all parameters for the `getLandatAndSentinel2HybridWrapper`.\n",
        "\n",
        "### Projections\n",
        "\n",
        "Some common projections are accessed through `getImagesLib.common_projection`\n",
        "LCMS uses the same snap grid (transform) and projection (crs) as the USGS NLCD. This is often called USGS Albers.\n",
        "You can change this to any projection you'd like based on your study area using EPSG codes or WKT format.\n",
        "\n",
        "\n",
        "### Set parameters and Export\n",
        "\n",
        "Review the [documentation](https://github.com/gee-community/geeViz/blob/bd75d38c2043fc3af795c9c35ae769c71c00f56a/getImagesLib.py#L3280) to recall the default values for each of these parameters.\n",
        "\n",
        "Note in the function below where the parameters are different from the defaults.\n",
        "\n",
        "Run the code block below to prepare and export composites."
      ]
    },
    {
      "cell_type": "code",
      "execution_count": 27,
      "id": "dd114804",
      "metadata": {
        "colab": {
          "base_uri": "https://localhost:8080/"
        },
        "id": "dd114804",
        "outputId": "9b7fdd9a-15eb-40df-8ccf-a189f3379398"
      },
      "outputs": [
        {
          "output_type": "stream",
          "name": "stdout",
          "text": [
            "Get Processed Landsat and Sentinel2 Scenes: \n",
            "Start date: May 31 1984 , End date: May 31 2023\n",
            "Get Processed Landsat: \n",
            "Start date: May 31 1984 , End date: May 31 2023\n",
            "Defringing L4 and L5\n",
            "Including All Landsat 7\n",
            "Setting resample method to  bicubic\n",
            "Applying Cloud Score\n",
            "Not computing cloudScore offset\n",
            "Applying Fmask Cloud Mask\n",
            "Applying TDOM Shadow Mask\n",
            "Computing irMean for TDOM\n",
            "Computing irStdDev for TDOM\n",
            "Applying Fmask Shadow Mask\n",
            "Get Processed Sentinel2: \n",
            "Start date: May 31 1984 , End date: May 31 2023\n",
            "Using S2 Collection: COPERNICUS/S2_HARMONIZED\n",
            "Joining pre-computed cloud probabilities from: COPERNICUS/S2_CLOUD_PROBABILITY\n",
            "Setting resample method to  bicubic\n",
            "Converting S2 data to daily mosaics\n",
            "Applying Cloud Probability\n",
            "Applying TDOM\n",
            "Computing irMean for TDOM\n",
            "Computing irStdDev for TDOM\n",
            "Exporting: Landsat-Sentinel2-Hybrid_TOA_medoid_1984_1984_152_151\n",
            "Exporting: Landsat-Sentinel2-Hybrid_TOA_medoid_1985_1985_152_151\n",
            "Exporting: Landsat-Sentinel2-Hybrid_TOA_medoid_1986_1986_152_151\n",
            "Exporting: Landsat-Sentinel2-Hybrid_TOA_medoid_1987_1987_152_151\n",
            "Exporting: Landsat-Sentinel2-Hybrid_TOA_medoid_1988_1988_152_151\n",
            "Exporting: Landsat-Sentinel2-Hybrid_TOA_medoid_1989_1989_152_151\n",
            "Exporting: Landsat-Sentinel2-Hybrid_TOA_medoid_1990_1990_152_151\n",
            "Exporting: Landsat-Sentinel2-Hybrid_TOA_medoid_1991_1991_152_151\n",
            "Exporting: Landsat-Sentinel2-Hybrid_TOA_medoid_1992_1992_152_151\n",
            "Exporting: Landsat-Sentinel2-Hybrid_TOA_medoid_1993_1993_152_151\n",
            "Exporting: Landsat-Sentinel2-Hybrid_TOA_medoid_1994_1994_152_151\n",
            "Exporting: Landsat-Sentinel2-Hybrid_TOA_medoid_1995_1995_152_151\n",
            "Exporting: Landsat-Sentinel2-Hybrid_TOA_medoid_1996_1996_152_151\n",
            "Exporting: Landsat-Sentinel2-Hybrid_TOA_medoid_1997_1997_152_151\n",
            "Exporting: Landsat-Sentinel2-Hybrid_TOA_medoid_1998_1998_152_151\n",
            "Exporting: Landsat-Sentinel2-Hybrid_TOA_medoid_1999_1999_152_151\n",
            "Exporting: Landsat-Sentinel2-Hybrid_TOA_medoid_2000_2000_152_151\n",
            "Exporting: Landsat-Sentinel2-Hybrid_TOA_medoid_2001_2001_152_151\n",
            "Exporting: Landsat-Sentinel2-Hybrid_TOA_medoid_2002_2002_152_151\n",
            "Exporting: Landsat-Sentinel2-Hybrid_TOA_medoid_2003_2003_152_151\n",
            "Exporting: Landsat-Sentinel2-Hybrid_TOA_medoid_2004_2004_152_151\n",
            "Exporting: Landsat-Sentinel2-Hybrid_TOA_medoid_2005_2005_152_151\n",
            "Exporting: Landsat-Sentinel2-Hybrid_TOA_medoid_2006_2006_152_151\n",
            "Exporting: Landsat-Sentinel2-Hybrid_TOA_medoid_2007_2007_152_151\n",
            "Exporting: Landsat-Sentinel2-Hybrid_TOA_medoid_2008_2008_152_151\n",
            "Exporting: Landsat-Sentinel2-Hybrid_TOA_medoid_2009_2009_152_151\n",
            "Exporting: Landsat-Sentinel2-Hybrid_TOA_medoid_2010_2010_152_151\n",
            "Exporting: Landsat-Sentinel2-Hybrid_TOA_medoid_2011_2011_152_151\n",
            "Exporting: Landsat-Sentinel2-Hybrid_TOA_medoid_2012_2012_152_151\n",
            "Exporting: Landsat-Sentinel2-Hybrid_TOA_medoid_2013_2013_152_151\n",
            "Exporting: Landsat-Sentinel2-Hybrid_TOA_medoid_2014_2014_152_151\n",
            "Exporting: Landsat-Sentinel2-Hybrid_TOA_medoid_2015_2015_152_151\n",
            "Exporting: Landsat-Sentinel2-Hybrid_TOA_medoid_2016_2016_152_151\n",
            "Exporting: Landsat-Sentinel2-Hybrid_TOA_medoid_2017_2017_152_151\n",
            "Exporting: Landsat-Sentinel2-Hybrid_TOA_medoid_2018_2018_152_151\n",
            "Exporting: Landsat-Sentinel2-Hybrid_TOA_medoid_2019_2019_152_151\n",
            "Exporting: Landsat-Sentinel2-Hybrid_TOA_medoid_2020_2020_152_151\n",
            "Exporting: Landsat-Sentinel2-Hybrid_TOA_medoid_2021_2021_152_151\n",
            "Exporting: Landsat-Sentinel2-Hybrid_TOA_medoid_2022_2022_152_151\n",
            "Done\n"
          ]
        }
      ],
      "source": [
        "# Run get images, set parameters manually, and export\n",
        "lsAndTs = getImagesLib.getLandsatAndSentinel2HybridWrapper(\\\n",
        "\n",
        "    # Study area and time\n",
        "    studyArea = studyArea,\n",
        "    startYear = 1984,\n",
        "    endYear = 2022,\n",
        "    startJulian = 152,\n",
        "    endJulian = 151,\n",
        "\n",
        "    # Moving window options\n",
        "    timebuffer =  0,# If multi-year moving window is needed, use timebuffer > 0 (e.g. timebuffer = 1 will result in a 3 year moving window)\n",
        "    weights =  [1],# To compliment the timebuffer, set weights for each year of the moving window. This enables the center year to have more weight (e.g. [1,3,1] would weight the center year if timebuffer = 1 3x over the buffer years)\n",
        "\n",
        "    # Composite methods and input imagery\n",
        "    compositingMethod = 'medoid', # Specify median or medoid. Medoid allows for storing only the spectral and ancillary bands without indices\n",
        "    toaOrSR = 'TOA', # It is advised to only use TOA when combining Landsat and Sentinel-2 since the Sentinel-2 SR data in GEE are terrain-corrected and Landsat are not\n",
        "    includeSLCOffL7 = True, # Whether to include Landsat 7 after May 2003. Scanline artifacts can be found in composites when True\n",
        "    defringeL5 = True, # Whether to get rid of fringe edges found mostly on Landsat 4 and 5\n",
        "    landsatCollectionVersion = 'C2', # To use Collection 1 or 2. Only use C1 if doing legacy work prior to 2022\n",
        "\n",
        "    # Cloud and shadow masking\n",
        "    # There will be a parameter for applying CloudScore+ to Sentinel-2 provided once it is available for all S2 data\n",
        "    applyQABand = False, # Whether to apply the default Sentinel-2 QA mask - this method is terrible and should not be used\n",
        "    applyCloudProbability = True,# Whether to apply S2Cloudless to Sentinel-2 data. This method works really well\n",
        "    applyShadowShift = False, # This method is largely deprecated\n",
        "    applyCloudScoreLandsat = True, # We use this since fMask struggles for cloud masking\n",
        "    applyCloudScoreSentinel2 = False, # We typically do not use cloudScore for Sentinel-2 since S2Cloudless works so well\n",
        "    applyTDOMLandsat = True, # We use TDOM for Landsat since the fMask cloud shadow masking method struggles a lot\n",
        "    applyTDOMSentinel2 = True, # This is the only easily available Sentinel-2 cloud shadow masking method (as of Aug 2023)\n",
        "    applyFmaskCloudMask = True,\n",
        "    applyFmaskCloudShadowMask = True,\n",
        "    applyFmaskSnowMask = False,\n",
        "    cloudHeights = ee.List.sequence(500,10000,500), # This compliments applyShadowShift and is largely deprecated,\n",
        "    cloudScoreThresh = 10,# The threshold applied to the cloudScore for Landsat and/or Sentinel-2\n",
        "    performCloudScoreOffset = False,# Set this to False in areas with limited data and/or limited bright cool surfaces\n",
        "    cloudScorePctl = 10, # If performCloudScoreOffset is set to True, this is the percentile of the cloudScores used to see if an area typically has a high cloudScore\n",
        "    zScoreThresh = -1, # The TDOM Z-score threshold for finding dark outliers\n",
        "    shadowSumThresh = 0.35,# The sum of the shadowSumBands has to be below this to be considered dark\n",
        "    contractPixels = 1.5,# Inward buffer pixel radius to get rid of salt and pepper\n",
        "    dilatePixels = 3.5, # Outwoard buffer pixel radius to dilate the cloud shadow mask by\n",
        "    shadowSumBands = ['nir','swir1'], # Bands to use for TDOM to find dark outliers\n",
        "    cloudProbThresh = 40, # The S2Cloudless cloud probability threshold\n",
        "\n",
        "    # Image processing\n",
        "    landsatResampleMethod = 'bicubic',\n",
        "    sentinel2ResampleMethod = 'bicubic',\n",
        "    convertToDailyMosaics = True, # Important if the composite observation count is important since Sentinel-2 has overlap with its tiled outputs\n",
        "    runChastainHarmonization = False, # Set to True in order to perform regression harmonization between Landsat and Sentinel 2\n",
        "    correctIllumination = False, # Method for illuminating hill shadows. This is largely deprecated and not used\n",
        "    correctScale = 250,\n",
        "\n",
        "    # Export parameters\n",
        "    exportComposites = True,# Whether to export resulting composites\n",
        "    outputName = 'Landsat-Sentinel2-Hybrid',\n",
        "    exportPathRoot = export_composite_collection,\n",
        "    crs = getImagesLib.common_projections['NLCD_CONUS']['crs'],\n",
        "    transform = getImagesLib.common_projections['NLCD_CONUS']['transform'],\n",
        "    scale = None,\n",
        "    overwrite = False,# Whether to overwrite existing composites\n",
        "\n",
        "    # Precomputed TDOM and cloudscore stats\n",
        "    preComputedLandsatCloudScoreOffset = None,\n",
        "    preComputedLandsatTDOMIRMean = None,\n",
        "    preComputedLandsatTDOMIRStdDev = None,\n",
        "    preComputedSentinel2CloudScoreOffset = None,\n",
        "    preComputedSentinel2TDOMIRMean = None,\n",
        "    preComputedSentinel2TDOMIRStdDev = None\n",
        "                                                           )\n",
        "\n",
        "\n",
        "print('Done')"
      ]
    },
    {
      "cell_type": "markdown",
      "id": "40958913",
      "metadata": {
        "id": "40958913"
      },
      "source": [
        "### Manage export tasks\n",
        "These export tasks can take anywhere from a few hours to a few days to run, depending on the size of your study area. It can be helpful to manage and observe the tasks after you've set them running.\n",
        "\n",
        "Below are some code snippets to use to manage and inspect the export tasks.\n",
        "\n",
        "Link to documentation about these code snippets."
      ]
    },
    {
      "cell_type": "code",
      "execution_count": null,
      "id": "6df6dfcb",
      "metadata": {
        "id": "6df6dfcb",
        "outputId": "fa3332af-6d48-438d-b586-3d9d2f893239",
        "colab": {
          "base_uri": "https://localhost:8080/"
        }
      },
      "outputs": [
        {
          "output_type": "stream",
          "name": "stdout",
          "text": [
            "37 tasks ready 2023-11-08 22:57:42\n",
            "2 tasks running 2023-11-08 22:57:42\n",
            "Running names:\n",
            "['Landsat-Sentinel2-Hybrid_TOA_medoid_1985_1985_152_151', '0:04:24']\n",
            "['Landsat-Sentinel2-Hybrid_TOA_medoid_1984_1984_152_151', '0:04:24']\n",
            "\n",
            "\n",
            "37 tasks ready 2023-11-08 22:57:47\n",
            "2 tasks running 2023-11-08 22:57:47\n",
            "Running names:\n",
            "['Landsat-Sentinel2-Hybrid_TOA_medoid_1985_1985_152_151', '0:04:30']\n",
            "['Landsat-Sentinel2-Hybrid_TOA_medoid_1984_1984_152_151', '0:04:30']\n",
            "\n",
            "\n",
            "37 tasks ready 2023-11-08 22:57:53\n",
            "2 tasks running 2023-11-08 22:57:53\n",
            "Running names:\n",
            "['Landsat-Sentinel2-Hybrid_TOA_medoid_1985_1985_152_151', '0:04:36']\n",
            "['Landsat-Sentinel2-Hybrid_TOA_medoid_1984_1984_152_151', '0:04:36']\n",
            "\n",
            "\n",
            "37 tasks ready 2023-11-08 22:57:58\n",
            "2 tasks running 2023-11-08 22:57:58\n",
            "Running names:\n",
            "['Landsat-Sentinel2-Hybrid_TOA_medoid_1985_1985_152_151', '0:04:41']\n",
            "['Landsat-Sentinel2-Hybrid_TOA_medoid_1984_1984_152_151', '0:04:41']\n",
            "\n",
            "\n"
          ]
        }
      ],
      "source": [
        "# If you'd like to track the tasks, use this:\n",
        "tml.trackTasks2()\n",
        "\n",
        "# Danger!!! - Only use these methods if needed - they can stop and delete work\n",
        "# If you want to cancel all running tasks, you can use this function\n",
        "# tml.batchCancel()\n",
        "\n",
        "# If you want to empty the collection of all images\n",
        "# aml.batchDelete(export_composite_collection, type = 'imageCollection')\n",
        "\n",
        "print('Done')"
      ]
    },
    {
      "cell_type": "markdown",
      "id": "7384c4f0",
      "metadata": {
        "id": "7384c4f0"
      },
      "source": [
        "### View composites as they are completed\n",
        "After your composites have been exported, you can view the composites in your folder."
      ]
    },
    {
      "cell_type": "code",
      "execution_count": null,
      "id": "fe05f2f4",
      "metadata": {
        "colab": {
          "base_uri": "https://localhost:8080/",
          "height": 685
        },
        "id": "fe05f2f4",
        "outputId": "61bfa47b-9ec2-4c94-e5ab-978a4eff2c42"
      },
      "outputs": [
        {
          "name": "stdout",
          "output_type": "stream",
          "text": [
            "Done\n"
          ]
        }
      ],
      "source": [
        "# View composites as they are completed\n",
        "composites = ee.ImageCollection(export_composite_collection)\n",
        "\n",
        "# If your composites have not yet exported, you can use the following line of code to inspect pre-computed composites instead\n",
        "composites = ee.ImageCollection(f'{pre_baked_path_root}/lcms-training_module-2_composites')\n",
        "\n",
        "print('Done')"
      ]
    },
    {
      "cell_type": "markdown",
      "id": "3d40a4c7",
      "metadata": {
        "id": "3d40a4c7"
      },
      "source": [
        "### Inspect the outputs\n",
        "\n",
        "Explore the composites and some attributes that describe the quality of the composites.\n",
        "\n",
        "Notice how the number of observations increases and the predominant sensor changes over time"
      ]
    },
    {
      "cell_type": "code",
      "execution_count": null,
      "id": "9efa279b",
      "metadata": {
        "colab": {
          "base_uri": "https://localhost:8080/",
          "height": 685
        },
        "id": "9efa279b",
        "outputId": "61bfa47b-9ec2-4c94-e5ab-978a4eff2c42"
      },
      "outputs": [
        {
          "name": "stdout",
          "output_type": "stream",
          "text": [
            "Adding layer: Composites\n",
            "Adding layer: Sensor\n",
            "Adding layer: Composite Observation Counts\n",
            "Starting webmap\n",
            "Using default refresh token for geeView: C:\\Users\\ianho/.config/earthengine/credentials\n",
            "Local web server at: http://localhost:1232/geeView/ already serving.\n",
            "cwd c:\\RCR\\quickLabsTrainingMaterials\\lcms-training\n"
          ]
        },
        {
          "data": {
            "text/html": [
              "\n",
              "        <iframe\n",
              "            width=\"100%\"\n",
              "            height=\"525px\"\n",
              "            src=\"http://localhost:1232/geeView/?accessToken=ya29.a0AfB_byAIV-5Vzth1TDShnCXmdYzr0_JBYBp5TEF1ibVReCZDOFrf2ngjIwUu2EgrOsN_1CYko_GX0_mcbBxkMb4Ia9vSbFnVDzr_Hza2CltUktre8WlvLG7O_0SK3SE4RaujEm-GFCabAJShDCXwjTBLKhEtWNuNRu0qjcLC5imKaCgYKATsSARASFQGOcNnCpRAsrJ0ErOvn0XmF0omQ3Q0179\"\n",
              "            frameborder=\"0\"\n",
              "            allowfullscreen\n",
              "            \n",
              "        ></iframe>\n",
              "        "
            ],
            "text/plain": [
              "<IPython.lib.display.IFrame at 0x1d08763e090>"
            ]
          },
          "metadata": {},
          "output_type": "display_data"
        }
      ],
      "source": [
        "# clear the map\n",
        "Map.clearMap()\n",
        "\n",
        "# First let's explore the composites and some attributes that can help understand how well the composites turned out\n",
        "Map.addTimeLapse(composites, getImagesLib.vizParamsFalse10k,'Composites')\n",
        "\n",
        "# By looking at the Sensor that is used, you can see\n",
        "# with the introduction of Landsat 8 in 2013 and then Sentinel 2 in 2016-2017,\n",
        "# composites become much better quality\n",
        "Map.addTimeLapse(composites.select('sensor'),{'min':4,'max':22,'palette':'088,808','classLegendDict':{'Landsat (Landsat 5 = 5, Landsat 7 = 7, etc...)':'088','Sentinel2 (Sentinel 2A = 21, Sentinel 2B = 22, etc....)':'808'},'queryDict':{4:'L4',5:'L5',7:'L7',8:'L8',9:'L9',21:'S2a',22:'S2b'}},'Sensor')\n",
        "Map.addTimeLapse(composites.select('compositeObsCount'),{'min':3,'max':10,'palette':'D0D,0D0'},'Composite Observation Counts')\n",
        "Map.turnOnInspector()\n",
        "Map.view()\n",
        "# Now that we have exported composites, we will use them in the LandTrendr temporal segmentation algorithm"
      ]
    },
    {
      "cell_type": "markdown",
      "id": "b001ba37",
      "metadata": {
        "id": "b001ba37"
      },
      "source": [
        "## Lab 2 Challenge:\n",
        "\n",
        "**For Qwiklabs users**, this will be assessed for completion in the \"Check My Progress\" portion at the end of Lab 2.\n",
        "\n",
        "1. Create a cloud-free medoid composite time series from 2020-2023 for days 1-150 using the methods we used in this module.\n",
        "\n",
        "    * Use the following as your study area:\n",
        "\n",
        "    ```python\n",
        "          ee.Geometry.Polygon(\n",
        "                [[[-65.91075380517458, 18.265940533464065],\n",
        "                  [-65.91075380517458, 18.236922027462644],\n",
        "                  [-65.87350328637575, 18.236922027462644],\n",
        "                  [-65.87350328637575, 18.265940533464065]]], None, False)\n",
        "      ```\n",
        "      <br>\n",
        "   \n",
        "   * Select the following bands:`[\"green\",\"red\",\"nir\",\"swir1\",\"swir2\",\"NBR\"]`\n",
        "\n",
        "<br>\n",
        "\n",
        "2. Extract the values from the three annual composites for a given point location.\n",
        "\n",
        "    * Use a point with these coordinates: `([-65.88860948754763, 18.249964652264815])`\n",
        "            \n",
        "    * Use the following function: `g2p.extractPointValuesToDataFrame`\n",
        "    <br><br>\n",
        "    Example:\n",
        "    ```python\n",
        "          extracted_values = g2p.extractPointValuesToDataFrame(\n",
        "          composite,\n",
        "          ee.Geometry.Point([-65.88860948754763, 18.249964652264815]),\n",
        "          scale=30,\n",
        "          crs = \"EPSG:5070\",\n",
        "          transform = None,\n",
        "          reducer = ee.Reducer.first(),\n",
        "          includeNonSystemProperties = False,\n",
        "          includeSystemProperties=True\n",
        "          )\n",
        "    ```\n",
        "<br>    \n",
        "\n",
        "3. Save extracted values to a csv file.\n",
        "\n",
        "   * Save csv to this path: `\"/tmp/challenge/module_2_challenge_answer.csv\"`\n",
        "     * **Note: The path to the csv must exactly match the path above.**\n",
        "    <br>\n",
        "    \n",
        "    * Create the `\"/tmp/challenge\"` folder if it does not already exist.\n",
        "      \n",
        "        Example:\n",
        "    ```python\n",
        "        out_csv = \"/tmp/challenge/module_2_challenge_answer.csv\"\n",
        "        if not os.path.exists(os.path.dirname(out_csv)):os.makedirs(os.path.dirname(out_csv))\n",
        "    ```\n",
        "<br>\n",
        "\n",
        "4.  Check that the output csv exists.\n",
        "    \n",
        "    * Example:\n",
        "    ```python\n",
        "        print(os.path.exists(out_csv))\n",
        "    ```\n",
        "<br>"
      ]
    },
    {
      "cell_type": "code",
      "execution_count": null,
      "id": "00d87fa7",
      "metadata": {
        "id": "00d87fa7"
      },
      "outputs": [],
      "source": [
        "# Put your challenge code here\n"
      ]
    },
    {
      "cell_type": "markdown",
      "id": "e5fc7aca",
      "metadata": {
        "id": "e5fc7aca"
      },
      "source": [
        "## Done with Lab 2\n",
        "\n",
        "Now that we have exported composites, we will use them in the LandTrendr temporal segmentation algorithm in module 3."
      ]
    }
  ],
  "metadata": {
    "colab": {
      "provenance": [],
      "include_colab_link": true
    },
    "environment": {
      "kernel": "python3",
      "name": "tf2-gpu.2-11.m111",
      "type": "gcloud",
      "uri": "gcr.io/deeplearning-platform-release/tf2-gpu.2-11:m111"
    },
    "kernelspec": {
      "display_name": "Python 3",
      "language": "python",
      "name": "python3"
    },
    "language_info": {
      "codemirror_mode": {
        "name": "ipython",
        "version": 3
      },
      "file_extension": ".py",
      "mimetype": "text/x-python",
      "name": "python",
      "nbconvert_exporter": "python",
      "pygments_lexer": "ipython3",
      "version": "3.11.0"
    }
  },
  "nbformat": 4,
  "nbformat_minor": 5
}