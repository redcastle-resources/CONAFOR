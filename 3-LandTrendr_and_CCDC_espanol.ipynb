{
  "cells": [
    {
      "cell_type": "markdown",
      "metadata": {
        "colab_type": "text",
        "id": "view-in-github"
      },
      "source": [
        "<a href=\"https://colab.research.google.com/github/joshheyer/CONAFOR/blob/main/3-LandTrendr_and_CCDCV2.ipynb\" target=\"_parent\"><img src=\"https://colab.research.google.com/assets/colab-badge.svg\" alt=\"Open In Colab\"/></a>"
      ]
    },
    {
      "cell_type": "code",
      "execution_count": null,
      "id": "4414d1b0",
      "metadata": {
        "id": "4414d1b0"
      },
      "outputs": [],
      "source": [
        "# Copyright 2023 Google LLC\n",
        "#\n",
        "# Licensed under the Apache License, Version 2.0 (the \"License\");\n",
        "# you may not use this file except in compliance with the License.\n",
        "# You may obtain a copy of the License at\n",
        "#\n",
        "#     https://www.apache.org/licenses/LICENSE-2.0\n",
        "#\n",
        "# Unless required by applicable law or agreed to in writing, software\n",
        "# distributed under the License is distributed on an \"AS IS\" BASIS,\n",
        "# WITHOUT WARRANTIES OR CONDITIONS OF ANY KIND, either express or implied.\n",
        "# See the License for the specific language governing permissions and\n",
        "# limitations under the License.\n",
        "#\n",
        "# Developed for Google LLC by RedCastle Resources Inc\n",
        "# https://www.redcastleresources.com/"
      ]
    },
    {
      "cell_type": "markdown",
      "id": "67925170",
      "metadata": {
        "id": "67925170"
      },
      "source": [
        "# <img width=50px  src = 'https://apps.fs.usda.gov/lcms-viewer/images/lcms-icon.png'>  Laboratorio 3: LandTrendr y CCDC\n",
        "\n",
        "<table align=\"left\">\n",
        "  <td>\n",
        "    <a href=\"https://colab.research.google.com/github/redcastle-resources/CONAFOR/blob/main/3-LandTrendr_and_CCDC_espanol.ipynb\">\n",
        "      <img src=\"https://cloud.google.com/ml-engine/images/colab-logo-32px.png\" alt=\"Colab logo\"> Run in Colab\n",
        "    </a>\n",
        "  </td>\n",
        "  <td>\n",
        "    <a href=\"https://github.com/redcastle-resources/CONAFOR/blob/main/3-LandTrendr_and_CCDC_espanol.ipynb\">\n",
        "      <img src=\"https://cloud.google.com/ml-engine/images/github-logo-32px.png\" alt=\"GitHub logo\">\n",
        "      View on GitHub\n",
        "    </a>\n",
        "  </td>\n",
        "</table>\n",
        "<br/><br/><br/>"
      ]
    },
    {
      "cell_type": "markdown",
      "id": "68117a6d",
      "metadata": {
        "id": "68117a6d"
      },
      "source": [
        "## 3.0: Descripción General e Introducción\n",
        "\n",
        "### LandTrendr\n",
        "LandTrendr, abreviatura de detección de tendencias en perturbaciones y recuperación basada en Landsat, es un algoritmo de segmentación temporal que se utiliza para la detección de cambios y el suavizado de series temporales (segmentación temporal). Puede utilizar las salidas de LandTrendr para la detección de cambios independientes o como entradas para modelos de modelado como los utilizados por LCMS.\n",
        "\n",
        "#### Más información sobre LandTrendr:\n",
        "- [LandTrendr Guide](https://emapr.github.io/LT-GEE/)\n",
        "- [LandTrendr Original Publication](https://www.sciencedirect.com/science/article/abs/pii/S0034425710002245)\n",
        "- [LandTrendr GEE Publication](https://www.mdpi.com/2072-4292/10/5/691)\n",
        "\n",
        "### CCDC\n",
        "CCDC significa Detección y Clasificación de Cambios Continuos. CCDC tiene una definición fundamentalmente diferente de lo que es \"cambio\" de LandTrendr. LandTrendr define el cambio como un cambio en la dirección lineal de la serie temporal como se muestra con un modelo de regresión lineal, mientras que CCDC define el cambio como un cambio en la estacionalidad (fenología) como se muestra usando una regresión armónica (regresión lineal sobre muchas formas de onda diferentes).\n",
        "\n",
        "Como resultado, en general, la descripción del cambio que hace LandTrendr se alinea con muchos tipos de cambios relacionados con los bosques, como incendios, insectos y enfermedades, etc. Si bien estos tipos de cambios a menudo cambian la dirección de la trayectoria abruptamente, no siempre cambian la estacionalidad. patrones de manera abrupta.\n",
        "\n",
        "CCDC puede detectar mejor cambios que afectan la fenología y que LandTrendr puede pasar por alto. Esto puede resultar útil en aplicaciones urbanas, agrícolas y de pastizales.\n",
        "\n",
        "#### Más información sobre CCDC:\n",
        "- [Zhu and Woodock 2014: Original CCDC Publication](https://www.sciencedirect.com/science/article/abs/pii/S0034425714000248)\n",
        "- [GEE CCDC Documentation](https://developers.google.com/earth-engine/apidocs/ee-algorithms-temporalsegmentation-ccdc)\n",
        "- [Arevalo et al. 2020: A Suite of Tools for Continuous Land Change Monitoring in Google Earth Engine](https://www.frontiersin.org/articles/10.3389/fclim.2020.576740/full)\n",
        "- [Cloud-Based Remote Sensing with Google Earth Engine](https://www.eefabook.org/) Chapter 4.6: [Interpreting Time Series with CCDC](https://docs.google.com/document/d/11oo1TuvXyEvReoYLDeTcoh16rEN90I8Bf5qp0KxVu7U/edit#heading=h.s893qtc8bydw)\n",
        "\n",
        "**Este cuaderno utiliza compuestos Landsat y Sentinel-2, como los que creó en el cuaderno anterior, como entradas para la operación de suavizado espectral de LandTrendr..**\n",
        "\n",
        "### 3.0.1: Objetivos\n",
        "\n",
        "En este tutorial, aprenderá cómo crear y manipular resultados de LandTrendr.\n",
        "\n",
        "**Este tutorial utiliza los siguientes servicios de Google Cloud:**\n",
        "\n",
        "- Google Earth Engine\n",
        "\n",
        "**Los pasos realizados incluyen:**\n",
        "\n",
        "- Crear resultados de LandTrendr\n",
        "- Manipule objetos de imagen de matriz EE para obtener datos significativos de las salidas de LandTrendr para la detección y clasificación de cambios.\n",
        "- Crear una cuadrícula de malla de mosaicos sobre un área de estudio\n",
        "- Cree salidas CCDC sobre la cuadrícula de malla\n",
        "- Manipule objetos de imagen de matriz EE para obtener datos significativos de las salidas CCDC para la detección y clasificación de cambios.\n",
        "\n",
        "**Los objetivos de aprendizaje incluyen:**\n",
        "- Los usuarios comprenderán el propósito de la segmentación temporal implementada en LandTrendr..\n",
        "- Los usuarios comprenderán los parámetros clave del algoritmo LandTrendr.\n",
        "- Los usuarios podrán generar y manipular resultados de matriz desde LandTrendr..\n",
        "- Los usuarios comprenderán el propósito de la segmentación temporal tal como se implementa en CCDC.\n",
        "- Los usuarios comprenderán los parámetros clave del algoritmo CCDC.\n",
        "- Los usuarios podrán generar y manipular salidas de matriz desde CCDC.\n"
      ]
    },
    {
      "cell_type": "markdown",
      "id": "3604c17e",
      "metadata": {
        "id": "3604c17e"
      },
      "source": [
        "### 3.0.2: Antes de que empieces\n",
        "\n",
        "#### Si está trabajando en Workbench: establezca su URL actual en `workbench_url`\n",
        "Esto le da al Visor de mapas una URL en la que alojar el visor que generaremos.\n",
        "* Esto estará en su URL/barra de búsqueda en la parte superior de la ventana del navegador en la que se encuentra actualmente\n",
        "* Se verá algo así como `https://1234567890122-dot-us-west3.notebooks.googleusercontent.com/` (Vea la imagen a continuación)\n",
        "\n",
        "![workspace url](https://github.com/redcastle-resources/lcms-training/blob/main/img/workspace-url.png?raw=1)\n",
        "\n",
        "#### Opcional: establezca una carpeta para usar en todas las exportaciones en `export_path_root`\n",
        "**Si accedió a esta práctica de laboratorio a través de Google Qwiklabs, no cambie `export_path_root`.**\n",
        "* Esta carpeta debe ser una carpeta de activos en un proyecto GEE existente.\n",
        "* De forma predeterminada, esta carpeta es la misma que la 'carpeta predefinida': un directorio donde las salidas ya se han creado.\n",
        "* Si desea crear sus propios resultados, especifique una ruta diferente para `export_path_root`, pero deja el `pre_baked_path_root` como era. De esta manera, las salidas precocidas se pueden mostrar al final, en lugar de esperar a que terminen todas las exportaciones.\n",
        "* será algo así como `projects/projectID/assets/someFolder`\n",
        "* No es necesario que esta carpeta ya exista. Si no existe, se creará"
      ]
    },
    {
      "cell_type": "code",
      "execution_count": 1,
      "id": "f53acc26",
      "metadata": {
        "id": "f53acc26",
        "outputId": "877e07d7-bbc9-43ed-e54c-55d7d04ccca2"
      },
      "outputs": [
        {
          "name": "stdout",
          "output_type": "stream",
          "text": [
            "Done\n"
          ]
        }
      ],
      "source": [
        "workbench_url = 'https://1307eb830a12e633-dot-us-central1.notebooks.googleusercontent.com/lab/tree/lcms-training/3-LandTrendr_and_CCDC.ipynb'\n",
        "pre_baked_path_root  = 'projects/ee-jheyer2325/assets'\n",
        "export_path_root = pre_baked_path_root\n",
        "print('Hecho')"
      ]
    },
    {
      "cell_type": "markdown",
      "id": "816ff294",
      "metadata": {
        "id": "816ff294"
      },
      "source": [
        "#### Instalación\n",
        "Primero, instale los paquetes de Python necesarios. Descomente la primera línea para actualizar geeViz si es necesario.\n",
        "\n",
        "Tenga en cuenta que para este módulo, también estamos importando el `geeViz.changeDetectionLib as changeDetectionLib`. Usaremos esta biblioteca más adelante para implementar las funciones de LandTrendr."
      ]
    },
    {
      "cell_type": "code",
      "execution_count": 2,
      "id": "9c90207e",
      "metadata": {
        "id": "9c90207e",
        "outputId": "6354d7c6-5dc6-4363-c6c5-f411cf7762f3"
      },
      "outputs": [
        {
          "name": "stdout",
          "output_type": "stream",
          "text": [
            "Initializing GEE\n"
          ]
        },
        {
          "name": "stderr",
          "output_type": "stream",
          "text": [
            "*** Earth Engine *** Share your feedback by taking our Annual Developer Satisfaction Survey: https://google.qualtrics.com/jfe/form/SV_doiqkQG3NJ1t8IS?source=API\n"
          ]
        },
        {
          "name": "stdout",
          "output_type": "stream",
          "text": [
            "Successfully initialized\n",
            "geeViz package folder: c:\\Users\\joshuaheyer\\AppData\\Local\\Programs\\Python\\Python311\\Lib\\site-packages\\geeViz\n",
            "PyTables is not installed. No support for HDF output.\n",
            "SQLalchemy is not installed. No support for SQL output.\n",
            "Done\n"
          ]
        }
      ],
      "source": [
        "# Importaciones de módulos\n",
        "#!python -m pip install geeViz --upgrade\n",
        "try:\n",
        "    import geeViz.getImagesLib as getImagesLib\n",
        "except:\n",
        "    !python -m pip install geeViz\n",
        "    import geeViz.getImagesLib as getImagesLib\n",
        "\n",
        "import geeViz.changeDetectionLib as changeDetectionLib\n",
        "import geeViz.assetManagerLib as aml\n",
        "import geeViz.taskManagerLib as tml\n",
        "import geeViz.gee2Pandas as g2p\n",
        "\n",
        "import inspect,os\n",
        "\n",
        "ee = getImagesLib.ee\n",
        "Map = getImagesLib.Map\n",
        "\n",
        "print('Hecho')"
      ]
    },
    {
      "cell_type": "markdown",
      "id": "a45d5134",
      "metadata": {
        "id": "a45d5134",
        "tags": []
      },
      "source": [
        "#### Configura tu entorno de trabajo\n",
        "\n",
        "Especifique una ruta de colección de imágenes a la que se exportaron los compuestos. Además, cree una colección de imágenes en blanco donde se exportarán sus resultados de LandTrendr.\n",
        "\n",
        "Actualmente, cuando se ejecuta en Colab o Workbench, geeView utiliza un proyecto diferente para autenticarse, por lo que es posible que deba hacer público su recurso para verlo desde Colab.\n",
        "\n",
        "**Atención!!**\n",
        "\n",
        "* **Se proporciona acceso de solo lectura a todos los usuarios de GEE autenticados para los resultados precocidos**\n",
        "* **Si está utilizando la ubicación de salida precocida (`export_path_root = pre_baked_path_root`), Verá errores para cualquier operación que intente escribir, eliminar o cambiar los permisos de acceso a cualquier recurso en la ubicación de salida predefinida.**\n",
        "* **Esto es lo esperado y no le impedirá ejecutar correctamente este cuaderno. Ignore estos mensajes de error si aparecen.**\n"
      ]
    },
    {
      "cell_type": "code",
      "execution_count": 3,
      "id": "b52a4f00",
      "metadata": {
        "id": "b52a4f00",
        "outputId": "fbaa8307-30f7-4628-fa2b-e90cdb95bf35"
      },
      "outputs": [
        {
          "name": "stdout",
          "output_type": "stream",
          "text": [
            "Asset projects/ee-jheyer2325/assets/lcms-training_module-3_landTrendr already exists\n",
            "Asset projects/ee-jheyer2325/assets/lcms-training_module-3_CCDC already exists\n",
            "Updating permissions for:  projects/ee-jheyer2325/assets/lcms-training_module-3_landTrendr\n",
            "Done\n"
          ]
        }
      ],
      "source": [
        "# Crear carpeta y una colección y hacerla pública\n",
        "\n",
        "export_composite_collection = f'{export_path_root}/lcms-training_module-2_composites'\n",
        "export_landTrendr_collection = f'{export_path_root}/lcms-training_module-3_landTrendr'\n",
        "export_ccdc_collection = f'{export_path_root}/lcms-training_module-3_CCDC'\n",
        "\n",
        "aml.create_asset(export_landTrendr_collection,asset_type = ee.data.ASSET_TYPE_IMAGE_COLL)\n",
        "aml.create_asset(export_ccdc_collection,asset_type = ee.data.ASSET_TYPE_IMAGE_COLL)\n",
        "\n",
        "# Actualmente, geeView dentro de Colab utiliza un proyecto diferente para autenticarse, por lo que es posible que deba hacer público su activo para verlo desde Colab\n",
        "aml.updateACL(export_landTrendr_collection,writers = [],all_users_can_read = True,readers = [])\n",
        "\n",
        "print('Hecho')"
      ]
    },
    {
      "cell_type": "markdown",
      "id": "459f3db0",
      "metadata": {
        "id": "459f3db0"
      },
      "source": [
        "#### Configurar el mapa\n",
        "\n",
        "Ejecute el bloque de código a continuación para configurar el mapa. Si observa que el mapa todavía muestra los resultados de una práctica de laboratorio anterior, es posible que deba volver a ejecutar este bloque de código para restablecer el puerto utilizado para la URL del proxy."
      ]
    },
    {
      "cell_type": "code",
      "execution_count": 4,
      "id": "29bbc5c1",
      "metadata": {
        "id": "29bbc5c1"
      },
      "outputs": [],
      "source": [
        "# Configurar el mapa\n",
        "\n",
        "Map.clearMap()\n",
        "Map.port = 1233 # restablecer el puerto si es necesario\n",
        "Map.proxy_url = workbench_url"
      ]
    },
    {
      "cell_type": "markdown",
      "id": "ae923bf5",
      "metadata": {
        "id": "ae923bf5"
      },
      "source": [
        "## 3.2: Detección de cambios con LandTrendr\n",
        "\n",
        "LandTrendr es un algoritmo de segmentación temporal. LandTrendr funciona tomando una serie de tiempo de valores anuales y ajustando múltiples modelos de regresión lineal para dividir recursivamente la serie de tiempo en segmentos que representan períodos de tiempo con tendencias lineales similares. Los segmentos resultantes se pueden utilizar para describir procesos de cambio en el paisaje.\n",
        "\n",
        "![landtrendr1](https://emapr.github.io/LT-GEE/imgs/segmentation.png)\n",
        "\n",
        "Al tener la duración, magnitud, pendiente, etc. de cada segmento, puede detectar cambios más fácilmente con conjuntos de reglas simples..\n",
        "\n",
        "![landtrendr2](https://emapr.github.io/LT-GEE/imgs/segment_attributes.png)\n",
        "\n",
        "Por ejemplo, una caída breve y pronunciada probablemente se convierta en un cambio rápido, como una cosecha o un incendio. Es probable que una disminución prolongada y superficial sea un cambio más lento, debido a insectos, enfermedades o sequía. LandTrendr también puede rastrear períodos de recuperación, como una pendiente larga y poco profunda después de una cosecha o un incendio.\n",
        "\n",
        "**Para obtener más información sobre LandTrendr, lea [Chapter 4.5: Interpreting Annual Time Series with LandTrendr](https://docs.google.com/document/d/11oo1TuvXyEvReoYLDeTcoh16rEN90I8Bf5qp0KxVu7U/edit#heading=h.a480u2bjy8ur) en el [Cloud-Based Remote Sensing with Google Earth Engine ebook](https://www.eefabook.org/).**\n"
      ]
    },
    {
      "cell_type": "markdown",
      "id": "76152040",
      "metadata": {
        "id": "76152040"
      },
      "source": [
        "### 3.2.1: Bandas y parámetros de LandTrendr\n",
        "\n",
        "Mire las bandas incluidas en la colección **actual** que LCMS usa para LandTrendr en Puerto Rico. Tenga en cuenta que la ruta al activo hace referencia al proyecto LCMS Google Cloud. Cargue la colección de imágenes e imprima los nombres de las bandas."
      ]
    },
    {
      "cell_type": "code",
      "execution_count": 5,
      "id": "8d05d98a",
      "metadata": {
        "colab": {
          "base_uri": "https://localhost:8080/"
        },
        "id": "8d05d98a",
        "outputId": "5bb7abe2-577e-4be4-8849-9e79cdf5ff94"
      },
      "outputs": [
        {
          "name": "stdout",
          "output_type": "stream",
          "text": [
            "All bands LCMS uses for LandTrendr: ['NBR', 'NDMI', 'NDSI', 'NDVI', 'blue', 'brightness', 'green', 'greenness', 'nir', 'red', 'swir1', 'swir2', 'tcAngleBG', 'wetness']\n"
          ]
        }
      ],
      "source": [
        "lcms_actual_lt_collection = ee.ImageCollection('projects/lcms-292214/assets/R8/PR_USVI/Base-Learners/LandTrendr-Collection-1984-2020')\n",
        "print('Todas las bandas que LCMS utiliza para LandTrendr:',lcms_actual_lt_collection.aggregate_histogram('band').keys().getInfo())"
      ]
    },
    {
      "cell_type": "markdown",
      "id": "54cc90af",
      "metadata": {
        "id": "54cc90af"
      },
      "source": [
        "#### Compuestos\n",
        "Para este laboratorio, usted\n",
        "    a) cargue los compuestos que se calcularon en la práctica de laboratorio anterior para\n",
        "    b) calcular los resultados de LandTrendr ajustados que indican el momento, la duración y la magnitud del cambio, entre otros resultados.\n",
        "\n",
        "Ejecute el bloque de código a continuación. Este bloque de código:\n",
        "* Inspecciona los compuestos que estás trayendo\n",
        "* Obtenga parámetros de los compuestos que utilizará como entradas para el algoritmo LandTrendr\n",
        "* Calcular índices adicionales que utilizará en LandTrendr"
      ]
    },
    {
      "cell_type": "code",
      "execution_count": 6,
      "id": "d2beffa9",
      "metadata": {
        "colab": {
          "base_uri": "https://localhost:8080/"
        },
        "id": "d2beffa9",
        "outputId": "5bb7abe2-577e-4be4-8849-9e79cdf5ff94"
      },
      "outputs": [
        {
          "name": "stdout",
          "output_type": "stream",
          "text": [
            "Done\n"
          ]
        }
      ],
      "source": [
        "# Trae compuestos y extrae información de ellos\n",
        "composites = ee.ImageCollection(export_composite_collection)\n",
        "\n",
        "props = composites.first().toDictionary().getInfo()\n",
        "\n",
        "startYear = props['startYear']\n",
        "endYear = props['endYear']\n",
        "\n",
        "startJulian = props['startJulian']\n",
        "endJulian = props['endJulian']\n",
        "\n",
        "proj = composites.first().projection().getInfo()\n",
        "\n",
        "# Saca los crs\n",
        "# Dependiendo de si se utiliza un formato wkt o epsg, se almacenará con una clave diferente\n",
        "if 'crs' not in proj.keys():\n",
        "    crs = proj['wkt']\n",
        "else:\n",
        "    crs = proj['crs']\n",
        "\n",
        "transform = proj['transform']\n",
        "scale = None\n",
        "\n",
        "studyArea = composites.first().geometry()\n",
        "\n",
        "# Descomprima compuestos dividiéndolos por 10000 para bandas ópticas y agregue índices\n",
        "composites = composites.select(['blue','green','red','nir','swir1','swir2']).map(lambda img: img.divide(10000).float().copyProperties(img,['system:time_start']))\n",
        "composites = composites.map(getImagesLib.simpleAddIndices)\\\n",
        "                      .map(getImagesLib.getTasseledCap)\\\n",
        "                      .map(getImagesLib.simpleAddTCAngles)\n",
        "\n",
        "\n",
        "print('Hecho')"
      ]
    },
    {
      "cell_type": "markdown",
      "id": "d4ed422a",
      "metadata": {
        "id": "d4ed422a"
      },
      "source": [
        "#### Inspeccionar\n",
        "Ahora, inspecciona los compuestos. Ejecute el bloque de código siguiente para agregar los compuestos al mapa. Es posible que deba hacer clic en el botón junto a \"Compuestos\" para ver las capas en el mapa. Haga doble clic en el mapa para consultar las salidas. Deberías ver una serie temporal de valores para cada uno de los índices."
      ]
    },
    {
      "cell_type": "code",
      "execution_count": 7,
      "id": "b4400155",
      "metadata": {
        "colab": {
          "base_uri": "https://localhost:8080/",
          "height": 685
        },
        "id": "b4400155",
        "outputId": "437170bc-1a74-4b57-9b51-956076d48b29"
      },
      "outputs": [
        {
          "name": "stdout",
          "output_type": "stream",
          "text": [
            "Adding layer: Composites\n",
            "Starting webmap\n",
            "Using default refresh token for geeView: C:\\Users\\joshuaheyer/.config/earthengine/credentials\n",
            "Starting local web server at: http://localhost:1233/geeView/\n",
            "HTTP server command: \"c:\\Users\\joshuaheyer\\AppData\\Local\\Programs\\Python\\Python311\\python.exe\" -m http.server  1233\n",
            "Done\n",
            "cwd c:\\Users\\joshuaheyer\\Scripts\\CONAFOR\n"
          ]
        },
        {
          "data": {
            "text/html": [
              "\n",
              "        <iframe\n",
              "            width=\"100%\"\n",
              "            height=\"525px\"\n",
              "            src=\"http://localhost:1233/geeView/?accessToken=ya29.a0AfB_byDdMYEcjQdlEKFNxdQ5JCWhDmp5GrP_9Cb_892aw-Z5azhpRA8R_HW_g4OzvYwwL0nE-5AxuxwRJs06YNI4oUMHOeiM-TKtApQQp-IMc1DQN3xd_mrEDc8XeEM85XPAeW7VKcYcY8lDn1uv4d_8TUS1vLjj1XMqFLcIjuwaCgYKAbYSARESFQHGX2Mih-8QY4HCBGAHrNl24b1a5g0178\"\n",
              "            frameborder=\"0\"\n",
              "            allowfullscreen\n",
              "            \n",
              "        ></iframe>\n",
              "        "
            ],
            "text/plain": [
              "<IPython.lib.display.IFrame at 0x1895597b790>"
            ]
          },
          "metadata": {},
          "output_type": "display_data"
        }
      ],
      "source": [
        "# Ejecutar mapa\n",
        "Map.clearMap()\n",
        "Map.addTimeLapse(composites,getImagesLib.vizParamsFalse,'Composites')\n",
        "\n",
        "Map.centerObject(studyArea,9)\n",
        "Map.turnOnInspector()\n",
        "Map.view()"
      ]
    },
    {
      "cell_type": "markdown",
      "id": "fbfc2ed7",
      "metadata": {
        "id": "fbfc2ed7",
        "tags": []
      },
      "source": [
        "### 3.2.3: Bandas de entrada e índices de bandas\n",
        "\n",
        "Podemos usar cualquiera o todas las bandas en los compuestos para LandTrendr, pero generalmente las bandas o índices de bandas que usan las porciones NIR y SWIR del espectro electromagnético (sensibles a la humedad y la clorofila fotosintética) son las más útiles. Para comenzar, ejecutaremos LandTrendr solo en el índice de banda: NBR.\n",
        "\n",
        "#### LandTrendr parámetros\n",
        "Los parámetros de entrada para el algoritmo LandTrendr se describen a continuación.\n",
        "\n",
        "|Argumento               |Tipo                    | Detalles                                                                                                                                                       |\n",
        "|------------------------|-------------------------|-------------------------------------------------------------------------------------------------------------------------------------------------------------------|\n",
        "| timeSeries             | ImageCollection         | Series temporales anuales de las que extraer puntos de interrupción. La primera banda se utiliza para encontrar puntos de interrupción y todas las bandas posteriores se ajustan utilizando esos puntos de interrupción.     |\n",
        "| maxSegments            | Integer                 | Número máximo de segmentos que se ajustarán en la serie temporal.                                                                                                       |\n",
        "| spikeThreshold         | Float, default: 0.9     | Umbral para humedecer los picos (1,0 significa sin humedecimiento).                                                                                                      |\n",
        "| vertexCountOvershoot   | Integer, default: 3     | TEl modelo inicial puede sobrepasar los maxSegments + 1 vértices en esta cantidad. Más tarde, se reducirá a maxSegments + 1.                                    |\n",
        "| preventOneYearRecovery | Boolean, default: False | Prevenir segmentos que representan recuperaciones de un año.                                                                                                              |\n",
        "| recoveryThreshold      | Float, default: 0.25    | Si un segmento tiene una tasa de recuperación superior a 1/umbral de recuperación (en años), entonces el segmento no está permitido.                                                      |\n",
        "| pvalThreshold          | Float, default: 0.1     | Si el valor p del modelo ajustado excede este umbral, entonces el modelo actual se descarta y se ajusta otro usando el optimizador de Levenberg-Marquardt. |\n",
        "| bestModelProportion    | Float, default: 0.75    | Permite elegir modelos con más vértices si su valor p no es mayor que (2 - bestModelProportion) veces el valor p del mejor modelo.                     |\n",
        "| minObservationsNeeded  | Integer, default: 6     | Observaciones mínimas necesarias para realizar el ajuste de salida.                                                                                                                |\n",
        "\n",
        "##### Valores paramétricos\n",
        "LCMS generalmente utiliza los parámetros predeterminados para la implementación GEE de LandTrendr. Consulte los valores de los parámetros en la columna **GEE** a continuación. La siguiente tabla es una reproducción de [Kennedy et al. 2018](https://www.mdpi.com/2072-4292/10/5/691), que desarrolló la implementación GEE de LandTrendr a partir de la versión IDL original.\n",
        "\n",
        "|       Parámetro       |  IDL |   GEE   |                                                                                                        Comments                                                                                                       |\n",
        "|:---------------------:|:----:|:-------:|:---------------------------------------------------------------------------------------------------------------------------------------------------------------------------------------------------------------------:|\n",
        "|      maxSegments      |   6  |    6    |                                                                                                                                                                                                                       |\n",
        "|     spikeThreshold    |  0.9 |   0.9   | Renombrado de “desawtooth val”                                                                                                                                                                                         |\n",
        "|  vertexCountOvershoot |   3  |    3    |                                                                                                                                                                                                                       |\n",
        "|   recoveryThreshold   | 0.25 |   0.25  |                                                                                                                                                                                                                       |\n",
        "|     pvalThreshold     | 0.05 |   0.05  |                                                                                                                                                                                                                       |\n",
        "|  bestModelProportion  | 0.75 |   0.75  |                                                                                                                                                                                                                       |\n",
        "| minObservationsNeeded |   6  |    6    | Renombrado de “minneeded”                                                                                                                                                                                              |\n",
        "|     Background_val    |   0  |    NA   | GEE utiliza una lógica de máscara para evitar valores perdidos causados ​​por nubes, sombras e imágenes faltantes.                                                                                                                         |\n",
        "|        Divisor        |  −1  |    NA   | EGarantiza que la alteración de la pérdida de vegetación produzca un cambio negativo en el valor cuando se utiliza NBR como métrica espectral. En GEE, esto debe manejarse fuera del algoritmo de segmentación.                               |\n",
        "|       Kernelsize      |   1  | Caído | Originalmente utilizado junto con skipfactor para ahorrar carga computacional; ya no es necesario.                                                                                                                           |\n",
        "|       Skipfactor      |   1  | Caído |                                                                                                                                                                                                                       |\n",
        "|    Distweightfactor   |   2  | Caído | Inadvertidamente cableado en el código IDL, este parámetro estaba cableado en el código GEE al valor de 2.                                                                                                              |\n",
        "|     Fix_doy_effect    |   1  | Caído | Aunque la corrección de las tendencias del día del año se consideró teóricamente útil en la implementación original de LT, en la práctica se ha descubierto que distorsiona los valores de las series temporales cuando se producen cambios y, por lo tanto, se eliminó. |"
      ]
    },
    {
      "cell_type": "markdown",
      "id": "0b6b2acc",
      "metadata": {
        "id": "0b6b2acc",
        "tags": []
      },
      "source": [
        "**Ejecute el bloque de código a continuación para configurar los parámetros.**"
      ]
    },
    {
      "cell_type": "code",
      "execution_count": null,
      "metadata": {},
      "outputs": [],
      "source": []
    },
    {
      "cell_type": "code",
      "execution_count": 8,
      "id": "942342f3",
      "metadata": {
        "colab": {
          "base_uri": "https://localhost:8080/"
        },
        "id": "942342f3",
        "outputId": "5bb7abe2-577e-4be4-8849-9e79cdf5ff94"
      },
      "outputs": [
        {
          "name": "stdout",
          "output_type": "stream",
          "text": [
            "Done\n"
          ]
        }
      ],
      "source": [
        "#Definir los parámetros de landtrendr\n",
        "run_params = {\n",
        "  'maxSegments':            6,\n",
        "  'spikeThreshold':         0.9,\n",
        "  'vertexCountOvershoot':   3,\n",
        "  'preventOneYearRecovery': False,\n",
        "  'recoveryThreshold':      0.25,\n",
        "  'pvalThreshold':          0.05,\n",
        "  'bestModelProportion':    0.75,\n",
        "  'minObservationsNeeded':  6\n",
        "}\n",
        "\n",
        "print('Hecho')"
      ]
    },
    {
      "cell_type": "markdown",
      "id": "36eef76c",
      "metadata": {
        "id": "36eef76c"
      },
      "source": [
        "### 3.2.4: Ejecute LandTrendr - índice único\n",
        "Comenzará ejecutando LandTrendr en un único índice para familiarizarse con el proceso y los resultados.\n",
        "\n",
        "Ejecutará LandTrendr usando [Normalized Burn Ratio](https://www.usgs.gov/landsat-missions/landsat-normalized-burn-ratio) (NBR).  NBR es una relación normalizada entre las bandas NIR y SWIR y es sensible a cambios en la humedad y la cubierta vegetal. Esto le permitirá inspeccionar cambios en el paisaje sin requerir el tiempo de cálculo necesario para todas las bandas e índices de bandas en nuestro compuesto.\n",
        "\n"
      ]
    },
    {
      "cell_type": "code",
      "execution_count": 9,
      "id": "a5e31a92",
      "metadata": {
        "id": "a5e31a92",
        "outputId": "5c0ae3d6-2117-4942-c0c2-d84ce0dbe7a5"
      },
      "outputs": [
        {
          "name": "stdout",
          "output_type": "stream",
          "text": [
            "Adding layer: LT Raw NBR\n",
            "Starting webmap\n",
            "Using default refresh token for geeView: C:\\Users\\joshuaheyer/.config/earthengine/credentials\n",
            "Local web server at: http://localhost:1233/geeView/ already serving.\n",
            "cwd c:\\Users\\joshuaheyer\\Scripts\\CONAFOR\n"
          ]
        },
        {
          "data": {
            "text/html": [
              "\n",
              "        <iframe\n",
              "            width=\"100%\"\n",
              "            height=\"525px\"\n",
              "            src=\"http://localhost:1233/geeView/?accessToken=ya29.a0AfB_byA_Y0MykKRoMeaaJfcka3BL8ePJjIRl_rs3T9pX-I1-XXi8bvDlSrMgFqK-vrjn9ECQoei-jms8nWyejx3haKeBnGIX610clWeinZNjqFsyh2UUaIjK_w0PVZvzSNrqY1qtkS4xFVCiOYXsARXqBIqJtcmp-_a5e_XwwoMaCgYKAYoSARESFQHGX2MikCKVGWLJsVnsEJUzhPUaEQ0178\"\n",
              "            frameborder=\"0\"\n",
              "            allowfullscreen\n",
              "            \n",
              "        ></iframe>\n",
              "        "
            ],
            "text/plain": [
              "<IPython.lib.display.IFrame at 0x1895721c950>"
            ]
          },
          "metadata": {},
          "output_type": "display_data"
        }
      ],
      "source": [
        "# Limpiar el mapa\n",
        "Map.clearMap()\n",
        "\n",
        "# Configurar LandTrendr\n",
        "test_band = 'NBR'\n",
        "run_params['timeSeries'] = composites.select([test_band])\n",
        "raw_LT = ee.Algorithms.TemporalSegmentation.LandTrendr(**run_params)\n",
        "\n",
        "# Añadir al mapa\n",
        "Map.addLayer(raw_LT,{},'LT Raw {}'.format(test_band),True)\n",
        "\n",
        "Map.turnOnInspector()\n",
        "Map.view()"
      ]
    },
    {
      "cell_type": "markdown",
      "id": "c4d8b340",
      "metadata": {
        "id": "c4d8b340"
      },
      "source": [
        "Haga doble clic en la salida en el mapa para consultarla..\n",
        "\n",
        "Tenga en cuenta que este resultado no es útil de inmediato para la detección de cambios o para suavizar una serie temporal de compuestos. La salida predeterminada está en formato de matriz y debe procesarse más para que podamos aplicar una simbología significativa en el mapa.\n"
      ]
    },
    {
      "cell_type": "markdown",
      "id": "ffe8767d",
      "metadata": {
        "id": "ffe8767d"
      },
      "source": [
        "#### Utilice LandTrendr para la detección de cambios\n",
        "Usando los resultados que acaba de generar, ahora seguirá cada paso para tomar el resultado sin procesar de LandTrendr y crear un resultado básico de detección de cambios.\n",
        "\n",
        "En cada paso, verá los resultados en un solo píxel para inspeccionar los cambios en la matriz de salidas que está manipulando.\n",
        "\n",
        "#### Inspeccionar resultados sin procesar de LandTrendr\n",
        "\n",
        "Ejecute el siguiente bloque de código para inspeccionar las salidas sin procesar de LandTrendr."
      ]
    },
    {
      "cell_type": "code",
      "execution_count": 10,
      "id": "f97b26db",
      "metadata": {
        "id": "f97b26db",
        "outputId": "b47c85de-4cfe-4586-aa7b-bc2127f145fd"
      },
      "outputs": [
        {
          "name": "stderr",
          "output_type": "stream",
          "text": [
            "Matplotlib is building the font cache; this may take a moment.\n"
          ]
        },
        {
          "data": {
            "text/html": [
              "<style type=\"text/css\">\n",
              "#T_77261 caption {\n",
              "  text-align: left;\n",
              "  font-size: 150%;\n",
              "  font-weight: bold;\n",
              "}\n",
              "</style>\n",
              "<table id=\"T_77261\">\n",
              "  <caption>Raw LandTrendr Output - Single Pixel</caption>\n",
              "  <thead>\n",
              "    <tr>\n",
              "      <th class=\"blank level0\" >&nbsp;</th>\n",
              "      <th id=\"T_77261_level0_col0\" class=\"col_heading level0 col0\" >0</th>\n",
              "      <th id=\"T_77261_level0_col1\" class=\"col_heading level0 col1\" >1</th>\n",
              "      <th id=\"T_77261_level0_col2\" class=\"col_heading level0 col2\" >2</th>\n",
              "      <th id=\"T_77261_level0_col3\" class=\"col_heading level0 col3\" >3</th>\n",
              "      <th id=\"T_77261_level0_col4\" class=\"col_heading level0 col4\" >4</th>\n",
              "      <th id=\"T_77261_level0_col5\" class=\"col_heading level0 col5\" >5</th>\n",
              "      <th id=\"T_77261_level0_col6\" class=\"col_heading level0 col6\" >6</th>\n",
              "    </tr>\n",
              "  </thead>\n",
              "  <tbody>\n",
              "    <tr>\n",
              "      <th id=\"T_77261_level0_row0\" class=\"row_heading level0 row0\" >Years</th>\n",
              "      <td id=\"T_77261_row0_col0\" class=\"data row0 col0\" >1985.000000</td>\n",
              "      <td id=\"T_77261_row0_col1\" class=\"data row0 col1\" >1987.000000</td>\n",
              "      <td id=\"T_77261_row0_col2\" class=\"data row0 col2\" >1989.000000</td>\n",
              "      <td id=\"T_77261_row0_col3\" class=\"data row0 col3\" >1992.000000</td>\n",
              "      <td id=\"T_77261_row0_col4\" class=\"data row0 col4\" >1993.000000</td>\n",
              "      <td id=\"T_77261_row0_col5\" class=\"data row0 col5\" >1994.000000</td>\n",
              "      <td id=\"T_77261_row0_col6\" class=\"data row0 col6\" >1995.000000</td>\n",
              "    </tr>\n",
              "    <tr>\n",
              "      <th id=\"T_77261_level0_row1\" class=\"row_heading level0 row1\" >Raw Input Values</th>\n",
              "      <td id=\"T_77261_row1_col0\" class=\"data row1 col0\" >0.411179</td>\n",
              "      <td id=\"T_77261_row1_col1\" class=\"data row1 col1\" >0.410844</td>\n",
              "      <td id=\"T_77261_row1_col2\" class=\"data row1 col2\" >0.435623</td>\n",
              "      <td id=\"T_77261_row1_col3\" class=\"data row1 col3\" >0.530902</td>\n",
              "      <td id=\"T_77261_row1_col4\" class=\"data row1 col4\" >0.554928</td>\n",
              "      <td id=\"T_77261_row1_col5\" class=\"data row1 col5\" >0.514331</td>\n",
              "      <td id=\"T_77261_row1_col6\" class=\"data row1 col6\" >-0.023077</td>\n",
              "    </tr>\n",
              "    <tr>\n",
              "      <th id=\"T_77261_level0_row2\" class=\"row_heading level0 row2\" >Fitted Output Values</th>\n",
              "      <td id=\"T_77261_row2_col0\" class=\"data row2 col0\" >0.404961</td>\n",
              "      <td id=\"T_77261_row2_col1\" class=\"data row2 col1\" >0.404961</td>\n",
              "      <td id=\"T_77261_row2_col2\" class=\"data row2 col2\" >0.404961</td>\n",
              "      <td id=\"T_77261_row2_col3\" class=\"data row2 col3\" >0.404961</td>\n",
              "      <td id=\"T_77261_row2_col4\" class=\"data row2 col4\" >0.404961</td>\n",
              "      <td id=\"T_77261_row2_col5\" class=\"data row2 col5\" >0.404961</td>\n",
              "      <td id=\"T_77261_row2_col6\" class=\"data row2 col6\" >0.404961</td>\n",
              "    </tr>\n",
              "    <tr>\n",
              "      <th id=\"T_77261_level0_row3\" class=\"row_heading level0 row3\" >Vertex/non-vertex</th>\n",
              "      <td id=\"T_77261_row3_col0\" class=\"data row3 col0\" >1.000000</td>\n",
              "      <td id=\"T_77261_row3_col1\" class=\"data row3 col1\" >0.000000</td>\n",
              "      <td id=\"T_77261_row3_col2\" class=\"data row3 col2\" >0.000000</td>\n",
              "      <td id=\"T_77261_row3_col3\" class=\"data row3 col3\" >0.000000</td>\n",
              "      <td id=\"T_77261_row3_col4\" class=\"data row3 col4\" >0.000000</td>\n",
              "      <td id=\"T_77261_row3_col5\" class=\"data row3 col5\" >0.000000</td>\n",
              "      <td id=\"T_77261_row3_col6\" class=\"data row3 col6\" >1.000000</td>\n",
              "    </tr>\n",
              "  </tbody>\n",
              "</table>\n"
            ],
            "text/plain": [
              "<pandas.io.formats.style.Styler at 0x189554e04d0>"
            ]
          },
          "metadata": {},
          "output_type": "display_data"
        }
      ],
      "source": [
        "# Proporcione una ubicación de ejemplo\n",
        "pt = ee.Geometry.Point([-93.63546,17.78971])\n",
        "\n",
        "# Primero, seleccione la banda de salida de la matriz de imágenes LandTrendr\n",
        "lt_array = raw_LT.select(['LandTrendr'])\n",
        "\n",
        "# Salida de pantalla\n",
        "display(g2p.imageArrayPixelToDataFrame(lt_array, pt,None,crs,transform, 'Raw LandTrendr Output - Single Pixel',\\\n",
        "                                       ['Years','Raw Input Values','Fitted Output Values','Vertex/non-vertex']))"
      ]
    },
    {
      "cell_type": "markdown",
      "id": "7fb52fee",
      "metadata": {
        "id": "7fb52fee"
      },
      "source": [
        "Este es el resultado bruto del algoritmo LandTrendr. La matriz tiene 2 dimensiones por píxel.\n",
        "\n",
        "Las filas corresponden a:\n",
        "- Años\n",
        "- Valores espectrales de entrada sin procesar\n",
        "- Valores de salida ajustados de LandTrendr\n",
        "- Si ese año representa o no un vértice\n",
        "\n",
        "A partir de este resultado, puede comenzar a comprender el formato de los resultados, por qué no son interpretables inmediatamente en un mapa y cómo podría comenzar a manipularlos en formatos más significativos..\n",
        "\n",
        "## 3.3: Procese las salidas de LandTrendr y ejecútelas en todas las bandas\n",
        "\n",
        "### 3.3.1: Manipulación de matrices: extraer los vértices\n",
        "\n",
        "El primer paso es extraer los vértices de la matriz. Solo necesitamos los vértices de un píxel para realizar un seguimiento del cambio; no necesitamos los valores de los años intermedios..\n",
        "\n",
        "Ejecute el bloque de código siguiente para extraer los vértices. Corta la matriz para extraer la fila que indica los vértices y los usa como una máscara para enmascarar los valores que no son vértices en toda la matriz."
      ]
    },
    {
      "cell_type": "code",
      "execution_count": 11,
      "id": "0768debd",
      "metadata": {
        "id": "0768debd",
        "outputId": "07f424de-8bcf-4660-98d6-cfbd9034de36"
      },
      "outputs": [
        {
          "data": {
            "text/html": [
              "<style type=\"text/css\">\n",
              "#T_59975 caption {\n",
              "  text-align: left;\n",
              "  font-size: 150%;\n",
              "  font-weight: bold;\n",
              "}\n",
              "</style>\n",
              "<table id=\"T_59975\">\n",
              "  <caption>Vertex mask row</caption>\n",
              "  <thead>\n",
              "    <tr>\n",
              "      <th class=\"blank level0\" >&nbsp;</th>\n",
              "      <th id=\"T_59975_level0_col0\" class=\"col_heading level0 col0\" >0</th>\n",
              "      <th id=\"T_59975_level0_col1\" class=\"col_heading level0 col1\" >1</th>\n",
              "      <th id=\"T_59975_level0_col2\" class=\"col_heading level0 col2\" >2</th>\n",
              "      <th id=\"T_59975_level0_col3\" class=\"col_heading level0 col3\" >3</th>\n",
              "      <th id=\"T_59975_level0_col4\" class=\"col_heading level0 col4\" >4</th>\n",
              "      <th id=\"T_59975_level0_col5\" class=\"col_heading level0 col5\" >5</th>\n",
              "      <th id=\"T_59975_level0_col6\" class=\"col_heading level0 col6\" >6</th>\n",
              "    </tr>\n",
              "  </thead>\n",
              "  <tbody>\n",
              "    <tr>\n",
              "      <th id=\"T_59975_level0_row0\" class=\"row_heading level0 row0\" >0</th>\n",
              "      <td id=\"T_59975_row0_col0\" class=\"data row0 col0\" >1</td>\n",
              "      <td id=\"T_59975_row0_col1\" class=\"data row0 col1\" >0</td>\n",
              "      <td id=\"T_59975_row0_col2\" class=\"data row0 col2\" >0</td>\n",
              "      <td id=\"T_59975_row0_col3\" class=\"data row0 col3\" >0</td>\n",
              "      <td id=\"T_59975_row0_col4\" class=\"data row0 col4\" >0</td>\n",
              "      <td id=\"T_59975_row0_col5\" class=\"data row0 col5\" >0</td>\n",
              "      <td id=\"T_59975_row0_col6\" class=\"data row0 col6\" >1</td>\n",
              "    </tr>\n",
              "  </tbody>\n",
              "</table>\n"
            ],
            "text/plain": [
              "<pandas.io.formats.style.Styler at 0x18957abe190>"
            ]
          },
          "metadata": {},
          "output_type": "display_data"
        },
        {
          "data": {
            "text/html": [
              "<style type=\"text/css\">\n",
              "#T_cec91 caption {\n",
              "  text-align: left;\n",
              "  font-size: 150%;\n",
              "  font-weight: bold;\n",
              "}\n",
              "</style>\n",
              "<table id=\"T_cec91\">\n",
              "  <caption>Raw LandTrendr - Only Vertex Columns</caption>\n",
              "  <thead>\n",
              "    <tr>\n",
              "      <th class=\"blank level0\" >&nbsp;</th>\n",
              "      <th id=\"T_cec91_level0_col0\" class=\"col_heading level0 col0\" >0</th>\n",
              "      <th id=\"T_cec91_level0_col1\" class=\"col_heading level0 col1\" >1</th>\n",
              "    </tr>\n",
              "  </thead>\n",
              "  <tbody>\n",
              "    <tr>\n",
              "      <th id=\"T_cec91_level0_row0\" class=\"row_heading level0 row0\" >Years</th>\n",
              "      <td id=\"T_cec91_row0_col0\" class=\"data row0 col0\" >1985.000000</td>\n",
              "      <td id=\"T_cec91_row0_col1\" class=\"data row0 col1\" >1995.000000</td>\n",
              "    </tr>\n",
              "    <tr>\n",
              "      <th id=\"T_cec91_level0_row1\" class=\"row_heading level0 row1\" >Raw Input Values</th>\n",
              "      <td id=\"T_cec91_row1_col0\" class=\"data row1 col0\" >0.411179</td>\n",
              "      <td id=\"T_cec91_row1_col1\" class=\"data row1 col1\" >-0.023077</td>\n",
              "    </tr>\n",
              "    <tr>\n",
              "      <th id=\"T_cec91_level0_row2\" class=\"row_heading level0 row2\" >Fitted Output Values</th>\n",
              "      <td id=\"T_cec91_row2_col0\" class=\"data row2 col0\" >0.404961</td>\n",
              "      <td id=\"T_cec91_row2_col1\" class=\"data row2 col1\" >0.404961</td>\n",
              "    </tr>\n",
              "    <tr>\n",
              "      <th id=\"T_cec91_level0_row3\" class=\"row_heading level0 row3\" >Vertex/non-vertex</th>\n",
              "      <td id=\"T_cec91_row3_col0\" class=\"data row3 col0\" >1.000000</td>\n",
              "      <td id=\"T_cec91_row3_col1\" class=\"data row3 col1\" >1.000000</td>\n",
              "    </tr>\n",
              "  </tbody>\n",
              "</table>\n"
            ],
            "text/plain": [
              "<pandas.io.formats.style.Styler at 0x18957cf1b10>"
            ]
          },
          "metadata": {},
          "output_type": "display_data"
        }
      ],
      "source": [
        "# Cortar la matriz para extraer la fila que indica los vértices\n",
        "vertices = lt_array.arraySlice(0,3,4)\n",
        "display(g2p.imageArrayPixelToDataFrame(vertices, pt, None,crs,transform,'Vertex mask row'))\n",
        "\n",
        "# Utilice la fila de vértices como máscara para extraer los valores en los vértices\n",
        "lt_array = lt_array.arrayMask(vertices)\n",
        "display(g2p.imageArrayPixelToDataFrame(lt_array, pt, None,crs,transform,'Raw LandTrendr - Only Vertex Columns',\\\n",
        "                                                 ['Years','Raw Input Values','Fitted Output Values','Vertex/non-vertex']))"
      ]
    },
    {
      "cell_type": "markdown",
      "id": "70f5043e",
      "metadata": {
        "id": "70f5043e"
      },
      "source": [
        "#### Calcular la diferencia entre los valores de vértices ajustados\n",
        "Para realizar la detección de cambios, necesitará obtener la diferencia entre los valores de vértice ajustados.\n",
        "\n",
        "Esto se hace dividiendo la matriz en un desplazamiento, para poder restar valores adyacentes.\n",
        "\n",
        "Ejecute el bloque de código siguiente para calcular la diferencia entre los valores de vértice ajustados."
      ]
    },
    {
      "cell_type": "code",
      "execution_count": 12,
      "id": "948ceba6",
      "metadata": {
        "id": "948ceba6",
        "outputId": "d00828e8-a4c8-4123-a4da-a730c7d93951"
      },
      "outputs": [
        {
          "data": {
            "text/html": [
              "<style type=\"text/css\">\n",
              "#T_61499 caption {\n",
              "  text-align: left;\n",
              "  font-size: 150%;\n",
              "  font-weight: bold;\n",
              "}\n",
              "</style>\n",
              "<table id=\"T_61499\">\n",
              "  <caption>Left Slice</caption>\n",
              "  <thead>\n",
              "    <tr>\n",
              "      <th class=\"blank level0\" >&nbsp;</th>\n",
              "      <th id=\"T_61499_level0_col0\" class=\"col_heading level0 col0\" >0</th>\n",
              "    </tr>\n",
              "  </thead>\n",
              "  <tbody>\n",
              "    <tr>\n",
              "      <th id=\"T_61499_level0_row0\" class=\"row_heading level0 row0\" >Years</th>\n",
              "      <td id=\"T_61499_row0_col0\" class=\"data row0 col0\" >1985.000000</td>\n",
              "    </tr>\n",
              "    <tr>\n",
              "      <th id=\"T_61499_level0_row1\" class=\"row_heading level0 row1\" >Raw Input Values</th>\n",
              "      <td id=\"T_61499_row1_col0\" class=\"data row1 col0\" >0.411179</td>\n",
              "    </tr>\n",
              "    <tr>\n",
              "      <th id=\"T_61499_level0_row2\" class=\"row_heading level0 row2\" >Fitted Output Values</th>\n",
              "      <td id=\"T_61499_row2_col0\" class=\"data row2 col0\" >0.404961</td>\n",
              "    </tr>\n",
              "    <tr>\n",
              "      <th id=\"T_61499_level0_row3\" class=\"row_heading level0 row3\" >Vertex/non-vertex</th>\n",
              "      <td id=\"T_61499_row3_col0\" class=\"data row3 col0\" >1.000000</td>\n",
              "    </tr>\n",
              "  </tbody>\n",
              "</table>\n"
            ],
            "text/plain": [
              "<pandas.io.formats.style.Styler at 0x18957daa350>"
            ]
          },
          "metadata": {},
          "output_type": "display_data"
        },
        {
          "data": {
            "text/html": [
              "<style type=\"text/css\">\n",
              "#T_1a70c caption {\n",
              "  text-align: left;\n",
              "  font-size: 150%;\n",
              "  font-weight: bold;\n",
              "}\n",
              "</style>\n",
              "<table id=\"T_1a70c\">\n",
              "  <caption>Right Slice</caption>\n",
              "  <thead>\n",
              "    <tr>\n",
              "      <th class=\"blank level0\" >&nbsp;</th>\n",
              "      <th id=\"T_1a70c_level0_col0\" class=\"col_heading level0 col0\" >0</th>\n",
              "    </tr>\n",
              "  </thead>\n",
              "  <tbody>\n",
              "    <tr>\n",
              "      <th id=\"T_1a70c_level0_row0\" class=\"row_heading level0 row0\" >Years</th>\n",
              "      <td id=\"T_1a70c_row0_col0\" class=\"data row0 col0\" >1995.000000</td>\n",
              "    </tr>\n",
              "    <tr>\n",
              "      <th id=\"T_1a70c_level0_row1\" class=\"row_heading level0 row1\" >Raw Input Values</th>\n",
              "      <td id=\"T_1a70c_row1_col0\" class=\"data row1 col0\" >-0.023077</td>\n",
              "    </tr>\n",
              "    <tr>\n",
              "      <th id=\"T_1a70c_level0_row2\" class=\"row_heading level0 row2\" >Fitted Output Values</th>\n",
              "      <td id=\"T_1a70c_row2_col0\" class=\"data row2 col0\" >0.404961</td>\n",
              "    </tr>\n",
              "    <tr>\n",
              "      <th id=\"T_1a70c_level0_row3\" class=\"row_heading level0 row3\" >Vertex/non-vertex</th>\n",
              "      <td id=\"T_1a70c_row3_col0\" class=\"data row3 col0\" >1.000000</td>\n",
              "    </tr>\n",
              "  </tbody>\n",
              "</table>\n"
            ],
            "text/plain": [
              "<pandas.io.formats.style.Styler at 0x189572219d0>"
            ]
          },
          "metadata": {},
          "output_type": "display_data"
        },
        {
          "data": {
            "text/html": [
              "<style type=\"text/css\">\n",
              "#T_c1006 caption {\n",
              "  text-align: left;\n",
              "  font-size: 150%;\n",
              "  font-weight: bold;\n",
              "}\n",
              "</style>\n",
              "<table id=\"T_c1006\">\n",
              "  <caption>Right Minus Left</caption>\n",
              "  <thead>\n",
              "    <tr>\n",
              "      <th class=\"blank level0\" >&nbsp;</th>\n",
              "      <th id=\"T_c1006_level0_col0\" class=\"col_heading level0 col0\" >0</th>\n",
              "    </tr>\n",
              "  </thead>\n",
              "  <tbody>\n",
              "    <tr>\n",
              "      <th id=\"T_c1006_level0_row0\" class=\"row_heading level0 row0\" >Years</th>\n",
              "      <td id=\"T_c1006_row0_col0\" class=\"data row0 col0\" >10.000000</td>\n",
              "    </tr>\n",
              "    <tr>\n",
              "      <th id=\"T_c1006_level0_row1\" class=\"row_heading level0 row1\" >Raw Input Values</th>\n",
              "      <td id=\"T_c1006_row1_col0\" class=\"data row1 col0\" >-0.434256</td>\n",
              "    </tr>\n",
              "    <tr>\n",
              "      <th id=\"T_c1006_level0_row2\" class=\"row_heading level0 row2\" >Fitted Output Values</th>\n",
              "      <td id=\"T_c1006_row2_col0\" class=\"data row2 col0\" >0.000000</td>\n",
              "    </tr>\n",
              "    <tr>\n",
              "      <th id=\"T_c1006_level0_row3\" class=\"row_heading level0 row3\" >Vertex/non-vertex</th>\n",
              "      <td id=\"T_c1006_row3_col0\" class=\"data row3 col0\" >0.000000</td>\n",
              "    </tr>\n",
              "  </tbody>\n",
              "</table>\n"
            ],
            "text/plain": [
              "<pandas.io.formats.style.Styler at 0x18957dab190>"
            ]
          },
          "metadata": {},
          "output_type": "display_data"
        }
      ],
      "source": [
        "# Para realizar la detección de cambios, necesitaremos obtener la diferencia entre los valores de los vértices ajustados.\n",
        "# Hacemos esto cortando el primero al penúltimo y luego el penúltimo al último y restándolos.\n",
        "left = lt_array.arraySlice(1,0,-1)\n",
        "right = lt_array.arraySlice(1,1,None)\n",
        "diff  = right.subtract(left)\n",
        "\n",
        "display(g2p.imageArrayPixelToDataFrame(left, pt, None,crs,transform,'Left Slice',\\\n",
        "                                       ['Years','Raw Input Values','Fitted Output Values','Vertex/non-vertex']))\n",
        "display(g2p.imageArrayPixelToDataFrame(right, pt,None,crs,transform, \\\n",
        "                                       'Right Slice',['Years','Raw Input Values','Fitted Output Values','Vertex/non-vertex']))\n",
        "display(g2p.imageArrayPixelToDataFrame(diff, pt, None,crs,transform,\\\n",
        "                                       'Right Minus Left',['Years','Raw Input Values','Fitted Output Values','Vertex/non-vertex']))"
      ]
    },
    {
      "cell_type": "markdown",
      "id": "22bfd14f",
      "metadata": {
        "id": "22bfd14f"
      },
      "source": [
        "#### Combina valores de diferencia con años.\n",
        "Luego, divide los años de la derecha y la diferencia de valores de vértice ajustados y los combina.\n",
        "\n",
        "Ejecute el bloque de código siguiente para crear una matriz que tenga un valor para cada año de vértice y magnitud de diferencia."
      ]
    },
    {
      "cell_type": "code",
      "execution_count": 13,
      "id": "00143476",
      "metadata": {
        "id": "00143476",
        "outputId": "6dd3f9fc-4a58-4a30-cbf6-f6ed9f16244f"
      },
      "outputs": [
        {
          "data": {
            "text/html": [
              "<style type=\"text/css\">\n",
              "#T_d791c caption {\n",
              "  text-align: left;\n",
              "  font-size: 150%;\n",
              "  font-weight: bold;\n",
              "}\n",
              "</style>\n",
              "<table id=\"T_d791c\">\n",
              "  <caption>Years</caption>\n",
              "  <thead>\n",
              "    <tr>\n",
              "      <th class=\"blank level0\" >&nbsp;</th>\n",
              "      <th id=\"T_d791c_level0_col0\" class=\"col_heading level0 col0\" >0</th>\n",
              "    </tr>\n",
              "  </thead>\n",
              "  <tbody>\n",
              "    <tr>\n",
              "      <th id=\"T_d791c_level0_row0\" class=\"row_heading level0 row0\" >0</th>\n",
              "      <td id=\"T_d791c_row0_col0\" class=\"data row0 col0\" >1995</td>\n",
              "    </tr>\n",
              "  </tbody>\n",
              "</table>\n"
            ],
            "text/plain": [
              "<pandas.io.formats.style.Styler at 0x18957ddfa90>"
            ]
          },
          "metadata": {},
          "output_type": "display_data"
        },
        {
          "data": {
            "text/html": [
              "<style type=\"text/css\">\n",
              "#T_5f66d caption {\n",
              "  text-align: left;\n",
              "  font-size: 150%;\n",
              "  font-weight: bold;\n",
              "}\n",
              "</style>\n",
              "<table id=\"T_5f66d\">\n",
              "  <caption>Magnitude</caption>\n",
              "  <thead>\n",
              "    <tr>\n",
              "      <th class=\"blank level0\" >&nbsp;</th>\n",
              "      <th id=\"T_5f66d_level0_col0\" class=\"col_heading level0 col0\" >0</th>\n",
              "    </tr>\n",
              "  </thead>\n",
              "  <tbody>\n",
              "    <tr>\n",
              "      <th id=\"T_5f66d_level0_row0\" class=\"row_heading level0 row0\" >0</th>\n",
              "      <td id=\"T_5f66d_row0_col0\" class=\"data row0 col0\" >0</td>\n",
              "    </tr>\n",
              "  </tbody>\n",
              "</table>\n"
            ],
            "text/plain": [
              "<pandas.io.formats.style.Styler at 0x1895725b990>"
            ]
          },
          "metadata": {},
          "output_type": "display_data"
        },
        {
          "data": {
            "text/html": [
              "<style type=\"text/css\">\n",
              "#T_7e806 caption {\n",
              "  text-align: left;\n",
              "  font-size: 150%;\n",
              "  font-weight: bold;\n",
              "}\n",
              "</style>\n",
              "<table id=\"T_7e806\">\n",
              "  <caption>Year + Magnitude Array</caption>\n",
              "  <thead>\n",
              "    <tr>\n",
              "      <th class=\"blank level0\" >&nbsp;</th>\n",
              "      <th id=\"T_7e806_level0_col0\" class=\"col_heading level0 col0\" >0</th>\n",
              "    </tr>\n",
              "  </thead>\n",
              "  <tbody>\n",
              "    <tr>\n",
              "      <th id=\"T_7e806_level0_row0\" class=\"row_heading level0 row0\" >0</th>\n",
              "      <td id=\"T_7e806_row0_col0\" class=\"data row0 col0\" >1995</td>\n",
              "    </tr>\n",
              "    <tr>\n",
              "      <th id=\"T_7e806_level0_row1\" class=\"row_heading level0 row1\" >1</th>\n",
              "      <td id=\"T_7e806_row1_col0\" class=\"data row1 col0\" >0</td>\n",
              "    </tr>\n",
              "  </tbody>\n",
              "</table>\n"
            ],
            "text/plain": [
              "<pandas.io.formats.style.Styler at 0x18957adf490>"
            ]
          },
          "metadata": {},
          "output_type": "display_data"
        }
      ],
      "source": [
        "# Cortar los años de la derecha y los valores de diferencia\n",
        "years = right.arraySlice(0,0,1)\n",
        "mag = diff.arraySlice(0,2,3)\n",
        "display(g2p.imageArrayPixelToDataFrame(years, pt, None,crs,transform,'Years'))\n",
        "display(g2p.imageArrayPixelToDataFrame(mag, pt, None,crs,transform,'Magnitude'))\n",
        "\n",
        "# Combinar\n",
        "forSorting = years.arrayCat(mag,0)\n",
        "display(g2p.imageArrayPixelToDataFrame(forSorting, pt, None,crs,transform,'Year + Magnitude Array'))"
      ]
    },
    {
      "cell_type": "markdown",
      "id": "7878678f",
      "metadata": {
        "id": "7878678f"
      },
      "source": [
        "#### Ordenar matriz según el cambio de interés\n",
        "\n",
        "Luego podemos ordenar esta matriz para mostrar el cambio que más nos interesa. Por ejemplo, podemos extraer la pérdida de mayor magnitud, la pérdida más reciente, etc.\n",
        "\n",
        "En el siguiente ejemplo, la fila de clasificación será la magnitud. Por lo tanto, la salida será la pérdida de gravedad más alta.\n"
      ]
    },
    {
      "cell_type": "code",
      "execution_count": 14,
      "id": "665cfc9f",
      "metadata": {
        "id": "665cfc9f",
        "outputId": "9a95d986-e0a5-4450-c993-cb55131f8c5b"
      },
      "outputs": [
        {
          "data": {
            "text/html": [
              "<style type=\"text/css\">\n",
              "#T_1ae71 caption {\n",
              "  text-align: left;\n",
              "  font-size: 150%;\n",
              "  font-weight: bold;\n",
              "}\n",
              "</style>\n",
              "<table id=\"T_1ae71\">\n",
              "  <caption>Array Sorted by the Second Row (magnitude of loss)</caption>\n",
              "  <thead>\n",
              "    <tr>\n",
              "      <th class=\"blank level0\" >&nbsp;</th>\n",
              "      <th id=\"T_1ae71_level0_col0\" class=\"col_heading level0 col0\" >0</th>\n",
              "    </tr>\n",
              "  </thead>\n",
              "  <tbody>\n",
              "    <tr>\n",
              "      <th id=\"T_1ae71_level0_row0\" class=\"row_heading level0 row0\" >0</th>\n",
              "      <td id=\"T_1ae71_row0_col0\" class=\"data row0 col0\" >1995</td>\n",
              "    </tr>\n",
              "    <tr>\n",
              "      <th id=\"T_1ae71_level0_row1\" class=\"row_heading level0 row1\" >1</th>\n",
              "      <td id=\"T_1ae71_row1_col0\" class=\"data row1 col0\" >0</td>\n",
              "    </tr>\n",
              "  </tbody>\n",
              "</table>\n"
            ],
            "text/plain": [
              "<pandas.io.formats.style.Styler at 0x18957ddfa90>"
            ]
          },
          "metadata": {},
          "output_type": "display_data"
        },
        {
          "data": {
            "text/html": [
              "<style type=\"text/css\">\n",
              "#T_11ff7 caption {\n",
              "  text-align: left;\n",
              "  font-size: 150%;\n",
              "  font-weight: bold;\n",
              "}\n",
              "</style>\n",
              "<table id=\"T_11ff7\">\n",
              "  <caption>Highest Mag Loss (year and magnitude)</caption>\n",
              "  <thead>\n",
              "    <tr>\n",
              "      <th class=\"blank level0\" >&nbsp;</th>\n",
              "      <th id=\"T_11ff7_level0_col0\" class=\"col_heading level0 col0\" >0</th>\n",
              "    </tr>\n",
              "  </thead>\n",
              "  <tbody>\n",
              "    <tr>\n",
              "      <th id=\"T_11ff7_level0_row0\" class=\"row_heading level0 row0\" >0</th>\n",
              "      <td id=\"T_11ff7_row0_col0\" class=\"data row0 col0\" >1995</td>\n",
              "    </tr>\n",
              "    <tr>\n",
              "      <th id=\"T_11ff7_level0_row1\" class=\"row_heading level0 row1\" >1</th>\n",
              "      <td id=\"T_11ff7_row1_col0\" class=\"data row1 col0\" >0</td>\n",
              "    </tr>\n",
              "  </tbody>\n",
              "</table>\n"
            ],
            "text/plain": [
              "<pandas.io.formats.style.Styler at 0x1895720f6d0>"
            ]
          },
          "metadata": {},
          "output_type": "display_data"
        }
      ],
      "source": [
        "# Ordenar por magnitud\n",
        "sorted = forSorting.arraySort(forSorting.arraySlice(0,1,2))\n",
        "display(g2p.imageArrayPixelToDataFrame(sorted, pt, None,crs,transform,'Array Sorted by the Second Row (magnitude of loss)'))\n",
        "\n",
        "# Separe el año y la magnitud de la pérdida de mayor magnitud\n",
        "highest_mag_change_array = sorted.arraySlice(1,0,1)\n",
        "display(g2p.imageArrayPixelToDataFrame(highest_mag_change_array, pt, None,crs,transform,'Highest Mag Loss (year and magnitude)'))"
      ]
    },
    {
      "cell_type": "markdown",
      "id": "423c972e",
      "metadata": {
        "id": "423c972e"
      },
      "source": [
        "#### Convertir matrices en imágenes\n",
        "\n",
        "El último paso es convertir la salida de la matriz en una imagen. Has visto cómo funciona la manipulación de matrices en un píxel. Ahora puede \"aplanar\" la matriz bidimensional en una imagen unidimensional.\n",
        "\n",
        "La aplicación de un umbral de cambio le permite determinar qué gravedad del cambio se marca como pérdida. Todo cambio que sea inferior a esta magnitud quedará oculto en el mapa.\n",
        "\n",
        "Ejecute el bloque de código siguiente para aplanar la matriz en una imagen y agregarla al mapa."
      ]
    },
    {
      "cell_type": "code",
      "execution_count": 15,
      "id": "ad7f5ecc",
      "metadata": {
        "id": "ad7f5ecc",
        "outputId": "533534ec-5300-4919-b05f-7ffa458b371a"
      },
      "outputs": [
        {
          "name": "stdout",
          "output_type": "stream",
          "text": [
            "Adding layer: Array for Sorting\n",
            "Adding layer: Sorted Array\n",
            "Adding layer: Loss Magnitude\n",
            "Adding layer: Loss Year\n",
            "Starting webmap\n",
            "Using default refresh token for geeView: C:\\Users\\joshuaheyer/.config/earthengine/credentials\n",
            "Local web server at: http://localhost:1233/geeView/ already serving.\n",
            "cwd c:\\Users\\joshuaheyer\\Scripts\\CONAFOR\n"
          ]
        },
        {
          "data": {
            "text/html": [
              "\n",
              "        <iframe\n",
              "            width=\"100%\"\n",
              "            height=\"525px\"\n",
              "            src=\"http://localhost:1233/geeView/?accessToken=ya29.a0AfB_byBXoXofm1db1Aevh5Uk5DbdPaJ8b_ikzJgfpVNMpzj8mcjP5TtxHrbVSNnqNJf1q394aRVrIdKERslfmzw6kwlbjFBjrbMT9Dt7rYvCWImZ-au9IdbgGw8Jonz_H3pj1z_woI6pmbKCYwPXdNL_4dIO85ES5Sk8IQ2fszAaCgYKATwSARESFQHGX2MibO5twTt5B-9m2ws-XPRugQ0178\"\n",
              "            frameborder=\"0\"\n",
              "            allowfullscreen\n",
              "            \n",
              "        ></iframe>\n",
              "        "
            ],
            "text/plain": [
              "<IPython.lib.display.IFrame at 0x18957aed1d0>"
            ]
          },
          "metadata": {},
          "output_type": "display_data"
        }
      ],
      "source": [
        "# Primero, elija un umbral de pérdida\n",
        "# Cualquier cambio más negativo que este valor se marcará como pérdida\n",
        "change_threshold = -0.15\n",
        "\n",
        "# Convierta la imagen de matriz ordenada en una imagen de 2 bandas\n",
        "highest_mag_change = highest_mag_change_array.arrayProject([0]).arrayFlatten([['yr','mag']])\n",
        "\n",
        "# Ocultar cualquier pérdida\n",
        "highest_mag_change = highest_mag_change.updateMask(highest_mag_change.select(['mag']).lte(change_threshold))\n",
        "\n",
        "# Extraiga la paleta de magnitud de pérdida y cambie el orden de los colores\n",
        "lossMagPalette = changeDetectionLib.lossMagPalette.split(',')\n",
        "lossMagPalette.reverse()\n",
        "\n",
        "# Configurar mapa\n",
        "Map.clearMap()\n",
        "Map.addLayer(forSorting,{},'Array for Sorting',False)\n",
        "Map.addLayer(sorted,{},'Sorted Array',False)\n",
        "Map.addLayer(highest_mag_change.select(['mag']),{'min':-0.8,'max':-0.15,'palette':lossMagPalette},'Loss Magnitude')\n",
        "Map.addLayer(highest_mag_change.select(['yr']),{'min':startYear,'max':endYear,'palette':changeDetectionLib.lossYearPalette},'Loss Year')\n",
        "Map.turnOnInspector()\n",
        "Map.view()"
      ]
    },
    {
      "cell_type": "markdown",
      "id": "5d2e05a2",
      "metadata": {
        "id": "5d2e05a2"
      },
      "source": [
        "#### Inspeccionar la salida\n",
        "Ver la salida en el mapa. Desactive y active las capas para ver los rásteres Año de pérdida y Magnitud de pérdida. Haga doble clic en un píxel para consultarlo y vea los valores de la matriz original para comprender cómo se corresponden con la salida final."
      ]
    },
    {
      "cell_type": "markdown",
      "id": "28b01e7e",
      "metadata": {
        "id": "28b01e7e"
      },
      "source": [
        "### 3.3.2: Ejecute LandTrendr - en todas las bandas\n",
        "\n",
        "Ahora que comprende los parámetros y resultados de LandTrendr, el siguiente paso es ejecutar LandTrendr en todas las bandas. Este es un resultado más realista. Después de un procesamiento adicional, utilizará este resultado con el modelo LCMS en los Módulos 4 y 5.\n",
        "\n",
        "Tenga en cuenta que el código siguiente es el mismo que utilizó para ejecutar LandTrendr en una sola banda. Pero aquí, está aplicando LandTrendr sobre cada banda y no muestra los resultados de la manipulación de la matriz en cada paso.\n",
        "\n",
        "Ejecute el bloque de código siguiente para calcular y exportar matrices de salida de LandTrendr para cada una de las bandas enumeradas en `bandNames`."
      ]
    },
    {
      "cell_type": "code",
      "execution_count": 16,
      "id": "23a03c53",
      "metadata": {
        "colab": {
          "base_uri": "https://localhost:8080/",
          "height": 1000
        },
        "id": "23a03c53",
        "outputId": "d0da08a8-2959-4ff0-db00-5290580dabef"
      },
      "outputs": [
        {
          "name": "stdout",
          "output_type": "stream",
          "text": [
            "Adding layer: LT Raw red\n",
            "Adding layer: LT Vertex Values Only red\n",
            "Adding layer: Decompressed LT Output red\n",
            "Adding layer: Raw and LT Fitted red\n",
            "Exporting: LT_Raw_red_yrs1984-2022_jds152-151\n",
            "Adding layer: LT Raw nir\n",
            "Adding layer: LT Vertex Values Only nir\n",
            "Adding layer: Decompressed LT Output nir\n",
            "Adding layer: Raw and LT Fitted nir\n",
            "Exporting: LT_Raw_nir_yrs1984-2022_jds152-151\n",
            "Adding layer: LT Raw swir1\n",
            "Adding layer: LT Vertex Values Only swir1\n",
            "Adding layer: Decompressed LT Output swir1\n",
            "Adding layer: Raw and LT Fitted swir1\n",
            "Exporting: LT_Raw_swir1_yrs1984-2022_jds152-151\n",
            "Adding layer: LT Raw swir2\n",
            "Adding layer: LT Vertex Values Only swir2\n",
            "Adding layer: Decompressed LT Output swir2\n",
            "Adding layer: Raw and LT Fitted swir2\n",
            "Exporting: LT_Raw_swir2_yrs1984-2022_jds152-151\n",
            "Adding layer: LT Raw NBR\n",
            "Adding layer: LT Vertex Values Only NBR\n",
            "Adding layer: Decompressed LT Output NBR\n",
            "Adding layer: Raw and LT Fitted NBR\n",
            "Exporting: LT_Raw_NBR_yrs1984-2022_jds152-151\n",
            "Adding layer: LT Raw NDVI\n",
            "Adding layer: LT Vertex Values Only NDVI\n",
            "Adding layer: Decompressed LT Output NDVI\n",
            "Adding layer: Raw and LT Fitted NDVI\n",
            "Exporting: LT_Raw_NDVI_yrs1984-2022_jds152-151\n",
            "Adding layer: LT Raw brightness\n",
            "Adding layer: LT Vertex Values Only brightness\n",
            "Adding layer: Decompressed LT Output brightness\n",
            "Adding layer: Raw and LT Fitted brightness\n",
            "Exporting: LT_Raw_brightness_yrs1984-2022_jds152-151\n",
            "Adding layer: LT Raw greenness\n",
            "Adding layer: LT Vertex Values Only greenness\n",
            "Adding layer: Decompressed LT Output greenness\n",
            "Adding layer: Raw and LT Fitted greenness\n",
            "Exporting: LT_Raw_greenness_yrs1984-2022_jds152-151\n",
            "Adding layer: LT Raw wetness\n",
            "Adding layer: LT Vertex Values Only wetness\n",
            "Adding layer: Decompressed LT Output wetness\n",
            "Adding layer: Raw and LT Fitted wetness\n",
            "Exporting: LT_Raw_wetness_yrs1984-2022_jds152-151\n",
            "Adding layer: Study Area\n",
            "Starting webmap\n",
            "Using default refresh token for geeView: C:\\Users\\joshuaheyer/.config/earthengine/credentials\n",
            "Local web server at: http://localhost:1233/geeView/ already serving.\n",
            "cwd c:\\Users\\joshuaheyer\\Scripts\\CONAFOR\n"
          ]
        },
        {
          "data": {
            "text/html": [
              "\n",
              "        <iframe\n",
              "            width=\"100%\"\n",
              "            height=\"525px\"\n",
              "            src=\"http://localhost:1233/geeView/?accessToken=ya29.a0AfB_byCbT95hU_Oe6OcOWCtYKu_HAOkcAG_uVhQMDhza-QubQv_dcuX161W95Wk_BMRrM5KfW-t0MTv-I5ULa4SXmAXeO6PZpwPU5gMUiNLASHgse42PYIliPkgob-bfyvTBGzlf01OA1rbEtbyP1WQ2BOHow3GU8aXhLggbDBUaCgYKAYASARESFQHGX2MiAFcsC897F8n4t68xp5-R-w0178\"\n",
              "            frameborder=\"0\"\n",
              "            allowfullscreen\n",
              "            \n",
              "        ></iframe>\n",
              "        "
            ],
            "text/plain": [
              "<IPython.lib.display.IFrame at 0x18957e59290>"
            ]
          },
          "metadata": {},
          "output_type": "display_data"
        }
      ],
      "source": [
        "# Ejecutaremos LandTrendr para cada banda\n",
        "# Borre el mapa en caso de que se haya poblado con capas/comandos anteriormente\n",
        "Map.clearMap()\n",
        "\n",
        "# Podemos usar cualquiera o todas las bandas, pero generalmente las bandas que usan nir y swir son las más útiles\n",
        "bandNames = ['red','nir','swir1','swir2','NBR','NDVI','brightness','greenness','wetness']\n",
        "\n",
        "# Ejecute LANDTRENDR\n",
        "for bandName in bandNames:\n",
        "\n",
        "    # Seleccione la banda y ejecute LandTrendr\n",
        "    run_params['timeSeries'] = composites.select([bandName])\n",
        "    rawLT = ee.Algorithms.TemporalSegmentation.LandTrendr(**run_params)\n",
        "\n",
        "    Map.addLayer(rawLT,{},'LT Raw {}'.format(bandName),False)\n",
        "\n",
        "    # Observe que la salida sin procesar de LandTrendr está en el formato de matriz de imágenes de GEE\n",
        "    # Necesitaremos manipular un poco la salida sin procesar para ahorrar espacio de almacenamiento\n",
        "\n",
        "    # Enmascare los valores que no sean vértices para utilizar menos espacio de almacenamiento\n",
        "    ltArray = rawLT.select(['LandTrendr'])\n",
        "    rmse = rawLT.select(['rmse'])\n",
        "    vertices = ltArray.arraySlice(0,3,4)\n",
        "    ltArray = ltArray.arrayMask(vertices)\n",
        "\n",
        "    # Enmascare todos menos los valores ajustados de año y vértice (elimine las filas sin formato y de vértice)\n",
        "    ltArray = ltArray.arrayMask(ee.Image(ee.Array([[1],[0],[1],[0]])))\n",
        "    rawLTForExport=ltArray.addBands(rmse)\n",
        "    Map.addLayer(rawLTForExport,{},'LT Vertex Values Only {}'.format(bandName),False)\n",
        "\n",
        "    # Muestre cómo los valores comprimidos solo de vértice se pueden descomprimir más adelante\n",
        "    decompressedC = changeDetectionLib.simpleLTFit(ltArray,startYear,endYear,bandName,True,run_params['maxSegments'])\n",
        "    Map.addLayer(decompressedC,{'bands':'{}_LT_fitted'.format(bandName),'min':0.2,'max':0.8},'Decompressed LT Output {}'.format(bandName),False)\n",
        "\n",
        "    # Unir los valores brutos y ajustados\n",
        "    fitted = decompressedC.select(['{}_LT_fitted'.format(bandName)])\n",
        "    ltJoined = getImagesLib.joinCollections(composites.select([bandName]),fitted)\n",
        "    Map.addLayer(ltJoined,{'bands':'{}_LT_fitted'.format(bandName),'min':0.2,'max':1,'palette':'D80,080'},'Raw and LT Fitted {}'.format(bandName),True)\n",
        "\n",
        "    # Exportar imagen de matriz LT\n",
        "    # Establece algunas propiedades que se usarán más adelante\n",
        "    rawLTForExport = rawLTForExport.set({'startYear':startYear,\n",
        "                                          'endYear':endYear,\n",
        "                                          'startJulian':startJulian,\n",
        "                                          'endJulian':endJulian,\n",
        "                                          'band':bandName})\n",
        "    rawLTForExport =rawLTForExport.set(run_params)\n",
        "    exportName = 'LT_Raw_{}_yrs{}-{}_jds{}-{}'.format(bandName,startYear,endYear,startJulian,endJulian)\n",
        "    exportPath = export_landTrendr_collection + '/'+ exportName\n",
        "    # Exportar producción\n",
        "    getImagesLib.exportToAssetWrapper(rawLTForExport,exportName,exportPath,{'.default':'sample'},studyArea,scale,crs,transform,overwrite=False)\n",
        "\n",
        "Map.turnOnInspector()\n",
        "Map.addLayer(studyArea, {'strokeColor': '0000FF'}, \"Study Area\", False)\n",
        "Map.view()"
      ]
    },
    {
      "cell_type": "markdown",
      "id": "c0279745",
      "metadata": {
        "id": "c0279745"
      },
      "source": [
        "Si desea realizar un seguimiento del estado de las tareas de exportación, utilice el siguiente código."
      ]
    },
    {
      "cell_type": "code",
      "execution_count": null,
      "id": "7b778a7b",
      "metadata": {
        "colab": {
          "base_uri": "https://localhost:8080/"
        },
        "id": "7b778a7b",
        "outputId": "410ab298-a91c-4d34-ad21-3effc4990065"
      },
      "outputs": [
        {
          "name": "stdout",
          "output_type": "stream",
          "text": [
            "done\n"
          ]
        }
      ],
      "source": [
        "# Puede realizar un seguimiento de las tareas aquí o en https://code.earthengine.google.com/tasks\n",
        "# Si desea realizar un seguimiento de las tareas, utilice esto:\n",
        "# tml.trackTasks2()\n",
        "\n",
        "# Si desea cancelar todas las tareas en ejecución, puede utilizar esta función\n",
        "# tml.batchCancel()\n",
        "\n",
        "# Si desea vaciar la colección de todas las imágenes\n",
        "# aml.batchDelete(export_landTrendr_collection, type = 'imageCollection')\n",
        "\n",
        "print('Hecho')"
      ]
    },
    {
      "cell_type": "markdown",
      "id": "b3ff007c",
      "metadata": {
        "id": "b3ff007c"
      },
      "source": [
        "> Nota: La biblioteca geeViz también proporciona funciones contenedoras para el procesamiento de matrices y la ejecución de LandTrendr. Puedes usar el [`changeDetectionLib.convertToLossGain()`](https://github.com/gee-community/geeViz/blob/fdd8f0080301f8d915214b6e2d50af03a0915777/changeDetectionLib.py#L778C5-L778C22) Función en la biblioteca geeViz para realizar el procesamiento de matrices. También puedes utilizar el [`changeDetectionLib.simpleLANDTRENDR`](https://github.com/gee-community/geeViz/blob/27a0c5d8a0a9c9623e67599bf06448d64b481c56/changeDetectionLib.py#L344) para ejecutar LandTrendr. Consulte ejemplos y documentación en el [geeViz/examples](https://github.com/gee-community/geeViz/blob/master/examples/LANDTRENDRViz.py) repositorio.\n",
        "\n",
        "\n",
        "\n"
      ]
    },
    {
      "cell_type": "markdown",
      "id": "b527a4de",
      "metadata": {
        "id": "b527a4de"
      },
      "source": [
        "#### Convierta la matriz LandTrendr en series de tiempo para ingresarlas en LCMS\n",
        "\n",
        "Si bien podemos usar la salida de LandTrendr para la detección de cambios basada en umbrales, LCMS la usa como entrada para los modelos de clasificación de cambios supervisados, cobertura del suelo y uso de la tierra. A continuación, convertirá el recurso de imagen de matriz LandTrendr sin procesar en una serie temporal de valores anuales ajustados, de duración del segmento, de magnitud del cambio del segmento y de pendiente.\n",
        "\n",
        "Este procesamiento se basa en la [`changeDetectionLib.batchSimpleLTFit`](https://github.com/gee-community/geeViz/blob/fdd8f0080301f8d915214b6e2d50af03a0915777/changeDetectionLib.py#L565) función. Esta función convierte resultados de matriz (el formato que estamos usando) o apilados (un formato más antiguo necesario antes de poder exportar matrices de imágenes EE) en una colección de resultados anuales ajustados: por ejemplo, magnitud del cambio, pendiente del cambio, duración de cambio para cada año.\n",
        "\n",
        "Si bien el valor ajustado de LandTrendr es generalmente de mayor importancia para nuestros modelos, la duración, la pendiente y la magnitud del cambio del segmento de LandTrendr también pueden ayudar a nuestros modelos.\n",
        "\n",
        "Ejecute el bloque de código a continuación para extraer las producciones anuales ajustadas y verlas en el mapa."
      ]
    },
    {
      "cell_type": "code",
      "execution_count": null,
      "id": "385f8768",
      "metadata": {
        "id": "385f8768",
        "outputId": "8e509c99-9593-4e4c-e893-c0ccb2327e34"
      },
      "outputs": [
        {
          "name": "stdout",
          "output_type": "stream",
          "text": [
            "Adding layer: LandTrendr All Predictors Time Series\n",
            "Adding layer: Study Area\n",
            "Starting webmap\n",
            "Using default refresh token for geeView: C:\\Users\\ianho/.config/earthengine/credentials\n",
            "Local web server at: http://localhost:1233/geeView/ already serving.\n",
            "cwd c:\\RCR\\quickLabsTrainingMaterials\\lcms-training\n"
          ]
        },
        {
          "data": {
            "text/html": [
              "\n",
              "        <iframe\n",
              "            width=\"100%\"\n",
              "            height=\"525px\"\n",
              "            src=\"http://localhost:1233/geeView/?accessToken=ya29.a0AfB_byB4EX-tldb8XPLF3a8kK1DDJiIa5l2sgaUjnb9VaGH4bF0O-h4XpzxwIyePtihGqvVDRNhX7ygkUYLBDoTZjb_gHBms9HPeyPH4fPgR91By4HW0iRRJqIHla7mifb9PPRGoc64VQaafBCItrb3Ar50DTNNOysu5oUv2RSB-aCgYKAYcSARASFQGOcNnCBDlurpRuCRTMD1FQ4n0VRg0179\"\n",
              "            frameborder=\"0\"\n",
              "            allowfullscreen\n",
              "            \n",
              "        ></iframe>\n",
              "        "
            ],
            "text/plain": [
              "<IPython.lib.display.IFrame at 0x1213cfec590>"
            ]
          },
          "metadata": {},
          "output_type": "display_data"
        }
      ],
      "source": [
        "# Cargar salidas sin procesar de LandTrendr\n",
        "lt_asset = ee.ImageCollection(f'{pre_baked_path_root}/lcms-training_module-3_landTrendr')\n",
        "\n",
        "# Convertir en productos anuales ajustados: por ejemplo, magnitud del cambio, pendiente del cambio, duración del cambio para cada año\n",
        "lt_fit = changeDetectionLib.batchSimpleLTFit(lt_asset,startYear,endYear,None,bandPropertyName='band',arrayMode=True)\n",
        "\n",
        "# Añadir al mapa\n",
        "Map.clearMap()\n",
        "Map.addLayer(lt_fit,{'bands':'swir2_LT_fitted,nir_LT_fitted,red_LT_fitted','min':0.15,'max':0.6},'LandTrendr All Predictors Time Series')\n",
        "\n",
        "\n",
        "Map.turnOnInspector()\n",
        "Map.addLayer(studyArea, {'strokeColor': '0000FF'}, \"Study Area\", False)\n",
        "Map.view()"
      ]
    },
    {
      "cell_type": "markdown",
      "id": "177b6375",
      "metadata": {
        "id": "177b6375"
      },
      "source": [
        "#### Inspeccionar\n",
        "Haga doble clic en el mapa para consultar valores y ver los valores reales y ajustados de los índices a lo largo del tiempo. Visualice la colección de imágenes que se utilizan como predictores en los modelos LCMS. Cuando hace doble clic en la salida en el mapa, observe los diferentes valores disponibles para los modelos.\n",
        "\n",
        "#### Ejemplo: LandTrendr reduce el ruido en series temporales compuestas originales\n",
        "\n",
        "La mejor manera de comprender cómo LandTrendr contribuye a reducir el ruido en la serie temporal compuesta original es visualizar las salidas de LandTrendr y la serie compuesta una al lado de la otra.\n",
        "\n",
        "El siguiente ejemplo toma los valores ajustados de LandTrendr y los muestra junto con los compuestos originales. Observe que LandTrendr ahora llena muchos vacíos. En general, LandTrendr reduce la cantidad de ruido en la serie temporal. Sin embargo, existe el riesgo de ajustar demasiado y omitir cambios de paisaje.\n",
        "\n",
        "Ejecute el bloque de código siguiente para comparar las series temporales ajustadas con los compuestos de entrada.\n",
        "\n",
        "Haga clic en el mapa, inspeccione la serie temporal ajustada y observe el timelapse compuesto y el timelapse de Landtrendr."
      ]
    },
    {
      "cell_type": "code",
      "execution_count": null,
      "id": "94372372",
      "metadata": {
        "id": "94372372",
        "outputId": "84b5cb74-14cd-4f61-dc43-b2c1d0826386"
      },
      "outputs": [
        {
          "name": "stdout",
          "output_type": "stream",
          "text": [
            "Adding layer: Raw Composite Timelapse\n",
            "Adding layer: Fitted LandTrendr Composite Timelapse\n",
            "Adding layer: Raw and LT Fitted\n",
            "Adding layer: Study Area\n",
            "Starting webmap\n",
            "Using default refresh token for geeView: C:\\Users\\ianho/.config/earthengine/credentials\n",
            "Local web server at: http://localhost:1233/geeView/ already serving.\n",
            "cwd c:\\RCR\\quickLabsTrainingMaterials\\lcms-training\n"
          ]
        },
        {
          "data": {
            "text/html": [
              "\n",
              "        <iframe\n",
              "            width=\"100%\"\n",
              "            height=\"525px\"\n",
              "            src=\"http://localhost:1233/geeView/?accessToken=ya29.a0AfB_byCCfi7FhONirxVQz4aARlpdVrF9uf9c6GDqrRWTmtPDKh59ZjXseeC53Epf-cY5XcvGE0v8QySj9G8FZzq6FoxykVN_mJ_I0ElKtQbmU4FiHq_mkLJAQUTVjTX2y1TnBS9OZnFXQSNBtIp5g4AgJgdIKGWUT0qo0CUZnyAraCgYKASASARASFQGOcNnCBAYqVKAciC7b8tJDzGegMQ0179\"\n",
              "            frameborder=\"0\"\n",
              "            allowfullscreen\n",
              "            \n",
              "        ></iframe>\n",
              "        "
            ],
            "text/plain": [
              "<IPython.lib.display.IFrame at 0x1213cf52c50>"
            ]
          },
          "metadata": {},
          "output_type": "display_data"
        }
      ],
      "source": [
        "# Visualice compuestos landTrendr ajustados\n",
        "fitted_bns = lt_fit.select(['.*_fitted']).first().bandNames()\n",
        "out_bns = fitted_bns.map(lambda bn: ee.String(bn).split('_').get(0))\n",
        "\n",
        "# Dar los mismos nombres que los compuestos.\n",
        "lt_synth = lt_fit.select(fitted_bns,out_bns)\n",
        "\n",
        "# Borre la mapa\n",
        "Map.clearMap()\n",
        "\n",
        "# Visualice compuestos sin procesar y ajustados con LandTrendr\n",
        "Map.addTimeLapse(composites,getImagesLib.vizParamsFalse,'Raw Composite Timelapse')\n",
        "Map.addTimeLapse(lt_synth,getImagesLib.vizParamsFalse,'Fitted LandTrendr Composite Timelapse')\n",
        "\n",
        "# Unir los valores brutos y ajustados\n",
        "ltJoined = getImagesLib.joinCollections(composites.select(bandNames),lt_fit.select(['.*_fitted']))\n",
        "\n",
        "# Añadir al mapa\n",
        "Map.addLayer(ltJoined,{'min':0.2,'max':1},'Raw and LT Fitted',True)\n",
        "\n",
        "Map.turnOnInspector()\n",
        "Map.addLayer(studyArea, {'strokeColor': '0000FF'}, \"Study Area\", False)\n",
        "Map.view()"
      ]
    },
    {
      "cell_type": "markdown",
      "id": "b5a44f3a",
      "metadata": {
        "id": "b5a44f3a"
      },
      "source": [
        "## Laboratorio 3 Desafío 1:\n",
        "\n",
        "Calcule las estadísticas de LandTrendr para NDVI y procese los arreglos hasta el año de cambio más reciente. Agregue la capa a un mapa y visualícela. Titula tu capa \"Año de cambio más reciente de LandTrendr NDVI\".\n",
        "\n",
        "**Para los usuarios de Qwiklabs**, se evaluará su finalización en la parte de Seguimiento de actividad del Laboratorio 3.\n",
        "\n",
        "\n",
        "1. Calcule la salida bruta de LandTrendr para NDVI a partir de los compuestos\n",
        "\n",
        "\n",
        "2.  Convertir la salida de la matriz al año de cambio más reciente\n",
        "    * Utilice la siguiente función: `changeDetectionLib.convertToLossGain`\n",
        "        <br>\n",
        "        \n",
        "        Ejemplo:\n",
        "        ```python\n",
        "                loss_stack = changeDetectionLib.convertToLossGain(\n",
        "                lt_array,\n",
        "                format = 'rawLandTrendr',\n",
        "                lossMagThresh = -0.15,\n",
        "                lossSlopeThresh = -0.1,\n",
        "                gainMagThresh = 0.1,\n",
        "                gainSlopeThresh = 0.1,\n",
        "                slowLossDurationThresh = 3,\n",
        "                chooseWhichLoss = 'newest',\n",
        "                chooseWhichGain = 'newest',\n",
        "                howManyToPull = 2)['lossStack'].select(['loss_yr_1'])\n",
        "                \n",
        "        ```\n",
        "        <br>\n",
        "\n",
        "\n",
        "3.  Extraiga el año de cambio más reciente para la siguiente ubicación.\n",
        "\n",
        "    * Utilice un punto con estas coordenadas.: `([-65.658,18.294])`\n",
        "\n",
        "    * Utilice la siguiente función: `g2p.extractPointValuesToDataFrame`\n",
        "        <br>\n",
        "        \n",
        "        Ejemplo:\n",
        "        ```python\n",
        "                extracted_values = g2p.extractPointValuesToDataFrame(\n",
        "                loss_stack,\n",
        "                ee.Geometry.Point([-65.658,18.294]),\n",
        "                scale=30,\n",
        "                crs = \"EPSG:5070\",\n",
        "                transform = None,\n",
        "                reducer = ee.Reducer.first(),\n",
        "                includeNonSystemProperties = False,\n",
        "                includeSystemProperties=True\n",
        "                )\n",
        "        ```\n",
        "        <br>\n",
        "4. Guarde los valores extraídos en un archivo csv.\n",
        "\n",
        "   * Guarde csv en esta ruta: `\"/tmp/challenge/module_3_challenge1_answer.csv\"`\n",
        "     * **Note: The path to the csv must exactly match the path above.**\n",
        "    <br>\n",
        "    \n",
        "    * Creer la `\"/tmp/challenge\"` carpeta si aún no existe.\n",
        "      \n",
        "        Ejemplo:\n",
        "    ```python\n",
        "        out_csv = \"/tmp/challenge/module_3_challenge1_answer.csv\"\n",
        "        if not os.path.exists(os.path.dirname(out_csv)):os.makedirs(os.path.dirname(out_csv))\n",
        "    ```\n",
        "<br>\n",
        "\n",
        "5.  Checar que el csv de salida existe.\n",
        "    \n",
        "    * Ejemplo:\n",
        "    ```python\n",
        "        print(os.path.exists(out_csv))\n",
        "    ```\n",
        "<br>"
      ]
    },
    {
      "cell_type": "code",
      "execution_count": null,
      "id": "f064405f",
      "metadata": {
        "id": "f064405f",
        "outputId": "ac6c0c53-021b-49ca-8cab-7f1d3b4c5334"
      },
      "outputs": [
        {
          "ename": "NameError",
          "evalue": "name 'run_params' is not defined",
          "output_type": "error",
          "traceback": [
            "\u001b[1;31m---------------------------------------------------------------------------\u001b[0m",
            "\u001b[1;31mNameError\u001b[0m                                 Traceback (most recent call last)",
            "\u001b[1;32mc:\\RCR\\quickLabsTrainingMaterials\\lcms-training\\3-LandTrendr_and_CCDC.ipynb Cell 48\u001b[0m line \u001b[0;36m7\n\u001b[0;32m      <a href='vscode-notebook-cell:/c%3A/RCR/quickLabsTrainingMaterials/lcms-training/3-LandTrendr_and_CCDC.ipynb#Y323sZmlsZQ%3D%3D?line=4'>5</a>\u001b[0m \u001b[39m# set up LandTrendr\u001b[39;00m\n\u001b[0;32m      <a href='vscode-notebook-cell:/c%3A/RCR/quickLabsTrainingMaterials/lcms-training/3-LandTrendr_and_CCDC.ipynb#Y323sZmlsZQ%3D%3D?line=5'>6</a>\u001b[0m test_band \u001b[39m=\u001b[39m \u001b[39m'\u001b[39m\u001b[39mNDVI\u001b[39m\u001b[39m'\u001b[39m\n\u001b[1;32m----> <a href='vscode-notebook-cell:/c%3A/RCR/quickLabsTrainingMaterials/lcms-training/3-LandTrendr_and_CCDC.ipynb#Y323sZmlsZQ%3D%3D?line=6'>7</a>\u001b[0m run_params[\u001b[39m'\u001b[39m\u001b[39mtimeSeries\u001b[39m\u001b[39m'\u001b[39m] \u001b[39m=\u001b[39m composites\u001b[39m.\u001b[39mselect([test_band])\n\u001b[0;32m      <a href='vscode-notebook-cell:/c%3A/RCR/quickLabsTrainingMaterials/lcms-training/3-LandTrendr_and_CCDC.ipynb#Y323sZmlsZQ%3D%3D?line=7'>8</a>\u001b[0m raw_LT \u001b[39m=\u001b[39m ee\u001b[39m.\u001b[39mAlgorithms\u001b[39m.\u001b[39mTemporalSegmentation\u001b[39m.\u001b[39mLandTrendr(\u001b[39m*\u001b[39m\u001b[39m*\u001b[39mrun_params)\n\u001b[0;32m     <a href='vscode-notebook-cell:/c%3A/RCR/quickLabsTrainingMaterials/lcms-training/3-LandTrendr_and_CCDC.ipynb#Y323sZmlsZQ%3D%3D?line=9'>10</a>\u001b[0m \u001b[39m# Add to Map\u001b[39;00m\n",
            "\u001b[1;31mNameError\u001b[0m: name 'run_params' is not defined"
          ]
        }
      ],
      "source": [
        "# Inserte el código de desafío aquí\n",
        "\n",
        "Map.clearMap()\n",
        "\n",
        "# configurar LandTrendr\n",
        "test_band = 'NDVI'\n",
        "run_params['timeSeries'] = composites.select([test_band])\n",
        "raw_LT = ee.Algorithms.TemporalSegmentation.LandTrendr(**run_params)\n",
        "\n",
        "# Añadir al mapa\n",
        "Map.addLayer(raw_LT,{'opacity':0},'LT Raw {}'.format(test_band),True)\n",
        "\n",
        "\n",
        "# Proporcione una ubicación de ejemplo\n",
        "pt = ee.Geometry.Point([-65.658,18.294])\n",
        "\n",
        "# Seleccione la banda de salida de la matriz de imágenes LandTrendr\n",
        "lt_array = raw_LT.select(['LandTrendr'])\n",
        "\n",
        "\n",
        "# Convierta para cambiar la pila y seleccione el primer año de pérdida más reciente (el más reciente)\n",
        "change_stack = changeDetectionLib.convertToLossGain(lt_array,\n",
        "                                                    format = 'rawLandTrendr',\n",
        "                                                    lossMagThresh = -0.15,\n",
        "                                                    lossSlopeThresh = -0.1,\n",
        "                                                    gainMagThresh = 0.1,\n",
        "                                                    gainSlopeThresh = 0.1,\n",
        "                                                    slowLossDurationThresh = 3,\n",
        "                                                    chooseWhichLoss = 'newest',\n",
        "                                                    chooseWhichGain = 'newest',\n",
        "                                                    howManyToPull = 2)['lossStack']\n",
        "\n",
        "Map.addLayer(change_stack.select(['loss_mag_1']),{'min':-0.8,'max':-0.15,'palette':lossMagPalette},'Loss Magnitude')\n",
        "Map.addLayer(change_stack.select(['loss_yr_1']),{'min':startYear,'max':endYear,'palette':changeDetectionLib.lossYearPalette},'Loss Year')\n",
        "\n",
        "Map.turnOnInspector()\n",
        "Map.view()\n",
        "\n",
        "\n",
        "# Extraer valores\n",
        "values = g2p.extractPointValuesToDataFrame(\n",
        "          change_stack.select(['loss_yr_1']),\n",
        "          ee.Geometry.Point([-65.658,18.294]),\n",
        "          scale=30,\n",
        "          crs = \"EPSG:5070\",\n",
        "          transform = None,\n",
        "          reducer = ee.Reducer.first(),\n",
        "          includeNonSystemProperties = False,\n",
        "          includeSystemProperties=True\n",
        "          )\n",
        "# Fuardar csv\n",
        "out_csv = \"/tmp/challenge/module_3_challenge1_answer.csv\"\n",
        "if not os.path.exists(os.path.dirname(out_csv)):os.makedirs(os.path.dirname(out_csv))\n",
        "values.to_csv(out_csv)\n",
        "display(values)\n",
        "\n",
        "# Checar que exista csv\n",
        "print(os.path.exists(out_csv))\n",
        "print(change_stack.bandNames().getInfo())\n",
        "print('Hecho')"
      ]
    },
    {
      "cell_type": "markdown",
      "id": "39d0fec4",
      "metadata": {
        "id": "39d0fec4"
      },
      "source": [
        "### ¡Felicidades! Ya terminó con la parte LandTrendr del Laboratorio 3.\n",
        "\n",
        "Otros ejemplos de GeeViz LandTrendr:\n",
        "- https://github.com/gee-community/geeViz/blob/master/examples/LANDTRENDRViz.py\n",
        "- https://github.com/gee-community/geeViz/blob/master/examples/LANDTRENDRWrapper.py\n",
        "- https://github.com/gee-community/geeViz/blob/master/examples/LANDTRENDRWrapperNotebook.ipynb\n",
        "\n",
        "\n",
        "Los datos ajustados de LandTrendr se utilizarán como entradas para LCMS en módulos posteriores."
      ]
    },
    {
      "cell_type": "markdown",
      "id": "786b872c",
      "metadata": {
        "id": "786b872c"
      },
      "source": [
        "## 3.4: Escala sobre áreas grandes usando mosaicos\n",
        "\n",
        "CCDC es el algoritmo con mayor uso de memoria utilizado en LCMS. Como resultado, es más probable que necesite dividir su área de estudio en áreas más pequeñas (mosaicos) u otro enfoque de administración de memoria cuando ejecute CCDC, particularmente en áreas de estudio grandes.\n",
        "\n",
        "Por lo general, solo utilizará mosaicos cuando un proceso falle debido a errores internos o de memoria. Luego, dividirás el área de estudio en mosaicos. Debe elegir aproximadamente el tamaño máximo de mosaico que permita que su proceso se complete sin errores.\n",
        "\n",
        "### 3.4.1: Ver mosaicos ejemplo de México\n",
        "\n",
        "Actualmente, ejecutamos LCMS para los EE. UU. continentales (CONUS), la costa de Alaska, Hawaii y Puerto Rico/Islas Vírgenes de los EE. UU. Para CONUS, tenemos que dividir todo el procesamiento para evitar quedarnos sin memoria.\n",
        "\n",
        "Aquí te brindamos este ejemplo de escalamiento para que puedas aplicarlo a otras áreas de estudio como México.\n",
        "\n",
        "El siguiente bloque de código mostrará los mosaicos que los compuestos LCMS utilizan para exportar al activo."
      ]
    },
    {
      "cell_type": "code",
      "execution_count": null,
      "id": "fc742c93",
      "metadata": {
        "colab": {
          "base_uri": "https://localhost:8080/",
          "height": 668
        },
        "id": "fc742c93",
        "outputId": "fce5e58c-2ef8-4dd1-8bff-6d94dd48558e"
      },
      "outputs": [
        {
          "name": "stdout",
          "output_type": "stream",
          "text": [
            "Adding layer: Example CONUS 2022 LCMS Composite\n",
            "Adding layer: LCMS Composite Tile Geometry\n"
          ]
        },
        {
          "name": "stdout",
          "output_type": "stream",
          "text": [
            "Starting webmap\n",
            "Using default refresh token for geeView: C:\\Users\\ianho/.config/earthengine/credentials\n",
            "Starting local web server at: http://localhost:1233/geeView/\n",
            "HTTP server command: \"c:\\Python311\\python.exe\" -m http.server  1233\n",
            "Done\n",
            "cwd c:\\RCR\\quickLabsTrainingMaterials\\lcms-training\n"
          ]
        },
        {
          "data": {
            "text/html": [
              "\n",
              "        <iframe\n",
              "            width=\"100%\"\n",
              "            height=\"525px\"\n",
              "            src=\"http://localhost:1233/geeView/?accessToken=ya29.a0AfB_byB3P_zloKrm6FcThSXbBCjsKzWgG7w0i9GFBI8oZbtDYXAnQ1pJM8ZLcRbmmfehipDHqfKook--vnq_cY8WmeG4IKbTiscQBbClUHKEROVp7Bsf4dJSzZfFSZ3ArMcHXHi0Z9qTzt1COm6loFeqz6MP6oeOMlZZqtK8-o82aCgYKAaQSARASFQGOcNnCFvLGu4EWYALL7zOI3q1khw0179\"\n",
              "            frameborder=\"0\"\n",
              "            allowfullscreen\n",
              "            \n",
              "        ></iframe>\n",
              "        "
            ],
            "text/plain": [
              "<IPython.lib.display.IFrame at 0x1be1cef8a50>"
            ]
          },
          "metadata": {},
          "output_type": "display_data"
        }
      ],
      "source": [
        "# Primero, vea los mosaicos utilizados en el flujo de trabajo actual de CONUS LCMS\n",
        "mexico_composites = ee.ImageCollection('projects/ee-jheyer2325/assets/lcms-training_module-2_composites')\\\n",
        "                                                .filter(ee.Filter.calendarRange(2022,2022,'year'))\n",
        "\n",
        "# Extrae la geometría de cada mosaico en los compuestos\n",
        "mexico_composites_tile_geo = mexico_composites.map(lambda f:ee.Feature(f.geometry()).copyProperties(f,['studyAreaName']))\n",
        "\n",
        "# Agregue los mosaicos y un compuesto como referencia\n",
        "Map.clearMap()\n",
        "Map.addLayer(mexico_composites.mosaic(),getImagesLib.vizParamsTrue10k,'Example Mexico 2022 LCMS Composite')\n",
        "Map.addLayer(mexico_composites_tile_geo,{},'LCMS Mexico Tabasco Tile Geometry')\n",
        "\n",
        "Map.centerObject(mexico_composites_tile_geo)\n",
        "Map.turnOnInspector()\n",
        "Map.view()"
      ]
    },
    {
      "cell_type": "markdown",
      "id": "1e3a69ff",
      "metadata": {
        "id": "1e3a69ff"
      },
      "source": [
        "### 3.4.2: Crea mosaicos de varios tamaños.\n",
        "\n",
        "**Para determinar qué tamaño de mosaico usaría:** Generalmente, comenzaría con el mosaico más grande posible y avanzaría hacia abajo hasta que deje de tener problemas de memoria. Actualmente, en CONUS LCMS utiliza mosaicos de 480 km (con un búfer de 900 m) para la mayor parte del procesamiento (todo menos CCDC)\n",
        "\n",
        "Para determinar qué tamaño de mosaico utilizar para su proyecto, puede crear e inspeccionar mosaicos de varios tamaños. A continuación se muestra un ejemplo de cómo crear una pirámide de mosaicos en varias escalas.\n",
        "\n",
        "Ejecute el bloque de código siguiente para generar un conjunto de cuadrículas de mosaicos de varios tamaños en los Estados Unidos continentales. Active y desactive las capas para comparar el tamaño de las cuadrículas."
      ]
    },
    {
      "cell_type": "code",
      "execution_count": null,
      "id": "f742e33b",
      "metadata": {
        "colab": {
          "base_uri": "https://localhost:8080/",
          "height": 720
        },
        "id": "f742e33b",
        "outputId": "de19ecd8-e75d-4038-d57b-314e1012efe1"
      },
      "outputs": [
        {
          "name": "stdout",
          "output_type": "stream",
          "text": [
            "Adding layer: Tile Grid 480000m\n",
            "Adding layer: Tile Grid 240000m\n",
            "Adding layer: Tile Grid 120000m\n",
            "Adding layer: Tile Grid 60000m\n",
            "Adding layer: LCMS CONUS Study Area\n",
            "Starting webmap\n",
            "Using default refresh token for geeView: C:\\Users\\ianho/.config/earthengine/credentials\n",
            "Local web server at: http://localhost:1233/geeView/ already serving.\n",
            "cwd c:\\RCR\\quickLabsTrainingMaterials\\lcms-training\n"
          ]
        },
        {
          "data": {
            "text/html": [
              "\n",
              "        <iframe\n",
              "            width=\"100%\"\n",
              "            height=\"525px\"\n",
              "            src=\"http://localhost:1233/geeView/?accessToken=ya29.a0AfB_byBkk04fcsh4XgyHtHo5iY5BhVCC5Xwclfg__TxzWB3r010nw5sQNMfhrsehw8IHxgE7L-HjxTgZKK6QHNS9HW0wKUmDnDVE9ZTBqy8ql-KjcVFia3lOEsQ51kyTnCPq8u-p77QtZpDdntdBj79ey_4AYNEs4-yryxQolnEHaCgYKAZUSARASFQGOcNnChj-mkiVH7HIUJH-Jdu6y5A0179\"\n",
              "            frameborder=\"0\"\n",
              "            allowfullscreen\n",
              "            \n",
              "        ></iframe>\n",
              "        "
            ],
            "text/plain": [
              "<IPython.lib.display.IFrame at 0x1be1ce9ee10>"
            ]
          },
          "metadata": {},
          "output_type": "display_data"
        }
      ],
      "source": [
        "Map.clearMap()\n",
        "\n",
        "# Establecer área de estudio y proyección.\n",
        "paises = ee.FeatureCollection(\"FAO/GAUL_SIMPLIFIED_500m/2015/level1\")\n",
        "mexico_studyArea = paises.filter(ee.Filter.stringContains('ADM0_NAME','Mexico'))\n",
        "mexico_projection = mexico_composites.first().projection()\n",
        "\n",
        "# Obtener cuadrícula y agregar al mapa\n",
        "def getGrid(studyArea,projection,size):\n",
        "  grid = studyArea.geometry().coveringGrid(projection.atScale(size))\n",
        "  Map.addLayer(grid,{},f'Tile Grid {size}m')\n",
        "  return grid\n",
        "\n",
        "# Obtener rejillas\n",
        "grid480= getGrid(mexico_studyArea,mexico_projection,480000)\n",
        "getGrid(mexico_studyArea,mexico_projection,240000)\n",
        "getGrid(mexico_studyArea,mexico_projection,120000)\n",
        "getGrid(mexico_studyArea,mexico_projection,60000)\n",
        "\n",
        "# Añadir al mapa\n",
        "Map.addLayer(mexico_studyArea,{},'Mexico Rejillas')\n",
        "\n",
        "Map.turnOnInspector()\n",
        "Map.view()\n"
      ]
    },
    {
      "cell_type": "markdown",
      "id": "d8333689",
      "metadata": {
        "id": "d8333689"
      },
      "source": [
        "#### Conclusiones de este mapa\n",
        "Puede escalar en todos los tamaños diferentes, pero la mejor práctica para explorar diferentes tamaños de mosaicos es piramidar los mosaicos dividiendo el tamaño entre 2 para cada tamaño más pequeño. La escala de mosaico que elijas para tu operación dependerá de tu área de estudio y del proceso que desees realizar. Los mosaicos pueden ser demasiado grandes o demasiado pequeños para su área de interés según el tamaño del área y la complejidad del proceso que se realiza.\n",
        "\n",
        "### Cómo usar mosaicos para escalar áreas grandes\n",
        "Para utilizar mosaicos en la práctica, primero debe crear una lista de cada mosaico disponible. Luego, repetirá la función de interés en cada mosaico, la recortará en el área de estudio, la almacenará en buffer, obtendrá los datos y los exportará.\n",
        "\n",
        "Ejecute el siguiente código para examinar los dos primeros mosaicos utilizados para México. El script CCDC se ejecutaría sobre cada uno de estos mosaicos uno a la vez y luego combinaría los resultados para crear el resultado en la gran área geográfica de México."
      ]
    },
    {
      "cell_type": "code",
      "execution_count": null,
      "id": "6351e909",
      "metadata": {
        "colab": {
          "base_uri": "https://localhost:8080/",
          "height": 703
        },
        "id": "6351e909",
        "outputId": "004f960e-91e1-4919-ad16-be462fd2978f"
      },
      "outputs": [
        {
          "name": "stdout",
          "output_type": "stream",
          "text": [
            "Adding layer: Tile -3,-6\n",
            "Adding layer: Tile -4,-6\n",
            "Starting webmap\n",
            "Using default refresh token for geeView: C:\\Users\\ianho/.config/earthengine/credentials\n",
            "Local web server at: http://localhost:1233/geeView/ already serving.\n",
            "cwd c:\\RCR\\quickLabsTrainingMaterials\\lcms-training\n"
          ]
        },
        {
          "data": {
            "text/html": [
              "\n",
              "        <iframe\n",
              "            width=\"100%\"\n",
              "            height=\"525px\"\n",
              "            src=\"http://localhost:1233/geeView/?accessToken=ya29.a0AfB_byBgQlQOTuWrFWuh8wC0Bcss57gcOE0SDLgpWg6W8ZbUzNCLZpo7ueqN8EkImT1RtGCQeaU3wceZzvfUTt977a1LvjZZark2Jw2n-VBrb_HP5nP_RskHJYXKcVjivGlFWRyBqxnJvOiRU-p-i6ysVQxDwqaaczGFPnyAIImYaCgYKAcwSARASFQGOcNnC7UYg66a_kLaWUgD_zKDeaw0179\"\n",
              "            frameborder=\"0\"\n",
              "            allowfullscreen\n",
              "            \n",
              "        ></iframe>\n",
              "        "
            ],
            "text/plain": [
              "<IPython.lib.display.IFrame at 0x1be1b34e8d0>"
            ]
          },
          "metadata": {},
          "output_type": "display_data"
        }
      ],
      "source": [
        "Map.clearMap()\n",
        "\n",
        "ids = grid480.limit(2).aggregate_histogram('system:index').keys().getInfo()\n",
        "for id in ids:\n",
        "  # Obtenga el mosaico y recórtelo en el área de estudio y luego búfer\n",
        "  tile = grid480.filter(ee.Filter.eq('system:index',id)).geometry().intersection(mexico_studyArea,240,mexico_projection).buffer(900)\n",
        "  Map.addLayer(tile,{},'Tile {}'.format(id))\n",
        "\n",
        "Map.centerObject(tile)\n",
        "Map.view()"
      ]
    },
    {
      "cell_type": "markdown",
      "id": "843f6650",
      "metadata": {
        "id": "843f6650"
      },
      "source": [
        "## 3.5: Detección de cambios con CCDC\n",
        "\n",
        "CCDC tiene una definición fundamentalmente diferente de lo que es \"cambio\" de LandTrendr. LandTrendr define el cambio como un cambio en la dirección lineal de la serie temporal como se representa con un modelo de regresión lineal, mientras que CCDC define el cambio como un cambio en la estacionalidad (fenología) como se representa mediante la regresión armónica (regresión lineal sobre muchas formas de onda diferentes).\n",
        "\n",
        "Como resultado, en general, la descripción del cambio que hace LandTrendr se alinea con muchos tipos de cambios relacionados con los bosques, como incendios, insectos y enfermedades, etc. Si bien estos tipos de cambios a menudo cambian la dirección de la trayectoria abruptamente, no siempre cambian la estacionalidad. patrones de manera abrupta.\n",
        "\n",
        "CCDC puede ser mejor en la detección de cambios que impactan la fenología que LandTrendr puede pasar por alto. Esto puede resultar útil en aplicaciones urbanas, agrícolas y de pastizales.\n",
        "\n",
        "\n",
        "### 3.5.1: Ejecutando CCDC: un mosaico\n",
        "\n",
        "#### Configurar mosaicos\n",
        "\n",
        "Usaremos Tabasco México como área de estudio y ejecutaremos nuestro análisis desde 1984-2023.\n",
        "\n",
        "Ejecute el bloque de código siguiente para configurar la escala de los mosaicos, el área de estudio, la proyección y la cuadrícula de mosaicos. Agregarás la cuadrícula de mosaicos y el área de estudio al mapa."
      ]
    },
    {
      "cell_type": "code",
      "execution_count": null,
      "id": "34b5e3cb",
      "metadata": {
        "id": "34b5e3cb",
        "outputId": "42056d80-bef9-49c6-910f-3719a003f9a8"
      },
      "outputs": [
        {
          "name": "stdout",
          "output_type": "stream",
          "text": [
            "Adding layer: Tile Grid 60000m\n",
            "Adding layer: Study Area\n"
          ]
        },
        {
          "name": "stdout",
          "output_type": "stream",
          "text": [
            "Starting webmap\n",
            "Using default refresh token for geeView: C:\\Users\\ianho/.config/earthengine/credentials\n",
            "Local web server at: http://localhost:1233/geeView/ already serving.\n",
            "cwd c:\\RCR\\quickLabsTrainingMaterials\\lcms-training\n"
          ]
        },
        {
          "data": {
            "text/html": [
              "\n",
              "        <iframe\n",
              "            width=\"100%\"\n",
              "            height=\"525px\"\n",
              "            src=\"http://localhost:1233/geeView/?accessToken=ya29.a0AfB_byCCjgsozTloyMGZDRzcAfa2awe0MmsqKL4ikUG7XB11Kx1utASL1EffF3Ecnj7gOhfQiOGofMuPVPSL9scq041yhxNX7CXVuDoS20XGqHzlOZ7dODZBcQRwNikeq7ZDFI9N52UeT43bYAl28ZF9Wb849JSQq6HFEKvb2sNfaCgYKAc4SARASFQGOcNnC9eJr_uTV-cvtjODJZhBdkg0179\"\n",
              "            frameborder=\"0\"\n",
              "            allowfullscreen\n",
              "            \n",
              "        ></iframe>\n",
              "        "
            ],
            "text/plain": [
              "<IPython.lib.display.IFrame at 0x1be1ced2950>"
            ]
          },
          "metadata": {},
          "output_type": "display_data"
        }
      ],
      "source": [
        "# Establecer el tamaño (en metros) de los mosaicos.\n",
        "tileSize = 60000\n",
        "\n",
        "# Especificar área de estudio\n",
        "paises = ee.FeatureCollection(\"FAO/GAUL_SIMPLIFIED_500m/2015/level1\")\n",
        "mexico = paises.filter(ee.Filter.stringContains('ADM0_NAME','Mexico'))\n",
        "studyArea = mexico.filter(ee.Filter.stringContains('ADM1_NAME','Tabasco'))\n",
        "\n",
        "# Establecer la proyección\n",
        "projection = mexico_composites.first().projection()\n",
        "\n",
        "# Obtener la grilla\n",
        "grid = studyArea.geometry().coveringGrid(projection.atScale(tileSize))\n",
        "\n",
        "# Borre la mapa\n",
        "Map.clearMap()\n",
        "\n",
        "# Anadir al mapa\n",
        "Map.addLayer(grid,{},'Tile Grid {}m'.format(tileSize))\n",
        "Map.addLayer(studyArea,{},'Study Area')\n",
        "\n",
        "Map.turnOnInspector()\n",
        "Map.centerObject(studyArea)\n",
        "Map.view()"
      ]
    },
    {
      "cell_type": "markdown",
      "id": "cc85df9a",
      "metadata": {
        "id": "cc85df9a"
      },
      "source": [
        "### 3.5.2: Obtener imágenes Landsat\n",
        "\n",
        "A continuación, establezca algunos parámetros preliminares que describan las imágenes Landsat que incorporará al análisis CCDC.\n",
        "\n",
        "Los parámetros siguientes le resultarán familiares desde el módulo 2. Sin embargo, para este módulo, extraeremos una serie continua de imágenes a las que aplicará una máscara de nube, en lugar de crear composiciones anuales. Esto se debe a que CCDC necesita todas las observaciones claras disponibles, a diferencia de LandTrendr, que necesita compuestos anuales.\n",
        "\n",
        "Consulte la documentación para [`getImagesLib.getProcessedLandsatScenes`](https://github.com/gee-community/geeViz/blob/27a0c5d8a0a9c9623e67599bf06448d64b481c56/getImagesLib.py#L2563) para más detalles.\n",
        "\n",
        "#### Seleccionar área de estudio\n",
        "\n",
        "Comenzaremos con un mosaico en el área de estudio de Tabasco México.\n",
        "\n",
        "#### Seleccionar rango de fechas\n",
        "\n",
        "Se debe proporcionar un período de más de 3 años para que los métodos de series temporales funcionen bien. Si proporciona estadísticas precalculadas para cloudScore y TDOM, esto no importa. Aquí ejecutará su análisis desde 1984 hasta 2023.\n",
        "\n",
        "Actualizará las variables startJulian y endJulian para indicar sus restricciones estacionales. Esto apoya la envoltura para los trópicos y el hemisferio sur. Si usa envoltura y la mayoría de los días ocurren en el segundo año, system:time_start será el 1 de junio del segundo año de manera predeterminada. De lo contrario, todos los system:time_starts se establecerán de forma predeterminada en el 1 de junio del primer año (por ejemplo, si el período de composición es del 1 de diciembre de 2020 al 28 de febrero de 2021, system:time_start se establecerá en el 1 de junio de 2021).\n",
        "\n",
        "#### Seleccione bandas e índices para obtener\n",
        "\n",
        "También determinará qué bandas/índices obtener para ejecutar el análisis CCDC. Estos no siempre se utilizarán para buscar interrupciones, como se especifica a continuación en el parámetro `breakpointBands` para CCDC.\n",
        "\n",
        "Asegúrese de que todas las bandas en el parámetro `ccdcParams.breakpointBands`, que configuraremos a continuación, estén en esta lista.\n",
        "\n",
        "Las opciones para bandas son: \"blue\",\"green\",\"red\",\"nir\",\"swir1\",\"swir2\",\"NDVI\",\"NBR\",\"NDMI\",\"NDSI\",\"brightness\",\"greenness\",\"wetness\",\"fourth\",\"fifth\",\"sixth\",\"tcAngleBG\"\n",
        "\n",
        "#### Eliminar valores altos para bandas e índices.\n",
        "También escribirá una función para eliminar cualquier valor alto de bandas o índices. Estos valores altos pueden ser artefactos y dar lugar a errores, por lo que los eliminaremos de la serie temporal. Aplicará la función a la imagen.\n",
        "\n",
        "* Ejecute el bloque de código siguiente para obtener y procesar imágenes Landsat.\n"
      ]
    },
    {
      "cell_type": "code",
      "execution_count": null,
      "id": "bb8f71ae",
      "metadata": {
        "id": "bb8f71ae",
        "outputId": "487eeb26-ebb0-42a1-8d05-28d1a8503f09"
      },
      "outputs": [
        {
          "name": "stdout",
          "output_type": "stream",
          "text": [
            "Get Processed Landsat: \n",
            "Start date: Jan 01 1984 , End date: Dec 31 2023\n",
            "Applying scale factors for C2 L4 data\n",
            "Applying scale factors for C2 L5 data\n",
            "Applying scale factors for C2 L8 data\n",
            "Including All Landsat 7\n",
            "Applying scale factors for C2 L7 data\n",
            "Applying scale factors for C2 L9 data\n",
            "Applying Fmask Cloud Mask\n",
            "Applying Fmask Shadow Mask\n",
            "Done\n",
            "Adding layer: Tile -4,-6\n",
            "Adding layer: Processed Landsat Input\n",
            "Starting webmap\n",
            "Using default refresh token for geeView: C:\\Users\\ianho/.config/earthengine/credentials\n",
            "Local web server at: http://localhost:1233/geeView/ already serving.\n",
            "cwd c:\\RCR\\quickLabsTrainingMaterials\\lcms-training\n"
          ]
        },
        {
          "data": {
            "text/html": [
              "\n",
              "        <iframe\n",
              "            width=\"100%\"\n",
              "            height=\"525px\"\n",
              "            src=\"http://localhost:1233/geeView/?accessToken=ya29.a0AfB_byAceuOAwvoHO-68m02TPCCivFq9gSZwjg_SIp9ymzLsieMKPScL0V-9D5Ld7c2fr31qYSGgY4-SX5PbJbX6XF2jmcB7pjC0EbX-F9GSApu264XCaw5GJh2xWZR4PmJQ4rlKJUmOspqjyPGXE5KYP9fjvvb8SZ3_434I1aX5aCgYKAf8SARASFQGOcNnCFPQhkNoNLNe-MrSHeXr5Gw0179\"\n",
              "            frameborder=\"0\"\n",
              "            allowfullscreen\n",
              "            \n",
              "        ></iframe>\n",
              "        "
            ],
            "text/plain": [
              "<IPython.lib.display.IFrame at 0x1be1ceea110>"
            ]
          },
          "metadata": {},
          "output_type": "display_data"
        }
      ],
      "source": [
        "# Enumerar identificadores de mosaicos\n",
        "ids = grid.aggregate_histogram('system:index').keys().getInfo()\n",
        "\n",
        "# Obtenga el mosaico y guárdelo para que no falten píxeles en los bordes del mosaico.\n",
        "tile = grid.filter(ee.Filter.eq('system:index',ids[6]))\n",
        "\n",
        "# Especifique los años de inicio y finalización de todos los análisis.\n",
        "startYear = 1984\n",
        "endYear = 2023\n",
        "\n",
        "# startJulian: Fecha de inicio juliana\n",
        "# endJulian: Fecha final juliana\n",
        "startJulian = 1\n",
        "endJulian = 365\n",
        "\n",
        "# Elija si desea incluir Landat 7\n",
        "# Generalmente solo se incluye cuando los datos son limitados\n",
        "includeSLCOffL7 = True\n",
        "\n",
        "# Establecer bandas de exportación\n",
        "exportBands = [\"blue\",\"green\",\"red\",\"nir\",\"swir1\",\"swir2\",\"NDVI\"]\n",
        "\n",
        "# Función de escritura para eliminar cualquier valor de banda/índice extremadamente alto\n",
        "def removeGT1(img):\n",
        "  lte1 = img.select(['blue','green','nir','swir1','swir2']).lte(1).reduce(ee.Reducer.min());\n",
        "  return img.updateMask(lte1);\n",
        "\n",
        "# Establecer parámetros de visualización\n",
        "getImagesLib.vizParamsFalse['min']=0.15\n",
        "getImagesLib.vizParamsFalse['max']=0.8\n",
        "\n",
        "# Obtener escenas procesadas\n",
        "processedScenes = getImagesLib.getProcessedLandsatScenes(studyArea = tile, startYear = startYear, endYear = endYear,\n",
        "                                                    startJulian = startJulian,endJulian = endJulian,\n",
        "                                                   includeSLCOffL7 = includeSLCOffL7).select(exportBands)\n",
        "\n",
        "# Aplicar función para eliminar valores de índice/banda alta\n",
        "processedScenes = processedScenes.map(removeGT1)\n",
        "# print(processedScenes.size().getInfo())\n",
        "\n",
        "print('Hecho')\n",
        "\n",
        "# Añadir al mapa\n",
        "Map.clearMap()\n",
        "Map.addLayer(tile,{},'Tile {}'.format(id))\n",
        "Map.centerObject(tile)\n",
        "\n",
        "#Map.addLayer(processedScenes,getImagesLib.vizParamsFalse,'Raw Processed Landsat Input')\n",
        "Map.addLayer(processedScenes,{}, 'Processed Landsat Input')\n",
        "\n",
        "\n",
        "Map.turnOnInspector()\n",
        "Map.view()"
      ]
    },
    {
      "cell_type": "markdown",
      "id": "c820fe0c",
      "metadata": {
        "id": "c820fe0c"
      },
      "source": [
        "### 3.5.3: Establecer parámetros CCDC\n",
        "\n",
        "A continuación, configurará los parámetros que se utilizarán en el algoritmo CCDC. Los parámetros se describen a continuación. Para obtener más información, consulte la [GEE CCDC Documentation](https://developers.google.com/earth-engine/apidocs/ee-algorithms-temporalsegmentation-ccdc).\n",
        "\n",
        "#### Parámetros CCDC\n",
        "\n",
        "**Los parámetros CCDC incluyen:**\n",
        "\n",
        "| Argumento             | Tipo                    | Detalles                                                                                                                                                        |\n",
        "|----------------------|-------------------------|------------------------------------------------------------------------------------------------------------------------------------------------------------------|\n",
        "| collection           | ImageCollection         | Colección de imágenes sobre las que ejecutar CCDC.                                                                                           |\n",
        "| breakpointBands      | List, default: None     | El nombre o índice de las bandas que se utilizarán para la detección de cambios. Si no se especifica, se utilizan todas las bandas.                                     |\n",
        "| tmaskBands           | List, default: None     | El nombre o índice de las bandas que se utilizarán para la detección iterativa de nubes TMask. Suelen ser la banda verde y la banda SWIR1. Si no se especifica, no se utiliza TMask. Si se especifica, 'tmaskBands' debe incluirse en 'breakpointBands'.                                   |\n",
        "| minObservations      | Integer, default: 6     | El número de observaciones necesarias para marcar un cambio.                                                                                         |\n",
        "| chiSquareProbability | Float, default: 0.99    | El umbral de probabilidad de chi-cuadrado para la detección de cambios en el rango de [0, 1]                                                                           |\n",
        "| minNumOfYearsScaler  | Float, default: 1.33    | Factores de número mínimo de años para aplicar un nuevo accesorio.                                                                                      |\n",
        "| dateFormat           | Integer, default: 0     | La representación de tiempo que se utilizará durante el ajuste: 0 = jDays, 1 = fracciones de años, 2 = tiempo Unix en milisegundos. De esta forma se codificarán los tiempos de inicio, fin y descanso de cada segmento temporal.                                                             |\n",
        "| lambda               | Float, default: 20      | Lambda para ajuste de regresión LASSO. Si se establece en 0, se utiliza OLS normal en lugar de LASSO. 20 sería si los datos de entrada estuvieran escalados de 0 a 10000. Si la reflectancia es 0-1, 20 se convertiría en 0.002                                                                 |\n",
        "| maxIterations        | Entero, predeterminado: 25000 | Número máximo de ejecuciones para la convergencia de regresión LASSO. Si se establece en 0, se utiliza OLS normal en lugar de LASSO.                           |\n",
        "\n",
        "* Ejecute el siguiente fragmento de código para configurar los parámetros que utilizará en el modelo CCDC.\n"
      ]
    },
    {
      "cell_type": "code",
      "execution_count": null,
      "id": "44b0026a",
      "metadata": {
        "id": "44b0026a",
        "outputId": "864516d2-7bf9-4167-a7b3-ebcc6ef1a9d7"
      },
      "outputs": [
        {
          "name": "stdout",
          "output_type": "stream",
          "text": [
            "Done\n"
          ]
        }
      ],
      "source": [
        "# Establecer parámetros CCDC\n",
        "ccdcParams ={\n",
        "  'breakpointBands':['green','red','nir','swir1','swir2','NDVI'],\n",
        "  'tmaskBands' : None,\n",
        "  'minObservations': 6,\n",
        "  'chiSquareProbability': 0.99,\n",
        "  'minNumOfYearsScaler': 1.33,\n",
        "  'lambda': 0.002, # Puesto que nuestros datos de reflectancia son 0-1 y no 0-10000, dividimos 20 entre 10000\n",
        "  'maxIterations' : 25000,\n",
        "  'dateFormat' : 1\n",
        "}\n",
        "\n",
        "print('Hecho')"
      ]
    },
    {
      "cell_type": "markdown",
      "id": "c2c14a8b",
      "metadata": {
        "id": "c2c14a8b"
      },
      "source": [
        "### 3.5.4 - Ejecute el algoritmo CCDC\n",
        "\n",
        "* Ahora, recorreremos un mosaico y ejecutaremos CCDC.\n",
        "* Agregará la salida CCDC al mapa, con los datos de Landsat.\n",
        "* Haga doble clic en las salidas para ver los valores de los datos Landsat y cómo se relacionan con la salida sin procesar del CCDC.\n",
        "* Notará que la salida CCDC sin procesar es incluso más compleja que la salida LandTrendr."
      ]
    },
    {
      "cell_type": "code",
      "execution_count": null,
      "id": "9959a94f",
      "metadata": {
        "id": "9959a94f",
        "outputId": "cfc1d677-671c-414a-f2c6-1c952649b88f"
      },
      "outputs": [
        {
          "name": "stdout",
          "output_type": "stream",
          "text": [
            "Adding layer: CCDC Output\n",
            "Starting webmap\n",
            "Using default refresh token for geeView: C:\\Users\\ianho/.config/earthengine/credentials\n",
            "Local web server at: http://localhost:1233/geeView/ already serving.\n",
            "cwd c:\\RCR\\quickLabsTrainingMaterials\\lcms-training\n"
          ]
        },
        {
          "data": {
            "text/html": [
              "\n",
              "        <iframe\n",
              "            width=\"100%\"\n",
              "            height=\"525px\"\n",
              "            src=\"http://localhost:1233/geeView/?accessToken=ya29.a0AfB_byAjOmJWkQgvRq8HkHmFxsSb5RREDFMrS1CY_muBeyhgEI4oFBb93hEPWI8kieb4ixb6Gq2QnloSj5HpzaqagWMzzsFsTprRCA9XPqRo_l0Sh34TP4sCjMIo_thejoGJAEf-7ELHB99l3YYOlDjN7ApS1AuqZ4viF-I_dgKgaCgYKAX8SARASFQGOcNnCsY-7stcLapDfQIOHGTHFWw0179\"\n",
              "            frameborder=\"0\"\n",
              "            allowfullscreen\n",
              "            \n",
              "        ></iframe>\n",
              "        "
            ],
            "text/plain": [
              "<IPython.lib.display.IFrame at 0x1be1ce62f50>"
            ]
          },
          "metadata": {},
          "output_type": "display_data"
        }
      ],
      "source": [
        "#Establecer la colección de escenas en ccdcParams\n",
        "ccdcParams['collection'] = processedScenes\n",
        "\n",
        "#Ejecutar CCDC\n",
        "ccdc = ee.Image(ee.Algorithms.TemporalSegmentation.Ccdc(**ccdcParams))\n",
        "\n",
        "# Añadir al mapa\n",
        "Map.addLayer(ccdc,{},'CCDC Output')\n",
        "\n",
        "Map.turnOnInspector()\n",
        "Map.view()"
      ]
    },
    {
      "cell_type": "markdown",
      "id": "2efa4241",
      "metadata": {
        "id": "2efa4241"
      },
      "source": [
        "#### Interpretar las salidas CCDC\n",
        "\n",
        "Para comprender cómo se relacionan las salidas de CCDC con los datos de entrada originales, uniremos los valores de NDVI de entrada sin procesar a los valores de NDVI pronosticados de CCDC.\n",
        "\n",
        "**Extraer los datos puede llevar algún tiempo y consultar este mapa a menudo generará errores, ya que este proceso requiere bastante procesamiento computacional. Por favor sea paciente.**"
      ]
    },
    {
      "cell_type": "code",
      "execution_count": null,
      "id": "c645eecd",
      "metadata": {
        "id": "c645eecd",
        "outputId": "d10f8713-7ae3-4b20-99ae-fcc7bf55e395"
      },
      "outputs": [
        {
          "name": "stdout",
          "output_type": "stream",
          "text": [
            "Adding layer: Raw Landsat and CCDC Fitted\n",
            "Starting webmap\n",
            "Using default refresh token for geeView: C:\\Users\\ianho/.config/earthengine/credentials\n",
            "Local web server at: http://localhost:1233/geeView/ already serving.\n",
            "cwd c:\\RCR\\quickLabsTrainingMaterials\\lcms-training\n"
          ]
        },
        {
          "data": {
            "text/html": [
              "\n",
              "        <iframe\n",
              "            width=\"100%\"\n",
              "            height=\"525px\"\n",
              "            src=\"http://localhost:1233/geeView/?accessToken=ya29.a0AfB_byAycUnXkSjUu5aaykd5FgxYE-VvVPlQEIJx_XT8l4IB3YzgroLWv_T8OnyWqhIaEYZPdNnBkKDWV5X4WsViwjkVse8oKYTRnOOk2CxlWnQeUMmFFxvjfrzU7IKGgN1kogVuLWDAfxEFa09fnpOQ0s7spNoinAuJmmoBg3a1aCgYKAX8SARASFQGOcNnC8mGmlXdJtVYLSafXNRr4bg0179\"\n",
              "            frameborder=\"0\"\n",
              "            allowfullscreen\n",
              "            \n",
              "        ></iframe>\n",
              "        "
            ],
            "text/plain": [
              "<IPython.lib.display.IFrame at 0x1be1d313a90>"
            ]
          },
          "metadata": {},
          "output_type": "display_data"
        }
      ],
      "source": [
        "# Especifique qué bandas mostrar en el ejemplo.\n",
        "exampleBandNames = ['NDVI']\n",
        "\n",
        "# Ahora unámonos al CCDC sin procesar y previsto por un subconjunto de tiempo.\n",
        "processedScenes = processedScenes\\\n",
        "                    .filter(ee.Filter.calendarRange(2010,2023,'year'))\\\n",
        "                    .map(getImagesLib.addYearYearFractionBand)\n",
        "\n",
        "# Si se deben llenar los espacios entre el año final de los segmentos y el año de inicio posterior a la fecha de ruptura\n",
        "fillGaps = False\n",
        "\n",
        "fitted = changeDetectionLib.predictCCDC(ccdc,processedScenes.select(['year']),fillGaps=fillGaps,whichHarmonics=[1,2,3])\n",
        "\n",
        "exampleFittedBandNames = [f'{bn}_CCDC_fitted' for bn in exampleBandNames]\n",
        "\n",
        "ccdcJoined = getImagesLib.joinCollections(processedScenes.select(exampleBandNames),fitted.select(exampleFittedBandNames))\n",
        "ccdcJoinedBns = ccdcJoined.first().bandNames().getInfo()\n",
        "\n",
        "# View the map\n",
        "Map.clearMap()\n",
        "Map.addLayer(ccdcJoined,{'min':0.2,'max':0.8},'Raw Landsat and CCDC Fitted')\n",
        "Map.turnOnInspector()\n",
        "Map.view()\n",
        "\n"
      ]
    },
    {
      "cell_type": "markdown",
      "id": "eddbf16d",
      "metadata": {
        "id": "eddbf16d"
      },
      "source": [
        "#### Ver salidas CCDC en un solo punto\n",
        "\n",
        "Extraeremos un solo píxel de la salida para ilustrar cómo se relacionan las entradas sin procesar con la salida CCDC instalada. Esto puede llevar algún tiempo."
      ]
    },
    {
      "cell_type": "code",
      "execution_count": null,
      "id": "7e3e1d31",
      "metadata": {
        "id": "7e3e1d31",
        "outputId": "fa3c7de5-5b34-47a6-eddf-0ebfcd8653e3"
      },
      "outputs": [
        {
          "ename": "NameError",
          "evalue": "name 'ee' is not defined",
          "output_type": "error",
          "traceback": [
            "\u001b[1;31m---------------------------------------------------------------------------\u001b[0m",
            "\u001b[1;31mNameError\u001b[0m                                 Traceback (most recent call last)",
            "\u001b[1;32mc:\\RCR\\quickLabsTrainingMaterials\\lcms-training\\3-LandTrendr_and_CCDC.ipynb Cell 67\u001b[0m line \u001b[0;36m2\n\u001b[0;32m      <a href='vscode-notebook-cell:/c%3A/RCR/quickLabsTrainingMaterials/lcms-training/3-LandTrendr_and_CCDC.ipynb#Y123sZmlsZQ%3D%3D?line=0'>1</a>\u001b[0m \u001b[39m# # Provide an example location \u001b[39;00m\n\u001b[1;32m----> <a href='vscode-notebook-cell:/c%3A/RCR/quickLabsTrainingMaterials/lcms-training/3-LandTrendr_and_CCDC.ipynb#Y123sZmlsZQ%3D%3D?line=1'>2</a>\u001b[0m pt \u001b[39m=\u001b[39m ee\u001b[39m.\u001b[39mGeometry\u001b[39m.\u001b[39mPoint([ \u001b[39m-\u001b[39m\u001b[39m65.944\u001b[39m , \u001b[39m18.404\u001b[39m])\n\u001b[0;32m      <a href='vscode-notebook-cell:/c%3A/RCR/quickLabsTrainingMaterials/lcms-training/3-LandTrendr_and_CCDC.ipynb#Y123sZmlsZQ%3D%3D?line=3'>4</a>\u001b[0m \u001b[39m# Extract the values and plot them\u001b[39;00m\n\u001b[0;32m      <a href='vscode-notebook-cell:/c%3A/RCR/quickLabsTrainingMaterials/lcms-training/3-LandTrendr_and_CCDC.ipynb#Y123sZmlsZQ%3D%3D?line=4'>5</a>\u001b[0m \u001b[39mprint\u001b[39m(\u001b[39m'\u001b[39m\u001b[39mExtracting raw Landsat and fitted CCDC values\u001b[39m\u001b[39m'\u001b[39m)\n",
            "\u001b[1;31mNameError\u001b[0m: name 'ee' is not defined"
          ]
        }
      ],
      "source": [
        "# # Proporcione una ubicación de ejemplo\n",
        "pt = ee.Geometry.Point([-93.63546,17.78971])\n",
        "\n",
        "# Extraer los valores y trazarlos.\n",
        "print('Extracting raw Landsat and fitted CCDC values')\n",
        "crs = mexico_composites.first().projection()\n",
        "timSeries = g2p.extractPointValuesToDataFrame(ccdcJoined,pt,scale=30,crs = crs, transform = None)\n",
        "timSeries['system:time_start']= g2p.pandas.to_datetime(timSeries['system:time_start'], unit='ms')\n",
        "\n",
        "timSeriesT = timSeries[ccdcJoinedBns]\n",
        "timSeriesT.index = timSeries['system:time_start']\n",
        "timSeriesT.plot.line(title='Raw Landsat and CCDC Fitted',xlabel='Date',ylabel='Value')\n",
        "\n",
        "print('Hecho')"
      ]
    },
    {
      "cell_type": "markdown",
      "id": "94a343b9",
      "metadata": {
        "id": "94a343b9"
      },
      "source": [
        "#### Inspeccionar\n",
        "\n",
        "¿Qué observa sobre los valores brutos de NDVI y los valores de CCDC? ¿Cuántos segmentos se colocan? Recuerde que se ajusta una salida con formato similar para cada píxel de la imagen, para cada una de las bandas que seleccionó para incluir en el algoritmo.\n",
        "\n",
        "### 3.5.5 - Ejecute CCDC en todos los mosaicos\n",
        "**Iterar en todos los mosaicos y exportar salidas CCDC**\n",
        "\n",
        "Ahora que comprende cómo ejecutar CCDC sobre datos de Landsat, ejecutará el mismo proceso en todos los mosaicos y exportará los datos como un activo.\n",
        "\n",
        "Ejecute el bloque de código siguiente para iterar sobre los identificadores de mosaico para obtener imágenes, ejecutar el algoritmo CCDC y exportar el resultado.\n"
      ]
    },
    {
      "cell_type": "code",
      "execution_count": null,
      "id": "410d3368",
      "metadata": {
        "id": "410d3368",
        "outputId": "fd328416-b3ea-4e82-986d-2c42aee7820b"
      },
      "outputs": [
        {
          "ename": "NameError",
          "evalue": "name 'ids' is not defined",
          "output_type": "error",
          "traceback": [
            "\u001b[1;31m---------------------------------------------------------------------------\u001b[0m",
            "\u001b[1;31mNameError\u001b[0m                                 Traceback (most recent call last)",
            "\u001b[1;32mc:\\RCR\\quickLabsTrainingMaterials\\lcms-training\\3-LandTrendr_and_CCDC.ipynb Cell 69\u001b[0m line \u001b[0;36m2\n\u001b[0;32m      <a href='vscode-notebook-cell:/c%3A/RCR/quickLabsTrainingMaterials/lcms-training/3-LandTrendr_and_CCDC.ipynb#Y125sZmlsZQ%3D%3D?line=0'>1</a>\u001b[0m \u001b[39m#iterate over ids\u001b[39;00m\n\u001b[1;32m----> <a href='vscode-notebook-cell:/c%3A/RCR/quickLabsTrainingMaterials/lcms-training/3-LandTrendr_and_CCDC.ipynb#Y125sZmlsZQ%3D%3D?line=1'>2</a>\u001b[0m \u001b[39mfor\u001b[39;00m \u001b[39mid\u001b[39m \u001b[39min\u001b[39;00m ids:\n\u001b[0;32m      <a href='vscode-notebook-cell:/c%3A/RCR/quickLabsTrainingMaterials/lcms-training/3-LandTrendr_and_CCDC.ipynb#Y125sZmlsZQ%3D%3D?line=2'>3</a>\u001b[0m     \u001b[39mprint\u001b[39m(\u001b[39mid\u001b[39m)\n\u001b[0;32m      <a href='vscode-notebook-cell:/c%3A/RCR/quickLabsTrainingMaterials/lcms-training/3-LandTrendr_and_CCDC.ipynb#Y125sZmlsZQ%3D%3D?line=3'>4</a>\u001b[0m     \u001b[39m# Get the tile and buffer it so there are no missing pixels at tile edges\u001b[39;00m\n",
            "\u001b[1;31mNameError\u001b[0m: name 'ids' is not defined"
          ]
        }
      ],
      "source": [
        "# Iterar sobre identificadores\n",
        "for id in ids:\n",
        "    print(id)\n",
        "    # Obtenga el mosaico y guárdelo para que no falten píxeles en los bordes del mosaico.\n",
        "    tile = grid.filter(ee.Filter.eq('system:index',id)).geometry().intersection(studyArea,240,projection).buffer(900)\n",
        "\n",
        "    # Map.addLayer(tile,{},'Tile {}'.format(id))\n",
        "\n",
        "    processedScenes = getImagesLib.getProcessedLandsatScenes(studyArea = tile,startYear = startYear, endYear = endYear,\n",
        "                                                        startJulian = startJulian,endJulian = endJulian,\n",
        "                                                        includeSLCOffL7 = includeSLCOffL7).select(exportBands)\n",
        "    processedScenes = processedScenes.map(removeGT1)\n",
        "    # print(processedScenes.size().getInfo())\n",
        "\n",
        "    # Establecer la colección de escenas en ccdcParams\n",
        "    ccdcParams['collection'] = processedScenes\n",
        "\n",
        "    # Ejecutar CCDC\n",
        "    ccdc = ee.Image(ee.Algorithms.TemporalSegmentation.Ccdc(**ccdcParams))\n",
        "    ccdc = ccdc.set({'startYear':startYear,\n",
        "                     'endYear':endYear,\n",
        "                     'startJulian':startJulian,\n",
        "                     'endJulian':endJulian,\n",
        "                     'TileSize':tileSize,\n",
        "                     'TileID':id})\n",
        "\n",
        "    # Exportar la salida\n",
        "    exportName = 'CCDC_Tile-{}m_ID{}_yrs{}-{}_jds{}-{}'.format(tileSize,id.replace(',','-'),startYear,endYear,startJulian,endJulian)\n",
        "    exportPath = f'{export_ccdc_collection}/{exportName}'\n",
        "    print(exportPath)\n",
        "\n",
        "    getImagesLib.exportToAssetWrapper(ccdc,exportName,exportPath,{'.default':'sample'},tile,30,crs,None,overwrite=False)\n",
        "\n",
        "print('Hecho')"
      ]
    },
    {
      "cell_type": "markdown",
      "id": "9c5e01a5",
      "metadata": {
        "id": "9c5e01a5"
      },
      "source": [
        "#### Seguimiento de tareas y gestión de archivos.\n",
        "\n",
        "Puede realizar un seguimiento de las tareas en el bloque de código a continuación o visitando https://code.earthengine.google.com/tasks .\n",
        "\n",
        "Descomente los siguientes comandos para realizar un seguimiento de las tareas, si lo desea. Esto informará qué tareas están en proceso y su estado de exportación.\n"
      ]
    },
    {
      "cell_type": "code",
      "execution_count": null,
      "id": "b2ab159e",
      "metadata": {
        "id": "b2ab159e",
        "outputId": "f6eaf540-86c8-4090-891e-4d2c388aef19"
      },
      "outputs": [
        {
          "name": "stdout",
          "output_type": "stream",
          "text": [
            "done\n"
          ]
        }
      ],
      "source": [
        "# Puede realizar un seguimiento de las tareas aquí o en https://code.earthengine.google.com/tasks\n",
        "# Si desea realizar un seguimiento de las tareas, utilice esto:\n",
        "# tml.trackTasks2()\n",
        "\n",
        "# Si desea cancelar todas las tareas en ejecución, puede utilizar esta función\n",
        "# tml.batchCancel()\n",
        "\n",
        "# Si desea vaciar la colección de todas las imágenes\n",
        "# aml.batchDelete(exportPathRoot, type = 'imageCollection')\n",
        "\n",
        "print('Hecho')"
      ]
    },
    {
      "cell_type": "markdown",
      "id": "9c422e82",
      "metadata": {
        "id": "9c422e82"
      },
      "source": [
        "#### Inspeccionar salidas\n",
        "\n",
        "Incorpora los resultados y crea un mosaico en una sola imagen. Usaremos esta imagen en módulos posteriores."
      ]
    },
    {
      "cell_type": "code",
      "execution_count": null,
      "id": "0cb3e21f",
      "metadata": {
        "id": "0cb3e21f",
        "outputId": "0ef01d1e-fd9b-442a-a7c0-973f2777549e"
      },
      "outputs": [
        {
          "name": "stdout",
          "output_type": "stream",
          "text": [
            "Adding layer: CCDC Raw Image\n",
            "Starting webmap\n",
            "Using default refresh token for geeView: C:\\Users\\ianho/.config/earthengine/credentials\n",
            "Local web server at: http://localhost:1233/geeView/ already serving.\n",
            "cwd c:\\RCR\\quickLabsTrainingMaterials\\lcms-training\n"
          ]
        },
        {
          "data": {
            "text/html": [
              "\n",
              "        <iframe\n",
              "            width=\"100%\"\n",
              "            height=\"525px\"\n",
              "            src=\"http://localhost:1233/geeView/?accessToken=ya29.a0AfB_byCY-2BX8KRMtv8rCISkuGnYo18FveY5yNU5P9uqK5wRp_KkVo9Um7VPPZLgDmymWGnqpZUmad1UPyrYs6Y0yyICmRFlABAe5T3Ab9SgAUcGQy-bzwZKtF80m8zy_iV5V2dkVtn4NZJBCAa2df037fzX2fAz7mo-4CqXU3bFaCgYKAfISARASFQGOcNnClG0ALK5WDaIVHV4M7r3CZg0179\"\n",
              "            frameborder=\"0\"\n",
              "            allowfullscreen\n",
              "            \n",
              "        ></iframe>\n",
              "        "
            ],
            "text/plain": [
              "<IPython.lib.display.IFrame at 0x1be1ddf6250>"
            ]
          },
          "metadata": {},
          "output_type": "display_data"
        }
      ],
      "source": [
        "Map.clearMap()\n",
        "\n",
        "# Incorpora los resultados y crea un mosaico en una sola imagen.\n",
        "ccdcImg = ee.ImageCollection(f'{pre_baked_path_root}/lcms-training_module-3_CCDC').mosaic()\n",
        "Map.addLayer(ccdcImg,{'addToLegend':False},'CCDC Raw Image')\n",
        "Map.centerObject(studyArea,10)\n",
        "Map.turnOnInspector()\n",
        "Map.view()"
      ]
    },
    {
      "cell_type": "markdown",
      "id": "f7085ea8",
      "metadata": {
        "id": "f7085ea8"
      },
      "source": [
        "Haga clic en el mapa para consultar las salidas. Verás que hay salidas multibanda que incluyen coeficientes, magnitud y RMSE para todas las bandas. Al igual que las salidas de LandTrendr, las salidas de la matriz son difíciles de analizar. Visualizaremos los resultados con más detalle un poco más adelante.\n"
      ]
    },
    {
      "cell_type": "markdown",
      "id": "601419ba",
      "metadata": {
        "id": "601419ba"
      },
      "source": [
        "### 3.5.6: Uso de CCDC para detectar cambios\n",
        "\n",
        "Puede utilizar las pausas de CCDC como herramienta para detectar cambios significativos en la estacionalidad (fenología).\n"
      ]
    },
    {
      "cell_type": "code",
      "execution_count": null,
      "id": "4a168bea",
      "metadata": {
        "id": "4a168bea",
        "outputId": "4b4cfa09-2737-4757-c225-7136eb0c708b"
      },
      "outputs": [
        {
          "name": "stdout",
          "output_type": "stream",
          "text": [
            "['tStart', 'tEnd', 'tBreak', 'numObs', 'changeProb', 'blue_coefs', 'green_coefs', 'red_coefs', 'nir_coefs', 'swir1_coefs', 'swir2_coefs', 'NDVI_coefs', 'blue_rmse', 'green_rmse', 'red_rmse', 'nir_rmse', 'swir1_rmse', 'swir2_rmse', 'NDVI_rmse', 'blue_magnitude', 'green_magnitude', 'red_magnitude', 'nir_magnitude', 'swir1_magnitude', 'swir2_magnitude', 'NDVI_magnitude']\n"
          ]
        }
      ],
      "source": [
        "## INSPECCIONAR PROPIEDADES DE CCDCIMG\n",
        "print(ccdcImg.bandNames().getInfo())"
      ]
    },
    {
      "cell_type": "markdown",
      "id": "64bec109",
      "metadata": {
        "id": "64bec109"
      },
      "source": [
        "#### Inspeccionar la función de detección de cambios ccdc\n",
        "\n",
        "A continuación, inspeccione la función `ccdcChangeDetection` en `changeDetectionLib` para ver qué tipo de parámetros y entradas necesitaremos.\n",
        "\n",
        "Presta atención a:\n",
        "- a) los objetos/parámetros que se ingresan a la función y\n",
        "- b) lo que devuelve la función"
      ]
    },
    {
      "cell_type": "code",
      "execution_count": null,
      "id": "07af7d12",
      "metadata": {
        "id": "07af7d12",
        "outputId": "00b9e42c-452f-4987-c699-8be94e5f0cf9"
      },
      "outputs": [
        {
          "name": "stdout",
          "output_type": "stream",
          "text": [
            "def ccdcChangeDetection(ccdcImg,bandName):\n",
            "  magKeys = ['.*_magnitude']\n",
            "  tBreakKeys = ['tBreak']\n",
            "  changeProbKeys = ['changeProb']\n",
            "  changeProbThresh = 1\n",
            "\n",
            "  #Pull out pieces from CCDC output\n",
            "  magnitudes = ccdcImg.select(magKeys)\n",
            "  breaks = ccdcImg.select(tBreakKeys)\n",
            "  \n",
            "  #Map.addLayer(breaks.arrayLength(0),{'min':1,'max':10});\n",
            "  changeProbs = ccdcImg.select(changeProbKeys)\n",
            "  changeMask = changeProbs.gte(changeProbThresh)\n",
            "  magnitudes = magnitudes.select(bandName + '.*')\n",
            "\n",
            "  \n",
            "  #Sort by magnitude and years\n",
            "  breaksSortedByMag = breaks.arraySort(magnitudes)\n",
            "  magnitudesSortedByMag = magnitudes.arraySort()\n",
            "  changeMaskSortedByMag = changeMask.arraySort(magnitudes)\n",
            "  \n",
            "  breaksSortedByYear = breaks.arraySort()\n",
            "  magnitudesSortedByYear = magnitudes.arraySort(breaks)\n",
            "  changeMaskSortedByYear = changeMask.arraySort(breaks)\n",
            "  \n",
            "  #Get the loss and gain years and magnitudes for each sorting method\n",
            "  highestMagLossYear = breaksSortedByMag.arraySlice(0,0,1).arrayFlatten([['loss_year']])\n",
            "  highestMagLossMag = magnitudesSortedByMag.arraySlice(0,0,1).arrayFlatten([['loss_mag']])\n",
            "  highestMagLossMask = changeMaskSortedByMag.arraySlice(0,0,1).arrayFlatten([['loss_mask']])\n",
            "  \n",
            "  highestMagLossYear = highestMagLossYear.updateMask(highestMagLossMag.lt(0).And(highestMagLossMask))\n",
            "  highestMagLossMag = highestMagLossMag.updateMask(highestMagLossMag.lt(0).And(highestMagLossMask))\n",
            "  \n",
            "  highestMagGainYear = breaksSortedByMag.arraySlice(0,-1,None).arrayFlatten([['gain_year']])\n",
            "  highestMagGainMag = magnitudesSortedByMag.arraySlice(0,-1,None).arrayFlatten([['gain_mag']])\n",
            "  highestMagGainMask = changeMaskSortedByMag.arraySlice(0,-1,None).arrayFlatten([['gain_mask']]);\n",
            "  \n",
            "  highestMagGainYear = highestMagGainYear.updateMask(highestMagGainMag.gt(0).And(highestMagGainMask));\n",
            "  highestMagGainMag = highestMagGainMag.updateMask(highestMagGainMag.gt(0).And(highestMagGainMask));\n",
            "  \n",
            "\n",
            "\n",
            "\n",
            "  mostRecentLossYear = breaksSortedByYear.arrayMask(magnitudesSortedByYear.lt(0)).arrayPad([1]).arraySlice(0,-1,None).arrayFlatten([['loss_year']]);\n",
            "  mostRecentLossMag = magnitudesSortedByYear.arrayMask(magnitudesSortedByYear.lt(0)).arrayPad([1]).arraySlice(0,-1,None).arrayFlatten([['loss_mag']]);\n",
            "  mostRecentLossMask = changeMaskSortedByYear.arrayMask(magnitudesSortedByYear.lt(0)).arrayPad([1]).arraySlice(0,-1,None).arrayFlatten([['loss_mask']]);\n",
            "  \n",
            "  mostRecentLossYear = mostRecentLossYear.updateMask(mostRecentLossMag.lt(0).And(mostRecentLossMask));\n",
            "  mostRecentLossMag = mostRecentLossMag.updateMask(mostRecentLossMag.lt(0).And(mostRecentLossMask));\n",
            " \n",
            "  mostRecentGainYear = breaksSortedByYear.arrayMask(magnitudesSortedByYear.gt(0)).arrayPad([1]).arraySlice(0,-1,None).arrayFlatten([['gain_year']]);\n",
            "  mostRecentGainMag = magnitudesSortedByYear.arrayMask(magnitudesSortedByYear.gt(0)).arrayPad([1]).arraySlice(0,-1,None).arrayFlatten([['gain_mag']]);\n",
            "  mostRecentGainMask = changeMaskSortedByYear.arrayMask(magnitudesSortedByYear.gt(0)).arrayPad([1]).arraySlice(0,-1,None).arrayFlatten([['gain_mask']]);\n",
            "  \n",
            "  mostRecentGainYear = mostRecentGainYear.updateMask(mostRecentGainMag.gt(0).And(mostRecentGainMask))\n",
            "  mostRecentGainMag = mostRecentGainMag.updateMask(mostRecentGainMag.gt(0).And(mostRecentGainMask))\n",
            "  \n",
            "  return {'mostRecent':{\n",
            "    'loss':{'year':mostRecentLossYear,\n",
            "          'mag': mostRecentLossMag\n",
            "        },\n",
            "    'gain':{'year':mostRecentGainYear,\n",
            "          'mag': mostRecentGainMag\n",
            "        }\n",
            "    },\n",
            "    'highestMag':{\n",
            "    'loss':{'year':highestMagLossYear,\n",
            "          'mag': highestMagLossMag\n",
            "        },\n",
            "    'gain':{'year':highestMagGainYear,\n",
            "          'mag': highestMagGainMag\n",
            "        }\n",
            "    }    \n",
            "  }\n",
            "\n"
          ]
        }
      ],
      "source": [
        "# opción de impresión\n",
        "print(inspect.getsource(changeDetectionLib.ccdcChangeDetection))"
      ]
    },
    {
      "cell_type": "markdown",
      "id": "e26a26da",
      "metadata": {
        "id": "e26a26da"
      },
      "source": [
        "#### Conclusiones de la función ccdcChangeDetection\n",
        "Tenga en cuenta que la función devuelve un objeto que contiene un diccionario con objetos titulados `mostRecent` y `highestMag`. Estas salidas son métodos diferentes para ordenar la información de cambios de CCDC: por ruptura de CCDC más reciente (\"mostRecent\") o de mayor magnitud (\"highestMag\").\n",
        "\n",
        "### 3.5.7: Establecer parámetros de detección de cambios para el algoritmo CCDC\n",
        "Esta función nos permite manipular las salidas CCDC en formato de matriz para obtener información significativa, es decir, información que es más directamente útil que una trayectoria espectral modelada.\n",
        "\n",
        "#### Especificar la banda utilizada para la detección de cambios\n",
        "\n",
        "Esto es muy importante para la magnitud de las pérdidas y ganancias, ya que el año del cambio será el mismo para todos los años.\n",
        "\n",
        "`changeDetectionBandName = 'NDVI'`\n",
        "\n",
        "#### Especificar el método de clasificación para mostrar el cambio\n",
        "\n",
        "Elige si mostrar el más reciente (`'mostRecent'`) o magnitud más alta (`'highestMag'`) CCDC rompe"
      ]
    },
    {
      "cell_type": "code",
      "execution_count": null,
      "id": "e0eef991",
      "metadata": {
        "id": "e0eef991"
      },
      "outputs": [],
      "source": [
        "#Especifique qué banda usar para pérdidas y ganancias.\n",
        "#This is most important for the loss and gain magnitude since the year of change will be the same for all years\n",
        "changeDetectionBandName = 'NDVI'\n",
        "\n",
        "# Elija si desea mostrar el CCDC rompe más reciente ('mostRecent') o de mayor magnitud ('highestMag') CCDC rompe\n",
        "sortingMethod = 'mostRecent'"
      ]
    },
    {
      "cell_type": "markdown",
      "id": "18ddc912",
      "metadata": {
        "id": "18ddc912"
      },
      "source": [
        "### 3.5.8: Ejecute la detección de cambios CCDC e inspeccione las salidas\n",
        "\n",
        "Ahora veremos formas más útiles de visualizar los resultados del CCDC.\n",
        "\n",
        "Primero, extraeremos los años y la magnitud del cambio, según el método de clasificación que acaba de seleccionar; el valor predeterminado en este cuaderno es el cambio \"más reciente\".\n",
        "\n",
        "Esto creará cuatro capas para agregar al mapa:\n",
        "- Año de pérdida más reciente\n",
        "- Magnitud de la pérdida más reciente\n",
        "- Año de ganancia más reciente\n",
        "- Magnitud de ganancia más reciente\n",
        "\n",
        "Haga doble clic en el mapa para ver años sin procesar de pérdidas y ganancias. Active también las capas de magnitud para ver la magnitud del cambio que ocurrió en esos años.\n",
        "\n",
        "Observe que a medida que acerca el zoom, las capas cambian: GEE procesa las salidas a un nivel de zoom establecido y recalcula a medida que acerca o aleja el zoom."
      ]
    },
    {
      "cell_type": "code",
      "execution_count": null,
      "id": "a73b586f",
      "metadata": {
        "id": "a73b586f",
        "outputId": "fe435c87-ac81-4bbe-cbb8-a26bd9b17f9d"
      },
      "outputs": [
        {
          "name": "stdout",
          "output_type": "stream",
          "text": [
            "Adding layer: mostRecent Loss Year\n",
            "Adding layer: mostRecent Loss Magnitude\n",
            "Adding layer: mostRecent Gain Year\n",
            "Adding layer: mostRecent Gain Magnitude\n",
            "Starting webmap\n",
            "Using default refresh token for geeView: C:\\Users\\ianho/.config/earthengine/credentials\n",
            "Local web server at: http://localhost:1233/geeView/ already serving.\n",
            "cwd c:\\RCR\\quickLabsTrainingMaterials\\lcms-training\n"
          ]
        },
        {
          "data": {
            "text/html": [
              "\n",
              "        <iframe\n",
              "            width=\"100%\"\n",
              "            height=\"525px\"\n",
              "            src=\"http://localhost:1233/geeView/?accessToken=ya29.a0AfB_byBz3uEY4kOCc-zs3Dba8fZGJcD_N7qi_7aOyQier6wDM2cpIPGOl7fWt75qpNNBtPmPn0kqFnSxzCDmHZpO14yuT6nO-e8bBGV4HxoxYloxTKQGxbDbURiyEcryKZBEcvHqcyWQHFamAyuQiY0RFQyUvYHsqP8d84BMTZKvaCgYKAfASARASFQGOcNnCeX1foWhjen4wrBNDWMZbPA0179\"\n",
              "            frameborder=\"0\"\n",
              "            allowfullscreen\n",
              "            \n",
              "        ></iframe>\n",
              "        "
            ],
            "text/plain": [
              "<IPython.lib.display.IFrame at 0x1be1ffeed50>"
            ]
          },
          "metadata": {},
          "output_type": "display_data"
        }
      ],
      "source": [
        "# Extraer salidas de detección de cambios de las salidas CCDC para la banda seleccionada\n",
        "changeObj = changeDetectionLib.ccdcChangeDetection(ccdcImg,changeDetectionBandName);\n",
        "\n",
        "# Borre la mapa\n",
        "Map.clearMap()\n",
        "\n",
        "# Agregar nuevas capas al mapa\n",
        "Map.addLayer(changeObj[sortingMethod]['loss']['year'],{'min':startYear,'max':endYear,'palette':changeDetectionLib.lossYearPalette},sortingMethod + ' Loss Year')\n",
        "Map.addLayer(changeObj[sortingMethod]['loss']['mag'],{'min':-0.5,'max':-0.1,'palette':changeDetectionLib.lossMagPalette},sortingMethod + ' Loss Magnitude',False);\n",
        "Map.addLayer(changeObj[sortingMethod]['gain']['year'],{'min':startYear,'max':endYear,'palette':changeDetectionLib.gainYearPalette},sortingMethod + ' Gain Year');\n",
        "Map.addLayer(changeObj[sortingMethod]['gain']['mag'],{'min':0.05,'max':0.2,'palette':changeDetectionLib.gainMagPalette},sortingMethod + ' Gain Magnitude',False);\n",
        "\n",
        "Map.centerObject(studyArea,10)\n",
        "Map.turnOnInspector()\n",
        "Map.view()\n"
      ]
    },
    {
      "cell_type": "markdown",
      "id": "4eab1967",
      "metadata": {
        "id": "4eab1967"
      },
      "source": [
        "### 3.5.9: Obtenga compuestos sintéticos y coeficientes armónicos.\n",
        "\n",
        "Para utilizar CCDC para la clasificación, será necesario manipular la imagen de la matriz para obtener datos significativos, como compuestos sintéticos y coeficientes armónicos. La función `changeDetectionLib.getCCDCSegCoeffs` realiza esta manipulación de matriz para extraer los compuestos y coeficientes. Inspeccione la función a continuación.\n",
        "\n",
        "#### Función de inspección de coeficientes\n",
        "\n",
        "Presta atención a:\n",
        "- a) los parámetros de entrada a la función\n",
        "- b) Qué sucede si fillGaps = True vs si fillGaps = False\n",
        "- c) donde los coeficientes se almacenan en la imagen ccdc de entrada\n",
        "- d) cómo se procesan los coeficientes desde su formato de entrada en bandas de imágenes únicas"
      ]
    },
    {
      "cell_type": "code",
      "execution_count": null,
      "id": "88079d72",
      "metadata": {
        "id": "88079d72",
        "outputId": "04fe9019-b10d-43ef-bad5-69b57f16be9f"
      },
      "outputs": [
        {
          "name": "stdout",
          "output_type": "stream",
          "text": [
            "def getCCDCSegCoeffs(timeImg,ccdcImg,fillGaps):\n",
            "  coeffKeys = ['.*_coefs']\n",
            "  tStartKeys = ['tStart']\n",
            "  tEndKeys = ['tEnd']\n",
            "  tBreakKeys = ['tBreak']\n",
            "  \n",
            "  #Get coeffs and find how many bands have coeffs\n",
            "  coeffs = ccdcImg.select(coeffKeys)\n",
            "  bns = coeffs.bandNames()\n",
            "  nBns = bns.length()\n",
            "  harmonicTag = ee.List(['INTP','SLP','COS1','SIN1','COS2','SIN2','COS3','SIN3'])\n",
            "\n",
            "   \n",
            "  #Get coeffs, start and end times\n",
            "  coeffs = coeffs.toArray(2)\n",
            "  tStarts = ccdcImg.select(tStartKeys)\n",
            "  tEnds = ccdcImg.select(tEndKeys)\n",
            "  tBreaks = ccdcImg.select(tBreakKeys)\n",
            "  \n",
            "  #If filling to the tBreak, use this\n",
            "  tStarts = ee.Image(ee.Algorithms.If(fillGaps,tStarts.arraySlice(0,0,1).arrayCat(tBreaks.arraySlice(0,0,-1),0),tStarts))\n",
            "  tEnds = ee.Image(ee.Algorithms.If(fillGaps,tBreaks.arraySlice(0,0,-1).arrayCat(tEnds.arraySlice(0,-1,None),0),tEnds))\n",
            "  \n",
            "  \n",
            "  #Set up a mask for segments that the time band intersects\n",
            "  tMask = tStarts.lt(timeImg).And(tEnds.gte(timeImg)).arrayRepeat(1,1).arrayRepeat(2,1)\n",
            "  coeffs = coeffs.arrayMask(tMask).arrayProject([2,1]).arrayTranspose(1,0).arrayFlatten([bns,harmonicTag])\n",
            "  \n",
            "  #If time band doesn't intersect any segments, set it to null\n",
            "  coeffs = coeffs.updateMask(coeffs.reduce(ee.Reducer.max()).neq(0))\n",
            "  \n",
            "  return timeImg.addBands(coeffs)\n",
            "\n"
          ]
        }
      ],
      "source": [
        "# inspeccionar la función de coeficientes del segmento\n",
        "print(inspect.getsource(changeDetectionLib.getCCDCSegCoeffs) )\n"
      ]
    },
    {
      "cell_type": "markdown",
      "id": "aeb12a38",
      "metadata": {
        "id": "aeb12a38"
      },
      "source": [
        "#### Función de coeficientes de ejecución\n",
        "\n",
        "A continuación, configurará los parámetros para la función `changeDetectionLib.getCCDCSegCoeffs` para extraer los coeficientes.\n",
        "\n",
        "Aquí, simplemente ejecutará el código para extraer los coeficientes una sola vez. La siguiente función `ee.Image()` crea una imagen donde cada píxel tiene el mismo valor: 2015.5. Esta imagen se utiliza como entrada a la función para extraer los coeficientes en esos valores de tiempo particulares.\n",
        "\n",
        "Ejecute el bloque de código a continuación para obtener los coeficientes y agregarlos al mapa. Puedes hacer clic en el mapa para consultar las salidas. A continuación, inspeccionaremos las salidas en formato de matriz para comprender cómo manipulamos las salidas de la matriz en imágenes que podamos visualizar y usar para la clasificación."
      ]
    },
    {
      "cell_type": "code",
      "execution_count": null,
      "id": "1aa73eed",
      "metadata": {
        "id": "1aa73eed",
        "outputId": "78e2a951-b0cd-415d-b2ad-3be5e164247b"
      },
      "outputs": [
        {
          "name": "stdout",
          "output_type": "stream",
          "text": [
            "['constant', 'blue_coefs_INTP', 'blue_coefs_SLP', 'blue_coefs_COS1', 'blue_coefs_SIN1', 'blue_coefs_COS2', 'blue_coefs_SIN2', 'blue_coefs_COS3', 'blue_coefs_SIN3', 'green_coefs_INTP', 'green_coefs_SLP', 'green_coefs_COS1', 'green_coefs_SIN1', 'green_coefs_COS2', 'green_coefs_SIN2', 'green_coefs_COS3', 'green_coefs_SIN3', 'red_coefs_INTP', 'red_coefs_SLP', 'red_coefs_COS1', 'red_coefs_SIN1', 'red_coefs_COS2', 'red_coefs_SIN2', 'red_coefs_COS3', 'red_coefs_SIN3', 'nir_coefs_INTP', 'nir_coefs_SLP', 'nir_coefs_COS1', 'nir_coefs_SIN1', 'nir_coefs_COS2', 'nir_coefs_SIN2', 'nir_coefs_COS3', 'nir_coefs_SIN3', 'swir1_coefs_INTP', 'swir1_coefs_SLP', 'swir1_coefs_COS1', 'swir1_coefs_SIN1', 'swir1_coefs_COS2', 'swir1_coefs_SIN2', 'swir1_coefs_COS3', 'swir1_coefs_SIN3', 'swir2_coefs_INTP', 'swir2_coefs_SLP', 'swir2_coefs_COS1', 'swir2_coefs_SIN1', 'swir2_coefs_COS2', 'swir2_coefs_SIN2', 'swir2_coefs_COS3', 'swir2_coefs_SIN3', 'NDVI_coefs_INTP', 'NDVI_coefs_SLP', 'NDVI_coefs_COS1', 'NDVI_coefs_SIN1', 'NDVI_coefs_COS2', 'NDVI_coefs_SIN2', 'NDVI_coefs_COS3', 'NDVI_coefs_SIN3']\n",
            "Adding layer: Seg Coeffs\n",
            "Adding layer: Raw Img\n",
            "Starting webmap\n",
            "Using default refresh token for geeView: C:\\Users\\ianho/.config/earthengine/credentials\n",
            "Local web server at: http://localhost:1233/geeView/ already serving.\n",
            "cwd c:\\RCR\\quickLabsTrainingMaterials\\lcms-training\n"
          ]
        },
        {
          "data": {
            "text/html": [
              "\n",
              "        <iframe\n",
              "            width=\"100%\"\n",
              "            height=\"525px\"\n",
              "            src=\"http://localhost:1233/geeView/?accessToken=ya29.a0AfB_byCmBjNTBRTUzJbznTj6j5aTZ-HhJn0TtC5it25r9cOWPvDEQe6fBbV-H-Typb7Hz4_33AwZ3EUDB4bVbZnkaiLYCZwDYt76NZStQ9iKW45XwqaYxq5tvECdxKAwe1abvNTYYEP-qPLKMOrIp6VAehzImxrDKvv9ZBqHpqruaCgYKAcQSARASFQGOcNnC-sVcIR4YokuTxdKybsiKhw0179\"\n",
              "            frameborder=\"0\"\n",
              "            allowfullscreen\n",
              "            \n",
              "        ></iframe>\n",
              "        "
            ],
            "text/plain": [
              "<IPython.lib.display.IFrame at 0x1be2002e810>"
            ]
          },
          "metadata": {},
          "output_type": "display_data"
        }
      ],
      "source": [
        "# establecer parámetros y obtener coeficientes de segmento\n",
        "fillGaps = False\n",
        "segCoeffs = changeDetectionLib.getCCDCSegCoeffs(ee.Image(2015.5), ccdcImg, fillGaps)\n",
        "\n",
        "# inspeccionar nueva salida\n",
        "print(segCoeffs.bandNames().getInfo())\n",
        "\n",
        "# Añadir al mapa\n",
        "Map.clearMap()\n",
        "Map.addLayer(segCoeffs, {}, 'Seg Coeffs')\n",
        "Map.addLayer(ccdcImg, {}, 'Raw Img')\n",
        "\n",
        "Map.turnOnInspector()\n",
        "Map.view()"
      ]
    },
    {
      "cell_type": "markdown",
      "id": "e8dc1f84",
      "metadata": {
        "id": "e8dc1f84"
      },
      "source": [
        "### 3.5.10: Manipular la matriz en salidas de imágenes utilizables\n",
        "\n",
        "A continuación, manipulará las matrices masivas para convertirlas en resultados de imágenes utilizables. Como ejemplo, inspeccionaremos cómo se ve la matriz en un solo punto.\n",
        "\n",
        "El primer paso es establecer el punto de ejemplo y extraer los coeficientes, nombres de bandas y armónicos de la salida CCDC.\n",
        "\n",
        "Ejecute el bloque de código siguiente para extraer los datos de la imagen CCDC. Luego, visualizará la salida de un segmento en el punto de entrada."
      ]
    },
    {
      "cell_type": "code",
      "execution_count": null,
      "id": "5bb76b0d",
      "metadata": {
        "id": "5bb76b0d",
        "outputId": "5c7c5055-c968-4849-80da-94db123755b0"
      },
      "outputs": [
        {
          "name": "stdout",
          "output_type": "stream",
          "text": [
            "Done\n"
          ]
        },
        {
          "data": {
            "text/html": [
              "<style type=\"text/css\">\n",
              "#T_882e5 caption {\n",
              "  text-align: left;\n",
              "  font-size: 150%;\n",
              "  font-weight: bold;\n",
              "}\n",
              "</style>\n",
              "<table id=\"T_882e5\">\n",
              "  <caption>Intercept</caption>\n",
              "  <thead>\n",
              "    <tr>\n",
              "      <th class=\"blank level0\" >&nbsp;</th>\n",
              "      <th id=\"T_882e5_level0_col0\" class=\"col_heading level0 col0\" >blue</th>\n",
              "      <th id=\"T_882e5_level0_col1\" class=\"col_heading level0 col1\" >green</th>\n",
              "      <th id=\"T_882e5_level0_col2\" class=\"col_heading level0 col2\" >red</th>\n",
              "      <th id=\"T_882e5_level0_col3\" class=\"col_heading level0 col3\" >nir</th>\n",
              "      <th id=\"T_882e5_level0_col4\" class=\"col_heading level0 col4\" >swir1</th>\n",
              "      <th id=\"T_882e5_level0_col5\" class=\"col_heading level0 col5\" >swir2</th>\n",
              "      <th id=\"T_882e5_level0_col6\" class=\"col_heading level0 col6\" >NDVI</th>\n",
              "    </tr>\n",
              "  </thead>\n",
              "  <tbody>\n",
              "    <tr>\n",
              "      <th id=\"T_882e5_level0_row0\" class=\"row_heading level0 row0\" >Segment 1</th>\n",
              "      <td id=\"T_882e5_row0_col0\" class=\"data row0 col0\" >2.883502</td>\n",
              "      <td id=\"T_882e5_row0_col1\" class=\"data row0 col1\" >3.282841</td>\n",
              "      <td id=\"T_882e5_row0_col2\" class=\"data row0 col2\" >1.889072</td>\n",
              "      <td id=\"T_882e5_row0_col3\" class=\"data row0 col3\" >19.140961</td>\n",
              "      <td id=\"T_882e5_row0_col4\" class=\"data row0 col4\" >5.329586</td>\n",
              "      <td id=\"T_882e5_row0_col5\" class=\"data row0 col5\" >1.267390</td>\n",
              "      <td id=\"T_882e5_row0_col6\" class=\"data row0 col6\" >0.760559</td>\n",
              "    </tr>\n",
              "  </tbody>\n",
              "</table>\n"
            ],
            "text/plain": [
              "<pandas.io.formats.style.Styler at 0x1be1dea9e10>"
            ]
          },
          "metadata": {},
          "output_type": "display_data"
        }
      ],
      "source": [
        "# Proporcione una ubicación de ejemplo\n",
        "pt = ee.Geometry.Point([-93.63546,17.78971])\n",
        "\n",
        "# nombres de atributos\n",
        "coeffKeys = ['.*_coefs']\n",
        "tStartKeys = ['tStart']\n",
        "tEndKeys = ['tEnd']\n",
        "tBreakKeys = ['tBreak']\n",
        "\n",
        "# Obtenga coeficientes y encuentre cuántas bandas tienen coeficientes\n",
        "coeffs = ccdcImg.select(coeffKeys)\n",
        "bns = coeffs.bandNames().getInfo()\n",
        "input_bns = [bn.split('_')[0] for bn in bns]\n",
        "harmonicTag = ['INTP','SLP','COS1','SIN1','COS2','SIN2','COS3','SIN3']\n",
        "\n",
        "\n",
        "# Obtener coeficientes, horas de inicio y finalización.\n",
        "coeffs = coeffs.toArray(2)\n",
        "tStarts = ccdcImg.select(tStartKeys)\n",
        "tEnds = ccdcImg.select(tEndKeys)\n",
        "tBreaks = ccdcImg.select(tBreakKeys)\n",
        "\n",
        "index = [f'Segment {i}' for i in list(range(1,5))]\n",
        "\n",
        "print(\"Hecho\")\n",
        "\n",
        "# Visualizar la salida del ejemplo\n",
        "display(g2p.imageArrayPixelToDataFrame(coeffs.arraySlice(1,0,1).arraySlice(0,0,1).arrayProject([2,1]), pt,None,crs,transform, 'Intercept',index = ['Segment 1'],columns =input_bns ))"
      ]
    },
    {
      "cell_type": "markdown",
      "id": "0a52b692",
      "metadata": {
        "id": "0a52b692"
      },
      "source": [
        "#### Inspeccionar las salidas de la matriz\n",
        "\n",
        "Cada píxel tiene cualquier número de segmentos. Para cada segmento, existe un modelo para cada banda.\n",
        "Por ejemplo, las intersecciones de la ecuación para cada banda del primer segmento se muestran arriba.\n",
        "\n",
        "A continuación, ejecute el bloque de código siguiente para observar todos los coeficientes de un píxel determinado para todas las bandas y todos los segmentos.\n"
      ]
    },
    {
      "cell_type": "code",
      "execution_count": null,
      "id": "05325897",
      "metadata": {
        "id": "05325897",
        "outputId": "f13c5cca-5979-403a-9268-5048867b4064"
      },
      "outputs": [
        {
          "data": {
            "text/html": [
              "<style type=\"text/css\">\n",
              "#T_07c4a caption {\n",
              "  text-align: left;\n",
              "  font-size: 150%;\n",
              "  font-weight: bold;\n",
              "}\n",
              "</style>\n",
              "<table id=\"T_07c4a\">\n",
              "  <caption>Coeffs</caption>\n",
              "  <thead>\n",
              "    <tr>\n",
              "      <th class=\"blank level0\" >&nbsp;</th>\n",
              "      <th id=\"T_07c4a_level0_col0\" class=\"col_heading level0 col0\" >INTP</th>\n",
              "      <th id=\"T_07c4a_level0_col1\" class=\"col_heading level0 col1\" >SLP</th>\n",
              "      <th id=\"T_07c4a_level0_col2\" class=\"col_heading level0 col2\" >COS1</th>\n",
              "      <th id=\"T_07c4a_level0_col3\" class=\"col_heading level0 col3\" >SIN1</th>\n",
              "      <th id=\"T_07c4a_level0_col4\" class=\"col_heading level0 col4\" >COS2</th>\n",
              "      <th id=\"T_07c4a_level0_col5\" class=\"col_heading level0 col5\" >SIN2</th>\n",
              "      <th id=\"T_07c4a_level0_col6\" class=\"col_heading level0 col6\" >COS3</th>\n",
              "      <th id=\"T_07c4a_level0_col7\" class=\"col_heading level0 col7\" >SIN3</th>\n",
              "    </tr>\n",
              "  </thead>\n",
              "  <tbody>\n",
              "    <tr>\n",
              "      <th id=\"T_07c4a_level0_row0\" class=\"row_heading level0 row0\" >Segment 1</th>\n",
              "      <td id=\"T_07c4a_row0_col0\" class=\"data row0 col0\" >[2.8835019637837616, 3.2828407883810056, 1.8890716245408166, 19.14096117316336, 5.32958581685124, 1.2673900698228309, 0.7605586342114968]</td>\n",
              "      <td id=\"T_07c4a_row0_col1\" class=\"data row0 col1\" >[-0.0014289784894894713, -0.0016160401283955837, -0.000923589550535398, -0.009436630923169133, -0.0025919058730427776, -0.0006002759631661662, 0]</td>\n",
              "      <td id=\"T_07c4a_row0_col2\" class=\"data row0 col2\" >[-0.01186843936476042, -0.02098628819978426, -0.01571539305900891, -0.056630206538701544, -0.020291496499357173, -0.008427349310669975, 0.04611739888770422]</td>\n",
              "      <td id=\"T_07c4a_row0_col3\" class=\"data row0 col3\" >[0, 0, 0, -0.004567996992550899, 0.003230075007047745, 0, 0.009124222149743245]</td>\n",
              "      <td id=\"T_07c4a_row0_col4\" class=\"data row0 col4\" >[0, -0.0016317531211471504, -0.001774852987395223, -0.005093326960209953, -0.02064884629845176, -0.011918990964258388, 0.00213493267705074]</td>\n",
              "      <td id=\"T_07c4a_row0_col5\" class=\"data row0 col5\" >[0, 0, 0, 0, 0, 0, 0.01964705696807787]</td>\n",
              "      <td id=\"T_07c4a_row0_col6\" class=\"data row0 col6\" >[0.002384153070020832, 0.003457602225186136, 0.0025340059036947633, 0, 0, 0.0009508011613858051, -0.025616353056236732]</td>\n",
              "      <td id=\"T_07c4a_row0_col7\" class=\"data row0 col7\" >[0.002910448220751587, 0.005529002494703668, 0.004594814712743522, 0.00042706699447165783, 0.009437693570915878, 0.0030991824168144955, -0.03118448910164181]</td>\n",
              "    </tr>\n",
              "    <tr>\n",
              "      <th id=\"T_07c4a_level0_row1\" class=\"row_heading level0 row1\" >Segment 2</th>\n",
              "      <td id=\"T_07c4a_row1_col0\" class=\"data row1 col0\" >[-8.178675304391675, -8.567455788409305, -8.585631842168647, -10.887516806370494, 0.42282078696136705, 0.28414772604338856, 0.1243622199456729]</td>\n",
              "      <td id=\"T_07c4a_row1_col1\" class=\"data row1 col1\" >[0.004146312252314901, 0.004394562620758038, 0.004441637236630287, 0.00563385399970798, 0, 0, 0]</td>\n",
              "      <td id=\"T_07c4a_row1_col2\" class=\"data row1 col2\" >[-0.015031742753393139, -0.018733700849538595, -0.015736692525579243, -0.017957310568418212, -0.013183662346069571, -0.014953523384902585, 0]</td>\n",
              "      <td id=\"T_07c4a_row1_col3\" class=\"data row1 col3\" >[0.01045798256411022, 0.018567807032632097, 0.021002172225181297, 0.015381522615022576, 0.04884627085686614, 0.05317092519847767, -0.009940719367876655]</td>\n",
              "      <td id=\"T_07c4a_row1_col4\" class=\"data row1 col4\" >[-9.026335174490329e-05, 0, 0, 0, -0.011864347346887232, -0.008475299950807794, 0]</td>\n",
              "      <td id=\"T_07c4a_row1_col5\" class=\"data row1 col5\" >[0.0001973748731300362, 0.00020375191168091125, 0, 0.007281413879694335, 0.033224318510948876, 0.03621641435912726, 0.005348317025927302]</td>\n",
              "      <td id=\"T_07c4a_row1_col6\" class=\"data row1 col6\" >[-0.010136155719827131, -0.017678294046348877, -0.023494124785338872, -0.010202604645432222, -0.028253406666658296, -0.03274715185488118, 0.020911638035406462]</td>\n",
              "      <td id=\"T_07c4a_row1_col7\" class=\"data row1 col7\" >[0.007635588989686705, 0.008221749753545272, 0.007934732692333683, 0.011885234801459157, 0, 0, 0]</td>\n",
              "    </tr>\n",
              "    <tr>\n",
              "      <th id=\"T_07c4a_level0_row2\" class=\"row_heading level0 row2\" >Segment 3</th>\n",
              "      <td id=\"T_07c4a_row2_col0\" class=\"data row2 col0\" >[40.921006545882534, 50.895096297031586, 69.48867809045338, 0.8834294022409347, 76.92873468727524, 59.97626481008383, -183.77273951155982]</td>\n",
              "      <td id=\"T_07c4a_row2_col1\" class=\"data row2 col1\" >[-0.020259890824980097, -0.02518305107288108, -0.03440506306050126, -0.00023969860291634586, -0.03800332636106635, -0.02966235885704887, 0.09142888258873613]</td>\n",
              "      <td id=\"T_07c4a_row2_col2\" class=\"data row2 col2\" >[0, 0, -0.0024225947032943487, -0.0016084047433077091, -0.016494180170297905, -0.013406892788657997, 0.02902326656997849]</td>\n",
              "      <td id=\"T_07c4a_row2_col3\" class=\"data row2 col3\" >[0.005854176136300245, 0.00397697856325619, 0.007443825668502859, -0.0076462463157694425, 0.0021441131566921037, 0.002351250810332423, -0.012174527610339603]</td>\n",
              "      <td id=\"T_07c4a_row2_col4\" class=\"data row2 col4\" >[-0.014370010048930525, -0.013268489602268415, -0.01680896003632936, -0.0036527915819201755, -0.019796965920781923, -0.013964558531023071, 0.03579450237639679]</td>\n",
              "      <td id=\"T_07c4a_row2_col5\" class=\"data row2 col5\" >[0.008811111586499342, 0.012618469843064676, 0.01361870695976215, 0.024766213847678697, 0.021772726540925325, 0.014124435464744166, -0.0065829842625007]</td>\n",
              "      <td id=\"T_07c4a_row2_col6\" class=\"data row2 col6\" >[-0.020052238813802078, -0.015932060670294356, -0.01707310212186034, 0, -0.004396921947604966, -0.0042026664281565864, 0.026255827857797617]</td>\n",
              "      <td id=\"T_07c4a_row2_col7\" class=\"data row2 col7\" >[0, 5.383251312164806e-06, 0, 0, 0, 0, -0.005891841365245101]</td>\n",
              "    </tr>\n",
              "    <tr>\n",
              "      <th id=\"T_07c4a_level0_row3\" class=\"row_heading level0 row3\" >Segment 4</th>\n",
              "      <td id=\"T_07c4a_row3_col0\" class=\"data row3 col0\" >[-81.05418526482875, -118.01267002729952, -158.2880580670942, -30.30693193427896, -196.03929233869582, -162.25359177311236, 315.4606911372531]</td>\n",
              "      <td id=\"T_07c4a_row3_col1\" class=\"data row3 col1\" >[0.040157854624715446, 0.058484343822889764, 0.07842674538386808, 0.015224468791355944, 0.09720045762482044, 0.08041071502669586, -0.15590816344669936]</td>\n",
              "      <td id=\"T_07c4a_row3_col2\" class=\"data row3 col2\" >[0.007472415860416005, 0.014965945315045614, 0.028236782931977088, 0, 0.0456677755800225, 0.04424488962356279, -0.08085708479463748]</td>\n",
              "      <td id=\"T_07c4a_row3_col3\" class=\"data row3 col3\" >[0.0005224995743545358, 0, 0.0019928640089984374, -0.0047594782098874374, 0, 0, -0.005990266176790861]</td>\n",
              "      <td id=\"T_07c4a_row3_col4\" class=\"data row3 col4\" >[-0.007480593138068563, -0.014385875825021191, -0.019532340820599563, -0.02110208150576144, -0.05293998042020171, -0.037081218150552306, 0.00983054564983115]</td>\n",
              "      <td id=\"T_07c4a_row3_col5\" class=\"data row3 col5\" >[-0.0047991985520175195, -0.008273657115843325, -0.013458547981285734, 0.009891817020358322, -0.030958716267587172, -0.026201025320273658, 0.04959555040204003]</td>\n",
              "      <td id=\"T_07c4a_row3_col6\" class=\"data row3 col6\" >[0, -0.0056423797227600535, -0.008934870993549608, 0, -0.016627155899269466, -0.010798922316788476, 0.02686801739118362]</td>\n",
              "      <td id=\"T_07c4a_row3_col7\" class=\"data row3 col7\" >[0.003079286646315475, 0, 0.0007511494489842995, -0.017042479234643342, 0, 0, -0.012503893801963768]</td>\n",
              "    </tr>\n",
              "    <tr>\n",
              "      <th id=\"T_07c4a_level0_row4\" class=\"row_heading level0 row4\" >Segment 5</th>\n",
              "      <td id=\"T_07c4a_row4_col0\" class=\"data row4 col0\" >[17.9728385701219, 26.171758097056472, 24.456953265400188, 50.67379138337479, -15.470490609981757, -8.76710143207129, -22.29881154635892]</td>\n",
              "      <td id=\"T_07c4a_row4_col1\" class=\"data row4 col1\" >[-0.008854692101274202, -0.012884215677442454, -0.012036983273583483, -0.02485892752042582, 0.007798973035391536, 0.004416679196451291, 0.011305679164845645]</td>\n",
              "      <td id=\"T_07c4a_row4_col2\" class=\"data row4 col2\" >[0, -0.0012142047909665357, -0.004101043598481856, 0, -0.018575383527102602, -0.011976494471391349, 0.03327541139493904]</td>\n",
              "      <td id=\"T_07c4a_row4_col3\" class=\"data row4 col3\" >[0.01638646231697656, 0.01725171795832353, 0.026116467416780063, -0.00669352562783658, 0.04166845081215274, 0.03640938113930027, -0.08385304123419991]</td>\n",
              "      <td id=\"T_07c4a_row4_col4\" class=\"data row4 col4\" >[0, -0.0017060436844678372, -0.000463447893868708, -0.025083321867397552, -0.0017111631538101449, -0.00016913343794425301, -0.010365908232315814]</td>\n",
              "      <td id=\"T_07c4a_row4_col5\" class=\"data row4 col5\" >[0.009931630611528798, 0.010042596372588133, 0.007673117688100982, 0.02454484149166643, 0.002974196830868122, 0.0007300124757331071, 0]</td>\n",
              "      <td id=\"T_07c4a_row4_col6\" class=\"data row4 col6\" >[-0.007365333804406512, -0.005771701264725106, -0.00842341535976779, 0.0046792374849258436, -0.004377889611396254, -0.0073272066365010855, 0.036043450231086155]</td>\n",
              "      <td id=\"T_07c4a_row4_col7\" class=\"data row4 col7\" >[0.005024599062751074, 0.003906964347503972, 0.002897223069368419, 0.0037033810051508857, 0, 0, -0.001221989872123253]</td>\n",
              "    </tr>\n",
              "  </tbody>\n",
              "</table>\n"
            ],
            "text/plain": [
              "<pandas.io.formats.style.Styler at 0x1be1dec7050>"
            ]
          },
          "metadata": {},
          "output_type": "display_data"
        }
      ],
      "source": [
        "# mostrar todos los coeficientes para un solo píxel\n",
        "display(g2p.imageArrayPixelToDataFrame(coeffs, pt,None,crs,transform, 'Coeffs',columns = harmonicTag,index=index))"
      ]
    },
    {
      "cell_type": "markdown",
      "id": "e9eb13f8",
      "metadata": {
        "id": "e9eb13f8"
      },
      "source": [
        "#### Cómo utilizar estas salidas\n",
        "\n",
        "Entonces, ¡hay MUCHOS datos incluso para un solo píxel! Puede ver por qué el algoritmo de modelado CCDC consume tanta memoria. Ahora bien, ¿cómo se pueden hacer útiles estos resultados?\n",
        "\n",
        "Uno de los usos más comunes de CCDC es elegir una fecha específica y encontrar el modelo con esa fecha. Del modelo para esa fecha, puede obtener los coeficientes y los valores pronosticados del modelo.\n",
        "\n",
        "#### Inspeccionar la información de la fecha del segmento\n",
        "\n",
        "Para hacer esto, el primer paso es determinar en qué segmento se encuentra una fecha específica.\n",
        "\n",
        "Ejecute el bloque de código siguiente para ver la estructura de la información de fecha para cada segmento."
      ]
    },
    {
      "cell_type": "code",
      "execution_count": null,
      "id": "b30e9453",
      "metadata": {
        "id": "b30e9453",
        "outputId": "6df5ddbd-24d1-4e08-ae93-9a1ac3d389ec"
      },
      "outputs": [
        {
          "data": {
            "text/html": [
              "<style type=\"text/css\">\n",
              "#T_80c40 caption {\n",
              "  text-align: left;\n",
              "  font-size: 150%;\n",
              "  font-weight: bold;\n",
              "}\n",
              "</style>\n",
              "<table id=\"T_80c40\">\n",
              "  <caption>Segment Start and End Dates</caption>\n",
              "  <thead>\n",
              "    <tr>\n",
              "      <th class=\"blank level0\" >&nbsp;</th>\n",
              "      <th id=\"T_80c40_level0_col0\" class=\"col_heading level0 col0\" >tStart</th>\n",
              "      <th id=\"T_80c40_level0_col1\" class=\"col_heading level0 col1\" >tEnd</th>\n",
              "    </tr>\n",
              "  </thead>\n",
              "  <tbody>\n",
              "    <tr>\n",
              "      <th id=\"T_80c40_level0_row0\" class=\"row_heading level0 row0\" >Segment 1</th>\n",
              "      <td id=\"T_80c40_row0_col0\" class=\"data row0 col0\" >1984.813408</td>\n",
              "      <td id=\"T_80c40_row0_col1\" class=\"data row0 col1\" >1992.632670</td>\n",
              "    </tr>\n",
              "    <tr>\n",
              "      <th id=\"T_80c40_level0_row1\" class=\"row_heading level0 row1\" >Segment 2</th>\n",
              "      <td id=\"T_80c40_row1_col0\" class=\"data row1 col0\" >1999.729263</td>\n",
              "      <td id=\"T_80c40_row1_col1\" class=\"data row1 col1\" >2013.309009</td>\n",
              "    </tr>\n",
              "    <tr>\n",
              "      <th id=\"T_80c40_level0_row2\" class=\"row_heading level0 row2\" >Segment 3</th>\n",
              "      <td id=\"T_80c40_row2_col0\" class=\"data row2 col0\" >2013.330923</td>\n",
              "      <td id=\"T_80c40_row2_col1\" class=\"data row2 col1\" >2020.145418</td>\n",
              "    </tr>\n",
              "    <tr>\n",
              "      <th id=\"T_80c40_level0_row3\" class=\"row_heading level0 row3\" >Segment 4</th>\n",
              "      <td id=\"T_80c40_row3_col0\" class=\"data row3 col0\" >2020.164595</td>\n",
              "      <td id=\"T_80c40_row3_col1\" class=\"data row3 col1\" >2021.653986</td>\n",
              "    </tr>\n",
              "    <tr>\n",
              "      <th id=\"T_80c40_level0_row4\" class=\"row_heading level0 row4\" >Segment 5</th>\n",
              "      <td id=\"T_80c40_row4_col0\" class=\"data row4 col0\" >2021.766226</td>\n",
              "      <td id=\"T_80c40_row4_col1\" class=\"data row4 col1\" >2023.671770</td>\n",
              "    </tr>\n",
              "  </tbody>\n",
              "</table>\n"
            ],
            "text/plain": [
              "<pandas.io.formats.style.Styler at 0x1be1dde9dd0>"
            ]
          },
          "metadata": {},
          "output_type": "display_data"
        },
        {
          "name": "stdout",
          "output_type": "stream",
          "text": [
            "\n"
          ]
        }
      ],
      "source": [
        "display(g2p.imageArrayPixelToDataFrame(tStarts.arrayCat(tEnds,1),\\\n",
        "                                       pt,None,crs,transform, 'Segment Start and End Dates',index=index,columns = ['tStart','tEnd']))\n",
        "print()"
      ]
    },
    {
      "cell_type": "markdown",
      "id": "c4842e22",
      "metadata": {
        "id": "c4842e22"
      },
      "source": [
        "`tStart` y `tEnd` son la fecha de inicio y finalización de cada segmento. Observe que las fechas se muestran en fracciones de año. Observe también que el tEnd del segmento 1 es varios años antes del tStart del segmento 2. Esto se debe a que CCDC necesita varias observaciones para iniciar el siguiente modelo armónico (segmento).\n",
        "\n",
        "#### Inspeccionar rompes\n",
        "\n",
        "A continuación, inspeccione los rompes. Las tBreaks son la fecha en que hubo una desviación significativa y el modelo armónico se detuvo.\n",
        "\n",
        "Ejecute el bloque de código siguiente para ver las rupturas de este píxel en particular.\n"
      ]
    },
    {
      "cell_type": "code",
      "execution_count": null,
      "id": "6c6a9dba",
      "metadata": {
        "id": "6c6a9dba",
        "outputId": "aac0d04c-a3b3-4730-9674-ad9681c8c447"
      },
      "outputs": [
        {
          "data": {
            "text/html": [
              "<style type=\"text/css\">\n",
              "#T_c77ad caption {\n",
              "  text-align: left;\n",
              "  font-size: 150%;\n",
              "  font-weight: bold;\n",
              "}\n",
              "</style>\n",
              "<table id=\"T_c77ad\">\n",
              "  <caption>tBreaks</caption>\n",
              "  <thead>\n",
              "    <tr>\n",
              "      <th class=\"blank level0\" >&nbsp;</th>\n",
              "      <th id=\"T_c77ad_level0_col0\" class=\"col_heading level0 col0\" >tBreaks</th>\n",
              "    </tr>\n",
              "  </thead>\n",
              "  <tbody>\n",
              "    <tr>\n",
              "      <th id=\"T_c77ad_level0_row0\" class=\"row_heading level0 row0\" >Segment 1</th>\n",
              "      <td id=\"T_c77ad_row0_col0\" class=\"data row0 col0\" >1999.729263</td>\n",
              "    </tr>\n",
              "    <tr>\n",
              "      <th id=\"T_c77ad_level0_row1\" class=\"row_heading level0 row1\" >Segment 2</th>\n",
              "      <td id=\"T_c77ad_row1_col0\" class=\"data row1 col0\" >2013.330923</td>\n",
              "    </tr>\n",
              "    <tr>\n",
              "      <th id=\"T_c77ad_level0_row2\" class=\"row_heading level0 row2\" >Segment 3</th>\n",
              "      <td id=\"T_c77ad_row2_col0\" class=\"data row2 col0\" >2020.164595</td>\n",
              "    </tr>\n",
              "    <tr>\n",
              "      <th id=\"T_c77ad_level0_row3\" class=\"row_heading level0 row3\" >Segment 4</th>\n",
              "      <td id=\"T_c77ad_row3_col0\" class=\"data row3 col0\" >2021.766226</td>\n",
              "    </tr>\n",
              "    <tr>\n",
              "      <th id=\"T_c77ad_level0_row4\" class=\"row_heading level0 row4\" >Segment 5</th>\n",
              "      <td id=\"T_c77ad_row4_col0\" class=\"data row4 col0\" >2023.712849</td>\n",
              "    </tr>\n",
              "  </tbody>\n",
              "</table>\n"
            ],
            "text/plain": [
              "<pandas.io.formats.style.Styler at 0x1be1dd887d0>"
            ]
          },
          "metadata": {},
          "output_type": "display_data"
        }
      ],
      "source": [
        "# Inspeccionar rompes\n",
        "display(g2p.imageArrayPixelToDataFrame(tBreaks, pt,None,crs,transform, 'tBreaks',index=index,columns = ['tBreaks']))"
      ]
    },
    {
      "cell_type": "markdown",
      "id": "52bc1256",
      "metadata": {
        "id": "52bc1256"
      },
      "source": [
        "Observe que hay una pausa en el último segmento.\n",
        "Este no es siempre el caso, sin embargo. A veces hay una pausa hacia el final de la serie temporal y no hay suficientes observaciones para comenzar un nuevo segmento antes del final.\n",
        "\n",
        "#### Encuentra el segmento que cruza una fecha determinada\n",
        "\n",
        "Ahora, encontraremos el segmento que cruza una fecha determinada. Elegirá una fecha de interés y devolverá un arry con un 1 para los segmentos que la fecha intersecta y un 0 para los segmentos que la fecha no intersecta.\n"
      ]
    },
    {
      "cell_type": "code",
      "execution_count": null,
      "id": "53951c3e",
      "metadata": {
        "id": "53951c3e",
        "outputId": "bc9ef22e-43c7-4ef2-f1f9-ff22b2ce29a9"
      },
      "outputs": [
        {
          "data": {
            "text/html": [
              "<style type=\"text/css\">\n",
              "#T_bf778 caption {\n",
              "  text-align: left;\n",
              "  font-size: 150%;\n",
              "  font-weight: bold;\n",
              "}\n",
              "</style>\n",
              "<table id=\"T_bf778\">\n",
              "  <caption>Segment date intersects</caption>\n",
              "  <thead>\n",
              "    <tr>\n",
              "      <th class=\"blank level0\" >&nbsp;</th>\n",
              "      <th id=\"T_bf778_level0_col0\" class=\"col_heading level0 col0\" >0</th>\n",
              "    </tr>\n",
              "  </thead>\n",
              "  <tbody>\n",
              "    <tr>\n",
              "      <th id=\"T_bf778_level0_row0\" class=\"row_heading level0 row0\" >Segment 1</th>\n",
              "      <td id=\"T_bf778_row0_col0\" class=\"data row0 col0\" >0</td>\n",
              "    </tr>\n",
              "    <tr>\n",
              "      <th id=\"T_bf778_level0_row1\" class=\"row_heading level0 row1\" >Segment 2</th>\n",
              "      <td id=\"T_bf778_row1_col0\" class=\"data row1 col0\" >0</td>\n",
              "    </tr>\n",
              "    <tr>\n",
              "      <th id=\"T_bf778_level0_row2\" class=\"row_heading level0 row2\" >Segment 3</th>\n",
              "      <td id=\"T_bf778_row2_col0\" class=\"data row2 col0\" >1</td>\n",
              "    </tr>\n",
              "    <tr>\n",
              "      <th id=\"T_bf778_level0_row3\" class=\"row_heading level0 row3\" >Segment 4</th>\n",
              "      <td id=\"T_bf778_row3_col0\" class=\"data row3 col0\" >0</td>\n",
              "    </tr>\n",
              "    <tr>\n",
              "      <th id=\"T_bf778_level0_row4\" class=\"row_heading level0 row4\" >Segment 5</th>\n",
              "      <td id=\"T_bf778_row4_col0\" class=\"data row4 col0\" >0</td>\n",
              "    </tr>\n",
              "  </tbody>\n",
              "</table>\n"
            ],
            "text/plain": [
              "<pandas.io.formats.style.Styler at 0x1be1de3a350>"
            ]
          },
          "metadata": {},
          "output_type": "display_data"
        }
      ],
      "source": [
        "# Ahora, encontraremos el segmento que cruza una fecha determinada.\n",
        "date = 2017.9\n",
        "timeBandName = 'year'\n",
        "timeImg = ee.Image(date).rename([timeBandName])\n",
        "\n",
        "# Encuentra qué segmento se cruza\n",
        "tMask = tStarts.lt(timeImg).And(tEnds.gte(timeImg))\n",
        "\n",
        "# mostrar resultados\n",
        "display(g2p.imageArrayPixelToDataFrame(tMask,\\\n",
        "                                       pt,None,crs,transform, 'Segment date intersects',index = index))"
      ]
    },
    {
      "cell_type": "markdown",
      "id": "67f4c937",
      "metadata": {
        "id": "67f4c937"
      },
      "source": [
        "A continuación, vuelva a formatear la máscara para que pueda aplicarse en modelos de múltiples bandas."
      ]
    },
    {
      "cell_type": "code",
      "execution_count": null,
      "id": "2017146b",
      "metadata": {
        "id": "2017146b",
        "outputId": "37450e32-8d28-4217-e1ae-8f83ebd1892b"
      },
      "outputs": [
        {
          "data": {
            "text/html": [
              "<style type=\"text/css\">\n",
              "#T_504f4 caption {\n",
              "  text-align: left;\n",
              "  font-size: 150%;\n",
              "  font-weight: bold;\n",
              "}\n",
              "</style>\n",
              "<table id=\"T_504f4\">\n",
              "  <caption>Segment date intersects reformatted</caption>\n",
              "  <thead>\n",
              "    <tr>\n",
              "      <th class=\"blank level0\" >&nbsp;</th>\n",
              "      <th id=\"T_504f4_level0_col0\" class=\"col_heading level0 col0\" >0</th>\n",
              "    </tr>\n",
              "  </thead>\n",
              "  <tbody>\n",
              "    <tr>\n",
              "      <th id=\"T_504f4_level0_row0\" class=\"row_heading level0 row0\" >Segment 1</th>\n",
              "      <td id=\"T_504f4_row0_col0\" class=\"data row0 col0\" >[0]</td>\n",
              "    </tr>\n",
              "    <tr>\n",
              "      <th id=\"T_504f4_level0_row1\" class=\"row_heading level0 row1\" >Segment 2</th>\n",
              "      <td id=\"T_504f4_row1_col0\" class=\"data row1 col0\" >[0]</td>\n",
              "    </tr>\n",
              "    <tr>\n",
              "      <th id=\"T_504f4_level0_row2\" class=\"row_heading level0 row2\" >Segment 3</th>\n",
              "      <td id=\"T_504f4_row2_col0\" class=\"data row2 col0\" >[1]</td>\n",
              "    </tr>\n",
              "    <tr>\n",
              "      <th id=\"T_504f4_level0_row3\" class=\"row_heading level0 row3\" >Segment 4</th>\n",
              "      <td id=\"T_504f4_row3_col0\" class=\"data row3 col0\" >[0]</td>\n",
              "    </tr>\n",
              "    <tr>\n",
              "      <th id=\"T_504f4_level0_row4\" class=\"row_heading level0 row4\" >Segment 5</th>\n",
              "      <td id=\"T_504f4_row4_col0\" class=\"data row4 col0\" >[0]</td>\n",
              "    </tr>\n",
              "  </tbody>\n",
              "</table>\n"
            ],
            "text/plain": [
              "<pandas.io.formats.style.Styler at 0x1be20001c50>"
            ]
          },
          "metadata": {},
          "output_type": "display_data"
        }
      ],
      "source": [
        "# Vuelva a formatear la máscara para que pueda aplicarse en varios modelos de banda.\n",
        "tMask = tMask.arrayRepeat(1,1).arrayRepeat(2,1)\n",
        "\n",
        "# mostrar\n",
        "display(g2p.imageArrayPixelToDataFrame(tMask,\\\n",
        "                                     pt,None,crs,transform, 'Segment date intersects reformatted',index=index))"
      ]
    },
    {
      "cell_type": "markdown",
      "id": "894caf1c",
      "metadata": {
        "id": "894caf1c"
      },
      "source": [
        "Enmascare los coeficientes para el segmento que cruza el tiempo. Finalmente, enmascare para que solo quede el segmento de interés."
      ]
    },
    {
      "cell_type": "code",
      "execution_count": null,
      "id": "a94c5476",
      "metadata": {
        "id": "a94c5476",
        "outputId": "04bfd588-d745-48b8-ebeb-5b67cfe63e54"
      },
      "outputs": [
        {
          "data": {
            "text/html": [
              "<style type=\"text/css\">\n",
              "#T_879eb caption {\n",
              "  text-align: left;\n",
              "  font-size: 150%;\n",
              "  font-weight: bold;\n",
              "}\n",
              "</style>\n",
              "<table id=\"T_879eb\">\n",
              "  <caption>Coeffs Masked</caption>\n",
              "  <thead>\n",
              "    <tr>\n",
              "      <th class=\"blank level0\" >&nbsp;</th>\n",
              "      <th id=\"T_879eb_level0_col0\" class=\"col_heading level0 col0\" >INTP</th>\n",
              "      <th id=\"T_879eb_level0_col1\" class=\"col_heading level0 col1\" >SLP</th>\n",
              "      <th id=\"T_879eb_level0_col2\" class=\"col_heading level0 col2\" >COS1</th>\n",
              "      <th id=\"T_879eb_level0_col3\" class=\"col_heading level0 col3\" >SIN1</th>\n",
              "      <th id=\"T_879eb_level0_col4\" class=\"col_heading level0 col4\" >COS2</th>\n",
              "      <th id=\"T_879eb_level0_col5\" class=\"col_heading level0 col5\" >SIN2</th>\n",
              "      <th id=\"T_879eb_level0_col6\" class=\"col_heading level0 col6\" >COS3</th>\n",
              "      <th id=\"T_879eb_level0_col7\" class=\"col_heading level0 col7\" >SIN3</th>\n",
              "    </tr>\n",
              "  </thead>\n",
              "  <tbody>\n",
              "    <tr>\n",
              "      <th id=\"T_879eb_level0_row0\" class=\"row_heading level0 row0\" >Segment 2017.9</th>\n",
              "      <td id=\"T_879eb_row0_col0\" class=\"data row0 col0\" >[40.921006545882534, 50.895096297031586, 69.48867809045338, 0.8834294022409347, 76.92873468727524, 59.97626481008383, -183.77273951155982]</td>\n",
              "      <td id=\"T_879eb_row0_col1\" class=\"data row0 col1\" >[-0.020259890824980097, -0.02518305107288108, -0.03440506306050126, -0.00023969860291634586, -0.03800332636106635, -0.02966235885704887, 0.09142888258873613]</td>\n",
              "      <td id=\"T_879eb_row0_col2\" class=\"data row0 col2\" >[0, 0, -0.0024225947032943487, -0.0016084047433077091, -0.016494180170297905, -0.013406892788657997, 0.02902326656997849]</td>\n",
              "      <td id=\"T_879eb_row0_col3\" class=\"data row0 col3\" >[0.005854176136300245, 0.00397697856325619, 0.007443825668502859, -0.0076462463157694425, 0.0021441131566921037, 0.002351250810332423, -0.012174527610339603]</td>\n",
              "      <td id=\"T_879eb_row0_col4\" class=\"data row0 col4\" >[-0.014370010048930525, -0.013268489602268415, -0.01680896003632936, -0.0036527915819201755, -0.019796965920781923, -0.013964558531023071, 0.03579450237639679]</td>\n",
              "      <td id=\"T_879eb_row0_col5\" class=\"data row0 col5\" >[0.008811111586499342, 0.012618469843064676, 0.01361870695976215, 0.024766213847678697, 0.021772726540925325, 0.014124435464744166, -0.0065829842625007]</td>\n",
              "      <td id=\"T_879eb_row0_col6\" class=\"data row0 col6\" >[-0.020052238813802078, -0.015932060670294356, -0.01707310212186034, 0, -0.004396921947604966, -0.0042026664281565864, 0.026255827857797617]</td>\n",
              "      <td id=\"T_879eb_row0_col7\" class=\"data row0 col7\" >[0, 5.383251312164806e-06, 0, 0, 0, 0, -0.005891841365245101]</td>\n",
              "    </tr>\n",
              "  </tbody>\n",
              "</table>\n"
            ],
            "text/plain": [
              "<pandas.io.formats.style.Styler at 0x1be201bad90>"
            ]
          },
          "metadata": {},
          "output_type": "display_data"
        }
      ],
      "source": [
        "# Enmascare los coeficientes para el segmento que cruza el tiempo\n",
        "coeffsSeg = coeffs.arrayMask(tMask)\n",
        "\n",
        "# mostrar\n",
        "display(g2p.imageArrayPixelToDataFrame(coeffsSeg,\\\n",
        "                                       pt,None,crs,transform, 'Coeffs Masked',index=[f'Segment {date}'],columns = harmonicTag ))\n"
      ]
    },
    {
      "cell_type": "markdown",
      "id": "485fa624",
      "metadata": {
        "id": "485fa624"
      },
      "source": [
        "La matriz anterior enumera todos los coeficientes de todas las bandas. Entonces, nuestro siguiente paso es convertir esta matriz en una imagen multibanda.\n",
        "\n",
        "#### Convertir a imagen multibanda\n",
        "\n",
        "Ahora que encontramos qué segmento intersecta la fecha, necesitamos reformatear la salida en una imagen multibanda más fácil de usar.\n",
        "\n",
        "Primero, proyectaremos los ejes para que solo haya 2 dimensiones para un píxel determinado en lugar de 3. Es decir, estamos eliminando la dimensión del tiempo para que las dimensiones restantes sean: coeficiente y banda.\n",
        "\n"
      ]
    },
    {
      "cell_type": "code",
      "execution_count": null,
      "id": "69943bb7",
      "metadata": {
        "id": "69943bb7",
        "outputId": "4dd3c695-b91d-4117-8083-39d4c21987c3"
      },
      "outputs": [
        {
          "data": {
            "text/html": [
              "<style type=\"text/css\">\n",
              "#T_75376 caption {\n",
              "  text-align: left;\n",
              "  font-size: 150%;\n",
              "  font-weight: bold;\n",
              "}\n",
              "</style>\n",
              "<table id=\"T_75376\">\n",
              "  <caption>Coeffs Masked Reformatted</caption>\n",
              "  <thead>\n",
              "    <tr>\n",
              "      <th class=\"blank level0\" >&nbsp;</th>\n",
              "      <th id=\"T_75376_level0_col0\" class=\"col_heading level0 col0\" >blue_coefs</th>\n",
              "      <th id=\"T_75376_level0_col1\" class=\"col_heading level0 col1\" >green_coefs</th>\n",
              "      <th id=\"T_75376_level0_col2\" class=\"col_heading level0 col2\" >red_coefs</th>\n",
              "      <th id=\"T_75376_level0_col3\" class=\"col_heading level0 col3\" >nir_coefs</th>\n",
              "      <th id=\"T_75376_level0_col4\" class=\"col_heading level0 col4\" >swir1_coefs</th>\n",
              "      <th id=\"T_75376_level0_col5\" class=\"col_heading level0 col5\" >swir2_coefs</th>\n",
              "      <th id=\"T_75376_level0_col6\" class=\"col_heading level0 col6\" >NDVI_coefs</th>\n",
              "    </tr>\n",
              "  </thead>\n",
              "  <tbody>\n",
              "    <tr>\n",
              "      <th id=\"T_75376_level0_row0\" class=\"row_heading level0 row0\" >INTP</th>\n",
              "      <td id=\"T_75376_row0_col0\" class=\"data row0 col0\" >40.921007</td>\n",
              "      <td id=\"T_75376_row0_col1\" class=\"data row0 col1\" >50.895096</td>\n",
              "      <td id=\"T_75376_row0_col2\" class=\"data row0 col2\" >69.488678</td>\n",
              "      <td id=\"T_75376_row0_col3\" class=\"data row0 col3\" >0.883429</td>\n",
              "      <td id=\"T_75376_row0_col4\" class=\"data row0 col4\" >76.928735</td>\n",
              "      <td id=\"T_75376_row0_col5\" class=\"data row0 col5\" >59.976265</td>\n",
              "      <td id=\"T_75376_row0_col6\" class=\"data row0 col6\" >-183.772740</td>\n",
              "    </tr>\n",
              "    <tr>\n",
              "      <th id=\"T_75376_level0_row1\" class=\"row_heading level0 row1\" >SLP</th>\n",
              "      <td id=\"T_75376_row1_col0\" class=\"data row1 col0\" >-0.020260</td>\n",
              "      <td id=\"T_75376_row1_col1\" class=\"data row1 col1\" >-0.025183</td>\n",
              "      <td id=\"T_75376_row1_col2\" class=\"data row1 col2\" >-0.034405</td>\n",
              "      <td id=\"T_75376_row1_col3\" class=\"data row1 col3\" >-0.000240</td>\n",
              "      <td id=\"T_75376_row1_col4\" class=\"data row1 col4\" >-0.038003</td>\n",
              "      <td id=\"T_75376_row1_col5\" class=\"data row1 col5\" >-0.029662</td>\n",
              "      <td id=\"T_75376_row1_col6\" class=\"data row1 col6\" >0.091429</td>\n",
              "    </tr>\n",
              "    <tr>\n",
              "      <th id=\"T_75376_level0_row2\" class=\"row_heading level0 row2\" >COS1</th>\n",
              "      <td id=\"T_75376_row2_col0\" class=\"data row2 col0\" >0.000000</td>\n",
              "      <td id=\"T_75376_row2_col1\" class=\"data row2 col1\" >0.000000</td>\n",
              "      <td id=\"T_75376_row2_col2\" class=\"data row2 col2\" >-0.002423</td>\n",
              "      <td id=\"T_75376_row2_col3\" class=\"data row2 col3\" >-0.001608</td>\n",
              "      <td id=\"T_75376_row2_col4\" class=\"data row2 col4\" >-0.016494</td>\n",
              "      <td id=\"T_75376_row2_col5\" class=\"data row2 col5\" >-0.013407</td>\n",
              "      <td id=\"T_75376_row2_col6\" class=\"data row2 col6\" >0.029023</td>\n",
              "    </tr>\n",
              "    <tr>\n",
              "      <th id=\"T_75376_level0_row3\" class=\"row_heading level0 row3\" >SIN1</th>\n",
              "      <td id=\"T_75376_row3_col0\" class=\"data row3 col0\" >0.005854</td>\n",
              "      <td id=\"T_75376_row3_col1\" class=\"data row3 col1\" >0.003977</td>\n",
              "      <td id=\"T_75376_row3_col2\" class=\"data row3 col2\" >0.007444</td>\n",
              "      <td id=\"T_75376_row3_col3\" class=\"data row3 col3\" >-0.007646</td>\n",
              "      <td id=\"T_75376_row3_col4\" class=\"data row3 col4\" >0.002144</td>\n",
              "      <td id=\"T_75376_row3_col5\" class=\"data row3 col5\" >0.002351</td>\n",
              "      <td id=\"T_75376_row3_col6\" class=\"data row3 col6\" >-0.012175</td>\n",
              "    </tr>\n",
              "    <tr>\n",
              "      <th id=\"T_75376_level0_row4\" class=\"row_heading level0 row4\" >COS2</th>\n",
              "      <td id=\"T_75376_row4_col0\" class=\"data row4 col0\" >-0.014370</td>\n",
              "      <td id=\"T_75376_row4_col1\" class=\"data row4 col1\" >-0.013268</td>\n",
              "      <td id=\"T_75376_row4_col2\" class=\"data row4 col2\" >-0.016809</td>\n",
              "      <td id=\"T_75376_row4_col3\" class=\"data row4 col3\" >-0.003653</td>\n",
              "      <td id=\"T_75376_row4_col4\" class=\"data row4 col4\" >-0.019797</td>\n",
              "      <td id=\"T_75376_row4_col5\" class=\"data row4 col5\" >-0.013965</td>\n",
              "      <td id=\"T_75376_row4_col6\" class=\"data row4 col6\" >0.035795</td>\n",
              "    </tr>\n",
              "    <tr>\n",
              "      <th id=\"T_75376_level0_row5\" class=\"row_heading level0 row5\" >SIN2</th>\n",
              "      <td id=\"T_75376_row5_col0\" class=\"data row5 col0\" >0.008811</td>\n",
              "      <td id=\"T_75376_row5_col1\" class=\"data row5 col1\" >0.012618</td>\n",
              "      <td id=\"T_75376_row5_col2\" class=\"data row5 col2\" >0.013619</td>\n",
              "      <td id=\"T_75376_row5_col3\" class=\"data row5 col3\" >0.024766</td>\n",
              "      <td id=\"T_75376_row5_col4\" class=\"data row5 col4\" >0.021773</td>\n",
              "      <td id=\"T_75376_row5_col5\" class=\"data row5 col5\" >0.014124</td>\n",
              "      <td id=\"T_75376_row5_col6\" class=\"data row5 col6\" >-0.006583</td>\n",
              "    </tr>\n",
              "    <tr>\n",
              "      <th id=\"T_75376_level0_row6\" class=\"row_heading level0 row6\" >COS3</th>\n",
              "      <td id=\"T_75376_row6_col0\" class=\"data row6 col0\" >-0.020052</td>\n",
              "      <td id=\"T_75376_row6_col1\" class=\"data row6 col1\" >-0.015932</td>\n",
              "      <td id=\"T_75376_row6_col2\" class=\"data row6 col2\" >-0.017073</td>\n",
              "      <td id=\"T_75376_row6_col3\" class=\"data row6 col3\" >0.000000</td>\n",
              "      <td id=\"T_75376_row6_col4\" class=\"data row6 col4\" >-0.004397</td>\n",
              "      <td id=\"T_75376_row6_col5\" class=\"data row6 col5\" >-0.004203</td>\n",
              "      <td id=\"T_75376_row6_col6\" class=\"data row6 col6\" >0.026256</td>\n",
              "    </tr>\n",
              "    <tr>\n",
              "      <th id=\"T_75376_level0_row7\" class=\"row_heading level0 row7\" >SIN3</th>\n",
              "      <td id=\"T_75376_row7_col0\" class=\"data row7 col0\" >0.000000</td>\n",
              "      <td id=\"T_75376_row7_col1\" class=\"data row7 col1\" >0.000005</td>\n",
              "      <td id=\"T_75376_row7_col2\" class=\"data row7 col2\" >0.000000</td>\n",
              "      <td id=\"T_75376_row7_col3\" class=\"data row7 col3\" >0.000000</td>\n",
              "      <td id=\"T_75376_row7_col4\" class=\"data row7 col4\" >0.000000</td>\n",
              "      <td id=\"T_75376_row7_col5\" class=\"data row7 col5\" >0.000000</td>\n",
              "      <td id=\"T_75376_row7_col6\" class=\"data row7 col6\" >-0.005892</td>\n",
              "    </tr>\n",
              "  </tbody>\n",
              "</table>\n"
            ],
            "text/plain": [
              "<pandas.io.formats.style.Styler at 0x1be1dec5150>"
            ]
          },
          "metadata": {},
          "output_type": "display_data"
        }
      ],
      "source": [
        "coeffsSeg = coeffs.arrayMask(tMask)\n",
        "\n",
        "# Utilice arrayProject para tomar la tercera dimensión y convertirla en la primera.\n",
        "coeffsSeg = coeffsSeg.arrayProject([2,1])\n",
        "\n",
        "# mostrar\n",
        "display(g2p.imageArrayPixelToDataFrame(coeffsSeg,\\\n",
        "                                       pt,None,crs,transform, 'Coeffs Masked Reformatted',index = harmonicTag ,columns = bns))"
      ]
    },
    {
      "cell_type": "markdown",
      "id": "c037c535",
      "metadata": {
        "id": "c037c535"
      },
      "source": [
        "#### Transponer la matriz\n",
        "Esto se hace para que el orden final de las bandas sea agrupado por banda y no por nombre de coeficiente del modelo."
      ]
    },
    {
      "cell_type": "code",
      "execution_count": null,
      "id": "6c20fe7a",
      "metadata": {
        "id": "6c20fe7a",
        "outputId": "2ef8a37f-e72a-43e7-e7f1-1a7e1ee2c916"
      },
      "outputs": [
        {
          "data": {
            "text/html": [
              "<style type=\"text/css\">\n",
              "#T_3dd35 caption {\n",
              "  text-align: left;\n",
              "  font-size: 150%;\n",
              "  font-weight: bold;\n",
              "}\n",
              "</style>\n",
              "<table id=\"T_3dd35\">\n",
              "  <caption>Coeffs Masked Reformatted Transposed</caption>\n",
              "  <thead>\n",
              "    <tr>\n",
              "      <th class=\"blank level0\" >&nbsp;</th>\n",
              "      <th id=\"T_3dd35_level0_col0\" class=\"col_heading level0 col0\" >INTP</th>\n",
              "      <th id=\"T_3dd35_level0_col1\" class=\"col_heading level0 col1\" >SLP</th>\n",
              "      <th id=\"T_3dd35_level0_col2\" class=\"col_heading level0 col2\" >COS1</th>\n",
              "      <th id=\"T_3dd35_level0_col3\" class=\"col_heading level0 col3\" >SIN1</th>\n",
              "      <th id=\"T_3dd35_level0_col4\" class=\"col_heading level0 col4\" >COS2</th>\n",
              "      <th id=\"T_3dd35_level0_col5\" class=\"col_heading level0 col5\" >SIN2</th>\n",
              "      <th id=\"T_3dd35_level0_col6\" class=\"col_heading level0 col6\" >COS3</th>\n",
              "      <th id=\"T_3dd35_level0_col7\" class=\"col_heading level0 col7\" >SIN3</th>\n",
              "    </tr>\n",
              "  </thead>\n",
              "  <tbody>\n",
              "    <tr>\n",
              "      <th id=\"T_3dd35_level0_row0\" class=\"row_heading level0 row0\" >blue_coefs</th>\n",
              "      <td id=\"T_3dd35_row0_col0\" class=\"data row0 col0\" >40.921007</td>\n",
              "      <td id=\"T_3dd35_row0_col1\" class=\"data row0 col1\" >-0.020260</td>\n",
              "      <td id=\"T_3dd35_row0_col2\" class=\"data row0 col2\" >0.000000</td>\n",
              "      <td id=\"T_3dd35_row0_col3\" class=\"data row0 col3\" >0.005854</td>\n",
              "      <td id=\"T_3dd35_row0_col4\" class=\"data row0 col4\" >-0.014370</td>\n",
              "      <td id=\"T_3dd35_row0_col5\" class=\"data row0 col5\" >0.008811</td>\n",
              "      <td id=\"T_3dd35_row0_col6\" class=\"data row0 col6\" >-0.020052</td>\n",
              "      <td id=\"T_3dd35_row0_col7\" class=\"data row0 col7\" >0.000000</td>\n",
              "    </tr>\n",
              "    <tr>\n",
              "      <th id=\"T_3dd35_level0_row1\" class=\"row_heading level0 row1\" >green_coefs</th>\n",
              "      <td id=\"T_3dd35_row1_col0\" class=\"data row1 col0\" >50.895096</td>\n",
              "      <td id=\"T_3dd35_row1_col1\" class=\"data row1 col1\" >-0.025183</td>\n",
              "      <td id=\"T_3dd35_row1_col2\" class=\"data row1 col2\" >0.000000</td>\n",
              "      <td id=\"T_3dd35_row1_col3\" class=\"data row1 col3\" >0.003977</td>\n",
              "      <td id=\"T_3dd35_row1_col4\" class=\"data row1 col4\" >-0.013268</td>\n",
              "      <td id=\"T_3dd35_row1_col5\" class=\"data row1 col5\" >0.012618</td>\n",
              "      <td id=\"T_3dd35_row1_col6\" class=\"data row1 col6\" >-0.015932</td>\n",
              "      <td id=\"T_3dd35_row1_col7\" class=\"data row1 col7\" >0.000005</td>\n",
              "    </tr>\n",
              "    <tr>\n",
              "      <th id=\"T_3dd35_level0_row2\" class=\"row_heading level0 row2\" >red_coefs</th>\n",
              "      <td id=\"T_3dd35_row2_col0\" class=\"data row2 col0\" >69.488678</td>\n",
              "      <td id=\"T_3dd35_row2_col1\" class=\"data row2 col1\" >-0.034405</td>\n",
              "      <td id=\"T_3dd35_row2_col2\" class=\"data row2 col2\" >-0.002423</td>\n",
              "      <td id=\"T_3dd35_row2_col3\" class=\"data row2 col3\" >0.007444</td>\n",
              "      <td id=\"T_3dd35_row2_col4\" class=\"data row2 col4\" >-0.016809</td>\n",
              "      <td id=\"T_3dd35_row2_col5\" class=\"data row2 col5\" >0.013619</td>\n",
              "      <td id=\"T_3dd35_row2_col6\" class=\"data row2 col6\" >-0.017073</td>\n",
              "      <td id=\"T_3dd35_row2_col7\" class=\"data row2 col7\" >0.000000</td>\n",
              "    </tr>\n",
              "    <tr>\n",
              "      <th id=\"T_3dd35_level0_row3\" class=\"row_heading level0 row3\" >nir_coefs</th>\n",
              "      <td id=\"T_3dd35_row3_col0\" class=\"data row3 col0\" >0.883429</td>\n",
              "      <td id=\"T_3dd35_row3_col1\" class=\"data row3 col1\" >-0.000240</td>\n",
              "      <td id=\"T_3dd35_row3_col2\" class=\"data row3 col2\" >-0.001608</td>\n",
              "      <td id=\"T_3dd35_row3_col3\" class=\"data row3 col3\" >-0.007646</td>\n",
              "      <td id=\"T_3dd35_row3_col4\" class=\"data row3 col4\" >-0.003653</td>\n",
              "      <td id=\"T_3dd35_row3_col5\" class=\"data row3 col5\" >0.024766</td>\n",
              "      <td id=\"T_3dd35_row3_col6\" class=\"data row3 col6\" >0.000000</td>\n",
              "      <td id=\"T_3dd35_row3_col7\" class=\"data row3 col7\" >0.000000</td>\n",
              "    </tr>\n",
              "    <tr>\n",
              "      <th id=\"T_3dd35_level0_row4\" class=\"row_heading level0 row4\" >swir1_coefs</th>\n",
              "      <td id=\"T_3dd35_row4_col0\" class=\"data row4 col0\" >76.928735</td>\n",
              "      <td id=\"T_3dd35_row4_col1\" class=\"data row4 col1\" >-0.038003</td>\n",
              "      <td id=\"T_3dd35_row4_col2\" class=\"data row4 col2\" >-0.016494</td>\n",
              "      <td id=\"T_3dd35_row4_col3\" class=\"data row4 col3\" >0.002144</td>\n",
              "      <td id=\"T_3dd35_row4_col4\" class=\"data row4 col4\" >-0.019797</td>\n",
              "      <td id=\"T_3dd35_row4_col5\" class=\"data row4 col5\" >0.021773</td>\n",
              "      <td id=\"T_3dd35_row4_col6\" class=\"data row4 col6\" >-0.004397</td>\n",
              "      <td id=\"T_3dd35_row4_col7\" class=\"data row4 col7\" >0.000000</td>\n",
              "    </tr>\n",
              "    <tr>\n",
              "      <th id=\"T_3dd35_level0_row5\" class=\"row_heading level0 row5\" >swir2_coefs</th>\n",
              "      <td id=\"T_3dd35_row5_col0\" class=\"data row5 col0\" >59.976265</td>\n",
              "      <td id=\"T_3dd35_row5_col1\" class=\"data row5 col1\" >-0.029662</td>\n",
              "      <td id=\"T_3dd35_row5_col2\" class=\"data row5 col2\" >-0.013407</td>\n",
              "      <td id=\"T_3dd35_row5_col3\" class=\"data row5 col3\" >0.002351</td>\n",
              "      <td id=\"T_3dd35_row5_col4\" class=\"data row5 col4\" >-0.013965</td>\n",
              "      <td id=\"T_3dd35_row5_col5\" class=\"data row5 col5\" >0.014124</td>\n",
              "      <td id=\"T_3dd35_row5_col6\" class=\"data row5 col6\" >-0.004203</td>\n",
              "      <td id=\"T_3dd35_row5_col7\" class=\"data row5 col7\" >0.000000</td>\n",
              "    </tr>\n",
              "    <tr>\n",
              "      <th id=\"T_3dd35_level0_row6\" class=\"row_heading level0 row6\" >NDVI_coefs</th>\n",
              "      <td id=\"T_3dd35_row6_col0\" class=\"data row6 col0\" >-183.772740</td>\n",
              "      <td id=\"T_3dd35_row6_col1\" class=\"data row6 col1\" >0.091429</td>\n",
              "      <td id=\"T_3dd35_row6_col2\" class=\"data row6 col2\" >0.029023</td>\n",
              "      <td id=\"T_3dd35_row6_col3\" class=\"data row6 col3\" >-0.012175</td>\n",
              "      <td id=\"T_3dd35_row6_col4\" class=\"data row6 col4\" >0.035795</td>\n",
              "      <td id=\"T_3dd35_row6_col5\" class=\"data row6 col5\" >-0.006583</td>\n",
              "      <td id=\"T_3dd35_row6_col6\" class=\"data row6 col6\" >0.026256</td>\n",
              "      <td id=\"T_3dd35_row6_col7\" class=\"data row6 col7\" >-0.005892</td>\n",
              "    </tr>\n",
              "  </tbody>\n",
              "</table>\n"
            ],
            "text/plain": [
              "<pandas.io.formats.style.Styler at 0x1be1df40d50>"
            ]
          },
          "metadata": {},
          "output_type": "display_data"
        }
      ],
      "source": [
        "# transponer la matriz\n",
        "coeffsSeg = coeffsSeg.arrayTranspose(1,0)\n",
        "\n",
        "# mostrar\n",
        "display(g2p.imageArrayPixelToDataFrame(coeffsSeg,\\\n",
        "                                       pt,None,crs,transform, 'Coeffs Masked Reformatted Transposed',index = bns,columns = harmonicTag))"
      ]
    },
    {
      "cell_type": "markdown",
      "id": "a672ce6b",
      "metadata": {
        "id": "a672ce6b"
      },
      "source": [
        "#### Convertir matriz en imagen multibanda\n",
        "\n",
        "El método arrayFlatten permite convertir una imagen de matriz en una imagen multibanda para facilitar su uso. Condensaremos la matriz bidimensional anterior en una lista unidimensional que se adjuntará a cada píxel.\n",
        "\n",
        "Ejecute el siguiente código para imprimir la matriz y ver el formato de imagen final en el mapa."
      ]
    },
    {
      "cell_type": "code",
      "execution_count": null,
      "id": "c8f3dbdc",
      "metadata": {
        "id": "c8f3dbdc",
        "outputId": "521e3d77-eb9b-44e9-f381-1c7fb18ed764"
      },
      "outputs": [
        {
          "data": {
            "text/html": [
              "<div>\n",
              "<style scoped>\n",
              "    .dataframe tbody tr th:only-of-type {\n",
              "        vertical-align: middle;\n",
              "    }\n",
              "\n",
              "    .dataframe tbody tr th {\n",
              "        vertical-align: top;\n",
              "    }\n",
              "\n",
              "    .dataframe thead th {\n",
              "        text-align: right;\n",
              "    }\n",
              "</style>\n",
              "<table border=\"1\" class=\"dataframe\">\n",
              "  <thead>\n",
              "    <tr style=\"text-align: right;\">\n",
              "      <th></th>\n",
              "      <th>Value</th>\n",
              "    </tr>\n",
              "  </thead>\n",
              "  <tbody>\n",
              "    <tr>\n",
              "      <th>NDVI_coefs_COS1</th>\n",
              "      <td>0.029023</td>\n",
              "    </tr>\n",
              "    <tr>\n",
              "      <th>NDVI_coefs_COS2</th>\n",
              "      <td>0.035795</td>\n",
              "    </tr>\n",
              "    <tr>\n",
              "      <th>NDVI_coefs_COS3</th>\n",
              "      <td>0.026256</td>\n",
              "    </tr>\n",
              "    <tr>\n",
              "      <th>NDVI_coefs_INTP</th>\n",
              "      <td>-183.772740</td>\n",
              "    </tr>\n",
              "    <tr>\n",
              "      <th>NDVI_coefs_SIN1</th>\n",
              "      <td>-0.012175</td>\n",
              "    </tr>\n",
              "    <tr>\n",
              "      <th>NDVI_coefs_SIN2</th>\n",
              "      <td>-0.006583</td>\n",
              "    </tr>\n",
              "    <tr>\n",
              "      <th>NDVI_coefs_SIN3</th>\n",
              "      <td>-0.005892</td>\n",
              "    </tr>\n",
              "    <tr>\n",
              "      <th>NDVI_coefs_SLP</th>\n",
              "      <td>0.091429</td>\n",
              "    </tr>\n",
              "    <tr>\n",
              "      <th>blue_coefs_COS1</th>\n",
              "      <td>0.000000</td>\n",
              "    </tr>\n",
              "    <tr>\n",
              "      <th>blue_coefs_COS2</th>\n",
              "      <td>-0.014370</td>\n",
              "    </tr>\n",
              "    <tr>\n",
              "      <th>blue_coefs_COS3</th>\n",
              "      <td>-0.020052</td>\n",
              "    </tr>\n",
              "    <tr>\n",
              "      <th>blue_coefs_INTP</th>\n",
              "      <td>40.921007</td>\n",
              "    </tr>\n",
              "    <tr>\n",
              "      <th>blue_coefs_SIN1</th>\n",
              "      <td>0.005854</td>\n",
              "    </tr>\n",
              "    <tr>\n",
              "      <th>blue_coefs_SIN2</th>\n",
              "      <td>0.008811</td>\n",
              "    </tr>\n",
              "    <tr>\n",
              "      <th>blue_coefs_SIN3</th>\n",
              "      <td>0.000000</td>\n",
              "    </tr>\n",
              "    <tr>\n",
              "      <th>blue_coefs_SLP</th>\n",
              "      <td>-0.020260</td>\n",
              "    </tr>\n",
              "    <tr>\n",
              "      <th>green_coefs_COS1</th>\n",
              "      <td>0.000000</td>\n",
              "    </tr>\n",
              "    <tr>\n",
              "      <th>green_coefs_COS2</th>\n",
              "      <td>-0.013268</td>\n",
              "    </tr>\n",
              "    <tr>\n",
              "      <th>green_coefs_COS3</th>\n",
              "      <td>-0.015932</td>\n",
              "    </tr>\n",
              "    <tr>\n",
              "      <th>green_coefs_INTP</th>\n",
              "      <td>50.895096</td>\n",
              "    </tr>\n",
              "    <tr>\n",
              "      <th>green_coefs_SIN1</th>\n",
              "      <td>0.003977</td>\n",
              "    </tr>\n",
              "    <tr>\n",
              "      <th>green_coefs_SIN2</th>\n",
              "      <td>0.012618</td>\n",
              "    </tr>\n",
              "    <tr>\n",
              "      <th>green_coefs_SIN3</th>\n",
              "      <td>0.000005</td>\n",
              "    </tr>\n",
              "    <tr>\n",
              "      <th>green_coefs_SLP</th>\n",
              "      <td>-0.025183</td>\n",
              "    </tr>\n",
              "    <tr>\n",
              "      <th>nir_coefs_COS1</th>\n",
              "      <td>-0.001608</td>\n",
              "    </tr>\n",
              "    <tr>\n",
              "      <th>nir_coefs_COS2</th>\n",
              "      <td>-0.003653</td>\n",
              "    </tr>\n",
              "    <tr>\n",
              "      <th>nir_coefs_COS3</th>\n",
              "      <td>0.000000</td>\n",
              "    </tr>\n",
              "    <tr>\n",
              "      <th>nir_coefs_INTP</th>\n",
              "      <td>0.883429</td>\n",
              "    </tr>\n",
              "    <tr>\n",
              "      <th>nir_coefs_SIN1</th>\n",
              "      <td>-0.007646</td>\n",
              "    </tr>\n",
              "    <tr>\n",
              "      <th>nir_coefs_SIN2</th>\n",
              "      <td>0.024766</td>\n",
              "    </tr>\n",
              "    <tr>\n",
              "      <th>nir_coefs_SIN3</th>\n",
              "      <td>0.000000</td>\n",
              "    </tr>\n",
              "    <tr>\n",
              "      <th>nir_coefs_SLP</th>\n",
              "      <td>-0.000240</td>\n",
              "    </tr>\n",
              "    <tr>\n",
              "      <th>red_coefs_COS1</th>\n",
              "      <td>-0.002423</td>\n",
              "    </tr>\n",
              "    <tr>\n",
              "      <th>red_coefs_COS2</th>\n",
              "      <td>-0.016809</td>\n",
              "    </tr>\n",
              "    <tr>\n",
              "      <th>red_coefs_COS3</th>\n",
              "      <td>-0.017073</td>\n",
              "    </tr>\n",
              "    <tr>\n",
              "      <th>red_coefs_INTP</th>\n",
              "      <td>69.488678</td>\n",
              "    </tr>\n",
              "    <tr>\n",
              "      <th>red_coefs_SIN1</th>\n",
              "      <td>0.007444</td>\n",
              "    </tr>\n",
              "    <tr>\n",
              "      <th>red_coefs_SIN2</th>\n",
              "      <td>0.013619</td>\n",
              "    </tr>\n",
              "    <tr>\n",
              "      <th>red_coefs_SIN3</th>\n",
              "      <td>0.000000</td>\n",
              "    </tr>\n",
              "    <tr>\n",
              "      <th>red_coefs_SLP</th>\n",
              "      <td>-0.034405</td>\n",
              "    </tr>\n",
              "    <tr>\n",
              "      <th>swir1_coefs_COS1</th>\n",
              "      <td>-0.016494</td>\n",
              "    </tr>\n",
              "    <tr>\n",
              "      <th>swir1_coefs_COS2</th>\n",
              "      <td>-0.019797</td>\n",
              "    </tr>\n",
              "    <tr>\n",
              "      <th>swir1_coefs_COS3</th>\n",
              "      <td>-0.004397</td>\n",
              "    </tr>\n",
              "    <tr>\n",
              "      <th>swir1_coefs_INTP</th>\n",
              "      <td>76.928735</td>\n",
              "    </tr>\n",
              "    <tr>\n",
              "      <th>swir1_coefs_SIN1</th>\n",
              "      <td>0.002144</td>\n",
              "    </tr>\n",
              "    <tr>\n",
              "      <th>swir1_coefs_SIN2</th>\n",
              "      <td>0.021773</td>\n",
              "    </tr>\n",
              "    <tr>\n",
              "      <th>swir1_coefs_SIN3</th>\n",
              "      <td>0.000000</td>\n",
              "    </tr>\n",
              "    <tr>\n",
              "      <th>swir1_coefs_SLP</th>\n",
              "      <td>-0.038003</td>\n",
              "    </tr>\n",
              "    <tr>\n",
              "      <th>swir2_coefs_COS1</th>\n",
              "      <td>-0.013407</td>\n",
              "    </tr>\n",
              "    <tr>\n",
              "      <th>swir2_coefs_COS2</th>\n",
              "      <td>-0.013965</td>\n",
              "    </tr>\n",
              "    <tr>\n",
              "      <th>swir2_coefs_COS3</th>\n",
              "      <td>-0.004203</td>\n",
              "    </tr>\n",
              "    <tr>\n",
              "      <th>swir2_coefs_INTP</th>\n",
              "      <td>59.976265</td>\n",
              "    </tr>\n",
              "    <tr>\n",
              "      <th>swir2_coefs_SIN1</th>\n",
              "      <td>0.002351</td>\n",
              "    </tr>\n",
              "    <tr>\n",
              "      <th>swir2_coefs_SIN2</th>\n",
              "      <td>0.014124</td>\n",
              "    </tr>\n",
              "    <tr>\n",
              "      <th>swir2_coefs_SIN3</th>\n",
              "      <td>0.000000</td>\n",
              "    </tr>\n",
              "    <tr>\n",
              "      <th>swir2_coefs_SLP</th>\n",
              "      <td>-0.029662</td>\n",
              "    </tr>\n",
              "    <tr>\n",
              "      <th>year</th>\n",
              "      <td>2017.900000</td>\n",
              "    </tr>\n",
              "  </tbody>\n",
              "</table>\n",
              "</div>"
            ],
            "text/plain": [
              "                        Value\n",
              "NDVI_coefs_COS1      0.029023\n",
              "NDVI_coefs_COS2      0.035795\n",
              "NDVI_coefs_COS3      0.026256\n",
              "NDVI_coefs_INTP   -183.772740\n",
              "NDVI_coefs_SIN1     -0.012175\n",
              "NDVI_coefs_SIN2     -0.006583\n",
              "NDVI_coefs_SIN3     -0.005892\n",
              "NDVI_coefs_SLP       0.091429\n",
              "blue_coefs_COS1      0.000000\n",
              "blue_coefs_COS2     -0.014370\n",
              "blue_coefs_COS3     -0.020052\n",
              "blue_coefs_INTP     40.921007\n",
              "blue_coefs_SIN1      0.005854\n",
              "blue_coefs_SIN2      0.008811\n",
              "blue_coefs_SIN3      0.000000\n",
              "blue_coefs_SLP      -0.020260\n",
              "green_coefs_COS1     0.000000\n",
              "green_coefs_COS2    -0.013268\n",
              "green_coefs_COS3    -0.015932\n",
              "green_coefs_INTP    50.895096\n",
              "green_coefs_SIN1     0.003977\n",
              "green_coefs_SIN2     0.012618\n",
              "green_coefs_SIN3     0.000005\n",
              "green_coefs_SLP     -0.025183\n",
              "nir_coefs_COS1      -0.001608\n",
              "nir_coefs_COS2      -0.003653\n",
              "nir_coefs_COS3       0.000000\n",
              "nir_coefs_INTP       0.883429\n",
              "nir_coefs_SIN1      -0.007646\n",
              "nir_coefs_SIN2       0.024766\n",
              "nir_coefs_SIN3       0.000000\n",
              "nir_coefs_SLP       -0.000240\n",
              "red_coefs_COS1      -0.002423\n",
              "red_coefs_COS2      -0.016809\n",
              "red_coefs_COS3      -0.017073\n",
              "red_coefs_INTP      69.488678\n",
              "red_coefs_SIN1       0.007444\n",
              "red_coefs_SIN2       0.013619\n",
              "red_coefs_SIN3       0.000000\n",
              "red_coefs_SLP       -0.034405\n",
              "swir1_coefs_COS1    -0.016494\n",
              "swir1_coefs_COS2    -0.019797\n",
              "swir1_coefs_COS3    -0.004397\n",
              "swir1_coefs_INTP    76.928735\n",
              "swir1_coefs_SIN1     0.002144\n",
              "swir1_coefs_SIN2     0.021773\n",
              "swir1_coefs_SIN3     0.000000\n",
              "swir1_coefs_SLP     -0.038003\n",
              "swir2_coefs_COS1    -0.013407\n",
              "swir2_coefs_COS2    -0.013965\n",
              "swir2_coefs_COS3    -0.004203\n",
              "swir2_coefs_INTP    59.976265\n",
              "swir2_coefs_SIN1     0.002351\n",
              "swir2_coefs_SIN2     0.014124\n",
              "swir2_coefs_SIN3     0.000000\n",
              "swir2_coefs_SLP     -0.029662\n",
              "year              2017.900000"
            ]
          },
          "metadata": {},
          "output_type": "display_data"
        },
        {
          "name": "stdout",
          "output_type": "stream",
          "text": [
            "Adding layer: coeffsSeg\n",
            "Starting webmap\n",
            "Using default refresh token for geeView: C:\\Users\\ianho/.config/earthengine/credentials\n",
            "Local web server at: http://localhost:1233/geeView/ already serving.\n",
            "cwd c:\\RCR\\quickLabsTrainingMaterials\\lcms-training\n"
          ]
        },
        {
          "data": {
            "text/html": [
              "\n",
              "        <iframe\n",
              "            width=\"100%\"\n",
              "            height=\"525px\"\n",
              "            src=\"http://localhost:1233/geeView/?accessToken=ya29.a0AfB_byBC818q8Xp45iIhOFhx10tktX1ngWl7klsYCUhUF7hZqShdkGCs7wfJG8VhAhfljLxFF_UBDuRANcJgkP3h4__YpknThqhU-WkZ72PyjUR7PUq3SFD9IrKq4xDzaTKhMYKsvQCW9nQpeuWfdP1nkD9P5qU8mxsqTYrhv_CkaCgYKATASARASFQGOcNnCm4Be5mb1-ScNCqstOd-PnQ0179\"\n",
              "            frameborder=\"0\"\n",
              "            allowfullscreen\n",
              "            \n",
              "        ></iframe>\n",
              "        "
            ],
            "text/plain": [
              "<IPython.lib.display.IFrame at 0x1be1deb74d0>"
            ]
          },
          "metadata": {},
          "output_type": "display_data"
        }
      ],
      "source": [
        "# formatear en imagen multibanda\n",
        "coeffsSeg = coeffsSeg.arrayFlatten([ee.List(bns),ee.List(harmonicTag)])\n",
        "coeffsSeg = timeImg.addBands(coeffsSeg)\n",
        "\n",
        "# Formatear en un marco de datos para verlo en un punto\n",
        "df = g2p.extractPointValuesToDataFrame(coeffsSeg,pt,scale=None,crs = crs, transform = transform).transpose()\n",
        "df.columns = ['Value']\n",
        "\n",
        "# mostrar\n",
        "display(df)\n",
        "\n",
        "# Añadir al mapa\n",
        "Map.clearMap()\n",
        "Map.addLayer(coeffsSeg, {}, \"coeffsSeg\")\n",
        "\n",
        "Map.turnOnInspector()\n",
        "Map.view()\n"
      ]
    },
    {
      "cell_type": "markdown",
      "id": "229e0dc5",
      "metadata": {
        "id": "229e0dc5"
      },
      "source": [
        "### 3.5.11: Predecir valores del modelo para una fecha determinada\n",
        "\n",
        "* Ahora hemos aprendido cómo extraer el modelo armónico para una fecha determinada.\n",
        "* A continuación, aprenderemos cómo predecir valores para el modelo para esa fecha determinada.\n",
        "\n",
        "La función `changeDetectionLib.simpleCCDCPrediction` se utiliza para obtener los **valores previstos** para una fecha determinada.\n",
        "\n",
        "Inspeccione la estructura de la función a continuación. Presta atención a:\n",
        "- a) variables de entrada\n",
        "- b) preprocesamiento de la imagen y coeficientes\n",
        "- c) objetos de salida"
      ]
    },
    {
      "cell_type": "code",
      "execution_count": null,
      "id": "888f3cd5",
      "metadata": {
        "id": "888f3cd5",
        "outputId": "f40d4983-5808-41bf-bf1f-10e2b2d124a0"
      },
      "outputs": [
        {
          "name": "stdout",
          "output_type": "stream",
          "text": [
            "def simpleCCDCPrediction(img,timeBandName,whichHarmonics,whichBands):\n",
            "  #Unit of each harmonic (1 cycle)\n",
            "  omega = ee.Number(2.0).multiply(math.pi)\n",
            "\n",
            "  #Pull out the time band in the yyyy.ff format\n",
            "  tBand = img.select([timeBandName])\n",
            "  \n",
            "  #Pull out the intercepts and slopes\n",
            "  intercepts = img.select(['.*_INTP'])\n",
            "  slopes = img.select(['.*_SLP']).multiply(tBand)\n",
            "  \n",
            "  #Set up the omega for each harmonic for the given time band\n",
            "  tOmega = ee.Image(whichHarmonics).multiply(omega).multiply(tBand)\n",
            "  cosHarm = tOmega.cos()\n",
            "  sinHarm = tOmega.sin()\n",
            "  \n",
            "  #Set up which harmonics to select\n",
            "\n",
            "  harmSelect = ee.List(whichHarmonics).map(lambda n: ee.String('.*').cat(ee.Number(n).format()))\n",
            "  \n",
            "  #Select the harmonics specified\n",
            "  sins = img.select(['.*_SIN.*'])\n",
            "  sins = sins.select(harmSelect)\n",
            "  coss = img.select(['.*_COS.*'])\n",
            "  coss = coss.select(harmSelect)\n",
            "  \n",
            "  #Set up final output band names\n",
            "  outBns = ee.List(whichBands).map(lambda bn: ee.String(bn).cat('_CCDC_fitted'))\n",
            "  \n",
            "  #Iterate across each band and predict value\n",
            "  def predHelper(bn):\n",
            "    bn = ee.String(bn);\n",
            "    return ee.Image([intercepts.select(bn.cat('_.*')),\n",
            "                    slopes.select(bn.cat('_.*')),\n",
            "                    sins.select(bn.cat('_.*')).multiply(sinHarm),\n",
            "                    coss.select(bn.cat('_.*')).multiply(cosHarm)\n",
            "                    ]).reduce(ee.Reducer.sum());\n",
            "  predicted = ee.ImageCollection(list(map(predHelper,whichBands))).toBands().rename(outBns)\n",
            "  return img.addBands(predicted)\n",
            "\n"
          ]
        }
      ],
      "source": [
        "# inspeccionar la función\n",
        "print(inspect.getsource(changeDetectionLib.simpleCCDCPrediction) )"
      ]
    },
    {
      "cell_type": "markdown",
      "id": "700d9f4a",
      "metadata": {
        "id": "700d9f4a"
      },
      "source": [
        "#### Aplicar y predecir el modelo armónico\n",
        "Ahora veremos cómo aplicar y predecir el modelo armónico para una sola fecha, en función de los coeficientes que extrajimos anteriormente.\n",
        "\n",
        "Tenga en cuenta que el proceso siguiente es idéntico a la función \"simpleCCDCPrediction\". Revisará la función `simpleCCDCPrediction` paso a paso."
      ]
    },
    {
      "cell_type": "code",
      "execution_count": null,
      "id": "b78284c1",
      "metadata": {
        "id": "b78284c1",
        "outputId": "57697b54-50e7-47b1-d750-f7b74dba1c63"
      },
      "outputs": [
        {
          "name": "stdout",
          "output_type": "stream",
          "text": [
            "Adding layer: Predicted CCDC 2017.9\n",
            "Starting webmap\n",
            "Using default refresh token for geeView: C:\\Users\\ianho/.config/earthengine/credentials\n",
            "Local web server at: http://localhost:1233/geeView/ already serving.\n",
            "cwd c:\\RCR\\quickLabsTrainingMaterials\\lcms-training\n"
          ]
        },
        {
          "data": {
            "text/html": [
              "\n",
              "        <iframe\n",
              "            width=\"100%\"\n",
              "            height=\"525px\"\n",
              "            src=\"http://localhost:1233/geeView/?accessToken=ya29.a0AfB_byDEg5vndXrQ2hgl0gBMsH1NlgYAarhZee8LtiSvr64dXkBEwSFEbbw7Hl1mLH6Am75I0xPkXPM4Z9QM2-HQNjeYpf7alZcuPYUeYIKgHLeGZ27l_DRm5HrSJ06j9zsasSMUYs370q1sMdRfBQZ8vTjvxGoT71OD8ELN9bwlaCgYKAbYSARASFQGOcNnCcv-fWMiusbm2QLRscMpcaw0179\"\n",
              "            frameborder=\"0\"\n",
              "            allowfullscreen\n",
              "            \n",
              "        ></iframe>\n",
              "        "
            ],
            "text/plain": [
              "<IPython.lib.display.IFrame at 0x1be1de28910>"
            ]
          },
          "metadata": {},
          "output_type": "display_data"
        }
      ],
      "source": [
        "# establecer imagen de entrada\n",
        "img = coeffsSeg\n",
        "\n",
        "# Especifique qué armónicos aplicar (1,2,3 están disponibles)\n",
        "whichHarmonics = [1,2,3]\n",
        "\n",
        "# Encuentre qué bandas están disponibles para predecir\n",
        "whichBands = coeffsSeg.select(['.*_INTP']).bandNames().map(lambda bn: ee.String(bn).split('_').get(0))\n",
        "whichBands = ee.Dictionary(whichBands.reduce(ee.Reducer.frequencyHistogram())).keys().getInfo()\n",
        "\n",
        "#Encuentre qué bandas están disponibles para predecir\n",
        "omega = ee.Number(2.0).multiply(changeDetectionLib.math.pi)\n",
        "\n",
        "#Saque la franja horaria en formato aaaa.ff (yyyy.ff) \n",
        "tBand = img.select([timeBandName])\n",
        "\n",
        "#Saca las intersecciones y pendientes.\n",
        "intercepts = img.select(['.*_INTP'])\n",
        "slopes = img.select(['.*_SLP']).multiply(tBand)\n",
        "\n",
        "#Configurar el omega para cada armónico para la franja horaria determinada\n",
        "tOmega = ee.Image(whichHarmonics).multiply(omega).multiply(tBand)\n",
        "cosHarm = tOmega.cos()\n",
        "sinHarm = tOmega.sin()\n",
        "\n",
        "#Configurar qué armónicos seleccionar\n",
        "harmSelect = ee.List(whichHarmonics).map(lambda n: ee.String('.*').cat(ee.Number(n).format()))\n",
        "\n",
        "#Seleccione los armónicos especificados\n",
        "sins = img.select(['.*_SIN.*'])\n",
        "sins = sins.select(harmSelect)\n",
        "coss = img.select(['.*_COS.*'])\n",
        "coss = coss.select(harmSelect)\n",
        "\n",
        "#Configurar nombres de bandas de salida final\n",
        "outBns = ee.List(whichBands).map(lambda bn: ee.String(bn).cat('_CCDC_fitted'))\n",
        "\n",
        "#Iterar a través de cada banda y predecir el valor\n",
        "def predHelper(bn):\n",
        "    bn = ee.String(bn);\n",
        "    return ee.Image([intercepts.select(bn.cat('_.*')),\n",
        "                    slopes.select(bn.cat('_.*')),\n",
        "                    sins.select(bn.cat('_.*')).multiply(sinHarm),\n",
        "                    coss.select(bn.cat('_.*')).multiply(cosHarm)\n",
        "                    ]).reduce(ee.Reducer.sum());\n",
        "predicted = ee.ImageCollection(list(map(predHelper,whichBands))).toBands().rename(outBns)\n",
        "\n",
        "\n",
        "# Ver los valores previstos en el mapa\n",
        "Map.clearMap()\n",
        "Map.addLayer(predicted,{'bands':'swir1_CCDC_fitted,nir_CCDC_fitted,red_CCDC_fitted','min':0.05,'max':[0.5,0.8,0.4]},f'Predicted CCDC {date}')\n",
        "Map.turnOnInspector()\n",
        "Map.view()"
      ]
    },
    {
      "cell_type": "markdown",
      "metadata": {},
      "source": [
        "#### Inspeccionar salidas\n",
        "Haga clic en el mapa para consultar los valores en un punto. También puede ejecutar el bloque de código siguiente para ver el resultado, los valores ajustados en el punto que consultó anteriormente.\n",
        "\n",
        "Las salidas aquí representan los valores de banda ajustados del modelo CCDC en un único punto de tiempo."
      ]
    },
    {
      "cell_type": "code",
      "execution_count": null,
      "id": "8cc563ed",
      "metadata": {
        "id": "8cc563ed",
        "outputId": "aebf8b04-d8ec-46c2-acc1-14f2f624102e"
      },
      "outputs": [
        {
          "data": {
            "text/html": [
              "<div>\n",
              "<style scoped>\n",
              "    .dataframe tbody tr th:only-of-type {\n",
              "        vertical-align: middle;\n",
              "    }\n",
              "\n",
              "    .dataframe tbody tr th {\n",
              "        vertical-align: top;\n",
              "    }\n",
              "\n",
              "    .dataframe thead th {\n",
              "        text-align: right;\n",
              "    }\n",
              "</style>\n",
              "<table border=\"1\" class=\"dataframe\">\n",
              "  <thead>\n",
              "    <tr style=\"text-align: right;\">\n",
              "      <th></th>\n",
              "      <th>Value</th>\n",
              "    </tr>\n",
              "  </thead>\n",
              "  <tbody>\n",
              "    <tr>\n",
              "      <th>NDVI_CCDC_fitted</th>\n",
              "      <td>0.767051</td>\n",
              "    </tr>\n",
              "    <tr>\n",
              "      <th>blue_CCDC_fitted</th>\n",
              "      <td>0.028508</td>\n",
              "    </tr>\n",
              "    <tr>\n",
              "      <th>green_CCDC_fitted</th>\n",
              "      <td>0.064697</td>\n",
              "    </tr>\n",
              "    <tr>\n",
              "      <th>nir_CCDC_fitted</th>\n",
              "      <td>0.378252</td>\n",
              "    </tr>\n",
              "    <tr>\n",
              "      <th>red_CCDC_fitted</th>\n",
              "      <td>0.043496</td>\n",
              "    </tr>\n",
              "    <tr>\n",
              "      <th>swir1_CCDC_fitted</th>\n",
              "      <td>0.201752</td>\n",
              "    </tr>\n",
              "    <tr>\n",
              "      <th>swir2_CCDC_fitted</th>\n",
              "      <td>0.091913</td>\n",
              "    </tr>\n",
              "  </tbody>\n",
              "</table>\n",
              "</div>"
            ],
            "text/plain": [
              "                      Value\n",
              "NDVI_CCDC_fitted   0.767051\n",
              "blue_CCDC_fitted   0.028508\n",
              "green_CCDC_fitted  0.064697\n",
              "nir_CCDC_fitted    0.378252\n",
              "red_CCDC_fitted    0.043496\n",
              "swir1_CCDC_fitted  0.201752\n",
              "swir2_CCDC_fitted  0.091913"
            ]
          },
          "metadata": {},
          "output_type": "display_data"
        }
      ],
      "source": [
        "# Formatear en un marco de datos para verlo en un punto\n",
        "df = g2p.extractPointValuesToDataFrame(predicted,pt,scale=None,crs = crs, transform = transform).transpose()\n",
        "df.columns = ['Value']\n",
        "\n",
        "# mostrar\n",
        "display(df)"
      ]
    },
    {
      "cell_type": "markdown",
      "id": "0809f8a0",
      "metadata": {
        "id": "0809f8a0"
      },
      "source": [
        "### 3.5.12: Ponlo todo junto: ejecuta CCDC en una serie temporal\n",
        "\n",
        "* Ahora predeciremos la salida del CCDC sobre una serie temporal completa de imágenes de fechas desde el principio hasta el final cada décimo de año.\n",
        "* Esto nos permitirá hacer clic en el mapa y ver la estacionalidad representada por CCDC para varias bandas/índices."
      ]
    },
    {
      "cell_type": "code",
      "execution_count": null,
      "id": "d4257fb2",
      "metadata": {
        "id": "d4257fb2",
        "outputId": "cc637523-b342-4774-e91a-1a7031520e3d"
      },
      "outputs": [
        {
          "name": "stdout",
          "output_type": "stream",
          "text": [
            "Adding layer: Fitted CCDC\n",
            "Adding layer: Synthetic Composite\n",
            "Adding layer: year images\n",
            "Starting webmap\n",
            "Using default refresh token for geeView: /home/jupyter/.config/earthengine/credentials\n",
            "Local web server at: http://localhost:1234/geeView/ already serving.\n",
            "cwd /home/jupyter/lcms-training\n",
            "Workbench Proxy URL: https://1307eb830a12e633-dot-us-central1.notebooks.googleusercontent.com/proxy/1234/geeView/?accessToken=None\n"
          ]
        },
        {
          "data": {
            "text/html": [
              "\n",
              "        <iframe\n",
              "            width=\"100%\"\n",
              "            height=\"525px\"\n",
              "            src=\"https://1307eb830a12e633-dot-us-central1.notebooks.googleusercontent.com/proxy/1234/geeView/?accessToken=None\"\n",
              "            frameborder=\"0\"\n",
              "            allowfullscreen\n",
              "            \n",
              "        ></iframe>\n",
              "        "
            ],
            "text/plain": [
              "<IPython.lib.display.IFrame at 0x7f91d4119db0>"
            ]
          },
          "metadata": {},
          "output_type": "display_data"
        }
      ],
      "source": [
        "# Se sigue el mismo flujo de trabajo que con una salida CCDC sin terminar\n",
        "Map.clearMap()\n",
        "\n",
        "#Especifique qué armónicos usar al predecir el modelo CCDC\n",
        "#CCDC exporta los primeros 3 armónicos (1 ciclo/año, 2 ciclos/año y 3 ciclos/año)\n",
        "#Si solo desea ver patrones anuales, especifique [1]\n",
        "#Si desea un ajuste más preciso en el valor predicho, incluya también el segundo o tercer armónico [1,2,3]\n",
        "whichHarmonics = [1,2,3]\n",
        "\n",
        "#Si se deben llenar los espacios entre el año final de los segmentos y el año de inicio posterior a la fecha de ruptura\n",
        "fillGaps = False\n",
        "\n",
        "#Aplicar el modelo armónico CCDC a lo largo de una serie temporal\n",
        "#Primero obtenga una serie temporal de imágenes temporales con un paso de tiempo de 0,1 de año\n",
        "yearImages = changeDetectionLib.getTimeImageCollection(startYear,endYear,startJulian,endJulian,0.1);\n",
        "\n",
        "# Luego predice los modelos CCDC.\n",
        "fitted = changeDetectionLib.predictCCDC(ccdcImg,yearImages,fillGaps,whichHarmonics)\n",
        "Map.addLayer(fitted.select(['.*_fitted']),{'bands':'swir1_CCDC_fitted,nir_CCDC_fitted,red_CCDC_fitted','min':0.05,'max':0.6},'Fitted CCDC',True);\n",
        "\n",
        "\n",
        "# Visualización de compuestos sintéticos\n",
        "# Tome bandas compuestas de colores falsos comunes y visualícelas durante el penúltimo año\n",
        "\n",
        "# Primero obtenga las bandas de las bandas previstas y luego divida el nombre\n",
        "fittedBns = fitted.select(['.*_fitted']).first().bandNames()\n",
        "bns = fittedBns.map(lambda bn: ee.String(bn).split('_').get(0))\n",
        "\n",
        "# Filtrar hasta el penúltimo año y un rango de fechas de verano\n",
        "syntheticComposites = fitted.select(fittedBns,bns)\\\n",
        "    .filter(ee.Filter.calendarRange(endYear-1,endYear-1,'year'))\\\n",
        "    .filter(ee.Filter.calendarRange(60,80)).first()\n",
        "\n",
        "# Visualiza la salida como lo harías con un compuesto\n",
        "Map.addLayer(syntheticComposites,getImagesLib.vizParamsFalse,'Synthetic Composite')\n",
        "\n",
        "\n",
        "#visualizar imágenes del tiempo\n",
        "Map.addLayer(yearImages, {'opacity':0}, \"year images\")\n",
        "Map.turnOnInspector()\n",
        "Map.view()\n",
        "\n"
      ]
    },
    {
      "cell_type": "markdown",
      "id": "f831cb9a",
      "metadata": {
        "id": "f831cb9a"
      },
      "source": [
        "## Laboratorio 3 Desafío 2:\n",
        "\n",
        "**Para los usuarios de Qwiklabs**, se evaluará su finalización en la parte \"Verificar mi progreso\" al final de la práctica 2.\n",
        "\n",
        "1. Utilice la salida CCDC precocida para predecir el NDVI de CCDC de 2015.9 y 2017.9\n",
        "\n",
        "    * Utilice la siguiente colección de imágenes CCDC:\n",
        "\n",
        "    ```pitón\n",
        "          ccdcImg = ee.ImageCollection(f'{pre_baked_path_root}/lcms-training_module-3_CCDC').mosaic()\n",
        "      ```\n",
        "      <br>\n",
        "\n",
        "    * Crea una colección de imágenes de tiempo para las fechas especificadas.\n",
        "\n",
        "    \n",
        "    <br>\n",
        "      \n",
        "    * Utilice la siguiente función para predecir valores CCDC:\n",
        "\n",
        "    ```pitón\n",
        "          changeDetectionLib.predictCCDC(ccdcImg,timeImgs,fillGaps=True,whatHarmonics=[1,2,3])\n",
        "      ```\n",
        "      <br>\n",
        "   \n",
        "   \n",
        "\n",
        "<br>\n",
        "\n",
        "2. Reste los valores de NDVI pronosticados para 2015.9 de los valores de NDVI pronosticados para 2017.9 para mostrar el cambio (`bandName = 'NDVI_CCDC_fitted'`). Opcionalmente, puede agregar esta capa al mapa para ver el cambio entre 2015 y 2017 cuando el huracán María azotó el área de estudio.\n",
        "\n",
        "\n",
        "3. Extraiga el valor de diferencia para la siguiente ubicación.\n",
        "\n",
        "* Utilice un punto con estas coordenadas: `([-65.844, 18.261])`\n",
        "        \n",
        "* Utilice la siguiente función: `g2p.extractPointValuesToDataFrame`\n",
        "    <br>\n",
        "    Ejemplo:\n",
        "    ```pitón\n",
        "            valores_extraídos = g2p.extractPointValuesToDataFrame(\n",
        "            diferencia,\n",
        "            ee.Geometry.Point([-65.844, 18.261]),\n",
        "            escala = 30,\n",
        "            crs = \"EPSG:5070\",\n",
        "            transformar = Ninguno,\n",
        "            reductor = ee.Reducer.first(),\n",
        "            incluirNonSystemProperties = Falso,\n",
        "            incluirSystemProperties=Verdadero\n",
        "            )\n",
        "    ```\n",
        "    <br>\n",
        "4. Guarde los valores extraídos en un archivo csv.\n",
        "\n",
        "   * Guarde csv en esta ruta: `\"/tmp/challenge/module_3_challenge2_answer.csv\"`\n",
        "     * **Nota: La ruta al csv debe coincidir exactamente con la ruta anterior.**\n",
        "    <br>\n",
        "    \n",
        "    * Cree la carpeta `\"/tmp/challenge\"` si aún no existe.\n",
        "      \n",
        "        Ejemplo:\n",
        "    ```pitón\n",
        "        out_csv = \"/tmp/challenge/module_3_challenge2_answer.csv\"\n",
        "        si no, os.path.exists(os.path.dirname(out_csv)):os.makedirs(os.path.dirname(out_csv))\n",
        "    ```\n",
        "<br>\n",
        "\n",
        "5. Verifique que exista el csv de salida.\n",
        "    \n",
        "    * Ejemplo:\n",
        "    ```pitón\n",
        "        imprimir(os.path.exists(out_csv))\n",
        "    ```\n",
        "<br>"
      ]
    },
    {
      "cell_type": "code",
      "execution_count": null,
      "id": "67566611",
      "metadata": {
        "id": "67566611"
      },
      "outputs": [],
      "source": [
        "# Ponga la solución del código de desafío aquí\n"
      ]
    },
    {
      "cell_type": "markdown",
      "id": "7c9da6c7",
      "metadata": {
        "id": "7c9da6c7"
      },
      "source": [
        "## Listo con el Módulo 3\n",
        "\n",
        "Las predicciones de CCDC y LandTrendr se utilizarán como entradas en módulos posteriores."
      ]
    }
  ],
  "metadata": {
    "colab": {
      "include_colab_link": true,
      "provenance": []
    },
    "environment": {
      "kernel": "python3",
      "name": "tf2-cpu.2-11.m112",
      "type": "gcloud",
      "uri": "gcr.io/deeplearning-platform-release/tf2-cpu.2-11:m112"
    },
    "kernelspec": {
      "display_name": "Python 3",
      "language": "python",
      "name": "python3"
    },
    "language_info": {
      "codemirror_mode": {
        "name": "ipython",
        "version": 3
      },
      "file_extension": ".py",
      "mimetype": "text/x-python",
      "name": "python",
      "nbconvert_exporter": "python",
      "pygments_lexer": "ipython3",
      "version": "3.11.4"
    }
  },
  "nbformat": 4,
  "nbformat_minor": 5
}
