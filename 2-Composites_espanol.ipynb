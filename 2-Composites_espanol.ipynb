{
  "cells": [
    {
      "cell_type": "markdown",
      "metadata": {
        "colab_type": "text",
        "id": "view-in-github"
      },
      "source": [
        "<a href=\"https://colab.research.google.com/github/joshheyer/CONAFOR/blob/main/2-Composites_v4.ipynb\" target=\"_parent\"><img src=\"https://colab.research.google.com/assets/colab-badge.svg\" alt=\"Open In Colab\"/></a>"
      ]
    },
    {
      "cell_type": "code",
      "execution_count": null,
      "id": "36360716",
      "metadata": {
        "id": "36360716"
      },
      "outputs": [],
      "source": [
        "# Copyright 2023 Google LLC\n",
        "#\n",
        "# Licensed under the Apache License, Version 2.0 (the \"License\");\n",
        "# you may not use this file except in compliance with the License.\n",
        "# You may obtain a copy of the License at\n",
        "#\n",
        "#     https://www.apache.org/licenses/LICENSE-2.0\n",
        "#\n",
        "# Unless required by applicable law or agreed to in writing, software\n",
        "# distributed under the License is distributed on an \"AS IS\" BASIS,\n",
        "# WITHOUT WARRANTIES OR CONDITIONS OF ANY KIND, either express or implied.\n",
        "# See the License for the specific language governing permissions and\n",
        "# limitations under the License.\n",
        "#\n",
        "# Developed for Google LLC by RedCastle Resources Inc\n",
        "# https://www.redcastleresources.com/"
      ]
    },
    {
      "cell_type": "markdown",
      "id": "3c3387cb",
      "metadata": {
        "id": "3c3387cb"
      },
      "source": [
        "# <img width=50px  src = 'https://apps.fs.usda.gov/lcms-viewer/images/lcms-icon.png'>  Laboratorio 2: Producir Landsat y Sentinel-2 Compuestos Anuales\n",
        "\n",
        "<table align=\"left\">\n",
        "  <td>\n",
        "    <a href=\"https://colab.research.google.com/github/redcastle-resources/CONAFOR/blob/main/2-Composites_espanol.ipynb\">\n",
        "      <img src=\"https://cloud.google.com/ml-engine/images/colab-logo-32px.png\" alt=\"Colab logo\"> Run in Colab\n",
        "    </a>\n",
        "  </td>\n",
        "  <td>\n",
        "    <a href=\"https://github.com/redcastle-resources/CONAFOR/blob/main/2-Composites_espanol.ipynb\">\n",
        "      <img src=\"https://cloud.google.com/ml-engine/images/github-logo-32px.png\" alt=\"GitHub logo\">\n",
        "      View on GitHub\n",
        "    </a>\n",
        "  </td>\n",
        "</table>\n",
        "<br/><br/><br/>"
      ]
    },
    {
      "cell_type": "markdown",
      "id": "a0fcfc34",
      "metadata": {
        "id": "a0fcfc34",
        "tags": []
      },
      "source": [
        "## 2.0: Descripción General e Introducción\n",
        "\n",
        "\n",
        "Este cuaderno presenta los métodos de composición utilizados por el Sistema de Monitoreo de Cambios del Paisaje (LCMS) del Servicio Forestal del USDA. Luego produce composites para Tabasco México. Los compuestos se utilizarán para generar datos de series de tiempo que los algoritmos de modelado LCMS utilizarán para predecir el uso del suelo, la cobertura del suelo y los cambios en la cobertura vegetal en los módulos posteriores.\n",
        "\n",
        "**Aprender más sobre [LCMS](https://apps.fs.usda.gov/lcms-viewer/home.html).**\n",
        "\n",
        "\n",
        "Todos los compuestos se crean y visualizan utilizando el paquete Python `geeViz`. `geeViz` proporciona herramientas de línea de comandos para procesar, analizar y visualizar objetos de Google Earth Engine (GEE). Para la visualización de resultados de mapas, la principal ventaja de \"geeViz\" es que no depende de IPython. Esto es esencial, ya que todo el procesamiento LCMS operativo generalmente se realiza fuera de las computadoras portátiles, pero debemos poder depurar los resultados y verlos en el mapa.\n",
        "\n",
        "**Aprender más sobre [geeViz](https://github.com/gee-community/geeViz/tree/master).**\n",
        "\n",
        "\n",
        "### 2.0.1: Objetivos\n",
        "\n",
        "#### Este tutorial utiliza los siguientes servicios de Google Cloud:\n",
        "\n",
        "- `Google Earth Engine`\n",
        "\n",
        "#### Los pasos realizados incluyen:\n",
        "\n",
        "- Instalar los paquetes necesarios\n",
        "- Pruebe varios parámetros para crear compuestos.\n",
        "    - Ejecutar con parámetros predeterminados\n",
        "    - Incluir Landsat 7 en los compuestos\n",
        "    - Establecer la configuración de enmascaramiento de la nube\n",
        "    - Establecer la configuración de enmascaramiento de sombras de nubes\n",
        "- Crear y exportar series temporales compuestas a GEE assets\n",
        "\n",
        "#### Objetivos de aprendizaje:\n",
        "- Los usuarios crearán compuestos sin nubes y sombras de nubes utilizando Fmask y cloudScore para Landsat, s2Cloudless para Sentinel-2 y máscara de valores atípicos oscuros temporales (TDOM).  \n",
        "\n"
      ]
    },
    {
      "cell_type": "markdown",
      "id": "6b8ce60c",
      "metadata": {
        "id": "6b8ce60c"
      },
      "source": [
        "### 2.0.2: Antes de que empiecen\n",
        "\n",
        "#### Si está trabajando en Workbench: establezca su URL actual en `workbench_url`\n",
        "Esto le da al Visor de mapas una URL en la que alojar el visor que generaremos.\n",
        "Esto le da al Visor de mapas una URL en la que alojar el visor que generaremos.\n",
        "* Esto estará en su URL/barra de búsqueda en la parte superior de la ventana del navegador en la que se encuentra actualmente.\n",
        "* Se verá algo así como `https://1234567890122-dot-us-west3.notebooks.googleusercontent.com/` (Vea la imagen a continuación).\n",
        "\n",
        "![workspace url](https://github.com/redcastle-resources/lcms-training/blob/main/img/workspace-url.png?raw=1)\n",
        "\n",
        "#### Establezca una carpeta para usar en todas las exportaciones en `export_path_root`\n",
        "* Esta carpeta debe ser una carpeta de activos en un proyecto GEE existente.\n",
        "* De forma predeterminada, esta carpeta es la misma que la carpeta predefinida (donde ya se han creado los resultados).\n",
        "* Si desea crear sus propios resultados, especifique una ruta diferente para `export_path_root`, pero deja el`pre_baked_path_root` como esta. De esta manera, las salidas precocidas se pueden mostrar al final, en lugar de esperar a que terminen todas las exportaciones.\n",
        "* será algo así como `projects/projectID/assets/someFolder`. Utilice el ID de proyecto asociado con su cuenta.\n",
        "* No es necesario que esta carpeta ya exista. Si no existe, se creará."
      ]
    },
    {
      "cell_type": "code",
      "execution_count": 1,
      "id": "9f565bd6",
      "metadata": {
        "colab": {
          "base_uri": "https://localhost:8080/"
        },
        "id": "9f565bd6",
        "outputId": "93cf62a0-8e1f-464e-d5a8-8890e6d300f5"
      },
      "outputs": [
        {
          "name": "stdout",
          "output_type": "stream",
          "text": [
            "Done\n"
          ]
        }
      ],
      "source": [
        "workbench_url = 'https://1307eb830a12e633-dot-us-central1.notebooks.googleusercontent.com/'\n",
        "pre_baked_path_root  = 'projects/ee-jheyer2325/assets'\n",
        "export_path_root = pre_baked_path_root\n",
        "print('Hecho')"
      ]
    },
    {
      "cell_type": "markdown",
      "id": "ce2fc211",
      "metadata": {
        "id": "ce2fc211"
      },
      "source": [
        "#### Instalación\n",
        "Instale los paquetes de Python necesarios. Descomente la primera línea para actualizar geeViz si es necesario.\n",
        "\n",
        "Tenga en cuenta qué paquetes de Python y componentes de geeViz está importando aquí."
      ]
    },
    {
      "cell_type": "code",
      "execution_count": 2,
      "id": "b9604b5f",
      "metadata": {
        "colab": {
          "base_uri": "https://localhost:8080/"
        },
        "id": "b9604b5f",
        "outputId": "4da08a65-c4f4-49c7-8ca7-fb77248e0e62",
        "tags": []
      },
      "outputs": [
        {
          "name": "stdout",
          "output_type": "stream",
          "text": [
            "Collecting geeViz\n",
            "  Downloading geeViz-2023.10.1-py3-none-any.whl (583 kB)\n",
            "\u001b[2K     \u001b[90m━━━━━━━━━━━━━━━━━━━━━━━━━━━━━━━━━━━━━━━━\u001b[0m \u001b[32m583.2/583.2 kB\u001b[0m \u001b[31m6.9 MB/s\u001b[0m eta \u001b[36m0:00:00\u001b[0m\n",
            "\u001b[?25hRequirement already satisfied: earthengine-api in /usr/local/lib/python3.10/dist-packages (from geeViz) (0.1.377)\n",
            "Requirement already satisfied: oauth2client in /usr/local/lib/python3.10/dist-packages (from geeViz) (4.1.3)\n",
            "Requirement already satisfied: pandas in /usr/local/lib/python3.10/dist-packages (from geeViz) (1.5.3)\n",
            "Requirement already satisfied: matplotlib in /usr/local/lib/python3.10/dist-packages (from geeViz) (3.7.1)\n",
            "Requirement already satisfied: IPython in /usr/local/lib/python3.10/dist-packages (from geeViz) (7.34.0)\n",
            "Requirement already satisfied: requests in /usr/local/lib/python3.10/dist-packages (from geeViz) (2.31.0)\n",
            "Requirement already satisfied: folium in /usr/local/lib/python3.10/dist-packages (from geeViz) (0.14.0)\n",
            "Collecting simpledbf (from geeViz)\n",
            "  Downloading simpledbf-0.2.6.tar.gz (17 kB)\n",
            "  Preparing metadata (setup.py) ... \u001b[?25l\u001b[?25hdone\n",
            "Requirement already satisfied: google-cloud-storage in /usr/local/lib/python3.10/dist-packages (from earthengine-api->geeViz) (2.8.0)\n",
            "Requirement already satisfied: google-api-python-client>=1.12.1 in /usr/local/lib/python3.10/dist-packages (from earthengine-api->geeViz) (2.84.0)\n",
            "Requirement already satisfied: google-auth>=1.4.1 in /usr/local/lib/python3.10/dist-packages (from earthengine-api->geeViz) (2.17.3)\n",
            "Requirement already satisfied: google-auth-httplib2>=0.0.3 in /usr/local/lib/python3.10/dist-packages (from earthengine-api->geeViz) (0.1.1)\n",
            "Requirement already satisfied: httplib2<1dev,>=0.9.2 in /usr/local/lib/python3.10/dist-packages (from earthengine-api->geeViz) (0.22.0)\n",
            "Requirement already satisfied: branca>=0.6.0 in /usr/local/lib/python3.10/dist-packages (from folium->geeViz) (0.6.0)\n",
            "Requirement already satisfied: jinja2>=2.9 in /usr/local/lib/python3.10/dist-packages (from folium->geeViz) (3.1.2)\n",
            "Requirement already satisfied: numpy in /usr/local/lib/python3.10/dist-packages (from folium->geeViz) (1.23.5)\n",
            "Requirement already satisfied: setuptools>=18.5 in /usr/local/lib/python3.10/dist-packages (from IPython->geeViz) (67.7.2)\n",
            "Collecting jedi>=0.16 (from IPython->geeViz)\n",
            "  Downloading jedi-0.19.1-py2.py3-none-any.whl (1.6 MB)\n",
            "\u001b[2K     \u001b[90m━━━━━━━━━━━━━━━━━━━━━━━━━━━━━━━━━━━━━━━━\u001b[0m \u001b[32m1.6/1.6 MB\u001b[0m \u001b[31m45.5 MB/s\u001b[0m eta \u001b[36m0:00:00\u001b[0m\n",
            "\u001b[?25hRequirement already satisfied: decorator in /usr/local/lib/python3.10/dist-packages (from IPython->geeViz) (4.4.2)\n",
            "Requirement already satisfied: pickleshare in /usr/local/lib/python3.10/dist-packages (from IPython->geeViz) (0.7.5)\n",
            "Requirement already satisfied: traitlets>=4.2 in /usr/local/lib/python3.10/dist-packages (from IPython->geeViz) (5.7.1)\n",
            "Requirement already satisfied: prompt-toolkit!=3.0.0,!=3.0.1,<3.1.0,>=2.0.0 in /usr/local/lib/python3.10/dist-packages (from IPython->geeViz) (3.0.39)\n",
            "Requirement already satisfied: pygments in /usr/local/lib/python3.10/dist-packages (from IPython->geeViz) (2.16.1)\n",
            "Requirement already satisfied: backcall in /usr/local/lib/python3.10/dist-packages (from IPython->geeViz) (0.2.0)\n",
            "Requirement already satisfied: matplotlib-inline in /usr/local/lib/python3.10/dist-packages (from IPython->geeViz) (0.1.6)\n",
            "Requirement already satisfied: pexpect>4.3 in /usr/local/lib/python3.10/dist-packages (from IPython->geeViz) (4.8.0)\n",
            "Requirement already satisfied: contourpy>=1.0.1 in /usr/local/lib/python3.10/dist-packages (from matplotlib->geeViz) (1.2.0)\n",
            "Requirement already satisfied: cycler>=0.10 in /usr/local/lib/python3.10/dist-packages (from matplotlib->geeViz) (0.12.1)\n",
            "Requirement already satisfied: fonttools>=4.22.0 in /usr/local/lib/python3.10/dist-packages (from matplotlib->geeViz) (4.44.0)\n",
            "Requirement already satisfied: kiwisolver>=1.0.1 in /usr/local/lib/python3.10/dist-packages (from matplotlib->geeViz) (1.4.5)\n",
            "Requirement already satisfied: packaging>=20.0 in /usr/local/lib/python3.10/dist-packages (from matplotlib->geeViz) (23.2)\n",
            "Requirement already satisfied: pillow>=6.2.0 in /usr/local/lib/python3.10/dist-packages (from matplotlib->geeViz) (9.4.0)\n",
            "Requirement already satisfied: pyparsing>=2.3.1 in /usr/local/lib/python3.10/dist-packages (from matplotlib->geeViz) (3.1.1)\n",
            "Requirement already satisfied: python-dateutil>=2.7 in /usr/local/lib/python3.10/dist-packages (from matplotlib->geeViz) (2.8.2)\n",
            "Requirement already satisfied: pyasn1>=0.1.7 in /usr/local/lib/python3.10/dist-packages (from oauth2client->geeViz) (0.5.0)\n",
            "Requirement already satisfied: pyasn1-modules>=0.0.5 in /usr/local/lib/python3.10/dist-packages (from oauth2client->geeViz) (0.3.0)\n",
            "Requirement already satisfied: rsa>=3.1.4 in /usr/local/lib/python3.10/dist-packages (from oauth2client->geeViz) (4.9)\n",
            "Requirement already satisfied: six>=1.6.1 in /usr/local/lib/python3.10/dist-packages (from oauth2client->geeViz) (1.16.0)\n",
            "Requirement already satisfied: pytz>=2020.1 in /usr/local/lib/python3.10/dist-packages (from pandas->geeViz) (2023.3.post1)\n",
            "Requirement already satisfied: charset-normalizer<4,>=2 in /usr/local/lib/python3.10/dist-packages (from requests->geeViz) (3.3.2)\n",
            "Requirement already satisfied: idna<4,>=2.5 in /usr/local/lib/python3.10/dist-packages (from requests->geeViz) (3.4)\n",
            "Requirement already satisfied: urllib3<3,>=1.21.1 in /usr/local/lib/python3.10/dist-packages (from requests->geeViz) (2.0.7)\n",
            "Requirement already satisfied: certifi>=2017.4.17 in /usr/local/lib/python3.10/dist-packages (from requests->geeViz) (2023.7.22)\n",
            "Requirement already satisfied: google-api-core!=2.0.*,!=2.1.*,!=2.2.*,!=2.3.0,<3.0.0dev,>=1.31.5 in /usr/local/lib/python3.10/dist-packages (from google-api-python-client>=1.12.1->earthengine-api->geeViz) (2.11.1)\n",
            "Requirement already satisfied: uritemplate<5,>=3.0.1 in /usr/local/lib/python3.10/dist-packages (from google-api-python-client>=1.12.1->earthengine-api->geeViz) (4.1.1)\n",
            "Requirement already satisfied: cachetools<6.0,>=2.0.0 in /usr/local/lib/python3.10/dist-packages (from google-auth>=1.4.1->earthengine-api->geeViz) (5.3.2)\n",
            "Requirement already satisfied: parso<0.9.0,>=0.8.3 in /usr/local/lib/python3.10/dist-packages (from jedi>=0.16->IPython->geeViz) (0.8.3)\n",
            "Requirement already satisfied: MarkupSafe>=2.0 in /usr/local/lib/python3.10/dist-packages (from jinja2>=2.9->folium->geeViz) (2.1.3)\n",
            "Requirement already satisfied: ptyprocess>=0.5 in /usr/local/lib/python3.10/dist-packages (from pexpect>4.3->IPython->geeViz) (0.7.0)\n",
            "Requirement already satisfied: wcwidth in /usr/local/lib/python3.10/dist-packages (from prompt-toolkit!=3.0.0,!=3.0.1,<3.1.0,>=2.0.0->IPython->geeViz) (0.2.9)\n",
            "Requirement already satisfied: google-cloud-core<3.0dev,>=2.3.0 in /usr/local/lib/python3.10/dist-packages (from google-cloud-storage->earthengine-api->geeViz) (2.3.3)\n",
            "Requirement already satisfied: google-resumable-media>=2.3.2 in /usr/local/lib/python3.10/dist-packages (from google-cloud-storage->earthengine-api->geeViz) (2.6.0)\n",
            "Requirement already satisfied: googleapis-common-protos<2.0.dev0,>=1.56.2 in /usr/local/lib/python3.10/dist-packages (from google-api-core!=2.0.*,!=2.1.*,!=2.2.*,!=2.3.0,<3.0.0dev,>=1.31.5->google-api-python-client>=1.12.1->earthengine-api->geeViz) (1.61.0)\n",
            "Requirement already satisfied: protobuf!=3.20.0,!=3.20.1,!=4.21.0,!=4.21.1,!=4.21.2,!=4.21.3,!=4.21.4,!=4.21.5,<5.0.0.dev0,>=3.19.5 in /usr/local/lib/python3.10/dist-packages (from google-api-core!=2.0.*,!=2.1.*,!=2.2.*,!=2.3.0,<3.0.0dev,>=1.31.5->google-api-python-client>=1.12.1->earthengine-api->geeViz) (3.20.3)\n",
            "Requirement already satisfied: google-crc32c<2.0dev,>=1.0 in /usr/local/lib/python3.10/dist-packages (from google-resumable-media>=2.3.2->google-cloud-storage->earthengine-api->geeViz) (1.5.0)\n",
            "Building wheels for collected packages: simpledbf\n",
            "  Building wheel for simpledbf (setup.py) ... \u001b[?25l\u001b[?25hdone\n",
            "  Created wheel for simpledbf: filename=simpledbf-0.2.6-py3-none-any.whl size=13786 sha256=9f677a77bae1b43ffc0b085c51a560199b58c5354edc13595bd16f321649c7ca\n",
            "  Stored in directory: /root/.cache/pip/wheels/e5/41/13/ebdef29165b9309ec4e235dbff19eca8b6759125b0924ad430\n",
            "Successfully built simpledbf\n",
            "Installing collected packages: simpledbf, jedi, geeViz\n",
            "Successfully installed geeViz-2023.10.1 jedi-0.19.1 simpledbf-0.2.6\n",
            "Initializing GEE\n",
            "No credentials found\n",
            "Will attempt ee.Authenticate\n",
            "To authorize access needed by Earth Engine, open the following URL in a web browser and follow the instructions. If the web browser does not start automatically, please manually browse the URL below.\n",
            "\n",
            "    https://code.earthengine.google.com/client-auth?scopes=https%3A//www.googleapis.com/auth/earthengine%20https%3A//www.googleapis.com/auth/devstorage.full_control&request_id=bPMfXmRXlJCwyolxG3vA6hTMrIN613t1xGikNgYDjAE&tc=e6ySRrVqcrqcC4jAL8j_WgjuALVt0GuNNjQp-Mei5e8&cc=SVNN1-Oxbiv5EcIhJMfIaAWoEnhlDuvfnJMGdembHog\n",
            "\n",
            "The authorization workflow will generate a code, which you should paste in the box below.\n",
            "Enter verification code: 4/1AfJohXnW6f-IKnqGSk4BUfoweg527ZaRsqJGIiN9DuXaHYFecg4MuJxskaI\n",
            "\n",
            "Successfully saved authorization token.\n",
            "Successfully initialized\n",
            "geeViz package folder: /usr/local/lib/python3.10/dist-packages/geeViz\n",
            "Done\n"
          ]
        }
      ],
      "source": [
        "#Module imports\n",
        "#!python -m pip install geeViz --upgrade\n",
        "try:\n",
        "    import geeViz.getImagesLib as getImagesLib\n",
        "except:\n",
        "    !python -m pip install geeViz\n",
        "    import geeViz.getImagesLib as getImagesLib\n",
        "\n",
        "import geeViz.assetManagerLib as aml\n",
        "import geeViz.taskManagerLib as tml\n",
        "import geeViz.gee2Pandas as g2p\n",
        "\n",
        "import pandas as pd\n",
        "import inspect,os\n",
        "\n",
        "ee = getImagesLib.ee\n",
        "Map = getImagesLib.Map\n",
        "\n",
        "print('Hecho')"
      ]
    },
    {
      "cell_type": "markdown",
      "id": "7471b64a",
      "metadata": {
        "id": "7471b64a",
        "tags": []
      },
      "source": [
        "#### Configura tu entorno de trabajo\n",
        "\n",
        "Cree una carpeta en su ruta de exportación donde exportará los compuestos. Además, cree una colección de imágenes en blanco donde residirán sus compuestos.\n",
        "\n",
        "Actualmente, cuando se ejecuta en Colab o Workbench, geeView utiliza un proyecto diferente para autenticarse, por lo que es posible que deba hacer público su recurso para verlo desde Colab.\n",
        "\n",
        "**Advertencia!!**\n",
        "\n",
        "* **Se proporciona acceso de solo lectura a todos los usuarios de GEE autenticados para los resultados ya terminados**\n",
        "* **Si está utilizando la ubicación de salida precocida (`export_path_root = pre_baked_path_root`), Verá errores para cualquier operación que intente escribir, eliminar o cambiar los permisos de acceso a cualquier recurso en la ubicación de salida predefinida.**\n",
        "* **Esto es lo esperado y no le impedirá ejecutar correctamente este cuaderno. Ignore estos mensajes de error si aparecen.**\n"
      ]
    },
    {
      "cell_type": "code",
      "execution_count": 3,
      "id": "efd2929b",
      "metadata": {
        "colab": {
          "base_uri": "https://localhost:8080/"
        },
        "id": "efd2929b",
        "outputId": "f557c23c-9064-4538-a7f5-4ef000f96b13",
        "tags": []
      },
      "outputs": [
        {
          "name": "stdout",
          "output_type": "stream",
          "text": [
            "projects/ee-jheyer2325/assets/lcms-training_module-2_composites\n",
            "Asset projects/ee-jheyer2325/assets/lcms-training_module-2_composites already exists\n",
            "Updating permissions for:  projects/ee-jheyer2325/assets/lcms-training_module-2_composites\n",
            "Done\n"
          ]
        }
      ],
      "source": [
        "# Crear carpeta\n",
        "export_composite_collection = f'{export_path_root}/lcms-training_module-2_composites'\n",
        "print(export_composite_collection)\n",
        "\n",
        "# Crear una colección\n",
        "aml.create_asset(export_composite_collection,asset_type = ee.data.ASSET_TYPE_IMAGE_COLL)\n",
        "\n",
        "# Hazlo público\n",
        "# Esto fallará si está utilizando la ubicación de salida pre_baked_path_root\n",
        "aml.updateACL(export_composite_collection,writers = [],all_users_can_read = True,readers = [])\n",
        "\n",
        "print('Hecho')"
      ]
    },
    {
      "cell_type": "markdown",
      "id": "dff48dab-59f6-4687-b49e-d6245ab64e8c",
      "metadata": {
        "id": "dff48dab-59f6-4687-b49e-d6245ab64e8c"
      },
      "source": [
        "## 2.1: Explora las funciones de geeViz\n",
        "\n",
        "A lo largo de los ejemplos de este módulo, se familiarizará más con los parámetros utilizados para crear compuestos de imágenes. La función principal que utilizará es de la biblioteca geeViz y se llama `getLandsatAndSentinel2HybridWrapper`.\n",
        "\n",
        "Para obtener más documentación sobre los parámetros de la función, consulte la [getCombinedLandsatSentinel2Wrapper](https://github.com/gee-community/geeViz/blob/master/examples/getCombinedLandsatSentinel2Wrapper.py) ejemplo en la documentación de geeViz.\n",
        "\n",
        "Puedes ver el [source code](https://github.com/gee-community/geeViz/blob/bd75d38c2043fc3af795c9c35ae769c71c00f56a/getImagesLib.py#L3280) para esta función en geeViz GitHub.\n",
        "\n",
        "Mientras que `getLandsatAndSentinel2HybridWrapper` satisfará las necesidades de la mayoría de los flujos de trabajo de composición, a veces es necesario tener más control sobre cómo se crean los compuestos. Para estos casos, debe utilizar las funciones subyacentes que ayudan con el preprocesamiento de datos Landsat o Sentinel-2.:\n",
        "* [getProcessedLandsatScenes](https://github.com/gee-community/geeViz/blob/fdd8f0080301f8d915214b6e2d50af03a0915777/getImagesLib.py#L2678)\n",
        "* [getProcessedSentinel2Scenes](https://github.com/gee-community/geeViz/blob/fdd8f0080301f8d915214b6e2d50af03a0915777/getImagesLib.py#L2799)\n",
        "\n",
        "Puede inspeccionar el código de estas funciones siguiendo los enlaces anteriores a la función o utilizando el `print(inspect.getsource(LIBRARY_NAME.FUNCTION_NAME))` dominio. Ejecute el bloque de código a continuación para inspeccionar la función de la biblioteca geeViz que utilizará."
      ]
    },
    {
      "cell_type": "code",
      "execution_count": 14,
      "id": "9f80644b",
      "metadata": {
        "colab": {
          "base_uri": "https://localhost:8080/"
        },
        "id": "9f80644b",
        "outputId": "02a04799-918e-4230-f58d-20d54513586a"
      },
      "outputs": [
        {
          "name": "stdout",
          "output_type": "stream",
          "text": [
            "def getLandsatAndSentinel2HybridWrapper(\\\n",
            "  studyArea,\n",
            "  startYear,\n",
            "  endYear,\n",
            "  startJulian,\n",
            "  endJulian,\n",
            "  timebuffer =  0,\n",
            "  weights =  [1],\n",
            "  compositingMethod = 'medoid',\n",
            "  toaOrSR = 'TOA',\n",
            "  includeSLCOffL7 = False,\n",
            "  defringeL5 = False,\n",
            "  applyQABand = False,\n",
            "  applyCloudProbability = True,\n",
            "  applyShadowShift = False,\n",
            "  applyCloudScoreLandsat = False,\n",
            "  applyCloudScoreSentinel2 = False,\n",
            "  applyTDOMLandsat = True,\n",
            "  applyTDOMSentinel2 = True,\n",
            "  applyFmaskCloudMask = True,\n",
            "  applyFmaskCloudShadowMask = True,\n",
            "  applyFmaskSnowMask = False,\n",
            "  cloudHeights = ee.List.sequence(500,10000,500),\n",
            "  cloudScoreThresh = 20,\n",
            "  performCloudScoreOffset = True,\n",
            "  cloudScorePctl = 10,\n",
            "  zScoreThresh = -1,\n",
            "  shadowSumThresh = 0.35,\n",
            "  contractPixels = 1.5,\n",
            "  dilatePixels = 3.5,\n",
            "  shadowSumBands = ['nir','swir1'],\n",
            "  landsatResampleMethod = 'near',\n",
            "  sentinel2ResampleMethod = 'aggregate',\n",
            "  convertToDailyMosaics = True,\n",
            "  runChastainHarmonization = True,\n",
            "  correctIllumination = False,\n",
            "  correctScale = 250,\n",
            "  exportComposites = False,\n",
            "  outputName = 'Landsat-Sentinel2-Hybrid',\n",
            "  exportPathRoot = None,\n",
            "  crs = 'EPSG:5070',\n",
            "  transform = [30,0,-2361915.0,0,-30,3177735.0],\n",
            "  scale = None,\n",
            "  preComputedLandsatCloudScoreOffset = None,\n",
            "  preComputedLandsatTDOMIRMean = None,\n",
            "  preComputedLandsatTDOMIRStdDev = None,\n",
            "  preComputedSentinel2CloudScoreOffset = None,\n",
            "  preComputedSentinel2TDOMIRMean = None,\n",
            "  preComputedSentinel2TDOMIRStdDev = None,\n",
            "  cloudProbThresh = 40,\n",
            "  landsatCollectionVersion = 'C2',\n",
            "  overwrite = False,\n",
            "  verbose = False,\n",
            "  applyCloudScorePlusSentinel2 = False,\n",
            "  cloudScorePlusThresh = 0.6):\n",
            "\n",
            "  origin = 'Landsat-Sentinel2-Hybrid'\n",
            "  toaOrSR = toaOrSR.upper()\n",
            "\n",
            "  args = formatArgs(locals())\n",
            "  if 'args' in args.keys():\n",
            "    del args['args']\n",
            "\n",
            "  merged = getProcessedLandsatAndSentinel2Scenes(\\\n",
            "    studyArea = studyArea,\n",
            "    startYear = startYear,\n",
            "    endYear = endYear,\n",
            "    startJulian = startJulian,\n",
            "    endJulian = endJulian,\n",
            "    toaOrSR = toaOrSR,\n",
            "    includeSLCOffL7 = includeSLCOffL7,\n",
            "    defringeL5 = defringeL5,\n",
            "    applyQABand = applyQABand,\n",
            "    applyCloudProbability = applyCloudProbability,\n",
            "    applyShadowShift = applyShadowShift,\n",
            "    applyCloudScoreLandsat = applyCloudScoreLandsat,\n",
            "    applyCloudScoreSentinel2 = applyCloudScoreSentinel2,\n",
            "    applyTDOMLandsat = applyTDOMLandsat,\n",
            "    applyTDOMSentinel2 = applyTDOMSentinel2,\n",
            "    applyFmaskCloudMask = applyFmaskCloudMask,\n",
            "    applyFmaskCloudShadowMask = applyFmaskCloudShadowMask,\n",
            "    applyFmaskSnowMask = applyFmaskSnowMask,\n",
            "    cloudHeights = cloudHeights,\n",
            "    cloudScoreThresh = cloudScoreThresh,\n",
            "    performCloudScoreOffset = performCloudScoreOffset,\n",
            "    cloudScorePctl = cloudScorePctl,\n",
            "    zScoreThresh = zScoreThresh,\n",
            "    shadowSumThresh = shadowSumThresh,\n",
            "    contractPixels = contractPixels,\n",
            "    dilatePixels = dilatePixels,\n",
            "    shadowSumBands = shadowSumBands,\n",
            "    landsatResampleMethod = landsatResampleMethod,\n",
            "    sentinel2ResampleMethod = sentinel2ResampleMethod,\n",
            "    convertToDailyMosaics = convertToDailyMosaics,\n",
            "    runChastainHarmonization = runChastainHarmonization,\n",
            "    correctIllumination = correctIllumination,\n",
            "    correctScale = correctScale,\n",
            "    preComputedLandsatCloudScoreOffset = preComputedLandsatCloudScoreOffset,\n",
            "    preComputedLandsatTDOMIRMean = preComputedLandsatTDOMIRMean,\n",
            "    preComputedLandsatTDOMIRStdDev = preComputedLandsatTDOMIRStdDev,\n",
            "    preComputedSentinel2CloudScoreOffset = preComputedSentinel2CloudScoreOffset,\n",
            "    preComputedSentinel2TDOMIRMean = preComputedSentinel2TDOMIRMean,\n",
            "    preComputedSentinel2TDOMIRStdDev = preComputedSentinel2TDOMIRStdDev,\n",
            "    cloudProbThresh = cloudProbThresh,\n",
            "    landsatCollectionVersion = landsatCollectionVersion,\n",
            "    verbose = verbose,\n",
            "    applyCloudScorePlus = applyCloudScorePlusSentinel2,\n",
            "    cloudScorePlusThresh = cloudScorePlusThresh)\n",
            "\n",
            "  #Create hybrid composites\n",
            "  composites = compositeTimeSeries(\\\n",
            "    ls = merged,\n",
            "    startYear = startYear,\n",
            "    endYear = endYear,\n",
            "    startJulian = startJulian,\n",
            "    endJulian = endJulian,\n",
            "    timebuffer = timebuffer,\n",
            "    weights = weights,\n",
            "    compositingMethod = compositingMethod)\n",
            "\n",
            "  # Export composite collection\n",
            "  if exportComposites:\n",
            "\n",
            "    exportBandDict = {\\\n",
            "      'medoid':['blue', 'green', 'red','nir','swir1', 'swir2','compositeObsCount','sensor','year','julianDay'],\n",
            "      'median':['blue', 'green', 'red','nir','swir1', 'swir2','compositeObsCount']\\\n",
            "    };\n",
            "    nonDivideBandDict = {\\\n",
            "      'medoid':['compositeObsCount','sensor','year','julianDay'],\n",
            "      'median':['compositeObsCount']\\\n",
            "    };\n",
            "    exportBands = exportBandDict[compositingMethod]\n",
            "    nonDivideBands = nonDivideBandDict[compositingMethod]\n",
            "\n",
            "    exportCompositeCollection(\\\n",
            "      collection = composites,\n",
            "      exportPathRoot = exportPathRoot,\n",
            "      outputName = outputName,\n",
            "      origin = origin,\n",
            "      studyArea = studyArea,\n",
            "      crs = crs,\n",
            "      transform = transform,\n",
            "      scale = scale,\n",
            "      startYear = startYear,\n",
            "      endYear = endYear,\n",
            "      startJulian = startJulian,\n",
            "      endJulian = endJulian,\n",
            "      compositingMethod = compositingMethod,\n",
            "      timebuffer = timebuffer,\n",
            "      toaOrSR = toaOrSR,\n",
            "      nonDivideBands = nonDivideBands,\n",
            "      exportBands = exportBands,\n",
            "      additionalPropertyDict = args,\n",
            "      overwrite = overwrite)\n",
            "\n",
            "  args['processedScenes'] = merged\n",
            "  args['processedComposites'] = composites\n",
            "\n",
            "  return args\n",
            "\n"
          ]
        }
      ],
      "source": [
        "print(inspect.getsource(getImagesLib.getLandsatAndSentinel2HybridWrapper))"
      ]
    },
    {
      "cell_type": "markdown",
      "id": "40ef1236-6209-4a19-bfa7-175a19f89310",
      "metadata": {
        "id": "40ef1236-6209-4a19-bfa7-175a19f89310"
      },
      "source": [
        "## 2.2: Creer Landsat + Sentinel-2 Compuestos\n",
        "\n",
        "### 2.2.1: Crear compuestos usando parámetros básicos\n",
        "\n",
        "#### Configurar mapa\n",
        "Lo primero que hará es configurar el visor de mapas donde inspeccionará los resultados que genere. No verás el mapa hasta más tarde."
      ]
    },
    {
      "cell_type": "code",
      "execution_count": 5,
      "id": "f8a75bb1",
      "metadata": {
        "colab": {
          "base_uri": "https://localhost:8080/"
        },
        "id": "f8a75bb1",
        "outputId": "bd35c837-fefe-45fd-ac06-e399b78a72d7"
      },
      "outputs": [
        {
          "name": "stdout",
          "output_type": "stream",
          "text": [
            "Done\n"
          ]
        }
      ],
      "source": [
        "# Configurar proxy url\n",
        "Map.proxy_url = workbench_url\n",
        "\n",
        "#Primero borre el mapa en caso de que se haya poblado con capas/comandos anteriormente\n",
        "Map.clearMap()\n",
        "\n",
        "# restablecer el puerto si es necesario\n",
        "Map.port = 1232\n",
        "\n",
        "print('Hecho')"
      ]
    },
    {
      "cell_type": "markdown",
      "id": "c244cb25",
      "metadata": {
        "id": "c244cb25",
        "tags": []
      },
      "source": [
        "#### Definir parámetros\n",
        "\n",
        "**Los primeros parámetros que defina establecerán el **área** y el **intervalo de tiempo** sobre los cuales desea calcular los compuestos anuales.**\n",
        "\n",
        "* ```studyArea``` - una colección de características, característica o geometría para especificar los límites de nuestra área de interés\n",
        "\n",
        "* ```startJulian``` - la primera fecha juliana que se incluye en los compuestos anuales, utilizada para especificar una temporada en particular si se desea\n",
        "* ```endJulian``` - la última fecha juliana para incluir en los compuestos anuales, utilizada para especificar una temporada en particular si se desea\n",
        "\n",
        "    Esto apoya la envoltura para los trópicos y el hemisferio sur. Si está utilizando envoltura y la mayoría de los días ocurren en el segundo año, system:time_start será el 1 de junio de ese año de forma predeterminada. De lo contrario, todo system:time_starts se establecerá de forma predeterminada el 1 de junio del año determinado.\n",
        "\n",
        "* ```startYear``` - el primer año para calcular los compuestos anuales\n",
        "* ```endYear``` - el último año para calcular los compuestos anuales\n",
        "\n",
        "Debe proporcionar al menos 3 años para que los métodos de series temporales funcionen bien. Si proporciona estadísticas precalculadas para el enmascaramiento de la nube mediante cloudScore y TDOM, esto no importa.\n",
        "\n",
        "A continuación, utilizará un período de 3 años para explorar cómo se fabrican los composites. Después de determinar qué parámetros son apropiados, creará compuestos para todo el período de tiempo para el cual los datos Landsat están disponibles."
      ]
    },
    {
      "cell_type": "code",
      "execution_count": 15,
      "id": "78e5f7cd",
      "metadata": {
        "colab": {
          "base_uri": "https://localhost:8080/"
        },
        "id": "78e5f7cd",
        "outputId": "f89c7086-d8e8-42bd-bedc-83ff4084d2e5"
      },
      "outputs": [
        {
          "name": "stdout",
          "output_type": "stream",
          "text": [
            "Done\n"
          ]
        }
      ],
      "source": [
        "# Define user parameters:\n",
        "\n",
        "# Specify study area\n",
        "paises = ee.FeatureCollection(\"FAO/GAUL_SIMPLIFIED_500m/2015/level1\")\n",
        "mexico = paises.filter(ee.Filter.stringContains('ADM0_NAME','Mexico'))\n",
        "studyArea = paises.filter(ee.Filter.stringContains('ADM1_NAME','Tabasco'))\n",
        "\n",
        "# ¿Cuándo es el mejor rango de fechas para México? \n",
        "# Actualice el startJulian y endJulian\n",
        "startJulian = 1\n",
        "endJulian = 365\n",
        "\n",
        "# Especifique los años de inicio y finalización de todos los análisis\n",
        "startYear = 2009\n",
        "endYear = 2011\n",
        "\n",
        "# De forma predeterminada, no ejecute el método de enmascaramiento de sombras de nubes Temporal Dark Outlier Mask (TDOM)\n",
        "# volveremos a TDOM más tarde\n",
        "applyTDOMLandsat = False\n",
        "applyTDOMSentinel2 = False\n",
        "print('Hecho')"
      ]
    },
    {
      "cell_type": "markdown",
      "id": "838bd450",
      "metadata": {
        "id": "838bd450"
      },
      "source": [
        "#### Producir Compuestos\n",
        "Usando los parámetros que especificó anteriormente, creará una serie de compuestos.\n",
        "\n",
        "Puede revisar todos los parámetros y sus valores predeterminados en el [getCombinedLandsatSentinel2Wrapper](https://github.com/gee-community/geeViz/blob/master/examples/getCombinedLandsatSentinel2Wrapper.py).\n"
      ]
    },
    {
      "cell_type": "code",
      "execution_count": 16,
      "id": "961e3a25",
      "metadata": {
        "colab": {
          "base_uri": "https://localhost:8080/"
        },
        "id": "961e3a25",
        "outputId": "e4797d0c-0c52-4f7f-d2a8-658b389f8736"
      },
      "outputs": [
        {
          "name": "stdout",
          "output_type": "stream",
          "text": [
            "Get Processed Landsat and Sentinel2 Scenes: \n",
            "Start date: Jan 01 2009 , End date: Dec 31 2011\n",
            "Get Processed Landsat: \n",
            "Start date: Jan 01 2009 , End date: Dec 31 2011\n",
            "Only including SLC On Landsat 7\n",
            "Applying Fmask Cloud Mask\n",
            "Applying Fmask Shadow Mask\n",
            "Get Processed Sentinel2: \n",
            "Start date: Jan 01 2009 , End date: Dec 31 2011\n",
            "Using S2 Collection: COPERNICUS/S2_HARMONIZED\n",
            "Joining pre-computed cloud probabilities from: COPERNICUS/S2_CLOUD_PROBABILITY\n",
            "Setting to aggregate instead of resample \n",
            "Converting S2 data to daily mosaics\n",
            "Applying Cloud Probability\n",
            "Running Chastain et al 2019 harmonization\n"
          ]
        }
      ],
      "source": [
        "#Llame a la función de contenedor maestro para obtener escenas y compuestos de Landsat\n",
        "lsAndTs = getImagesLib.getLandsatAndSentinel2HybridWrapper(studyArea.geometry().bounds(50,'EPSG:5070'),\n",
        "                                                           startYear,\n",
        "                                                           endYear,\n",
        "                                                           startJulian,\n",
        "                                                           endJulian,\n",
        "                                                           applyTDOMLandsat = applyTDOMLandsat,\n",
        "                                                           applyTDOMSentinel2 = applyTDOMSentinel2\n",
        "                                                          )\n",
        "\n",
        "#Separar en escenas y composiciones para su posterior análisis\n",
        "processedScenes = lsAndTs['processedScenes']\n",
        "processedComposites = lsAndTs['processedComposites']"
      ]
    },
    {
      "cell_type": "markdown",
      "id": "af6035ca",
      "metadata": {
        "id": "af6035ca"
      },
      "source": [
        "Tenga en cuenta que la configuración predeterminada aplica el [Fmask Cloud Mask](https://github.com/gee-community/geeViz/blob/fdd8f0080301f8d915214b6e2d50af03a0915777/getImagesLib.py#L1111) y [Fmask Shadow Mask](https://github.com/gee-community/geeViz/blob/fdd8f0080301f8d915214b6e2d50af03a0915777/getImagesLib.py#L1133) \n",
        "para Landsat y aplicar [Cloud Probability](https://github.com/gee-community/geeViz/blob/fdd8f0080301f8d915214b6e2d50af03a0915777/getImagesLib.py#L668) para imágenes Sentinel-2.\n",
        "\n",
        "Siga los hipervínculos anteriores para ver cómo se implementan estas funciones en geeViz.\n",
        "\n",
        "#### Añadir al mapa\n",
        "El `geeView` módulo de la `geeViz` paquete proporciona funciones para crear un visor de mapas interactivo fuera del editor de código y Playground de Google Earth Engine. Generalmente, `Map` funciones en `geeView` siga la misma sintaxis que los comandos de javascript Earth Engine en el patio de juegos.\n",
        "\n",
        "Para obtener más información y ejemplos de capacidades de geeView, visite el [geeView example](https://github.com/gee-community/geeViz/blob/master/examples/geeViewExample.py) en geeViz github.\n",
        "\n",
        "El visor de mapas interactivo aparecerá debajo."
      ]
    },
    {
      "cell_type": "code",
      "execution_count": 17,
      "id": "f9cb39f9",
      "metadata": {
        "colab": {
          "base_uri": "https://localhost:8080/",
          "height": 668
        },
        "id": "f9cb39f9",
        "outputId": "dcce6caa-84f0-4f6b-a81e-ec2a9f21c36d"
      },
      "outputs": [
        {
          "name": "stdout",
          "output_type": "stream",
          "text": [
            "Adding layer: Default Params 1-365\n",
            "Adding layer: Study Area\n",
            "Starting webmap\n",
            "Using default refresh token for geeView: /root/.config/earthengine/credentials\n",
            "Local web server at: http://localhost:1232/geeView/ already serving.\n",
            "cwd /content\n",
            "Colab Proxy URL: https://twrlgjdgrwm-496ff2e9c6d22116-1232-colab.googleusercontent.com/geeView/?accessToken=None\n"
          ]
        },
        {
          "data": {
            "text/html": [
              "\n",
              "        <iframe\n",
              "            width=\"100%\"\n",
              "            height=\"525px\"\n",
              "            src=\"https://twrlgjdgrwm-496ff2e9c6d22116-1232-colab.googleusercontent.com/geeView/?accessToken=None\"\n",
              "            frameborder=\"0\"\n",
              "            allowfullscreen\n",
              "            \n",
              "        ></iframe>\n",
              "        "
            ],
            "text/plain": [
              "<IPython.lib.display.IFrame at 0x7de4713f6170>"
            ]
          },
          "metadata": {},
          "output_type": "display_data"
        }
      ],
      "source": [
        "Map.clearMap()\n",
        "\n",
        "Map.addTimeLapse(processedComposites,getImagesLib.vizParamsFalse,'Default Params {}-{}'.format(startJulian,endJulian),'True')\n",
        "Map.addLayer(studyArea,{},'Study Area')\n",
        "Map.centerObject(studyArea,10)\n",
        "Map.turnOnInspector()\n",
        "Map.view()"
      ]
    },
    {
      "cell_type": "markdown",
      "id": "120ad980",
      "metadata": {
        "id": "120ad980"
      },
      "source": [
        "#### Inspeccionar las salidas\n",
        "\n",
        "Mira el mapa que apareció arriba. Es posible que deba hacer clic en el botón al lado de la capa titulada \"Parámetros predeterminados\" para poder ver la capa. Haga clic en el botón de reproducción\n",
        "![play button](https://github.com/redcastle-resources/lcms-training/blob/main/img/play-button.png?raw=1) para mostrar un lapso de tiempo de todos los compuestos anuales creados.  \n",
        "\n",
        "**Está claro que los parámetros predeterminados no funcionan muy bien en esta área.**\n",
        "Pocos, si es que alguno, de los años mostrados tienen imágenes completas para el compuesto anual. Faltan datos para grandes franjas de la imagen.\n",
        "\n",
        "Aunque el panel de resultados de arriba indica las operaciones que se aplicaron para crear los compuestos, no le brinda la lista completa de parámetros utilizados para crear el compuesto. Puede acceder a los parámetros que se utilizaron a través de las propiedades de la colección devuelta.\n",
        "\n",
        "Ejecute el bloque de código siguiente para imprimir los parámetros utilizados y mostrarlos en una tabla. Descomente la segunda línea si desea ver cómo se ve el atributo de propiedades sin procesar."
      ]
    },
    {
      "cell_type": "code",
      "execution_count": 18,
      "id": "e0340487",
      "metadata": {
        "colab": {
          "base_uri": "https://localhost:8080/",
          "height": 1000
        },
        "id": "e0340487",
        "outputId": "2c6ba6b0-384c-4c2b-a5a8-5bc69a167413"
      },
      "outputs": [
        {
          "data": {
            "text/html": [
              "\n",
              "  <div id=\"df-677849fc-58c6-42cd-8544-d5a775c656b8\" class=\"colab-df-container\">\n",
              "    <div>\n",
              "<style scoped>\n",
              "    .dataframe tbody tr th:only-of-type {\n",
              "        vertical-align: middle;\n",
              "    }\n",
              "\n",
              "    .dataframe tbody tr th {\n",
              "        vertical-align: top;\n",
              "    }\n",
              "\n",
              "    .dataframe thead th {\n",
              "        text-align: right;\n",
              "    }\n",
              "</style>\n",
              "<table border=\"1\" class=\"dataframe\">\n",
              "  <thead>\n",
              "    <tr style=\"text-align: right;\">\n",
              "      <th></th>\n",
              "      <th>Value</th>\n",
              "    </tr>\n",
              "  </thead>\n",
              "  <tbody>\n",
              "    <tr>\n",
              "      <th>applyCloudProbability</th>\n",
              "      <td>True</td>\n",
              "    </tr>\n",
              "    <tr>\n",
              "      <th>applyCloudScoreLandsat</th>\n",
              "      <td>False</td>\n",
              "    </tr>\n",
              "    <tr>\n",
              "      <th>applyCloudScorePlus</th>\n",
              "      <td>False</td>\n",
              "    </tr>\n",
              "    <tr>\n",
              "      <th>applyCloudScoreSentinel2</th>\n",
              "      <td>False</td>\n",
              "    </tr>\n",
              "    <tr>\n",
              "      <th>applyFmaskCloudMask</th>\n",
              "      <td>True</td>\n",
              "    </tr>\n",
              "    <tr>\n",
              "      <th>applyFmaskCloudShadowMask</th>\n",
              "      <td>True</td>\n",
              "    </tr>\n",
              "    <tr>\n",
              "      <th>applyFmaskSnowMask</th>\n",
              "      <td>False</td>\n",
              "    </tr>\n",
              "    <tr>\n",
              "      <th>applyQABand</th>\n",
              "      <td>False</td>\n",
              "    </tr>\n",
              "    <tr>\n",
              "      <th>applyShadowShift</th>\n",
              "      <td>False</td>\n",
              "    </tr>\n",
              "    <tr>\n",
              "      <th>applyTDOMLandsat</th>\n",
              "      <td>False</td>\n",
              "    </tr>\n",
              "    <tr>\n",
              "      <th>applyTDOMSentinel2</th>\n",
              "      <td>False</td>\n",
              "    </tr>\n",
              "    <tr>\n",
              "      <th>cloudProbThresh</th>\n",
              "      <td>40</td>\n",
              "    </tr>\n",
              "    <tr>\n",
              "      <th>cloudScorePctl</th>\n",
              "      <td>10</td>\n",
              "    </tr>\n",
              "    <tr>\n",
              "      <th>cloudScoreThresh</th>\n",
              "      <td>20</td>\n",
              "    </tr>\n",
              "    <tr>\n",
              "      <th>convertToDailyMosaics</th>\n",
              "      <td>True</td>\n",
              "    </tr>\n",
              "    <tr>\n",
              "      <th>correctIllumination</th>\n",
              "      <td>False</td>\n",
              "    </tr>\n",
              "    <tr>\n",
              "      <th>correctScale</th>\n",
              "      <td>250</td>\n",
              "    </tr>\n",
              "    <tr>\n",
              "      <th>defringeL5</th>\n",
              "      <td>False</td>\n",
              "    </tr>\n",
              "    <tr>\n",
              "      <th>endJulian</th>\n",
              "      <td>365</td>\n",
              "    </tr>\n",
              "    <tr>\n",
              "      <th>endYear</th>\n",
              "      <td>2011</td>\n",
              "    </tr>\n",
              "    <tr>\n",
              "      <th>includeSLCOffL7</th>\n",
              "      <td>False</td>\n",
              "    </tr>\n",
              "    <tr>\n",
              "      <th>landsatCollectionVersion</th>\n",
              "      <td>C2</td>\n",
              "    </tr>\n",
              "    <tr>\n",
              "      <th>landsatResampleMethod</th>\n",
              "      <td>near</td>\n",
              "    </tr>\n",
              "    <tr>\n",
              "      <th>origin</th>\n",
              "      <td>Landsat-Sentinel2-Hybrid</td>\n",
              "    </tr>\n",
              "    <tr>\n",
              "      <th>performCloudScoreOffset</th>\n",
              "      <td>True</td>\n",
              "    </tr>\n",
              "    <tr>\n",
              "      <th>preComputedLandsatCloudScoreOffset</th>\n",
              "      <td>None</td>\n",
              "    </tr>\n",
              "    <tr>\n",
              "      <th>preComputedLandsatTDOMIRMean</th>\n",
              "      <td>None</td>\n",
              "    </tr>\n",
              "    <tr>\n",
              "      <th>preComputedLandsatTDOMIRStdDev</th>\n",
              "      <td>None</td>\n",
              "    </tr>\n",
              "    <tr>\n",
              "      <th>preComputedSentinel2CloudScoreOffset</th>\n",
              "      <td>None</td>\n",
              "    </tr>\n",
              "    <tr>\n",
              "      <th>preComputedSentinel2TDOMIRMean</th>\n",
              "      <td>None</td>\n",
              "    </tr>\n",
              "    <tr>\n",
              "      <th>preComputedSentinel2TDOMIRStdDev</th>\n",
              "      <td>None</td>\n",
              "    </tr>\n",
              "    <tr>\n",
              "      <th>runChastainHarmonization</th>\n",
              "      <td>True</td>\n",
              "    </tr>\n",
              "    <tr>\n",
              "      <th>sentinel2ResampleMethod</th>\n",
              "      <td>aggregate</td>\n",
              "    </tr>\n",
              "    <tr>\n",
              "      <th>shadowSumBands</th>\n",
              "      <td>['nir', 'swir1']</td>\n",
              "    </tr>\n",
              "    <tr>\n",
              "      <th>startJulian</th>\n",
              "      <td>1</td>\n",
              "    </tr>\n",
              "    <tr>\n",
              "      <th>startYear</th>\n",
              "      <td>2009</td>\n",
              "    </tr>\n",
              "    <tr>\n",
              "      <th>toaOrSR</th>\n",
              "      <td>TOA</td>\n",
              "    </tr>\n",
              "    <tr>\n",
              "      <th>verbose</th>\n",
              "      <td>False</td>\n",
              "    </tr>\n",
              "    <tr>\n",
              "      <th>wrapOffset</th>\n",
              "      <td>0</td>\n",
              "    </tr>\n",
              "    <tr>\n",
              "      <th>zScoreThresh</th>\n",
              "      <td>-1</td>\n",
              "    </tr>\n",
              "  </tbody>\n",
              "</table>\n",
              "</div>\n",
              "    <div class=\"colab-df-buttons\">\n",
              "\n",
              "  <div class=\"colab-df-container\">\n",
              "    <button class=\"colab-df-convert\" onclick=\"convertToInteractive('df-677849fc-58c6-42cd-8544-d5a775c656b8')\"\n",
              "            title=\"Convert this dataframe to an interactive table.\"\n",
              "            style=\"display:none;\">\n",
              "\n",
              "  <svg xmlns=\"http://www.w3.org/2000/svg\" height=\"24px\" viewBox=\"0 -960 960 960\">\n",
              "    <path d=\"M120-120v-720h720v720H120Zm60-500h600v-160H180v160Zm220 220h160v-160H400v160Zm0 220h160v-160H400v160ZM180-400h160v-160H180v160Zm440 0h160v-160H620v160ZM180-180h160v-160H180v160Zm440 0h160v-160H620v160Z\"/>\n",
              "  </svg>\n",
              "    </button>\n",
              "\n",
              "  <style>\n",
              "    .colab-df-container {\n",
              "      display:flex;\n",
              "      gap: 12px;\n",
              "    }\n",
              "\n",
              "    .colab-df-convert {\n",
              "      background-color: #E8F0FE;\n",
              "      border: none;\n",
              "      border-radius: 50%;\n",
              "      cursor: pointer;\n",
              "      display: none;\n",
              "      fill: #1967D2;\n",
              "      height: 32px;\n",
              "      padding: 0 0 0 0;\n",
              "      width: 32px;\n",
              "    }\n",
              "\n",
              "    .colab-df-convert:hover {\n",
              "      background-color: #E2EBFA;\n",
              "      box-shadow: 0px 1px 2px rgba(60, 64, 67, 0.3), 0px 1px 3px 1px rgba(60, 64, 67, 0.15);\n",
              "      fill: #174EA6;\n",
              "    }\n",
              "\n",
              "    .colab-df-buttons div {\n",
              "      margin-bottom: 4px;\n",
              "    }\n",
              "\n",
              "    [theme=dark] .colab-df-convert {\n",
              "      background-color: #3B4455;\n",
              "      fill: #D2E3FC;\n",
              "    }\n",
              "\n",
              "    [theme=dark] .colab-df-convert:hover {\n",
              "      background-color: #434B5C;\n",
              "      box-shadow: 0px 1px 3px 1px rgba(0, 0, 0, 0.15);\n",
              "      filter: drop-shadow(0px 1px 2px rgba(0, 0, 0, 0.3));\n",
              "      fill: #FFFFFF;\n",
              "    }\n",
              "  </style>\n",
              "\n",
              "    <script>\n",
              "      const buttonEl =\n",
              "        document.querySelector('#df-677849fc-58c6-42cd-8544-d5a775c656b8 button.colab-df-convert');\n",
              "      buttonEl.style.display =\n",
              "        google.colab.kernel.accessAllowed ? 'block' : 'none';\n",
              "\n",
              "      async function convertToInteractive(key) {\n",
              "        const element = document.querySelector('#df-677849fc-58c6-42cd-8544-d5a775c656b8');\n",
              "        const dataTable =\n",
              "          await google.colab.kernel.invokeFunction('convertToInteractive',\n",
              "                                                    [key], {});\n",
              "        if (!dataTable) return;\n",
              "\n",
              "        const docLinkHtml = 'Like what you see? Visit the ' +\n",
              "          '<a target=\"_blank\" href=https://colab.research.google.com/notebooks/data_table.ipynb>data table notebook</a>'\n",
              "          + ' to learn more about interactive tables.';\n",
              "        element.innerHTML = '';\n",
              "        dataTable['output_type'] = 'display_data';\n",
              "        await google.colab.output.renderOutput(dataTable, element);\n",
              "        const docLink = document.createElement('div');\n",
              "        docLink.innerHTML = docLinkHtml;\n",
              "        element.appendChild(docLink);\n",
              "      }\n",
              "    </script>\n",
              "  </div>\n",
              "\n",
              "\n",
              "<div id=\"df-c88ffb0a-2ac6-4d58-8ad3-3ba53235f16d\">\n",
              "  <button class=\"colab-df-quickchart\" onclick=\"quickchart('df-c88ffb0a-2ac6-4d58-8ad3-3ba53235f16d')\"\n",
              "            title=\"Suggest charts\"\n",
              "            style=\"display:none;\">\n",
              "\n",
              "<svg xmlns=\"http://www.w3.org/2000/svg\" height=\"24px\"viewBox=\"0 0 24 24\"\n",
              "     width=\"24px\">\n",
              "    <g>\n",
              "        <path d=\"M19 3H5c-1.1 0-2 .9-2 2v14c0 1.1.9 2 2 2h14c1.1 0 2-.9 2-2V5c0-1.1-.9-2-2-2zM9 17H7v-7h2v7zm4 0h-2V7h2v10zm4 0h-2v-4h2v4z\"/>\n",
              "    </g>\n",
              "</svg>\n",
              "  </button>\n",
              "\n",
              "<style>\n",
              "  .colab-df-quickchart {\n",
              "      --bg-color: #E8F0FE;\n",
              "      --fill-color: #1967D2;\n",
              "      --hover-bg-color: #E2EBFA;\n",
              "      --hover-fill-color: #174EA6;\n",
              "      --disabled-fill-color: #AAA;\n",
              "      --disabled-bg-color: #DDD;\n",
              "  }\n",
              "\n",
              "  [theme=dark] .colab-df-quickchart {\n",
              "      --bg-color: #3B4455;\n",
              "      --fill-color: #D2E3FC;\n",
              "      --hover-bg-color: #434B5C;\n",
              "      --hover-fill-color: #FFFFFF;\n",
              "      --disabled-bg-color: #3B4455;\n",
              "      --disabled-fill-color: #666;\n",
              "  }\n",
              "\n",
              "  .colab-df-quickchart {\n",
              "    background-color: var(--bg-color);\n",
              "    border: none;\n",
              "    border-radius: 50%;\n",
              "    cursor: pointer;\n",
              "    display: none;\n",
              "    fill: var(--fill-color);\n",
              "    height: 32px;\n",
              "    padding: 0;\n",
              "    width: 32px;\n",
              "  }\n",
              "\n",
              "  .colab-df-quickchart:hover {\n",
              "    background-color: var(--hover-bg-color);\n",
              "    box-shadow: 0 1px 2px rgba(60, 64, 67, 0.3), 0 1px 3px 1px rgba(60, 64, 67, 0.15);\n",
              "    fill: var(--button-hover-fill-color);\n",
              "  }\n",
              "\n",
              "  .colab-df-quickchart-complete:disabled,\n",
              "  .colab-df-quickchart-complete:disabled:hover {\n",
              "    background-color: var(--disabled-bg-color);\n",
              "    fill: var(--disabled-fill-color);\n",
              "    box-shadow: none;\n",
              "  }\n",
              "\n",
              "  .colab-df-spinner {\n",
              "    border: 2px solid var(--fill-color);\n",
              "    border-color: transparent;\n",
              "    border-bottom-color: var(--fill-color);\n",
              "    animation:\n",
              "      spin 1s steps(1) infinite;\n",
              "  }\n",
              "\n",
              "  @keyframes spin {\n",
              "    0% {\n",
              "      border-color: transparent;\n",
              "      border-bottom-color: var(--fill-color);\n",
              "      border-left-color: var(--fill-color);\n",
              "    }\n",
              "    20% {\n",
              "      border-color: transparent;\n",
              "      border-left-color: var(--fill-color);\n",
              "      border-top-color: var(--fill-color);\n",
              "    }\n",
              "    30% {\n",
              "      border-color: transparent;\n",
              "      border-left-color: var(--fill-color);\n",
              "      border-top-color: var(--fill-color);\n",
              "      border-right-color: var(--fill-color);\n",
              "    }\n",
              "    40% {\n",
              "      border-color: transparent;\n",
              "      border-right-color: var(--fill-color);\n",
              "      border-top-color: var(--fill-color);\n",
              "    }\n",
              "    60% {\n",
              "      border-color: transparent;\n",
              "      border-right-color: var(--fill-color);\n",
              "    }\n",
              "    80% {\n",
              "      border-color: transparent;\n",
              "      border-right-color: var(--fill-color);\n",
              "      border-bottom-color: var(--fill-color);\n",
              "    }\n",
              "    90% {\n",
              "      border-color: transparent;\n",
              "      border-bottom-color: var(--fill-color);\n",
              "    }\n",
              "  }\n",
              "</style>\n",
              "\n",
              "  <script>\n",
              "    async function quickchart(key) {\n",
              "      const quickchartButtonEl =\n",
              "        document.querySelector('#' + key + ' button');\n",
              "      quickchartButtonEl.disabled = true;  // To prevent multiple clicks.\n",
              "      quickchartButtonEl.classList.add('colab-df-spinner');\n",
              "      try {\n",
              "        const charts = await google.colab.kernel.invokeFunction(\n",
              "            'suggestCharts', [key], {});\n",
              "      } catch (error) {\n",
              "        console.error('Error during call to suggestCharts:', error);\n",
              "      }\n",
              "      quickchartButtonEl.classList.remove('colab-df-spinner');\n",
              "      quickchartButtonEl.classList.add('colab-df-quickchart-complete');\n",
              "    }\n",
              "    (() => {\n",
              "      let quickchartButtonEl =\n",
              "        document.querySelector('#df-c88ffb0a-2ac6-4d58-8ad3-3ba53235f16d button');\n",
              "      quickchartButtonEl.style.display =\n",
              "        google.colab.kernel.accessAllowed ? 'block' : 'none';\n",
              "    })();\n",
              "  </script>\n",
              "</div>\n",
              "    </div>\n",
              "  </div>\n"
            ],
            "text/plain": [
              "                                                         Value\n",
              "applyCloudProbability                                     True\n",
              "applyCloudScoreLandsat                                   False\n",
              "applyCloudScorePlus                                      False\n",
              "applyCloudScoreSentinel2                                 False\n",
              "applyFmaskCloudMask                                       True\n",
              "applyFmaskCloudShadowMask                                 True\n",
              "applyFmaskSnowMask                                       False\n",
              "applyQABand                                              False\n",
              "applyShadowShift                                         False\n",
              "applyTDOMLandsat                                         False\n",
              "applyTDOMSentinel2                                       False\n",
              "cloudProbThresh                                             40\n",
              "cloudScorePctl                                              10\n",
              "cloudScoreThresh                                            20\n",
              "convertToDailyMosaics                                     True\n",
              "correctIllumination                                      False\n",
              "correctScale                                               250\n",
              "defringeL5                                               False\n",
              "endJulian                                                  365\n",
              "endYear                                                   2011\n",
              "includeSLCOffL7                                          False\n",
              "landsatCollectionVersion                                    C2\n",
              "landsatResampleMethod                                     near\n",
              "origin                                Landsat-Sentinel2-Hybrid\n",
              "performCloudScoreOffset                                   True\n",
              "preComputedLandsatCloudScoreOffset                        None\n",
              "preComputedLandsatTDOMIRMean                              None\n",
              "preComputedLandsatTDOMIRStdDev                            None\n",
              "preComputedSentinel2CloudScoreOffset                      None\n",
              "preComputedSentinel2TDOMIRMean                            None\n",
              "preComputedSentinel2TDOMIRStdDev                          None\n",
              "runChastainHarmonization                                  True\n",
              "sentinel2ResampleMethod                              aggregate\n",
              "shadowSumBands                                ['nir', 'swir1']\n",
              "startJulian                                                  1\n",
              "startYear                                                 2009\n",
              "toaOrSR                                                    TOA\n",
              "verbose                                                  False\n",
              "wrapOffset                                                   0\n",
              "zScoreThresh                                                -1"
            ]
          },
          "metadata": {},
          "output_type": "display_data"
        },
        {
          "name": "stdout",
          "output_type": "stream",
          "text": [
            "Done\n"
          ]
        }
      ],
      "source": [
        "#Parámetros de impresión utilizados\n",
        "#Los parámetros se almacenan en las propiedades de la colección devuelta\n",
        "props = processedScenes.toDictionary().getInfo()\n",
        "display(pd.DataFrame(list(props.values()),index = list(props.keys()),columns = ['Value']))\n",
        "\n",
        "print('Hecho')"
      ]
    },
    {
      "cell_type": "markdown",
      "id": "1cb4aa34",
      "metadata": {
        "id": "1cb4aa34"
      },
      "source": [
        "### 2.2.2: Incluye Landsat 7\n",
        "Puesto que no hay muchas imágenes disponibles en esta área durante estos años, intentemos agregar Landsat 7. Nuestro valor predeterminado es excluir Landsat 7 de las composiciones de imágenes debido a la [Landsat 7 scan line correction failure](https://www.usgs.gov/landsat-missions/landsat-7?qt-science_support_page_related_con=0#qt-science_support_page_related_con).\n",
        "\n",
        "#### Agregar un nuevo parámetro\n",
        "\n",
        "Para incluir Landsat 7, agregará un nuevo parámetro a la función contenedora.\n",
        "\n",
        "``` includeSLCoffL7 ``` - por defecto: **False**\n",
        "\n",
        "Ejecute el bloque de código siguiente para agregar el nuevo parámetro."
      ]
    },
    {
      "cell_type": "code",
      "execution_count": 19,
      "id": "7331ba9f",
      "metadata": {
        "colab": {
          "base_uri": "https://localhost:8080/"
        },
        "id": "7331ba9f",
        "outputId": "7606ec9b-b77d-4537-b5cd-759ab9b09400"
      },
      "outputs": [
        {
          "name": "stdout",
          "output_type": "stream",
          "text": [
            "Done\n"
          ]
        }
      ],
      "source": [
        "#agregar el parámetro LS 7\n",
        "includeSLCOffL7 = True\n",
        "print('Hecho')"
      ]
    },
    {
      "cell_type": "markdown",
      "id": "0d61b507",
      "metadata": {
        "id": "0d61b507"
      },
      "source": [
        "#### Llamar nuevamente a la función contenedora, incluido el nuevo parámetro\n",
        "\n",
        "Ahora, vuelva a ejecutar la misma función contenedora. Tenga en cuenta que todos los parámetros son iguales, con la adición de su nuevo `includeSLCOffL7` parámetro."
      ]
    },
    {
      "cell_type": "code",
      "execution_count": 20,
      "id": "ecdc1fdf",
      "metadata": {
        "colab": {
          "base_uri": "https://localhost:8080/"
        },
        "id": "ecdc1fdf",
        "outputId": "74756f8f-c6c9-4cc5-9961-d5b174049c63"
      },
      "outputs": [
        {
          "name": "stdout",
          "output_type": "stream",
          "text": [
            "Get Processed Landsat and Sentinel2 Scenes: \n",
            "Start date: Jan 01 2009 , End date: Dec 31 2011\n",
            "Get Processed Landsat: \n",
            "Start date: Jan 01 2009 , End date: Dec 31 2011\n",
            "Including All Landsat 7\n",
            "Applying Fmask Cloud Mask\n",
            "Applying Fmask Shadow Mask\n",
            "Get Processed Sentinel2: \n",
            "Start date: Jan 01 2009 , End date: Dec 31 2011\n",
            "Using S2 Collection: COPERNICUS/S2_HARMONIZED\n",
            "Joining pre-computed cloud probabilities from: COPERNICUS/S2_CLOUD_PROBABILITY\n",
            "Setting to aggregate instead of resample \n",
            "Converting S2 data to daily mosaics\n",
            "Applying Cloud Probability\n",
            "Running Chastain et al 2019 harmonization\n"
          ]
        }
      ],
      "source": [
        "#Llame a la función de contenedor maestro para obtener escenas y compuestos de Landsat\n",
        "lsAndTs = getImagesLib.getLandsatAndSentinel2HybridWrapper(studyArea.geometry().bounds(50,'EPSG:5070'),\n",
        "                                                           startYear,\n",
        "                                                           endYear,\n",
        "                                                           startJulian,\n",
        "                                                           endJulian,\n",
        "                                                           includeSLCOffL7=includeSLCOffL7,\n",
        "                                                           applyTDOMLandsat = applyTDOMLandsat,\n",
        "                                                           applyTDOMSentinel2 = applyTDOMSentinel2)\n",
        "\n",
        "\n",
        "#Separar en escenas y composiciones para su posterior análisis\n",
        "processedScenes = lsAndTs['processedScenes']\n",
        "processedComposites = lsAndTs['processedComposites']"
      ]
    },
    {
      "cell_type": "markdown",
      "id": "b982ad18",
      "metadata": {
        "id": "b982ad18"
      },
      "source": [
        "#### Añadir al mapa\n",
        "\n",
        "Ejecute el bloque de código a continuación para agregar los compuestos que creó al mapa nuevamente para inspeccionar sus resultados."
      ]
    },
    {
      "cell_type": "code",
      "execution_count": 21,
      "id": "a4ad9b01",
      "metadata": {
        "colab": {
          "base_uri": "https://localhost:8080/",
          "height": 650
        },
        "id": "a4ad9b01",
        "outputId": "b5c1d394-baa8-4881-b421-ad4b4b25ad7e"
      },
      "outputs": [
        {
          "name": "stdout",
          "output_type": "stream",
          "text": [
            "Adding layer: L7 added 1-365\n",
            "Starting webmap\n",
            "Using default refresh token for geeView: /root/.config/earthengine/credentials\n",
            "Local web server at: http://localhost:1232/geeView/ already serving.\n",
            "cwd /content\n",
            "Colab Proxy URL: https://twrlgjdgrwm-496ff2e9c6d22116-1232-colab.googleusercontent.com/geeView/?accessToken=None\n"
          ]
        },
        {
          "data": {
            "text/html": [
              "\n",
              "        <iframe\n",
              "            width=\"100%\"\n",
              "            height=\"525px\"\n",
              "            src=\"https://twrlgjdgrwm-496ff2e9c6d22116-1232-colab.googleusercontent.com/geeView/?accessToken=None\"\n",
              "            frameborder=\"0\"\n",
              "            allowfullscreen\n",
              "            \n",
              "        ></iframe>\n",
              "        "
            ],
            "text/plain": [
              "<IPython.lib.display.IFrame at 0x7de4402f5120>"
            ]
          },
          "metadata": {},
          "output_type": "display_data"
        }
      ],
      "source": [
        "#Desactivar capas de la iteración anterior\n",
        "Map.turnOffAllLayers()\n",
        "\n",
        "Map.addTimeLapse(processedComposites,getImagesLib.vizParamsFalse,'L7 added {}-{}'.format(startJulian,endJulian),True)\n",
        "\n",
        "\n",
        "# Evitar que el mapa se centre en el área de estudio\n",
        "Map.mapCommandList = []\n",
        "\n",
        "# Enciende el inspector\n",
        "Map.turnOnInspector()\n",
        "\n",
        "Map.view()"
      ]
    },
    {
      "cell_type": "markdown",
      "id": "7e59174d",
      "metadata": {
        "id": "7e59174d",
        "outputId": "1b0f740a-eb14-4911-e2b4-dd596beccc72"
      },
      "source": [
        "#### Inspeccionar las salidas\n",
        "Active las capas en el visor de mapas si es necesario.\n",
        "\n",
        "Alternar entre los parámetros predeterminados y los nuevos compuestos con Landsat 7 agregado. Acércate para ver los compuestos con más detalle.\n",
        "\n",
        "Notarás que esto ayuda a llenar los vacíos, pero introduce muchos artefactos relacionados con la nube."
      ]
    },
    {
      "cell_type": "markdown",
      "id": "4218237e",
      "metadata": {
        "id": "4218237e"
      },
      "source": [
        "## 2.3: Mejorar el enmascaramiento de la nube\n",
        "A continuación mejorarás el enmascaramiento de la nube. [Fmask](https://www.sciencedirect.com/science/article/abs/pii/S0034425714005069) se utiliza de forma predeterminada para Landsat, pero este algoritmo omite algunas nubes.\n",
        "\n",
        "Probaremos la adición en el [cloudScore](https://developers.google.com/earth-engine/guides/landsat#simple-cloud-score) método para enmascarar nubes en Landsat.\n",
        "\n",
        "Lo hacemos estableciendo el ```applyCloudScoreLandsat``` parámetro\n",
        "\n",
        "### 2.3.1: Agregar parámetro de enmascaramiento de nube\n",
        "\n",
        "Ejecute el bloque de código siguiente para agregar el `applyCloudScoreLandsat` parámetro.\n",
        "\n",
        "CloudScore lucha con el error de comisión sobre superficies brillantes (enmascarando áreas frías extremadamente brillantes como nubes). El `performCloudScoreOffset` El método puede reducir este error al encontrar si un píxel generalmente tiene un cloudScore alto y ajustar el umbral de cloudScore para esos píxeles. Este método funciona bien en áreas con muchas observaciones y potencial para superficies frías y brillantes (desiertos fríos, áreas nevadas, etc.), pero falla en áreas con datos limitados y/o áreas que en realidad siempre están nubladas. Por lo tanto, querremos configurar esto en `False` sobre Tabasco México"
      ]
    },
    {
      "cell_type": "code",
      "execution_count": 22,
      "id": "d6c49abd",
      "metadata": {
        "colab": {
          "base_uri": "https://localhost:8080/"
        },
        "id": "d6c49abd",
        "outputId": "4724a434-1882-4373-dbd6-c5dc2f688569"
      },
      "outputs": [
        {
          "name": "stdout",
          "output_type": "stream",
          "text": [
            "Done\n"
          ]
        }
      ],
      "source": [
        "# Establecer cloudScore\n",
        "applyCloudScoreLandsat = True\n",
        "\n",
        "# Establecer performCloudScoreOffset\n",
        "performCloudScoreOffset = False\n",
        "\n",
        "print('Hecho')"
      ]
    },
    {
      "cell_type": "markdown",
      "id": "8dadbfc8",
      "metadata": {
        "id": "8dadbfc8"
      },
      "source": [
        "### Ejecutar la función contenedora principal\n",
        "\n",
        "Manteniendo todos los demás parámetros iguales, ejecute el `getLandsatAndSentinel2HybridWrapper` funcionar nuevamente. Esta vez, agregue los nuevos parámetros."
      ]
    },
    {
      "cell_type": "code",
      "execution_count": 23,
      "id": "38fb8f70",
      "metadata": {
        "colab": {
          "base_uri": "https://localhost:8080/"
        },
        "id": "38fb8f70",
        "outputId": "e6875b96-3a56-4504-d87d-cbdec047ff32"
      },
      "outputs": [
        {
          "name": "stdout",
          "output_type": "stream",
          "text": [
            "Get Processed Landsat and Sentinel2 Scenes: \n",
            "Start date: Jan 01 2009 , End date: Dec 31 2011\n",
            "Get Processed Landsat: \n",
            "Start date: Jan 01 2009 , End date: Dec 31 2011\n",
            "Including All Landsat 7\n",
            "Applying Cloud Score\n",
            "Not computing cloudScore offset\n",
            "Applying Fmask Cloud Mask\n",
            "Applying Fmask Shadow Mask\n",
            "Get Processed Sentinel2: \n",
            "Start date: Jan 01 2009 , End date: Dec 31 2011\n",
            "Using S2 Collection: COPERNICUS/S2_HARMONIZED\n",
            "Joining pre-computed cloud probabilities from: COPERNICUS/S2_CLOUD_PROBABILITY\n",
            "Setting to aggregate instead of resample \n",
            "Converting S2 data to daily mosaics\n",
            "Applying Cloud Probability\n",
            "Running Chastain et al 2019 harmonization\n"
          ]
        }
      ],
      "source": [
        "#Llame a la función de contenedor maestro para obtener escenas y compuestos de Landsat\n",
        "lsAndTs = getImagesLib.getLandsatAndSentinel2HybridWrapper(studyArea.geometry().bounds(50,'EPSG:5070'),\n",
        "                                                           startYear,\n",
        "                                                           endYear,\n",
        "                                                           startJulian,\n",
        "                                                           endJulian,\n",
        "                                                           includeSLCOffL7=includeSLCOffL7,\n",
        "                                                           applyTDOMLandsat = applyTDOMLandsat,\n",
        "                                                           applyTDOMSentinel2 = applyTDOMSentinel2,\n",
        "                                                           applyCloudScoreLandsat=applyCloudScoreLandsat,\n",
        "                                                            performCloudScoreOffset = performCloudScoreOffset)\n",
        "\n",
        "\n",
        "#Separar en escenas y composiciones para su posterior análisis\n",
        "processedScenes = lsAndTs['processedScenes']\n",
        "processedComposites = lsAndTs['processedComposites']"
      ]
    },
    {
      "cell_type": "markdown",
      "id": "5e398f16",
      "metadata": {
        "id": "5e398f16"
      },
      "source": [
        "### Añadir al mapa\n",
        "\n",
        "Ejecute el bloque de código a continuación para agregar las nuevas capas al mapa."
      ]
    },
    {
      "cell_type": "code",
      "execution_count": null,
      "id": "f80c69ac",
      "metadata": {
        "colab": {
          "base_uri": "https://localhost:8080/",
          "height": 650
        },
        "id": "f80c69ac",
        "outputId": "5c8e8235-40b9-4076-aa3a-7e66f9cf28a9"
      },
      "outputs": [
        {
          "name": "stdout",
          "output_type": "stream",
          "text": [
            "Adding layer: L7 and CloudScore added 1-365\n",
            "Starting webmap\n",
            "Using default refresh token for geeView: /root/.config/earthengine/credentials\n",
            "Local web server at: http://localhost:1232/geeView/ already serving.\n",
            "cwd /content\n",
            "Colab Proxy URL: https://bm9sk1jqt3-496ff2e9c6d22116-1232-colab.googleusercontent.com/geeView/?accessToken=None\n"
          ]
        },
        {
          "data": {
            "text/html": [
              "\n",
              "        <iframe\n",
              "            width=\"100%\"\n",
              "            height=\"525px\"\n",
              "            src=\"https://bm9sk1jqt3-496ff2e9c6d22116-1232-colab.googleusercontent.com/geeView/?accessToken=None\"\n",
              "            frameborder=\"0\"\n",
              "            allowfullscreen\n",
              "            \n",
              "        ></iframe>\n",
              "        "
            ],
            "text/plain": [
              "<IPython.lib.display.IFrame at 0x79363b961660>"
            ]
          },
          "metadata": {},
          "output_type": "display_data"
        }
      ],
      "source": [
        "#Desactivar capas de la iteración anterior\n",
        "Map.turnOffAllLayers()\n",
        "\n",
        "\n",
        "Map.addTimeLapse(processedComposites,getImagesLib.vizParamsFalse,'L7 and CloudScore added {}-{}'.format(startJulian,endJulian),True)\n",
        "\n",
        "\n",
        "Map.view()"
      ]
    },
    {
      "cell_type": "markdown",
      "id": "a770af6e",
      "metadata": {
        "id": "a770af6e"
      },
      "source": [
        "### Inspeccionar\n",
        "Activa las capas en el visor de arriba. Inspeccione la salida de **L7 y cloudScore**. Observe que estas capas se ven mucho mejor y tienen menos artefactos de enmascaramiento de nubes que las capas anteriores.\n",
        "\n",
        "Sin embargo, todavía puedes ver algunas áreas oscuras. Es probable que se deban a sombras de nubes que no fueron enmascaradas: la máscara de sombra de nubes de Fmask normalmente no enmascara todas las sombras de nubes.\n",
        "\n",
        "Para enmascarar la sombra de las nubes, utilizamos un método llamado [Temporal Dark Outlier Mask (TDOM)](https://www.mdpi.com/2072-4292/10/8/1184) que funciona bien para enmascarar las sombras de las nubes.\n",
        "\n"
      ]
    },
    {
      "cell_type": "markdown",
      "id": "35609104",
      "metadata": {
        "id": "35609104"
      },
      "source": [
        "### 2.3.2: Utilice la máscara de valor atípico oscuro temporal (TDOM) para enmascarar las sombras de las nubes\n",
        "El método Temporal Dark Outlier Mask (TDOM) para enmascarar las sombras de las nubes calcula la media y la desviación estándar de las bandas NIR y SWIR sobre un píxel en una serie de tiempo. El algoritmo encuentra píxeles oscuros ((SWIR1 + NIR) < 0.35) que son valores atípicos (< -1 devitación estándar) para determinar qué píxeles es probable que sean sombras de nubes (píxeles oscuros que normalmente no son oscuros).\n",
        "\n",
        "Encuentran [details of the TDOM method](https://github.com/gee-community/geeViz/blob/bd75d38c2043fc3af795c9c35ae769c71c00f56a/getImagesLib.py#L1141) en la biblioteca de geeViz.\n",
        "\n",
        "#### Establecer el parámetro TDOM\n",
        "\n",
        " - ``` applyTDOM ``` - por defecto = **False**\n",
        "\n",
        "Ejecute el bloque de código siguiente para configurar el parámetro TDOM."
      ]
    },
    {
      "cell_type": "code",
      "execution_count": 24,
      "id": "6143f886",
      "metadata": {
        "colab": {
          "base_uri": "https://localhost:8080/"
        },
        "id": "6143f886",
        "outputId": "6af3e34e-f7e3-4058-d347-73b363027684"
      },
      "outputs": [
        {
          "name": "stdout",
          "output_type": "stream",
          "text": [
            "Done\n"
          ]
        }
      ],
      "source": [
        "#Establecer TDOM en verdadero\n",
        "applyTDOMLandsat = True\n",
        "applyTDOMSentinel2 = True\n",
        "print('Hecho')"
      ]
    },
    {
      "cell_type": "markdown",
      "id": "e4cde46c",
      "metadata": {
        "id": "e4cde46c"
      },
      "source": [
        "#### Ejecutar la función de contenedor maestro\n",
        "\n",
        "Llame a la función de contenedor maestro para obtener escenas y compuestos de Landsat\n",
        "Para identificar valores atípicos oscuros, ampliaremos las fechas 3 años en cualquier dirección para obtener una muestra más grande"
      ]
    },
    {
      "cell_type": "code",
      "execution_count": 25,
      "id": "f715d3a5",
      "metadata": {
        "colab": {
          "base_uri": "https://localhost:8080/"
        },
        "id": "f715d3a5",
        "outputId": "44d2609c-d552-4f42-bee9-9cd9151d7756"
      },
      "outputs": [
        {
          "name": "stdout",
          "output_type": "stream",
          "text": [
            "Get Processed Landsat and Sentinel2 Scenes: \n",
            "Start date: Jan 01 2006 , End date: Dec 31 2014\n",
            "Get Processed Landsat: \n",
            "Start date: Jan 01 2006 , End date: Dec 31 2014\n",
            "Including All Landsat 7\n",
            "Applying Cloud Score\n",
            "Computing cloudScore offset\n",
            "Applying Fmask Cloud Mask\n",
            "Applying TDOM Shadow Mask\n",
            "Computing irMean for TDOM\n",
            "Computing irStdDev for TDOM\n",
            "Applying Fmask Shadow Mask\n",
            "Get Processed Sentinel2: \n",
            "Start date: Jan 01 2006 , End date: Dec 31 2014\n",
            "Using S2 Collection: COPERNICUS/S2_HARMONIZED\n",
            "Joining pre-computed cloud probabilities from: COPERNICUS/S2_CLOUD_PROBABILITY\n",
            "Setting to aggregate instead of resample \n",
            "Converting S2 data to daily mosaics\n",
            "Applying Cloud Probability\n",
            "Applying TDOM\n",
            "Computing irMean for TDOM\n",
            "Computing irStdDev for TDOM\n",
            "Running Chastain et al 2019 harmonization\n"
          ]
        }
      ],
      "source": [
        "#Llame a la función de contenedor maestro para obtener escenas y compuestos de Landsat\n",
        "#Para identificar valores atípicos oscuros, ampliaremos las fechas 3 años en cualquier dirección para obtener una muestra más grande\n",
        "lsAndTs = getImagesLib.getLandsatAndSentinel2HybridWrapper(studyArea.geometry().bounds(50,'EPSG:5070'),\n",
        "                                                           startYear - 3,\n",
        "                                                           endYear + 3,\n",
        "                                                           startJulian,\n",
        "                                                           endJulian,\n",
        "                                                           includeSLCOffL7=includeSLCOffL7,\n",
        "                                                           applyCloudScoreLandsat=applyCloudScoreLandsat,\n",
        "                                                           applyTDOMLandsat = applyTDOMLandsat,\n",
        "                                                           applyTDOMSentinel2 = applyTDOMSentinel2)\n",
        "\n",
        "\n",
        "#Separar en escenas y composiciones para su posterior análisis\n",
        "processedScenes = lsAndTs['processedScenes']\n",
        "processedComposites = lsAndTs['processedComposites']"
      ]
    },
    {
      "cell_type": "markdown",
      "id": "c77e68c6",
      "metadata": {
        "id": "c77e68c6"
      },
      "source": [
        "### Añadir al mapa\n",
        "\n",
        "Ejecute el bloque de código a continuación para agregar las nuevas capas al mapa. Esta capa puede tardar más en ejecutarse y cargarse."
      ]
    },
    {
      "cell_type": "code",
      "execution_count": null,
      "id": "9f457875",
      "metadata": {
        "colab": {
          "base_uri": "https://localhost:8080/",
          "height": 650
        },
        "id": "9f457875",
        "outputId": "295c7560-b13f-4253-f3a9-b004ed755285",
        "tags": []
      },
      "outputs": [
        {
          "name": "stdout",
          "output_type": "stream",
          "text": [
            "Adding layer: CloudScore and TDOM added 1-365\n",
            "Starting webmap\n",
            "Using default refresh token for geeView: /root/.config/earthengine/credentials\n",
            "Local web server at: http://localhost:1232/geeView/ already serving.\n",
            "cwd /content\n",
            "Colab Proxy URL: https://bm9sk1jqt3-496ff2e9c6d22116-1232-colab.googleusercontent.com/geeView/?accessToken=None\n"
          ]
        },
        {
          "data": {
            "text/html": [
              "\n",
              "        <iframe\n",
              "            width=\"100%\"\n",
              "            height=\"525px\"\n",
              "            src=\"https://bm9sk1jqt3-496ff2e9c6d22116-1232-colab.googleusercontent.com/geeView/?accessToken=None\"\n",
              "            frameborder=\"0\"\n",
              "            allowfullscreen\n",
              "            \n",
              "        ></iframe>\n",
              "        "
            ],
            "text/plain": [
              "<IPython.lib.display.IFrame at 0x79363b915f60>"
            ]
          },
          "metadata": {},
          "output_type": "display_data"
        }
      ],
      "source": [
        "#Desactivar capas de la iteración anterior\n",
        "Map.turnOffAllLayers()\n",
        "\n",
        "Map.addTimeLapse(processedComposites,getImagesLib.vizParamsFalse,'CloudScore and TDOM added {}-{}'.format(startJulian,endJulian),True)\n",
        "\n",
        "Map.view()"
      ]
    },
    {
      "cell_type": "markdown",
      "id": "8dd1fd15-190a-415b-8c9d-3850b2ca1f90",
      "metadata": {
        "id": "8dd1fd15-190a-415b-8c9d-3850b2ca1f90",
        "outputId": "862b6a1a-52af-4d2e-e248-f1392bf6008a",
        "tags": []
      },
      "source": [
        "#### Inspeccionar\n",
        "Activa la nueva capa. Notarás que esto limpia mucho la máscara de la nube.\n",
        "\n",
        "#### TDOM es computacionalmente intensivo\n",
        "Sin embargo, si bien TDOM es un excelente método de enmascaramiento de sombras de nubes, requiere un poco de computación, ya que calcula la media y la desviación estándar de una gran pila de datos.\n",
        "\n",
        "Para evitar volver a calcular las estadísticas, almacenamos estadísticas calculadas previamente. Para el proyecto LCMS, hemos calculado previamente estadísticas para CONUS, AK, HI, PuertoRico y USVI. Usaremos estas estadísticas precalculadas.\n",
        "\n",
        "\n",
        "Es opcional que utilice estadísticas precalculadas. Si no se proporciona ninguno, las estadísticas de TDOM se calcularán sobre la marcha.\n",
        "\n",
        "Puede crear y almacenar estadísticas TDOM precalculadas aplicando únicamente el enmascaramiento de nubes durante un período de tiempo y calculando la media y la desviación estándar de las bandas NIR y SWIR1.\n",
        "\n",
        "\n",
        "#### Inspeccionar estadísticas TDOM sin procesar y precalculadas\n",
        "\n",
        "Ejecute el siguiente código para cargar las estadísticas de TDOM precalculadas y examinarlas en el mapa."
      ]
    },
    {
      "cell_type": "code",
      "execution_count": null,
      "id": "76ef8dd8",
      "metadata": {
        "id": "76ef8dd8",
        "outputId": "c8e7298c-35ed-4bdc-d1db-0924de999e9c"
      },
      "outputs": [
        {
          "name": "stdout",
          "output_type": "stream",
          "text": [
            "Adding layer: Landsat TDOM Stats\n",
            "Adding layer: Sentinel 2 TDOM Stats\n",
            "Starting webmap\n",
            "Using default refresh token for geeView: C:\\Users\\ianho/.config/earthengine/credentials\n",
            "Local web server at: http://localhost:1232/geeView/ already serving.\n",
            "cwd c:\\RCR\\quickLabsTrainingMaterials\\lcms-training\n"
          ]
        },
        {
          "data": {
            "text/html": [
              "\n",
              "        <iframe\n",
              "            width=\"100%\"\n",
              "            height=\"525px\"\n",
              "            src=\"http://localhost:1232/geeView/?accessToken=ya29.a0AfB_byChZ3tbiboDGxKfkqxTj_WdkAja4iL7HUqjLOcOIgMtzpZ5GoW3WetaIQ4Tb4-ipiLXZL-WTy40F78O42hvuRf2qc4M1SkUd-KrMZXAdJYS7TR85upyDV76_C4GlqJRckSaluMJP0Df9zvQVFn76N6QjhH9K2X0QRRCizLsaCgYKARMSARASFQGOcNnC2SYvwg-9a-orjq6iF593kw0179\"\n",
              "            frameborder=\"0\"\n",
              "            allowfullscreen\n",
              "            \n",
              "        ></iframe>\n",
              "        "
            ],
            "text/plain": [
              "<IPython.lib.display.IFrame at 0x1d098ed6b90>"
            ]
          },
          "metadata": {},
          "output_type": "display_data"
        }
      ],
      "source": [
        "# clear map\n",
        "Map.clearMap()\n",
        "\n",
        "# cargar estadísticas tdom precalculadas\n",
        "landsat_tdom_stats = ee.Image('projects/lcms-tcc-shared/assets/CS-TDOM-Stats/PR-USVI/TDOM_stats/Landsat_TDOM_Stats_1984_2021')\\\n",
        "                    .select(['Landsat_nir_.*','Landsat_swir1_.*'])\\\n",
        "                    .divide(10000)\n",
        "s2_tdom_stats = ee.Image('projects/lcms-tcc-shared/assets/CS-TDOM-Stats/PR-USVI/TDOM_stats/Sentinel2_TDOM_Stats_2015_2021')\\\n",
        "                    .select(['Sentinel2_nir_.*','Sentinel2_swir1_.*'])\\\n",
        "                    .divide(10000)\n",
        "Map.addLayer(landsat_tdom_stats,{'min':0.15,'max':0.35,'bands':'Landsat_nir_mean','palette':'222,080'},'Landsat TDOM Stats')\n",
        "Map.addLayer(s2_tdom_stats,{'min':0.15,'max':0.35,'bands':'Sentinel2_nir_mean','palette':'222,080'},'Sentinel 2 TDOM Stats')\n",
        "\n",
        "Map.turnOnInspector()\n",
        "Map.view()\n"
      ]
    },
    {
      "cell_type": "markdown",
      "id": "cfc60250",
      "metadata": {
        "id": "cfc60250"
      },
      "source": [
        "## 2.4: Preparar compuestos finales y exportar\n",
        "Ahora que ha repasado algunos de los parámetros que se pueden cambiar para los compuestos, usaremos Landsat y Sentinel2 para obtener los mejores compuestos posibles.\n",
        "\n",
        "Aquí, configurará manualmente todos los parámetros para el `getLandatAndSentinel2HybridWrapper`.\n",
        "\n",
        "### Proyecciones\n",
        "\n",
        "A algunas proyecciones comunes se accede a través de `getImagesLib.common_projection`\n",
        "LCMS utiliza la misma cuadrícula de ajuste (transformación) y proyección (crs) que el USGS NLCD. A menudo se le llama USGS Albers. Puede cambiar esto a cualquier proyección que desee según su área de estudio usando códigos EPSG o formato WKT.\n",
        "\n",
        "\n",
        "### Establecer parámetros y exportar\n",
        "\n",
        "Revisa el [documentation](https://github.com/gee-community/geeViz/blob/bd75d38c2043fc3af795c9c35ae769c71c00f56a/getImagesLib.py#L3280) para recuperar los valores predeterminados para cada uno de estos parámetros.\n",
        "\n",
        "Tenga en cuenta en la función a continuación dónde los parámetros son diferentes de los predeterminados.\n",
        "\n",
        "Ejecute el siguiente bloque de código para preparar y exportar compuestos."
      ]
    },
    {
      "cell_type": "code",
      "execution_count": 27,
      "id": "dd114804",
      "metadata": {
        "colab": {
          "base_uri": "https://localhost:8080/"
        },
        "id": "dd114804",
        "outputId": "9b7fdd9a-15eb-40df-8ccf-a189f3379398"
      },
      "outputs": [
        {
          "name": "stdout",
          "output_type": "stream",
          "text": [
            "Get Processed Landsat and Sentinel2 Scenes: \n",
            "Start date: May 31 1984 , End date: May 31 2023\n",
            "Get Processed Landsat: \n",
            "Start date: May 31 1984 , End date: May 31 2023\n",
            "Defringing L4 and L5\n",
            "Including All Landsat 7\n",
            "Setting resample method to  bicubic\n",
            "Applying Cloud Score\n",
            "Not computing cloudScore offset\n",
            "Applying Fmask Cloud Mask\n",
            "Applying TDOM Shadow Mask\n",
            "Computing irMean for TDOM\n",
            "Computing irStdDev for TDOM\n",
            "Applying Fmask Shadow Mask\n",
            "Get Processed Sentinel2: \n",
            "Start date: May 31 1984 , End date: May 31 2023\n",
            "Using S2 Collection: COPERNICUS/S2_HARMONIZED\n",
            "Joining pre-computed cloud probabilities from: COPERNICUS/S2_CLOUD_PROBABILITY\n",
            "Setting resample method to  bicubic\n",
            "Converting S2 data to daily mosaics\n",
            "Applying Cloud Probability\n",
            "Applying TDOM\n",
            "Computing irMean for TDOM\n",
            "Computing irStdDev for TDOM\n",
            "Exporting: Landsat-Sentinel2-Hybrid_TOA_medoid_1984_1984_152_151\n",
            "Exporting: Landsat-Sentinel2-Hybrid_TOA_medoid_1985_1985_152_151\n",
            "Exporting: Landsat-Sentinel2-Hybrid_TOA_medoid_1986_1986_152_151\n",
            "Exporting: Landsat-Sentinel2-Hybrid_TOA_medoid_1987_1987_152_151\n",
            "Exporting: Landsat-Sentinel2-Hybrid_TOA_medoid_1988_1988_152_151\n",
            "Exporting: Landsat-Sentinel2-Hybrid_TOA_medoid_1989_1989_152_151\n",
            "Exporting: Landsat-Sentinel2-Hybrid_TOA_medoid_1990_1990_152_151\n",
            "Exporting: Landsat-Sentinel2-Hybrid_TOA_medoid_1991_1991_152_151\n",
            "Exporting: Landsat-Sentinel2-Hybrid_TOA_medoid_1992_1992_152_151\n",
            "Exporting: Landsat-Sentinel2-Hybrid_TOA_medoid_1993_1993_152_151\n",
            "Exporting: Landsat-Sentinel2-Hybrid_TOA_medoid_1994_1994_152_151\n",
            "Exporting: Landsat-Sentinel2-Hybrid_TOA_medoid_1995_1995_152_151\n",
            "Exporting: Landsat-Sentinel2-Hybrid_TOA_medoid_1996_1996_152_151\n",
            "Exporting: Landsat-Sentinel2-Hybrid_TOA_medoid_1997_1997_152_151\n",
            "Exporting: Landsat-Sentinel2-Hybrid_TOA_medoid_1998_1998_152_151\n",
            "Exporting: Landsat-Sentinel2-Hybrid_TOA_medoid_1999_1999_152_151\n",
            "Exporting: Landsat-Sentinel2-Hybrid_TOA_medoid_2000_2000_152_151\n",
            "Exporting: Landsat-Sentinel2-Hybrid_TOA_medoid_2001_2001_152_151\n",
            "Exporting: Landsat-Sentinel2-Hybrid_TOA_medoid_2002_2002_152_151\n",
            "Exporting: Landsat-Sentinel2-Hybrid_TOA_medoid_2003_2003_152_151\n",
            "Exporting: Landsat-Sentinel2-Hybrid_TOA_medoid_2004_2004_152_151\n",
            "Exporting: Landsat-Sentinel2-Hybrid_TOA_medoid_2005_2005_152_151\n",
            "Exporting: Landsat-Sentinel2-Hybrid_TOA_medoid_2006_2006_152_151\n",
            "Exporting: Landsat-Sentinel2-Hybrid_TOA_medoid_2007_2007_152_151\n",
            "Exporting: Landsat-Sentinel2-Hybrid_TOA_medoid_2008_2008_152_151\n",
            "Exporting: Landsat-Sentinel2-Hybrid_TOA_medoid_2009_2009_152_151\n",
            "Exporting: Landsat-Sentinel2-Hybrid_TOA_medoid_2010_2010_152_151\n",
            "Exporting: Landsat-Sentinel2-Hybrid_TOA_medoid_2011_2011_152_151\n",
            "Exporting: Landsat-Sentinel2-Hybrid_TOA_medoid_2012_2012_152_151\n",
            "Exporting: Landsat-Sentinel2-Hybrid_TOA_medoid_2013_2013_152_151\n",
            "Exporting: Landsat-Sentinel2-Hybrid_TOA_medoid_2014_2014_152_151\n",
            "Exporting: Landsat-Sentinel2-Hybrid_TOA_medoid_2015_2015_152_151\n",
            "Exporting: Landsat-Sentinel2-Hybrid_TOA_medoid_2016_2016_152_151\n",
            "Exporting: Landsat-Sentinel2-Hybrid_TOA_medoid_2017_2017_152_151\n",
            "Exporting: Landsat-Sentinel2-Hybrid_TOA_medoid_2018_2018_152_151\n",
            "Exporting: Landsat-Sentinel2-Hybrid_TOA_medoid_2019_2019_152_151\n",
            "Exporting: Landsat-Sentinel2-Hybrid_TOA_medoid_2020_2020_152_151\n",
            "Exporting: Landsat-Sentinel2-Hybrid_TOA_medoid_2021_2021_152_151\n",
            "Exporting: Landsat-Sentinel2-Hybrid_TOA_medoid_2022_2022_152_151\n",
            "Done\n"
          ]
        }
      ],
      "source": [
        "# Ejecute obtener imágenes, establezca parámetros manualmente y exporte\n",
        "lsAndTs = getImagesLib.getLandsatAndSentinel2HybridWrapper(\\\n",
        "\n",
        "    # Área y tiempo de estudio\n",
        "    studyArea = studyArea,\n",
        "    startYear = 1984,\n",
        "    endYear = 2022,\n",
        "    startJulian = 152,\n",
        "    endJulian = 151,\n",
        "\n",
        "    # Opciones de ventana móvil\n",
        "    timebuffer =  0,# Si se necesita una ventana móvil de varios años, utilice un búfer de tiempo > 0 (por ejemplo, un búfer de tiempo = 1 dará como resultado una ventana móvil de 3 años)\n",
        "    weights =  [1],# Para complementar el margen de tiempo, establezca ponderaciones para cada año de la ventana móvil. Esto permite que el año central tenga más peso (por ejemplo, [1,3,1] ponderaría el año central si el buffer de tiempo = 1 3 veces más que los años buffer)\n",
        "\n",
        "    # Métodos compuestos e imágenes de entrada\n",
        "    compositingMethod = 'medoid', # Especifique mediana o medioide. Medoid permite almacenar solo las bandas espectrales y auxiliares sin índices\n",
        "    toaOrSR = 'TOA', # Se recomienda utilizar TOA únicamente al combinar Landsat y Sentinel-2, ya que los datos de Sentinel-2 SR en GEE están corregidos según el terreno y Landsat no.\n",
        "    includeSLCOffL7 = True, # Si se debe incluir Landsat 7 después de mayo de 2003. Se pueden encontrar artefactos en la línea de exploración en compuestos cuando es Verdadero\n",
        "    defringeL5 = True, # Si es necesario deshacerse de los bordes marginales que se encuentran principalmente en Landsat 4 y 5\n",
        "    landsatCollectionVersion = 'C2', # Para usar la Colección 1 o 2. Solo use C1 si realiza un trabajo heredado antes de 2022\n",
        "\n",
        "    # Enmascaramiento de nubes y sombras\n",
        "    # Habrá un parámetro para aplicar CloudScore+ a Sentinel-2 una vez que esté disponible para todos los datos de S2\n",
        "    applyQABand = False, # Si se debe aplicar la máscara de control de calidad Sentinel-2 predeterminada: este método es terrible y no debe usarse\n",
        "    applyCloudProbability = True,# Si se debe aplicar S2Cloudless a los datos de Sentinel-2. Este método funciona muy bien\n",
        "    applyShadowShift = False, # Este método está en gran medida obsoleto\n",
        "    applyCloudScoreLandsat = True, # Usamos esto ya que fMask tiene dificultades para enmascarar las nubes\n",
        "    applyCloudScoreSentinel2 = False, # Normalmente no utilizamos cloudScore para Sentinel-2 ya que S2Cloudless funciona muy bien.\n",
        "    applyTDOMLandsat = True, # Usamos TDOM para Landsat ya que el método de enmascaramiento de sombras de nubes fMask tiene muchos problemas\n",
        "    applyTDOMSentinel2 = True, # Este es el único método de enmascaramiento de sombras de nubes Sentinel-2 fácilmente disponible (a partir de agosto de 2023)\n",
        "    applyFmaskCloudMask = True,\n",
        "    applyFmaskCloudShadowMask = True,\n",
        "    applyFmaskSnowMask = False,\n",
        "    cloudHeights = ee.List.sequence(500,10000,500), # Esto complementa a applyShadowShift y está en gran medida obsoleto,\n",
        "    cloudScoreThresh = 10,# El umbral aplicado al cloudScore para Landsat y/o Sentinel-2\n",
        "    performCloudScoreOffset = False,# Establezca esto en Falso en áreas con datos limitados y/o superficies frías brillantes limitadas\n",
        "    cloudScorePctl = 10, # Si performCloudScoreOffset está configurado en True, este es el percentil de los cloudScores utilizados para ver si un área normalmente tiene un cloudScore alto.\n",
        "    zScoreThresh = -1, # El umbral de puntuación TDOM Z para encontrar valores atípicos oscuros\n",
        "    shadowSumThresh = 0.35,# La suma de ShadowSumBands debe estar por debajo de esto para que se considere oscura\n",
        "    contractPixels = 1.5,# Radio de píxel del búfer interno para eliminar la sal y la pimienta\n",
        "    dilatePixels = 3.5, # Radio de píxel del búfer exterior para dilatar la máscara de sombra de la nube\n",
        "    shadowSumBands = ['nir','swir1'], # Bandas a utilizar para que TDOM encuentre valores atípicos oscuros\n",
        "    cloudProbThresh = 40, # El umbral de probabilidad de nube de S2Cloudless\n",
        "\n",
        "    # Procesamiento de imágenes\n",
        "    landsatResampleMethod = 'bicubic',\n",
        "    sentinel2ResampleMethod = 'bicubic',\n",
        "    convertToDailyMosaics = True, # Importante si el recuento de observaciones compuestas es importante ya que Sentinel-2 se superpone con sus salidas en mosaico\n",
        "    runChastainHarmonization = False, # Establezca en True para realizar la armonización de regresión entre Landsat y Sentinel 2\n",
        "    correctIllumination = False, # Método para iluminar sombras de colinas. Esto está en gran medida en desuso y no se utiliza\n",
        "    correctScale = 250,\n",
        "\n",
        "    # Parámetros de exportación\n",
        "    exportComposites = True,# Si se exportan los compuestos resultantes\n",
        "    outputName = 'Landsat-Sentinel2-Hybrid',\n",
        "    exportPathRoot = export_composite_collection,\n",
        "    crs = getImagesLib.common_projections['NLCD_CONUS']['crs'],\n",
        "    transform = getImagesLib.common_projections['NLCD_CONUS']['transform'],\n",
        "    scale = None,\n",
        "    overwrite = False,# Ya sea para sobrescribir compuestos existentes\n",
        "\n",
        "    # TDOM y cloudscore precalculado y estadísticas \n",
        "    preComputedLandsatCloudScoreOffset = None,\n",
        "    preComputedLandsatTDOMIRMean = None,\n",
        "    preComputedLandsatTDOMIRStdDev = None,\n",
        "    preComputedSentinel2CloudScoreOffset = None,\n",
        "    preComputedSentinel2TDOMIRMean = None,\n",
        "    preComputedSentinel2TDOMIRStdDev = None\n",
        "                                                           )\n",
        "\n",
        "\n",
        "print('Hecho')"
      ]
    },
    {
      "cell_type": "markdown",
      "id": "40958913",
      "metadata": {
        "id": "40958913"
      },
      "source": [
        "### Gestionar tareas de exportación\n",
        "Estas tareas de exportación pueden tardar desde unas pocas horas hasta unos días en ejecutarse, según el tamaño de su área de estudio. Puede resultar útil gestionar y observar las tareas después de haberlas configurado en ejecución.\n",
        "\n",
        "A continuación se muestran algunos fragmentos de código que se pueden usar para administrar e inspeccionar las tareas de exportación.\n",
        "\n",
        "Enlace a la documentación sobre estos fragmentos de código."
      ]
    },
    {
      "cell_type": "code",
      "execution_count": null,
      "id": "6df6dfcb",
      "metadata": {
        "colab": {
          "base_uri": "https://localhost:8080/"
        },
        "id": "6df6dfcb",
        "outputId": "fa3332af-6d48-438d-b586-3d9d2f893239"
      },
      "outputs": [
        {
          "name": "stdout",
          "output_type": "stream",
          "text": [
            "37 tasks ready 2023-11-08 22:57:42\n",
            "2 tasks running 2023-11-08 22:57:42\n",
            "Running names:\n",
            "['Landsat-Sentinel2-Hybrid_TOA_medoid_1985_1985_152_151', '0:04:24']\n",
            "['Landsat-Sentinel2-Hybrid_TOA_medoid_1984_1984_152_151', '0:04:24']\n",
            "\n",
            "\n",
            "37 tasks ready 2023-11-08 22:57:47\n",
            "2 tasks running 2023-11-08 22:57:47\n",
            "Running names:\n",
            "['Landsat-Sentinel2-Hybrid_TOA_medoid_1985_1985_152_151', '0:04:30']\n",
            "['Landsat-Sentinel2-Hybrid_TOA_medoid_1984_1984_152_151', '0:04:30']\n",
            "\n",
            "\n",
            "37 tasks ready 2023-11-08 22:57:53\n",
            "2 tasks running 2023-11-08 22:57:53\n",
            "Running names:\n",
            "['Landsat-Sentinel2-Hybrid_TOA_medoid_1985_1985_152_151', '0:04:36']\n",
            "['Landsat-Sentinel2-Hybrid_TOA_medoid_1984_1984_152_151', '0:04:36']\n",
            "\n",
            "\n",
            "37 tasks ready 2023-11-08 22:57:58\n",
            "2 tasks running 2023-11-08 22:57:58\n",
            "Running names:\n",
            "['Landsat-Sentinel2-Hybrid_TOA_medoid_1985_1985_152_151', '0:04:41']\n",
            "['Landsat-Sentinel2-Hybrid_TOA_medoid_1984_1984_152_151', '0:04:41']\n",
            "\n",
            "\n"
          ]
        }
      ],
      "source": [
        "# Si desea realizar un seguimiento de las tareas, utilice esto:\n",
        "tml.trackTasks2()\n",
        "\n",
        "# Advertencia!!! - Utilice estos métodos solo si es necesario; pueden detener y eliminar el trabajo\n",
        "# Si desea cancelar todas las tareas en ejecución, puede utilizar esta función\n",
        "# tml.batchCancel()\n",
        "\n",
        "# Si desea vaciar la colección de todas las imágenes\n",
        "# aml.batchDelete(export_composite_collection, type = 'imageCollection')\n",
        "\n",
        "print('Hecho')"
      ]
    },
    {
      "cell_type": "markdown",
      "id": "7384c4f0",
      "metadata": {
        "id": "7384c4f0"
      },
      "source": [
        "### View composites as they are completed\n",
        "After your composites have been exported, you can view the composites in your folder."
      ]
    },
    {
      "cell_type": "code",
      "execution_count": null,
      "id": "fe05f2f4",
      "metadata": {
        "colab": {
          "base_uri": "https://localhost:8080/",
          "height": 685
        },
        "id": "fe05f2f4",
        "outputId": "61bfa47b-9ec2-4c94-e5ab-978a4eff2c42"
      },
      "outputs": [
        {
          "name": "stdout",
          "output_type": "stream",
          "text": [
            "Done\n"
          ]
        }
      ],
      "source": [
        "# Ver compuestos a medida que se completan\n",
        "composites = ee.ImageCollection(export_composite_collection)\n",
        "\n",
        "# Si sus compuestos aún no se han exportado, puede utilizar la siguiente línea de código para inspeccionar compuestos precalculados\n",
        "composites = ee.ImageCollection(f'{pre_baked_path_root}/lcms-training_module-2_composites')\n",
        "\n",
        "print('Hecho')"
      ]
    },
    {
      "cell_type": "markdown",
      "id": "3d40a4c7",
      "metadata": {
        "id": "3d40a4c7"
      },
      "source": [
        "### Inspeccionar los resultados\n",
        "\n",
        "Explore los compuestos y algunos atributos que describen la calidad de los compuestos.\n",
        "\n",
        "Observe cómo el número de observaciones aumenta y el sensor predominante cambia con el tiempo"
      ]
    },
    {
      "cell_type": "code",
      "execution_count": null,
      "id": "9efa279b",
      "metadata": {
        "colab": {
          "base_uri": "https://localhost:8080/",
          "height": 685
        },
        "id": "9efa279b",
        "outputId": "61bfa47b-9ec2-4c94-e5ab-978a4eff2c42"
      },
      "outputs": [
        {
          "name": "stdout",
          "output_type": "stream",
          "text": [
            "Adding layer: Composites\n",
            "Adding layer: Sensor\n",
            "Adding layer: Composite Observation Counts\n",
            "Starting webmap\n",
            "Using default refresh token for geeView: C:\\Users\\ianho/.config/earthengine/credentials\n",
            "Local web server at: http://localhost:1232/geeView/ already serving.\n",
            "cwd c:\\RCR\\quickLabsTrainingMaterials\\lcms-training\n"
          ]
        },
        {
          "data": {
            "text/html": [
              "\n",
              "        <iframe\n",
              "            width=\"100%\"\n",
              "            height=\"525px\"\n",
              "            src=\"http://localhost:1232/geeView/?accessToken=ya29.a0AfB_byAIV-5Vzth1TDShnCXmdYzr0_JBYBp5TEF1ibVReCZDOFrf2ngjIwUu2EgrOsN_1CYko_GX0_mcbBxkMb4Ia9vSbFnVDzr_Hza2CltUktre8WlvLG7O_0SK3SE4RaujEm-GFCabAJShDCXwjTBLKhEtWNuNRu0qjcLC5imKaCgYKATsSARASFQGOcNnCpRAsrJ0ErOvn0XmF0omQ3Q0179\"\n",
              "            frameborder=\"0\"\n",
              "            allowfullscreen\n",
              "            \n",
              "        ></iframe>\n",
              "        "
            ],
            "text/plain": [
              "<IPython.lib.display.IFrame at 0x1d08763e090>"
            ]
          },
          "metadata": {},
          "output_type": "display_data"
        }
      ],
      "source": [
        "# clear the map\n",
        "Map.clearMap()\n",
        "\n",
        "# First let's explore the composites and some attributes that can help understand how well the composites turned out\n",
        "Map.addTimeLapse(composites, getImagesLib.vizParamsFalse10k,'Composites')\n",
        "\n",
        "# By looking at the Sensor that is used, you can see\n",
        "# with the introduction of Landsat 8 in 2013 and then Sentinel 2 in 2016-2017,\n",
        "# composites become much better quality\n",
        "Map.addTimeLapse(composites.select('sensor'),{'min':4,'max':22,'palette':'088,808','classLegendDict':{'Landsat (Landsat 5 = 5, Landsat 7 = 7, etc...)':'088','Sentinel2 (Sentinel 2A = 21, Sentinel 2B = 22, etc....)':'808'},'queryDict':{4:'L4',5:'L5',7:'L7',8:'L8',9:'L9',21:'S2a',22:'S2b'}},'Sensor')\n",
        "Map.addTimeLapse(composites.select('compositeObsCount'),{'min':3,'max':10,'palette':'D0D,0D0'},'Composite Observation Counts')\n",
        "Map.turnOnInspector()\n",
        "Map.view()\n",
        "# Now that we have exported composites, we will use them in the LandTrendr temporal segmentation algorithm"
      ]
    },
    {
      "cell_type": "markdown",
      "id": "b001ba37",
      "metadata": {
        "id": "b001ba37"
      },
      "source": [
        "## Desafío del laboratorio 2:\n",
        "\n",
        "**Para los usuarios de Qwiklabs**, se evaluará su finalización en la parte \"Verificar mi progreso\" al final de la práctica 2.\n",
        "\n",
        "1. Cree una serie temporal compuesta de medoid sin nube de 2020 a 2023 para los días 1 a 150 utilizando los métodos que utilizamos en este módulo.\n",
        "\n",
        "    * Utilice lo siguiente como su área de estudio:\n",
        "\n",
        "    ```python\n",
        "          ee.Geometry.Polygon(\n",
        "                [[[-65.91075380517458, 18.265940533464065],\n",
        "                  [-65.91075380517458, 18.236922027462644],\n",
        "                  [-65.87350328637575, 18.236922027462644],\n",
        "                  [-65.87350328637575, 18.265940533464065]]], None, False)\n",
        "      ```\n",
        "      <br>\n",
        "   \n",
        "   * Selecciona las siguientes bandas:`[\"green\",\"red\",\"nir\",\"swir1\",\"swir2\",\"NBR\"]`\n",
        "\n",
        "<br>\n",
        "\n",
        "2. Extraiga los valores de los tres compuestos anuales para una ubicación de punto determinada.\n",
        "\n",
        "    * Utilice un punto con estas coordenadas: `([-65.88860948754763, 18.249964652264815])`\n",
        "            \n",
        "    * Utilice la siguiente función: `g2p.extractPointValuesToDataFrame`\n",
        "    <br><br>\n",
        "    Ejemplo:\n",
        "    ```python\n",
        "          extracted_values = g2p.extractPointValuesToDataFrame(\n",
        "          composite,\n",
        "          ee.Geometry.Point([-65.88860948754763, 18.249964652264815]),\n",
        "          scale=30,\n",
        "          crs = \"EPSG:5070\",\n",
        "          transform = None,\n",
        "          reducer = ee.Reducer.first(),\n",
        "          includeNonSystemProperties = False,\n",
        "          includeSystemProperties=True\n",
        "          )\n",
        "    ```\n",
        "<br>    \n",
        "\n",
        "3. Guarde los valores extraídos en un archivo csv.\n",
        "\n",
        "   * Guarde csv en esta ruta: `\"/tmp/challenge/module_2_challenge_answer.csv\"`\n",
        "     * **Nota: La ruta al csv debe coincidir exactamente con la ruta anterior.**\n",
        "    <br>\n",
        "    \n",
        "    * Creer `\"/tmp/challenge\"` carpeta si ya no existe.\n",
        "      \n",
        "        Ejemplo:\n",
        "    ```python\n",
        "        out_csv = \"/tmp/challenge/module_2_challenge_answer.csv\"\n",
        "        if not os.path.exists(os.path.dirname(out_csv)):os.makedirs(os.path.dirname(out_csv))\n",
        "    ```\n",
        "<br>\n",
        "\n",
        "4.  Checar que el csv de salida exista.\n",
        "    \n",
        "    * Ejemplo:\n",
        "    ```python\n",
        "        print(os.path.exists(out_csv))\n",
        "    ```\n",
        "<br>"
      ]
    },
    {
      "cell_type": "code",
      "execution_count": null,
      "id": "00d87fa7",
      "metadata": {
        "id": "00d87fa7"
      },
      "outputs": [],
      "source": [
        "# Pon tu código de desafío aquí\n"
      ]
    },
    {
      "cell_type": "markdown",
      "id": "e5fc7aca",
      "metadata": {
        "id": "e5fc7aca"
      },
      "source": [
        "## Hecho con el laboratorio 2\n",
        "\n",
        "Ahora que hemos exportado compuestos, los usaremos en el algoritmo de segmentación temporal LandTrendr en el módulo 3."
      ]
    }
  ],
  "metadata": {
    "colab": {
      "include_colab_link": true,
      "provenance": []
    },
    "environment": {
      "kernel": "python3",
      "name": "tf2-gpu.2-11.m111",
      "type": "gcloud",
      "uri": "gcr.io/deeplearning-platform-release/tf2-gpu.2-11:m111"
    },
    "kernelspec": {
      "display_name": "Python 3",
      "language": "python",
      "name": "python3"
    },
    "language_info": {
      "codemirror_mode": {
        "name": "ipython",
        "version": 3
      },
      "file_extension": ".py",
      "mimetype": "text/x-python",
      "name": "python",
      "nbconvert_exporter": "python",
      "pygments_lexer": "ipython3",
      "version": "3.11.0"
    }
  },
  "nbformat": 4,
  "nbformat_minor": 5
}
